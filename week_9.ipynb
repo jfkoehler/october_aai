{
 "cells": [
  {
   "cell_type": "markdown",
   "metadata": {},
   "source": [
    "### Week 9: AAI"
   ]
  },
  {
   "cell_type": "markdown",
   "metadata": {},
   "source": [
    "- Look at sequential models for Neural Nets\n",
    "- Open AI Gym \n",
    "- *keras* or *pytorch* from scratch to make DQN"
   ]
  },
  {
   "cell_type": "markdown",
   "metadata": {},
   "source": [
    "### Sequential Models for Neural Nets\n",
    "\n",
    "- RNN\n",
    "- LSTM\n",
    "- GRU"
   ]
  },
  {
   "cell_type": "code",
   "execution_count": 1,
   "metadata": {},
   "outputs": [],
   "source": [
    "import pandas_datareader as pdr"
   ]
  },
  {
   "cell_type": "code",
   "execution_count": 2,
   "metadata": {},
   "outputs": [],
   "source": [
    "tsla = pdr.get_data_yahoo('TSLA')"
   ]
  },
  {
   "cell_type": "code",
   "execution_count": 3,
   "metadata": {},
   "outputs": [
    {
     "data": {
      "text/html": [
       "<div>\n",
       "<style scoped>\n",
       "    .dataframe tbody tr th:only-of-type {\n",
       "        vertical-align: middle;\n",
       "    }\n",
       "\n",
       "    .dataframe tbody tr th {\n",
       "        vertical-align: top;\n",
       "    }\n",
       "\n",
       "    .dataframe thead th {\n",
       "        text-align: right;\n",
       "    }\n",
       "</style>\n",
       "<table border=\"1\" class=\"dataframe\">\n",
       "  <thead>\n",
       "    <tr style=\"text-align: right;\">\n",
       "      <th></th>\n",
       "      <th>High</th>\n",
       "      <th>Low</th>\n",
       "      <th>Open</th>\n",
       "      <th>Close</th>\n",
       "      <th>Volume</th>\n",
       "      <th>Adj Close</th>\n",
       "    </tr>\n",
       "    <tr>\n",
       "      <th>Date</th>\n",
       "      <th></th>\n",
       "      <th></th>\n",
       "      <th></th>\n",
       "      <th></th>\n",
       "      <th></th>\n",
       "      <th></th>\n",
       "    </tr>\n",
       "  </thead>\n",
       "  <tbody>\n",
       "    <tr>\n",
       "      <th>2020-12-08</th>\n",
       "      <td>651.280029</td>\n",
       "      <td>618.500000</td>\n",
       "      <td>625.510010</td>\n",
       "      <td>649.880005</td>\n",
       "      <td>64265000.0</td>\n",
       "      <td>649.880005</td>\n",
       "    </tr>\n",
       "    <tr>\n",
       "      <th>2020-12-09</th>\n",
       "      <td>654.320007</td>\n",
       "      <td>588.000000</td>\n",
       "      <td>653.690002</td>\n",
       "      <td>604.479980</td>\n",
       "      <td>71291200.0</td>\n",
       "      <td>604.479980</td>\n",
       "    </tr>\n",
       "    <tr>\n",
       "      <th>2020-12-10</th>\n",
       "      <td>627.750000</td>\n",
       "      <td>566.340027</td>\n",
       "      <td>574.369995</td>\n",
       "      <td>627.070007</td>\n",
       "      <td>67083200.0</td>\n",
       "      <td>627.070007</td>\n",
       "    </tr>\n",
       "    <tr>\n",
       "      <th>2020-12-11</th>\n",
       "      <td>624.000000</td>\n",
       "      <td>596.799988</td>\n",
       "      <td>615.010010</td>\n",
       "      <td>609.989990</td>\n",
       "      <td>46359600.0</td>\n",
       "      <td>609.989990</td>\n",
       "    </tr>\n",
       "    <tr>\n",
       "      <th>2020-12-14</th>\n",
       "      <td>642.749878</td>\n",
       "      <td>610.200073</td>\n",
       "      <td>619.000000</td>\n",
       "      <td>639.830017</td>\n",
       "      <td>51113780.0</td>\n",
       "      <td>639.830017</td>\n",
       "    </tr>\n",
       "  </tbody>\n",
       "</table>\n",
       "</div>"
      ],
      "text/plain": [
       "                  High         Low        Open       Close      Volume  \\\n",
       "Date                                                                     \n",
       "2020-12-08  651.280029  618.500000  625.510010  649.880005  64265000.0   \n",
       "2020-12-09  654.320007  588.000000  653.690002  604.479980  71291200.0   \n",
       "2020-12-10  627.750000  566.340027  574.369995  627.070007  67083200.0   \n",
       "2020-12-11  624.000000  596.799988  615.010010  609.989990  46359600.0   \n",
       "2020-12-14  642.749878  610.200073  619.000000  639.830017  51113780.0   \n",
       "\n",
       "             Adj Close  \n",
       "Date                    \n",
       "2020-12-08  649.880005  \n",
       "2020-12-09  604.479980  \n",
       "2020-12-10  627.070007  \n",
       "2020-12-11  609.989990  \n",
       "2020-12-14  639.830017  "
      ]
     },
     "execution_count": 3,
     "metadata": {},
     "output_type": "execute_result"
    }
   ],
   "source": [
    "tsla.tail()"
   ]
  },
  {
   "cell_type": "markdown",
   "metadata": {},
   "source": [
    "### Classical Model  --> ARIMA"
   ]
  },
  {
   "cell_type": "code",
   "execution_count": 13,
   "metadata": {},
   "outputs": [],
   "source": [
    "X = tsla[['Adj Close']]['2020':]"
   ]
  },
  {
   "cell_type": "code",
   "execution_count": 14,
   "metadata": {},
   "outputs": [],
   "source": [
    "from statsmodels.tsa.arima_model import ARIMA"
   ]
  },
  {
   "cell_type": "code",
   "execution_count": 15,
   "metadata": {},
   "outputs": [
    {
     "name": "stderr",
     "output_type": "stream",
     "text": [
      "/Users/jacobkoehler/opt/anaconda3/envs/for_ds/lib/python3.8/site-packages/statsmodels/tsa/base/tsa_model.py:216: ValueWarning: A date index has been provided, but it has no associated frequency information and so will be ignored when e.g. forecasting.\n",
      "  warnings.warn('A date index has been provided, but it has no'\n",
      "/Users/jacobkoehler/opt/anaconda3/envs/for_ds/lib/python3.8/site-packages/statsmodels/tsa/base/tsa_model.py:216: ValueWarning: A date index has been provided, but it has no associated frequency information and so will be ignored when e.g. forecasting.\n",
      "  warnings.warn('A date index has been provided, but it has no'\n"
     ]
    }
   ],
   "source": [
    "arima = ARIMA(X, order = (1, 1, 1))"
   ]
  },
  {
   "cell_type": "code",
   "execution_count": 16,
   "metadata": {},
   "outputs": [],
   "source": [
    "res = arima.fit()"
   ]
  },
  {
   "cell_type": "code",
   "execution_count": 17,
   "metadata": {},
   "outputs": [
    {
     "data": {
      "text/html": [
       "<table class=\"simpletable\">\n",
       "<caption>ARIMA Model Results</caption>\n",
       "<tr>\n",
       "  <th>Dep. Variable:</th>    <td>D.Adj Close</td>   <th>  No. Observations:  </th>    <td>240</td>  \n",
       "</tr>\n",
       "<tr>\n",
       "  <th>Model:</th>          <td>ARIMA(1, 1, 1)</td>  <th>  Log Likelihood     </th> <td>-999.043</td>\n",
       "</tr>\n",
       "<tr>\n",
       "  <th>Method:</th>             <td>css-mle</td>     <th>  S.D. of innovations</th>  <td>15.545</td> \n",
       "</tr>\n",
       "<tr>\n",
       "  <th>Date:</th>          <td>Mon, 14 Dec 2020</td> <th>  AIC                </th> <td>2006.085</td>\n",
       "</tr>\n",
       "<tr>\n",
       "  <th>Time:</th>              <td>20:14:38</td>     <th>  BIC                </th> <td>2020.008</td>\n",
       "</tr>\n",
       "<tr>\n",
       "  <th>Sample:</th>                <td>1</td>        <th>  HQIC               </th> <td>2011.695</td>\n",
       "</tr>\n",
       "<tr>\n",
       "  <th></th>                       <td> </td>        <th>                     </th>     <td> </td>   \n",
       "</tr>\n",
       "</table>\n",
       "<table class=\"simpletable\">\n",
       "<tr>\n",
       "          <td></td>             <th>coef</th>     <th>std err</th>      <th>z</th>      <th>P>|z|</th>  <th>[0.025</th>    <th>0.975]</th>  \n",
       "</tr>\n",
       "<tr>\n",
       "  <th>const</th>             <td>    2.3012</td> <td>    0.966</td> <td>    2.382</td> <td> 0.017</td> <td>    0.408</td> <td>    4.195</td>\n",
       "</tr>\n",
       "<tr>\n",
       "  <th>ar.L1.D.Adj Close</th> <td>   -0.4187</td> <td>    0.589</td> <td>   -0.711</td> <td> 0.477</td> <td>   -1.573</td> <td>    0.736</td>\n",
       "</tr>\n",
       "<tr>\n",
       "  <th>ma.L1.D.Adj Close</th> <td>    0.3658</td> <td>    0.601</td> <td>    0.609</td> <td> 0.543</td> <td>   -0.812</td> <td>    1.543</td>\n",
       "</tr>\n",
       "</table>\n",
       "<table class=\"simpletable\">\n",
       "<caption>Roots</caption>\n",
       "<tr>\n",
       "    <td></td>   <th>            Real</th>  <th>         Imaginary</th> <th>         Modulus</th>  <th>        Frequency</th>\n",
       "</tr>\n",
       "<tr>\n",
       "  <th>AR.1</th> <td>          -2.3884</td> <td>          +0.0000j</td> <td>           2.3884</td> <td>           0.5000</td>\n",
       "</tr>\n",
       "<tr>\n",
       "  <th>MA.1</th> <td>          -2.7337</td> <td>          +0.0000j</td> <td>           2.7337</td> <td>           0.5000</td>\n",
       "</tr>\n",
       "</table>"
      ],
      "text/plain": [
       "<class 'statsmodels.iolib.summary.Summary'>\n",
       "\"\"\"\n",
       "                             ARIMA Model Results                              \n",
       "==============================================================================\n",
       "Dep. Variable:            D.Adj Close   No. Observations:                  240\n",
       "Model:                 ARIMA(1, 1, 1)   Log Likelihood                -999.043\n",
       "Method:                       css-mle   S.D. of innovations             15.545\n",
       "Date:                Mon, 14 Dec 2020   AIC                           2006.085\n",
       "Time:                        20:14:38   BIC                           2020.008\n",
       "Sample:                             1   HQIC                          2011.695\n",
       "                                                                              \n",
       "=====================================================================================\n",
       "                        coef    std err          z      P>|z|      [0.025      0.975]\n",
       "-------------------------------------------------------------------------------------\n",
       "const                 2.3012      0.966      2.382      0.017       0.408       4.195\n",
       "ar.L1.D.Adj Close    -0.4187      0.589     -0.711      0.477      -1.573       0.736\n",
       "ma.L1.D.Adj Close     0.3658      0.601      0.609      0.543      -0.812       1.543\n",
       "                                    Roots                                    \n",
       "=============================================================================\n",
       "                  Real          Imaginary           Modulus         Frequency\n",
       "-----------------------------------------------------------------------------\n",
       "AR.1           -2.3884           +0.0000j            2.3884            0.5000\n",
       "MA.1           -2.7337           +0.0000j            2.7337            0.5000\n",
       "-----------------------------------------------------------------------------\n",
       "\"\"\""
      ]
     },
     "execution_count": 17,
     "metadata": {},
     "output_type": "execute_result"
    }
   ],
   "source": [
    "res.summary()"
   ]
  },
  {
   "cell_type": "code",
   "execution_count": 18,
   "metadata": {},
   "outputs": [],
   "source": [
    "import matplotlib.pyplot as plt"
   ]
  },
  {
   "cell_type": "code",
   "execution_count": 19,
   "metadata": {},
   "outputs": [
    {
     "data": {
      "image/png": "[encoded data removed]",
      "text/plain": [
       "<Figure size 1008x360 with 1 Axes>"
      ]
     },
     "metadata": {
      "needs_background": "light"
     },
     "output_type": "display_data"
    }
   ],
   "source": [
    "fig, ax = plt.subplots(figsize = (14, 5))\n",
    "res.plot_predict(ax = ax);"
   ]
  },
  {
   "cell_type": "markdown",
   "metadata": {},
   "source": [
    "### Do it with an RNN"
   ]
  },
  {
   "cell_type": "code",
   "execution_count": 44,
   "metadata": {},
   "outputs": [],
   "source": [
    "import keras\n",
    "from keras.models import Sequential\n",
    "from keras.layers import SimpleRNN, GRU, LSTM, Dense"
   ]
  },
  {
   "cell_type": "code",
   "execution_count": 45,
   "metadata": {},
   "outputs": [],
   "source": [
    "from keras.preprocessing.sequence import TimeseriesGenerator"
   ]
  },
  {
   "cell_type": "code",
   "execution_count": 92,
   "metadata": {},
   "outputs": [],
   "source": [
    "X = tsla[['Volume', 'Open']]\n",
    "y = tsla['Adj Close']"
   ]
  },
  {
   "cell_type": "code",
   "execution_count": 110,
   "metadata": {},
   "outputs": [],
   "source": [
    "ts = TimeseriesGenerator(X, targets = y, length = 4)"
   ]
  },
  {
   "cell_type": "code",
   "execution_count": 111,
   "metadata": {},
   "outputs": [
    {
     "data": {
      "text/plain": [
       "10"
      ]
     },
     "execution_count": 111,
     "metadata": {},
     "output_type": "execute_result"
    }
   ],
   "source": [
    "len(ts)"
   ]
  },
  {
   "cell_type": "code",
   "execution_count": 112,
   "metadata": {},
   "outputs": [],
   "source": [
    "vo, ac = ts[0]"
   ]
  },
  {
   "cell_type": "code",
   "execution_count": 113,
   "metadata": {},
   "outputs": [
    {
     "data": {
      "text/plain": [
       "array([[[2.55215000e+07, 4.44199982e+01],\n",
       "        [1.64930000e+07, 4.67879982e+01],\n",
       "        [1.50710000e+07, 4.65779991e+01],\n",
       "        [9.76600000e+06, 4.63380013e+01]],\n",
       "\n",
       "       [[1.64930000e+07, 4.67879982e+01],\n",
       "        [1.50710000e+07, 4.65779991e+01],\n",
       "        [9.76600000e+06, 4.63380013e+01],\n",
       "        [9.80750000e+06, 4.69980011e+01]],\n",
       "\n",
       "       [[1.50710000e+07, 4.65779991e+01],\n",
       "        [9.76600000e+06, 4.63380013e+01],\n",
       "        [9.80750000e+06, 4.69980011e+01],\n",
       "        [7.77500000e+06, 4.64360008e+01]]])"
      ]
     },
     "execution_count": 113,
     "metadata": {},
     "output_type": "execute_result"
    }
   ],
   "source": [
    "vo[:3]"
   ]
  },
  {
   "cell_type": "code",
   "execution_count": 114,
   "metadata": {},
   "outputs": [
    {
     "data": {
      "text/plain": [
       "array([45.99000168, 45.93999863, 46.11399841])"
      ]
     },
     "execution_count": 114,
     "metadata": {},
     "output_type": "execute_result"
    }
   ],
   "source": [
    "ac[:3]"
   ]
  },
  {
   "cell_type": "code",
   "execution_count": 115,
   "metadata": {},
   "outputs": [
    {
     "data": {
      "text/plain": [
       "(128, 4, 2)"
      ]
     },
     "execution_count": 115,
     "metadata": {},
     "output_type": "execute_result"
    }
   ],
   "source": [
    "vo.shape"
   ]
  },
  {
   "cell_type": "code",
   "execution_count": 106,
   "metadata": {},
   "outputs": [],
   "source": [
    "#basic RNN\n",
    "model = Sequential()\n",
    "model.add(SimpleRNN(32, input_shape = (4, 2), return_sequences = True))\n",
    "model.add(SimpleRNN(64, input_shape = (4, 2), return_sequences = True))\n",
    "model.add(SimpleRNN(32, input_shape = (4, 2)))\n",
    "model.add(Dense(1, activation = 'linear'))"
   ]
  },
  {
   "cell_type": "code",
   "execution_count": 107,
   "metadata": {},
   "outputs": [],
   "source": [
    "model.compile(loss = 'mae', metrics = ['mse'])"
   ]
  },
  {
   "cell_type": "code",
   "execution_count": 108,
   "metadata": {},
   "outputs": [
    {
     "name": "stdout",
     "output_type": "stream",
     "text": [
      "10/10 [==============================] - 0s 8ms/step - loss: 91.9358 - mse: 20262.2305\n"
     ]
    }
   ],
   "source": [
    "history = model.fit(ts)"
   ]
  },
  {
   "cell_type": "code",
   "execution_count": 116,
   "metadata": {},
   "outputs": [
    {
     "name": "stdout",
     "output_type": "stream",
     "text": [
      "Epoch 1/20\n",
      "10/10 [==============================] - 0s 9ms/step - loss: 93.3206 - mse: 20320.0566\n",
      "Epoch 2/20\n",
      "10/10 [==============================] - 0s 8ms/step - loss: 90.6628 - mse: 19879.5352\n",
      "Epoch 3/20\n",
      "10/10 [==============================] - 0s 8ms/step - loss: 89.8036 - mse: 19746.3223\n",
      "Epoch 4/20\n",
      "10/10 [==============================] - 0s 8ms/step - loss: 88.8646 - mse: 19592.9902\n",
      "Epoch 5/20\n",
      "10/10 [==============================] - 0s 8ms/step - loss: 88.2669 - mse: 19474.3809\n",
      "Epoch 6/20\n",
      "10/10 [==============================] - 0s 8ms/step - loss: 87.8725 - mse: 19415.3965\n",
      "Epoch 7/20\n",
      "10/10 [==============================] - 0s 8ms/step - loss: 87.5148 - mse: 19345.9121\n",
      "Epoch 8/20\n",
      "10/10 [==============================] - 0s 8ms/step - loss: 87.1692 - mse: 19282.2715\n",
      "Epoch 9/20\n",
      "10/10 [==============================] - 0s 8ms/step - loss: 86.8300 - mse: 19224.8438\n",
      "Epoch 10/20\n",
      "10/10 [==============================] - 0s 8ms/step - loss: 86.4932 - mse: 19168.1309\n",
      "Epoch 11/20\n",
      "10/10 [==============================] - 0s 8ms/step - loss: 86.1594 - mse: 19111.9355\n",
      "Epoch 12/20\n",
      "10/10 [==============================] - 0s 8ms/step - loss: 85.8310 - mse: 19049.7617\n",
      "Epoch 13/20\n",
      "10/10 [==============================] - 0s 8ms/step - loss: 85.4951 - mse: 19001.6582\n",
      "Epoch 14/20\n",
      "10/10 [==============================] - 0s 8ms/step - loss: 85.1665 - mse: 18943.1465\n",
      "Epoch 15/20\n",
      "10/10 [==============================] - 0s 9ms/step - loss: 84.8347 - mse: 18891.8652\n",
      "Epoch 16/20\n",
      "10/10 [==============================] - 0s 8ms/step - loss: 84.5059 - mse: 18831.4590\n",
      "Epoch 17/20\n",
      "10/10 [==============================] - 0s 8ms/step - loss: 84.1771 - mse: 18773.0312\n",
      "Epoch 18/20\n",
      "10/10 [==============================] - 0s 8ms/step - loss: 83.8484 - mse: 18706.9727\n",
      "Epoch 19/20\n",
      "10/10 [==============================] - 0s 8ms/step - loss: 83.5149 - mse: 18660.4238\n",
      "Epoch 20/20\n",
      "10/10 [==============================] - 0s 8ms/step - loss: 83.1856 - mse: 18609.8066\n"
     ]
    }
   ],
   "source": [
    "model = Sequential()\n",
    "model.add(SimpleRNN(32, input_shape = (4, 2), return_sequences = True))\n",
    "model.add(SimpleRNN(64, input_shape = (4, 2), return_sequences = True))\n",
    "model.add(SimpleRNN(32, input_shape = (4, 2)))\n",
    "model.add(Dense(1, activation = 'linear'))\n",
    "model.compile(loss = 'mae', metrics = ['mse'])\n",
    "history = model.fit(ts, epochs = 20)"
   ]
  },
  {
   "cell_type": "markdown",
   "metadata": {},
   "source": [
    "### LSTM and GRU"
   ]
  },
  {
   "cell_type": "code",
   "execution_count": 124,
   "metadata": {},
   "outputs": [
    {
     "name": "stdout",
     "output_type": "stream",
     "text": [
      "Epoch 1/20\n",
      "10/10 [==============================] - 0s 9ms/step - loss: 96.7955 - mse: 21074.8223\n",
      "Epoch 2/20\n",
      "10/10 [==============================] - 0s 8ms/step - loss: 95.2309 - mse: 20734.6211\n",
      "Epoch 3/20\n",
      "10/10 [==============================] - 0s 9ms/step - loss: 93.5312 - mse: 20432.4727\n",
      "Epoch 4/20\n",
      "10/10 [==============================] - 0s 9ms/step - loss: 92.4640 - mse: 20257.3613\n",
      "Epoch 5/20\n",
      "10/10 [==============================] - 0s 8ms/step - loss: 91.6708 - mse: 20069.4570\n",
      "Epoch 6/20\n",
      "10/10 [==============================] - 0s 9ms/step - loss: 90.9400 - mse: 19968.7344\n",
      "Epoch 7/20\n",
      "10/10 [==============================] - 0s 8ms/step - loss: 90.2422 - mse: 19820.9160\n",
      "Epoch 8/20\n",
      "10/10 [==============================] - 0s 9ms/step - loss: 89.5369 - mse: 19717.4414\n",
      "Epoch 9/20\n",
      "10/10 [==============================] - 0s 9ms/step - loss: 88.8568 - mse: 19598.1426\n",
      "Epoch 10/20\n",
      "10/10 [==============================] - 0s 9ms/step - loss: 88.1817 - mse: 19484.9434\n",
      "Epoch 11/20\n",
      "10/10 [==============================] - 0s 9ms/step - loss: 87.5061 - mse: 19365.9531\n",
      "Epoch 12/20\n",
      "10/10 [==============================] - 0s 9ms/step - loss: 86.8291 - mse: 19211.7852\n",
      "Epoch 13/20\n",
      "10/10 [==============================] - 0s 9ms/step - loss: 86.1242 - mse: 19088.7695\n",
      "Epoch 14/20\n",
      "10/10 [==============================] - 0s 9ms/step - loss: 85.3960 - mse: 18991.7559\n",
      "Epoch 15/20\n",
      "10/10 [==============================] - 0s 8ms/step - loss: 84.6648 - mse: 18848.4336\n",
      "Epoch 16/20\n",
      "10/10 [==============================] - 0s 9ms/step - loss: 83.9103 - mse: 18714.8594\n",
      "Epoch 17/20\n",
      "10/10 [==============================] - 0s 9ms/step - loss: 83.1302 - mse: 18580.5098\n",
      "Epoch 18/20\n",
      "10/10 [==============================] - 0s 9ms/step - loss: 82.3303 - mse: 18460.3184\n",
      "Epoch 19/20\n",
      "10/10 [==============================] - 0s 8ms/step - loss: 81.5174 - mse: 18321.2930\n",
      "Epoch 20/20\n",
      "10/10 [==============================] - 0s 9ms/step - loss: 80.6689 - mse: 18219.0547\n"
     ]
    }
   ],
   "source": [
    "model = Sequential()\n",
    "model.add(LSTM(30, input_shape = (4, 2), return_sequences = True))\n",
    "model.add(LSTM(60, input_shape = (4, 2), return_sequences = True))\n",
    "model.add(LSTM(32, input_shape = (4, 2)))\n",
    "model.add(Dense(5, activation = 'relu'))\n",
    "model.add(Dense(1, activation = 'linear'))\n",
    "model.compile(loss = 'mae', metrics = ['mse'])\n",
    "history = model.fit(ts, epochs = 20)"
   ]
  },
  {
   "cell_type": "code",
   "execution_count": 119,
   "metadata": {},
   "outputs": [
    {
     "name": "stdout",
     "output_type": "stream",
     "text": [
      "Epoch 1/20\n",
      "10/10 [==============================] - 0s 9ms/step - loss: 94.4481 - mse: 20582.8457\n",
      "Epoch 2/20\n",
      "10/10 [==============================] - 0s 9ms/step - loss: 90.7166 - mse: 19877.1172\n",
      "Epoch 3/20\n",
      "10/10 [==============================] - 0s 9ms/step - loss: 89.4732 - mse: 19709.0664\n",
      "Epoch 4/20\n",
      "10/10 [==============================] - 0s 8ms/step - loss: 88.9661 - mse: 19597.4492\n",
      "Epoch 5/20\n",
      "10/10 [==============================] - 0s 9ms/step - loss: 88.5733 - mse: 19538.4121\n",
      "Epoch 6/20\n",
      "10/10 [==============================] - 0s 9ms/step - loss: 88.2231 - mse: 19465.0723\n",
      "Epoch 7/20\n",
      "10/10 [==============================] - 0s 9ms/step - loss: 87.8740 - mse: 19421.3965\n",
      "Epoch 8/20\n",
      "10/10 [==============================] - 0s 9ms/step - loss: 87.5419 - mse: 19343.9688\n",
      "Epoch 9/20\n",
      "10/10 [==============================] - 0s 9ms/step - loss: 87.2071 - mse: 19286.9375\n",
      "Epoch 10/20\n",
      "10/10 [==============================] - 0s 9ms/step - loss: 86.8747 - mse: 19230.9570\n",
      "Epoch 11/20\n",
      "10/10 [==============================] - 0s 9ms/step - loss: 86.5425 - mse: 19175.2988\n",
      "Epoch 12/20\n",
      "10/10 [==============================] - 0s 9ms/step - loss: 86.2096 - mse: 19128.6680\n",
      "Epoch 13/20\n",
      "10/10 [==============================] - 0s 9ms/step - loss: 85.8784 - mse: 19068.5312\n",
      "Epoch 14/20\n",
      "10/10 [==============================] - 0s 8ms/step - loss: 85.5515 - mse: 19004.1172\n",
      "Epoch 15/20\n",
      "10/10 [==============================] - 0s 9ms/step - loss: 85.2220 - mse: 18945.1270\n",
      "Epoch 16/20\n",
      "10/10 [==============================] - 0s 8ms/step - loss: 84.8912 - mse: 18890.8906\n",
      "Epoch 17/20\n",
      "10/10 [==============================] - 0s 8ms/step - loss: 84.5624 - mse: 18834.0059\n",
      "Epoch 18/20\n",
      "10/10 [==============================] - 0s 9ms/step - loss: 84.2324 - mse: 18777.2637\n",
      "Epoch 19/20\n",
      "10/10 [==============================] - 0s 8ms/step - loss: 83.9010 - mse: 18726.0098\n",
      "Epoch 20/20\n",
      "10/10 [==============================] - 0s 8ms/step - loss: 83.5703 - mse: 18672.2090\n"
     ]
    }
   ],
   "source": [
    "model = Sequential()\n",
    "model.add(GRU(32, input_shape = (4, 2), return_sequences = True))\n",
    "model.add(GRU(64, input_shape = (4, 2), return_sequences = True))\n",
    "model.add(GRU(32, input_shape = (4, 2)))\n",
    "model.add(Dense(1, activation = 'linear'))\n",
    "model.compile(loss = 'mae', metrics = ['mse'])\n",
    "history = model.fit(ts, epochs = 20)"
   ]
  },
  {
   "cell_type": "code",
   "execution_count": 121,
   "metadata": {},
   "outputs": [
    {
     "data": {
      "text/plain": [
       "array([[13.762229],\n",
       "       [13.762229],\n",
       "       [13.762229],\n",
       "       ...,\n",
       "       [13.762229],\n",
       "       [13.762229],\n",
       "       [13.762229]], dtype=float32)"
      ]
     },
     "execution_count": 121,
     "metadata": {},
     "output_type": "execute_result"
    }
   ],
   "source": [
    "model.predict(ts)"
   ]
  },
  {
   "cell_type": "code",
   "execution_count": null,
   "metadata": {},
   "outputs": [],
   "source": []
  },
  {
   "cell_type": "code",
   "execution_count": null,
   "metadata": {},
   "outputs": [],
   "source": []
  }
 ],
 "metadata": {
  "kernelspec": {
   "display_name": "Python 3",
   "language": "python",
   "name": "python3"
  },
  "language_info": {
   "codemirror_mode": {
    "name": "ipython",
    "version": 3
   },
   "file_extension": ".py",
   "mimetype": "text/x-python",
   "name": "python",
   "nbconvert_exporter": "python",
   "pygments_lexer": "ipython3",
   "version": "3.8.2"
  }
 },
 "nbformat": 4,
 "nbformat_minor": 4
}
