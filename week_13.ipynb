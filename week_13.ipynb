{
 "cells": [
  {
   "cell_type": "markdown",
   "metadata": {},
   "source": [
    "### Natural Language Processing Review and Extension\n",
    "\n",
    "**OBJECTIVES**\n",
    "\n",
    "- Review vectorization options from sklearn\n",
    "- Review word embeddings in keras models\n",
    "- Use transformers to build embeddings in a model\n",
    "- Use sequential neural nets on text"
   ]
  },
  {
   "cell_type": "code",
   "execution_count": 109,
   "metadata": {},
   "outputs": [],
   "source": [
    "import pandas as pd\n",
    "import matplotlib.pyplot as plt\n",
    "import numpy as np\n",
    "import keras\n",
    "from keras.models import Sequential\n",
    "from keras.layers import Dense, Dropout, SimpleRNN, LSTM, GRU\n",
    "\n",
    "from sklearn.feature_extraction.text import CountVectorizer, TfidfVectorizer\n",
    "\n",
    "from sklearn.naive_bayes import MultinomialNB\n",
    "from sklearn.linear_model import LogisticRegression\n",
    "from sklearn.tree import DecisionTreeClassifier\n",
    "from sklearn.ensemble import RandomForestClassifier"
   ]
  },
  {
   "cell_type": "code",
   "execution_count": 110,
   "metadata": {},
   "outputs": [],
   "source": [
    "df = pd.read_csv('data/all-data.csv', encoding='latin', names = ['sentiment', 'text'])"
   ]
  },
  {
   "cell_type": "code",
   "execution_count": 111,
   "metadata": {},
   "outputs": [
    {
     "data": {
      "text/html": [
       "<div>\n",
       "<style scoped>\n",
       "    .dataframe tbody tr th:only-of-type {\n",
       "        vertical-align: middle;\n",
       "    }\n",
       "\n",
       "    .dataframe tbody tr th {\n",
       "        vertical-align: top;\n",
       "    }\n",
       "\n",
       "    .dataframe thead th {\n",
       "        text-align: right;\n",
       "    }\n",
       "</style>\n",
       "<table border=\"1\" class=\"dataframe\">\n",
       "  <thead>\n",
       "    <tr style=\"text-align: right;\">\n",
       "      <th></th>\n",
       "      <th>sentiment</th>\n",
       "      <th>text</th>\n",
       "    </tr>\n",
       "  </thead>\n",
       "  <tbody>\n",
       "    <tr>\n",
       "      <td>0</td>\n",
       "      <td>neutral</td>\n",
       "      <td>According to Gran , the company has no plans t...</td>\n",
       "    </tr>\n",
       "    <tr>\n",
       "      <td>1</td>\n",
       "      <td>neutral</td>\n",
       "      <td>Technopolis plans to develop in stages an area...</td>\n",
       "    </tr>\n",
       "    <tr>\n",
       "      <td>2</td>\n",
       "      <td>negative</td>\n",
       "      <td>The international electronic industry company ...</td>\n",
       "    </tr>\n",
       "    <tr>\n",
       "      <td>3</td>\n",
       "      <td>positive</td>\n",
       "      <td>With the new production plant the company woul...</td>\n",
       "    </tr>\n",
       "    <tr>\n",
       "      <td>4</td>\n",
       "      <td>positive</td>\n",
       "      <td>According to the company 's updated strategy f...</td>\n",
       "    </tr>\n",
       "  </tbody>\n",
       "</table>\n",
       "</div>"
      ],
      "text/plain": [
       "  sentiment                                               text\n",
       "0   neutral  According to Gran , the company has no plans t...\n",
       "1   neutral  Technopolis plans to develop in stages an area...\n",
       "2  negative  The international electronic industry company ...\n",
       "3  positive  With the new production plant the company woul...\n",
       "4  positive  According to the company 's updated strategy f..."
      ]
     },
     "execution_count": 111,
     "metadata": {},
     "output_type": "execute_result"
    }
   ],
   "source": [
    "df.head()"
   ]
  },
  {
   "cell_type": "code",
   "execution_count": 112,
   "metadata": {},
   "outputs": [
    {
     "data": {
      "text/plain": [
       "'According to Gran , the company has no plans to move all production to Russia , although that is where the company is growing .'"
      ]
     },
     "execution_count": 112,
     "metadata": {},
     "output_type": "execute_result"
    }
   ],
   "source": [
    "df.iloc[0, 1]"
   ]
  },
  {
   "cell_type": "code",
   "execution_count": 113,
   "metadata": {},
   "outputs": [],
   "source": [
    "import json\n",
    "\n",
    "def parse_data(file):\n",
    "    for l in open(file,'r'):\n",
    "        yield json.loads(l)\n",
    "\n",
    "data = list(parse_data('data/Sarcasm_Headlines_Dataset.json'))"
   ]
  },
  {
   "cell_type": "code",
   "execution_count": 114,
   "metadata": {},
   "outputs": [
    {
     "data": {
      "text/plain": [
       "{'article_link': 'https://www.huffingtonpost.com/entry/versace-black-code_us_5861fbefe4b0de3a08f600d5',\n",
       " 'headline': \"former versace store clerk sues over secret 'black code' for minority shoppers\",\n",
       " 'is_sarcastic': 0}"
      ]
     },
     "execution_count": 114,
     "metadata": {},
     "output_type": "execute_result"
    }
   ],
   "source": [
    "data[0]"
   ]
  },
  {
   "cell_type": "code",
   "execution_count": 115,
   "metadata": {},
   "outputs": [],
   "source": [
    "headlines = [hline['headline'] for hline in data]\n",
    "sarcastic = [hline['is_sarcastic'] for hline in data]"
   ]
  },
  {
   "cell_type": "code",
   "execution_count": 116,
   "metadata": {},
   "outputs": [],
   "source": [
    "sarc_df = pd.DataFrame({'headline': headlines, 'sarcastic': sarcastic})"
   ]
  },
  {
   "cell_type": "code",
   "execution_count": 117,
   "metadata": {},
   "outputs": [
    {
     "data": {
      "text/html": [
       "<div>\n",
       "<style scoped>\n",
       "    .dataframe tbody tr th:only-of-type {\n",
       "        vertical-align: middle;\n",
       "    }\n",
       "\n",
       "    .dataframe tbody tr th {\n",
       "        vertical-align: top;\n",
       "    }\n",
       "\n",
       "    .dataframe thead th {\n",
       "        text-align: right;\n",
       "    }\n",
       "</style>\n",
       "<table border=\"1\" class=\"dataframe\">\n",
       "  <thead>\n",
       "    <tr style=\"text-align: right;\">\n",
       "      <th></th>\n",
       "      <th>headline</th>\n",
       "      <th>sarcastic</th>\n",
       "    </tr>\n",
       "  </thead>\n",
       "  <tbody>\n",
       "    <tr>\n",
       "      <td>0</td>\n",
       "      <td>former versace store clerk sues over secret 'b...</td>\n",
       "      <td>0</td>\n",
       "    </tr>\n",
       "    <tr>\n",
       "      <td>1</td>\n",
       "      <td>the 'roseanne' revival catches up to our thorn...</td>\n",
       "      <td>0</td>\n",
       "    </tr>\n",
       "    <tr>\n",
       "      <td>2</td>\n",
       "      <td>mom starting to fear son's web series closest ...</td>\n",
       "      <td>1</td>\n",
       "    </tr>\n",
       "    <tr>\n",
       "      <td>3</td>\n",
       "      <td>boehner just wants wife to listen, not come up...</td>\n",
       "      <td>1</td>\n",
       "    </tr>\n",
       "    <tr>\n",
       "      <td>4</td>\n",
       "      <td>j.k. rowling wishes snape happy birthday in th...</td>\n",
       "      <td>0</td>\n",
       "    </tr>\n",
       "  </tbody>\n",
       "</table>\n",
       "</div>"
      ],
      "text/plain": [
       "                                            headline  sarcastic\n",
       "0  former versace store clerk sues over secret 'b...          0\n",
       "1  the 'roseanne' revival catches up to our thorn...          0\n",
       "2  mom starting to fear son's web series closest ...          1\n",
       "3  boehner just wants wife to listen, not come up...          1\n",
       "4  j.k. rowling wishes snape happy birthday in th...          0"
      ]
     },
     "execution_count": 117,
     "metadata": {},
     "output_type": "execute_result"
    }
   ],
   "source": [
    "sarc_df.head()"
   ]
  },
  {
   "cell_type": "code",
   "execution_count": 118,
   "metadata": {},
   "outputs": [
    {
     "name": "stdout",
     "output_type": "stream",
     "text": [
      "<class 'pandas.core.frame.DataFrame'>\n",
      "RangeIndex: 26709 entries, 0 to 26708\n",
      "Data columns (total 2 columns):\n",
      "headline     26709 non-null object\n",
      "sarcastic    26709 non-null int64\n",
      "dtypes: int64(1), object(1)\n",
      "memory usage: 417.5+ KB\n"
     ]
    }
   ],
   "source": [
    "sarc_df.info()"
   ]
  },
  {
   "cell_type": "code",
   "execution_count": 119,
   "metadata": {},
   "outputs": [
    {
     "data": {
      "text/plain": [
       "\"mom starting to fear son's web series closest thing she will have to grandchild\""
      ]
     },
     "execution_count": 119,
     "metadata": {},
     "output_type": "execute_result"
    }
   ],
   "source": [
    "sarc_df.iloc[2, 0]"
   ]
  },
  {
   "cell_type": "code",
   "execution_count": 120,
   "metadata": {},
   "outputs": [
    {
     "data": {
      "text/plain": [
       "'boehner just wants wife to listen, not come up with alternative debt-reduction ideas'"
      ]
     },
     "execution_count": 120,
     "metadata": {},
     "output_type": "execute_result"
    }
   ],
   "source": [
    "sarc_df.iloc[3, 0]"
   ]
  },
  {
   "cell_type": "code",
   "execution_count": 121,
   "metadata": {},
   "outputs": [
    {
     "data": {
      "text/plain": [
       "0    0.561047\n",
       "1    0.438953\n",
       "Name: sarcastic, dtype: float64"
      ]
     },
     "execution_count": 121,
     "metadata": {},
     "output_type": "execute_result"
    }
   ],
   "source": [
    "sarc_df['sarcastic'].value_counts(normalize = True)"
   ]
  },
  {
   "cell_type": "markdown",
   "metadata": {},
   "source": [
    "### Machine Learning Models"
   ]
  },
  {
   "cell_type": "code",
   "execution_count": 122,
   "metadata": {},
   "outputs": [],
   "source": [
    "#logistic regressor, naive bayes, decision tree, random forest\n",
    "from sklearn.pipeline import Pipeline"
   ]
  },
  {
   "cell_type": "code",
   "execution_count": 123,
   "metadata": {},
   "outputs": [],
   "source": [
    "pipe = Pipeline([('preprocessor', CountVectorizer()), ('classifier', LogisticRegression())])"
   ]
  },
  {
   "cell_type": "code",
   "execution_count": 124,
   "metadata": {},
   "outputs": [],
   "source": [
    "from sklearn.model_selection import GridSearchCV"
   ]
  },
  {
   "cell_type": "code",
   "execution_count": 125,
   "metadata": {},
   "outputs": [],
   "source": [
    "params = [\n",
    "    {'classifier': [MultinomialNB()], 'preprocessor': [CountVectorizer(ngram_range = (3, 5))],\n",
    "    'classifier__alpha': [0.1, 1.0, 10.0], \n",
    "     'preprocessor__max_features': [100, 500, 1000, 5000]},\n",
    "    {'classifier': [DecisionTreeClassifier()], 'preprocessor': [CountVectorizer(ngram_range = (3, 5))],\n",
    "    'classifier__max_depth': [3, 4, 5], 'classifier__ccp_alpha': [0.1, 1.0, 10.0]},\n",
    "    {'classifier': [RandomForestClassifier(n_estimators=100)], 'preprocessor': [TfidfVectorizer(ngram_range = (3, 5))],\n",
    "    'classifier__max_depth': [2, 3, 4, 5], 'preprocessor__max_features': [100, 500, 1000, 5000]}\n",
    "]"
   ]
  },
  {
   "cell_type": "code",
   "execution_count": 126,
   "metadata": {},
   "outputs": [],
   "source": [
    "from sklearn.model_selection import GridSearchCV, train_test_split"
   ]
  },
  {
   "cell_type": "code",
   "execution_count": 127,
   "metadata": {},
   "outputs": [],
   "source": [
    "grid_acc = GridSearchCV(pipe, param_grid=params, n_jobs = -1)"
   ]
  },
  {
   "cell_type": "code",
   "execution_count": 128,
   "metadata": {},
   "outputs": [],
   "source": [
    "X_train, X_test, y_train, y_test = train_test_split(sarc_df['headline'], sarc_df['sarcastic'])"
   ]
  },
  {
   "cell_type": "code",
   "execution_count": 129,
   "metadata": {},
   "outputs": [
    {
     "name": "stderr",
     "output_type": "stream",
     "text": [
      "/Users/jacobkoehler/opt/anaconda3/lib/python3.7/site-packages/joblib/externals/loky/process_executor.py:706: UserWarning: A worker stopped while some jobs were given to the executor. This can be caused by a too short worker timeout or by a memory leak.\n",
      "  \"timeout or by a memory leak.\", UserWarning\n"
     ]
    },
    {
     "data": {
      "text/plain": [
       "GridSearchCV(estimator=Pipeline(steps=[('preprocessor', CountVectorizer()),\n",
       "                                       ('classifier', LogisticRegression())]),\n",
       "             n_jobs=-1,\n",
       "             param_grid=[{'classifier': [MultinomialNB(alpha=0.1)],\n",
       "                          'classifier__alpha': [0.1, 1.0, 10.0],\n",
       "                          'preprocessor': [CountVectorizer(max_features=5000,\n",
       "                                                           ngram_range=(3, 5))],\n",
       "                          'preprocessor__max_features': [100, 500, 1000, 5000]},\n",
       "                         {'classifier': [DecisionTreeClassifier()],\n",
       "                          'classifier__ccp_alpha': [0.1, 1.0, 10.0],\n",
       "                          'classifier__max_depth': [3, 4, 5],\n",
       "                          'preprocessor': [CountVectorizer(ngram_range=(3,\n",
       "                                                                        5))]},\n",
       "                         {'classifier': [RandomForestClassifier()],\n",
       "                          'classifier__max_depth': [2, 3, 4, 5],\n",
       "                          'preprocessor': [TfidfVectorizer(ngram_range=(3, 5))],\n",
       "                          'preprocessor__max_features': [100, 500, 1000,\n",
       "                                                         5000]}])"
      ]
     },
     "execution_count": 129,
     "metadata": {},
     "output_type": "execute_result"
    }
   ],
   "source": [
    "grid_acc.fit(X_train, y_train)"
   ]
  },
  {
   "cell_type": "code",
   "execution_count": 130,
   "metadata": {},
   "outputs": [
    {
     "data": {
      "text/plain": [
       "Pipeline(steps=[('preprocessor',\n",
       "                 CountVectorizer(max_features=5000, ngram_range=(3, 5))),\n",
       "                ('classifier', MultinomialNB(alpha=0.1))])"
      ]
     },
     "execution_count": 130,
     "metadata": {},
     "output_type": "execute_result"
    }
   ],
   "source": [
    "grid_acc.best_estimator_"
   ]
  },
  {
   "cell_type": "code",
   "execution_count": 131,
   "metadata": {},
   "outputs": [
    {
     "data": {
      "text/plain": [
       "0.5940401317759808"
      ]
     },
     "execution_count": 131,
     "metadata": {},
     "output_type": "execute_result"
    }
   ],
   "source": [
    "grid_acc.score(X_test, y_test)"
   ]
  },
  {
   "cell_type": "code",
   "execution_count": 132,
   "metadata": {},
   "outputs": [
    {
     "data": {
      "text/plain": [
       "0.6662672857071539"
      ]
     },
     "execution_count": 132,
     "metadata": {},
     "output_type": "execute_result"
    }
   ],
   "source": [
    "grid_acc.score(X_train, y_train)"
   ]
  },
  {
   "cell_type": "code",
   "execution_count": 133,
   "metadata": {},
   "outputs": [],
   "source": [
    "from sklearn.metrics import plot_confusion_matrix"
   ]
  },
  {
   "cell_type": "code",
   "execution_count": 134,
   "metadata": {},
   "outputs": [
    {
     "data": {
      "text/plain": [
       "<sklearn.metrics._plot.confusion_matrix.ConfusionMatrixDisplay at 0x7fb3ac6a38d0>"
      ]
     },
     "execution_count": 134,
     "metadata": {},
     "output_type": "execute_result"
    },
    {
     "data": {
      "image/png": "[encoded data removed]",
      "text/plain": [
       "<Figure size 432x288 with 2 Axes>"
      ]
     },
     "metadata": {
      "needs_background": "light"
     },
     "output_type": "display_data"
    }
   ],
   "source": [
    "plot_confusion_matrix(grid_acc, X_test, y_test)"
   ]
  },
  {
   "cell_type": "markdown",
   "metadata": {},
   "source": [
    "### Neural Network Models"
   ]
  },
  {
   "cell_type": "code",
   "execution_count": 135,
   "metadata": {},
   "outputs": [],
   "source": [
    "from keras.wrappers.scikit_learn import KerasClassifier"
   ]
  },
  {
   "cell_type": "code",
   "execution_count": 136,
   "metadata": {},
   "outputs": [],
   "source": [
    "def model():\n",
    "    network = Sequential()\n",
    "    network.add(Dropout(0.4))\n",
    "    network.add(Dense(64))\n",
    "    network.add(Dense(1, activation = 'sigmoid'))\n",
    "    network.compile(optimizer='adam', loss = 'binary_crossentopy', metrics = ['acc'])\n",
    "    return network"
   ]
  },
  {
   "cell_type": "code",
   "execution_count": 137,
   "metadata": {},
   "outputs": [],
   "source": [
    "kclass = KerasClassifier(build_fn = model, nb_epoch = 10)"
   ]
  },
  {
   "cell_type": "code",
   "execution_count": 138,
   "metadata": {},
   "outputs": [],
   "source": [
    "Xv_train = cvect.fit_transform(X_train)\n",
    "Xv_test = cvect.transform(X_test)"
   ]
  },
  {
   "cell_type": "code",
   "execution_count": 146,
   "metadata": {},
   "outputs": [],
   "source": [
    "nwork = Sequential()\n",
    "nwork.add(Dropout(0.4))\n",
    "nwork.add(Dense(64, input_shape = (Xv_train.shape[1],)))\n",
    "nwork.add(Dense(1, activation = 'sigmoid'))\n",
    "nwork.compile(optimizer = 'adam', loss = 'binary_crossentropy', metrics = ['acc'])"
   ]
  },
  {
   "cell_type": "code",
   "execution_count": 150,
   "metadata": {},
   "outputs": [
    {
     "name": "stdout",
     "output_type": "stream",
     "text": [
      "Train on 20031 samples, validate on 6678 samples\n",
      "Epoch 1/20\n",
      "20031/20031 [==============================] - 2s 100us/step - loss: 0.5743 - acc: 0.6929 - val_loss: 0.4927 - val_acc: 0.7634\n",
      "Epoch 2/20\n",
      "20031/20031 [==============================] - 2s 89us/step - loss: 0.4904 - acc: 0.7560 - val_loss: 0.4745 - val_acc: 0.7760\n",
      "Epoch 3/20\n",
      "20031/20031 [==============================] - 2s 96us/step - loss: 0.4619 - acc: 0.7706 - val_loss: 0.4735 - val_acc: 0.7770\n",
      "Epoch 4/20\n",
      "20031/20031 [==============================] - 2s 88us/step - loss: 0.4560 - acc: 0.7765 - val_loss: 0.4677 - val_acc: 0.7764\n",
      "Epoch 5/20\n",
      "20031/20031 [==============================] - 2s 90us/step - loss: 0.4498 - acc: 0.7807 - val_loss: 0.4644 - val_acc: 0.7785\n",
      "Epoch 6/20\n",
      "20031/20031 [==============================] - 2s 93us/step - loss: 0.4418 - acc: 0.7802 - val_loss: 0.4677 - val_acc: 0.7803\n",
      "Epoch 7/20\n",
      "20031/20031 [==============================] - 2s 95us/step - loss: 0.4404 - acc: 0.7825 - val_loss: 0.4627 - val_acc: 0.7800\n",
      "Epoch 8/20\n",
      "20031/20031 [==============================] - 2s 113us/step - loss: 0.4382 - acc: 0.7834 - val_loss: 0.4652 - val_acc: 0.7788\n",
      "Epoch 9/20\n",
      "20031/20031 [==============================] - 2s 105us/step - loss: 0.4334 - acc: 0.7871 - val_loss: 0.4674 - val_acc: 0.7806\n",
      "Epoch 10/20\n",
      "20031/20031 [==============================] - 2s 98us/step - loss: 0.4338 - acc: 0.7847 - val_loss: 0.4654 - val_acc: 0.7767\n",
      "Epoch 11/20\n",
      "20031/20031 [==============================] - 2s 97us/step - loss: 0.4283 - acc: 0.7883 - val_loss: 0.4659 - val_acc: 0.7754\n",
      "Epoch 12/20\n",
      "20031/20031 [==============================] - 2s 94us/step - loss: 0.4300 - acc: 0.7880 - val_loss: 0.4654 - val_acc: 0.7772\n",
      "Epoch 13/20\n",
      "20031/20031 [==============================] - 2s 98us/step - loss: 0.4295 - acc: 0.7869 - val_loss: 0.4653 - val_acc: 0.7793\n",
      "Epoch 14/20\n",
      "20031/20031 [==============================] - 2s 91us/step - loss: 0.4282 - acc: 0.7879 - val_loss: 0.4662 - val_acc: 0.7787\n",
      "Epoch 15/20\n",
      "20031/20031 [==============================] - 2s 96us/step - loss: 0.4249 - acc: 0.7907 - val_loss: 0.4673 - val_acc: 0.7788\n",
      "Epoch 16/20\n",
      "20031/20031 [==============================] - 2s 96us/step - loss: 0.4220 - acc: 0.7911 - val_loss: 0.4685 - val_acc: 0.7781\n",
      "Epoch 17/20\n",
      "20031/20031 [==============================] - 2s 90us/step - loss: 0.4203 - acc: 0.7940 - val_loss: 0.4685 - val_acc: 0.7779\n",
      "Epoch 18/20\n",
      "20031/20031 [==============================] - 2s 90us/step - loss: 0.4176 - acc: 0.7978 - val_loss: 0.4687 - val_acc: 0.7764\n",
      "Epoch 19/20\n",
      "20031/20031 [==============================] - 2s 99us/step - loss: 0.4241 - acc: 0.7918 - val_loss: 0.4688 - val_acc: 0.7773\n",
      "Epoch 20/20\n",
      "20031/20031 [==============================] - 2s 91us/step - loss: 0.4169 - acc: 0.7949 - val_loss: 0.4720 - val_acc: 0.7755\n"
     ]
    }
   ],
   "source": [
    "history = nwork.fit(Xv_train.toarray(), y_train.values, validation_data = (Xv_test.toarray(), y_test.values), epochs = 20)"
   ]
  },
  {
   "cell_type": "code",
   "execution_count": 151,
   "metadata": {},
   "outputs": [
    {
     "data": {
      "text/plain": [
       "[<matplotlib.lines.Line2D at 0x7fb379705410>]"
      ]
     },
     "execution_count": 151,
     "metadata": {},
     "output_type": "execute_result"
    },
    {
     "data": {
      "image/png": "[encoded data removed]",
      "text/plain": [
       "<Figure size 432x288 with 1 Axes>"
      ]
     },
     "metadata": {
      "needs_background": "light"
     },
     "output_type": "display_data"
    }
   ],
   "source": [
    "plt.plot(history.history['acc'])\n",
    "plt.plot(history.history['val_acc'])"
   ]
  },
  {
   "cell_type": "code",
   "execution_count": 159,
   "metadata": {},
   "outputs": [],
   "source": [
    "from keras.preprocessing.text import Tokenizer\n",
    "from keras.preprocessing.sequence import pad_sequences"
   ]
  },
  {
   "cell_type": "code",
   "execution_count": 170,
   "metadata": {},
   "outputs": [],
   "source": [
    "tokenizer = Tokenizer(num_words = 5000)\n",
    "tokenizer.fit_on_texts(sarc_df['headline'])"
   ]
  },
  {
   "cell_type": "code",
   "execution_count": 171,
   "metadata": {},
   "outputs": [],
   "source": [
    "sequences = tokenizer.texts_to_sequences(sarc_df['headline'])"
   ]
  },
  {
   "cell_type": "code",
   "execution_count": 172,
   "metadata": {},
   "outputs": [],
   "source": [
    "training_samples = 2500\n",
    "validation_samples = 2500\n",
    "maxlen = 500"
   ]
  },
  {
   "cell_type": "code",
   "execution_count": 173,
   "metadata": {},
   "outputs": [],
   "source": [
    "data = pad_sequences(sequences, maxlen = maxlen)\n",
    "indices = np.arange(data.shape[0])\n",
    "np.random.shuffle(indices)\n",
    "data = data[indices]\n",
    "labels = sarc_df['sarcastic'].values[indices]"
   ]
  },
  {
   "cell_type": "code",
   "execution_count": 174,
   "metadata": {},
   "outputs": [],
   "source": [
    "x_train = data[:training_samples]\n",
    "x_test = data[training_samples:training_samples + 500]\n",
    "y_train = labels[:training_samples]\n",
    "y_test = labels[training_samples:training_samples + 500]"
   ]
  },
  {
   "cell_type": "code",
   "execution_count": 175,
   "metadata": {},
   "outputs": [],
   "source": [
    "from keras.layers import Embedding, Flatten"
   ]
  },
  {
   "cell_type": "code",
   "execution_count": 176,
   "metadata": {},
   "outputs": [],
   "source": [
    "model = Sequential()\n",
    "model.add(Embedding(5000, 100, input_length = maxlen))\n",
    "model.add(Flatten())\n",
    "model.add(Dense(64))\n",
    "model.add(Dense(1, activation = 'sigmoid'))\n",
    "model.compile(loss = 'binary_crossentropy', optimizer = 'adam', metrics = ['acc'])"
   ]
  },
  {
   "cell_type": "code",
   "execution_count": 177,
   "metadata": {},
   "outputs": [
    {
     "name": "stderr",
     "output_type": "stream",
     "text": [
      "/Users/jacobkoehler/opt/anaconda3/lib/python3.7/site-packages/tensorflow_core/python/framework/indexed_slices.py:433: UserWarning: Converting sparse IndexedSlices to a dense Tensor of unknown shape. This may consume a large amount of memory.\n",
      "  \"Converting sparse IndexedSlices to a dense Tensor of unknown shape. \"\n"
     ]
    },
    {
     "name": "stdout",
     "output_type": "stream",
     "text": [
      "Train on 2500 samples, validate on 500 samples\n",
      "Epoch 1/10\n",
      "2500/2500 [==============================] - 2s 980us/step - loss: 0.9055 - acc: 0.5668 - val_loss: 0.5632 - val_acc: 0.7900\n",
      "Epoch 2/10\n",
      "2500/2500 [==============================] - 2s 936us/step - loss: 0.3521 - acc: 0.8780 - val_loss: 0.4313 - val_acc: 0.8000\n",
      "Epoch 3/10\n",
      "2500/2500 [==============================] - 2s 947us/step - loss: 0.1077 - acc: 0.9756 - val_loss: 0.4465 - val_acc: 0.8080\n",
      "Epoch 4/10\n",
      "2500/2500 [==============================] - 2s 957us/step - loss: 0.0295 - acc: 0.9960 - val_loss: 0.4792 - val_acc: 0.8020\n",
      "Epoch 5/10\n",
      "2500/2500 [==============================] - 2s 940us/step - loss: 0.0123 - acc: 0.9992 - val_loss: 0.5094 - val_acc: 0.8000\n",
      "Epoch 6/10\n",
      "2500/2500 [==============================] - 2s 940us/step - loss: 0.0067 - acc: 0.9992 - val_loss: 0.5349 - val_acc: 0.7980\n",
      "Epoch 7/10\n",
      "2500/2500 [==============================] - 2s 944us/step - loss: 0.0044 - acc: 0.9996 - val_loss: 0.5595 - val_acc: 0.7980\n",
      "Epoch 8/10\n",
      "2500/2500 [==============================] - 2s 940us/step - loss: 0.0032 - acc: 0.9996 - val_loss: 0.5763 - val_acc: 0.7960\n",
      "Epoch 9/10\n",
      "2500/2500 [==============================] - 2s 948us/step - loss: 0.0026 - acc: 0.9996 - val_loss: 0.5956 - val_acc: 0.7920\n",
      "Epoch 10/10\n",
      "2500/2500 [==============================] - 3s 1ms/step - loss: 0.0021 - acc: 0.9996 - val_loss: 0.6091 - val_acc: 0.7900\n"
     ]
    }
   ],
   "source": [
    "history = model.fit(x_train, y_train, validation_data=(x_test, y_test), epochs = 10)"
   ]
  },
  {
   "cell_type": "code",
   "execution_count": 178,
   "metadata": {},
   "outputs": [
    {
     "data": {
      "text/plain": [
       "[<matplotlib.lines.Line2D at 0x7fb3aab229d0>]"
      ]
     },
     "execution_count": 178,
     "metadata": {},
     "output_type": "execute_result"
    },
    {
     "data": {
      "image/png": "[encoded data removed]",
      "text/plain": [
       "<Figure size 432x288 with 1 Axes>"
      ]
     },
     "metadata": {
      "needs_background": "light"
     },
     "output_type": "display_data"
    }
   ],
   "source": [
    "plt.plot(history.history['acc'])\n",
    "plt.plot(history.history['val_acc'])"
   ]
  },
  {
   "cell_type": "code",
   "execution_count": null,
   "metadata": {},
   "outputs": [],
   "source": []
  },
  {
   "cell_type": "code",
   "execution_count": null,
   "metadata": {},
   "outputs": [],
   "source": []
  },
  {
   "cell_type": "code",
   "execution_count": null,
   "metadata": {},
   "outputs": [],
   "source": []
  },
  {
   "cell_type": "code",
   "execution_count": 69,
   "metadata": {},
   "outputs": [],
   "source": [
    "from sklearn.pipeline import make_pipeline"
   ]
  },
  {
   "cell_type": "code",
   "execution_count": 86,
   "metadata": {},
   "outputs": [],
   "source": [
    "kpipe = make_pipeline(cvect, kclass)"
   ]
  },
  {
   "cell_type": "code",
   "execution_count": 87,
   "metadata": {},
   "outputs": [
    {
     "ename": "ValueError",
     "evalue": "Please provide as model inputs either a single array or a list of arrays. You passed: x=  (0, 3281)\t1\n  (0, 4052)\t1\n  (1, 358)\t1\n  (1, 3940)\t1\n  (1, 2913)\t1\n  (1, 1038)\t1\n  (1, 4699)\t1\n  (1, 516)\t1\n  (1, 2758)\t1\n  (1, 1194)\t1\n  (2, 4009)\t1\n  (2, 1809)\t1\n  (2, 4852)\t1\n  (2, 2708)\t1\n  (3, 3223)\t1\n  (3, 490)\t1\n  (3, 4280)\t1\n  (3, 4714)\t1\n  (3, 327)\t1\n  (3, 2822)\t1\n  (3, 1501)\t1\n  (4, 3829)\t1\n  (4, 2276)\t1\n  (4, 2293)\t1\n  (4, 755)\t1\n  :\t:\n  (20027, 1540)\t1\n  (20027, 134)\t1\n  (20027, 4898)\t1\n  (20027, 3589)\t1\n  (20028, 947)\t1\n  (20028, 3576)\t1\n  (20028, 4945)\t1\n  (20028, 1417)\t1\n  (20028, 2639)\t1\n  (20028, 406)\t1\n  (20028, 1035)\t1\n  (20028, 3512)\t1\n  (20029, 2536)\t1\n  (20029, 4204)\t1\n  (20029, 2504)\t1\n  (20029, 564)\t1\n  (20029, 2527)\t1\n  (20029, 352)\t1\n  (20029, 1116)\t1\n  (20029, 2439)\t1\n  (20029, 687)\t1\n  (20029, 4549)\t1\n  (20030, 2752)\t1\n  (20030, 1729)\t1\n  (20030, 251)\t1",
     "output_type": "error",
     "traceback": [
      "\u001b[0;31m---------------------------------------------------------------------------\u001b[0m",
      "\u001b[0;31mValueError\u001b[0m                                Traceback (most recent call last)",
      "\u001b[0;32m<ipython-input-87-5af575b6e0f2>\u001b[0m in \u001b[0;36m<module>\u001b[0;34m\u001b[0m\n\u001b[0;32m----> 1\u001b[0;31m \u001b[0mkpipe\u001b[0m\u001b[0;34m.\u001b[0m\u001b[0mfit\u001b[0m\u001b[0;34m(\u001b[0m\u001b[0mX_train\u001b[0m\u001b[0;34m,\u001b[0m \u001b[0my_train\u001b[0m\u001b[0;34m)\u001b[0m\u001b[0;34m\u001b[0m\u001b[0;34m\u001b[0m\u001b[0m\n\u001b[0m",
      "\u001b[0;32m~/opt/anaconda3/lib/python3.7/site-packages/sklearn/pipeline.py\u001b[0m in \u001b[0;36mfit\u001b[0;34m(self, X, y, **fit_params)\u001b[0m\n\u001b[1;32m    333\u001b[0m             \u001b[0;32mif\u001b[0m \u001b[0mself\u001b[0m\u001b[0;34m.\u001b[0m\u001b[0m_final_estimator\u001b[0m \u001b[0;34m!=\u001b[0m \u001b[0;34m'passthrough'\u001b[0m\u001b[0;34m:\u001b[0m\u001b[0;34m\u001b[0m\u001b[0;34m\u001b[0m\u001b[0m\n\u001b[1;32m    334\u001b[0m                 \u001b[0mfit_params_last_step\u001b[0m \u001b[0;34m=\u001b[0m \u001b[0mfit_params_steps\u001b[0m\u001b[0;34m[\u001b[0m\u001b[0mself\u001b[0m\u001b[0;34m.\u001b[0m\u001b[0msteps\u001b[0m\u001b[0;34m[\u001b[0m\u001b[0;34m-\u001b[0m\u001b[0;36m1\u001b[0m\u001b[0;34m]\u001b[0m\u001b[0;34m[\u001b[0m\u001b[0;36m0\u001b[0m\u001b[0;34m]\u001b[0m\u001b[0;34m]\u001b[0m\u001b[0;34m\u001b[0m\u001b[0;34m\u001b[0m\u001b[0m\n\u001b[0;32m--> 335\u001b[0;31m                 \u001b[0mself\u001b[0m\u001b[0;34m.\u001b[0m\u001b[0m_final_estimator\u001b[0m\u001b[0;34m.\u001b[0m\u001b[0mfit\u001b[0m\u001b[0;34m(\u001b[0m\u001b[0mXt\u001b[0m\u001b[0;34m,\u001b[0m \u001b[0my\u001b[0m\u001b[0;34m,\u001b[0m \u001b[0;34m**\u001b[0m\u001b[0mfit_params_last_step\u001b[0m\u001b[0;34m)\u001b[0m\u001b[0;34m\u001b[0m\u001b[0;34m\u001b[0m\u001b[0m\n\u001b[0m\u001b[1;32m    336\u001b[0m \u001b[0;34m\u001b[0m\u001b[0m\n\u001b[1;32m    337\u001b[0m         \u001b[0;32mreturn\u001b[0m \u001b[0mself\u001b[0m\u001b[0;34m\u001b[0m\u001b[0;34m\u001b[0m\u001b[0m\n",
      "\u001b[0;32m~/opt/anaconda3/lib/python3.7/site-packages/keras/wrappers/scikit_learn.py\u001b[0m in \u001b[0;36mfit\u001b[0;34m(self, x, y, sample_weight, **kwargs)\u001b[0m\n\u001b[1;32m    207\u001b[0m         \u001b[0;32mif\u001b[0m \u001b[0msample_weight\u001b[0m \u001b[0;32mis\u001b[0m \u001b[0;32mnot\u001b[0m \u001b[0;32mNone\u001b[0m\u001b[0;34m:\u001b[0m\u001b[0;34m\u001b[0m\u001b[0;34m\u001b[0m\u001b[0m\n\u001b[1;32m    208\u001b[0m             \u001b[0mkwargs\u001b[0m\u001b[0;34m[\u001b[0m\u001b[0;34m'sample_weight'\u001b[0m\u001b[0;34m]\u001b[0m \u001b[0;34m=\u001b[0m \u001b[0msample_weight\u001b[0m\u001b[0;34m\u001b[0m\u001b[0;34m\u001b[0m\u001b[0m\n\u001b[0;32m--> 209\u001b[0;31m         \u001b[0;32mreturn\u001b[0m \u001b[0msuper\u001b[0m\u001b[0;34m(\u001b[0m\u001b[0mKerasClassifier\u001b[0m\u001b[0;34m,\u001b[0m \u001b[0mself\u001b[0m\u001b[0;34m)\u001b[0m\u001b[0;34m.\u001b[0m\u001b[0mfit\u001b[0m\u001b[0;34m(\u001b[0m\u001b[0mx\u001b[0m\u001b[0;34m,\u001b[0m \u001b[0my\u001b[0m\u001b[0;34m,\u001b[0m \u001b[0;34m**\u001b[0m\u001b[0mkwargs\u001b[0m\u001b[0;34m)\u001b[0m\u001b[0;34m\u001b[0m\u001b[0;34m\u001b[0m\u001b[0m\n\u001b[0m\u001b[1;32m    210\u001b[0m \u001b[0;34m\u001b[0m\u001b[0m\n\u001b[1;32m    211\u001b[0m     \u001b[0;32mdef\u001b[0m \u001b[0mpredict\u001b[0m\u001b[0;34m(\u001b[0m\u001b[0mself\u001b[0m\u001b[0;34m,\u001b[0m \u001b[0mx\u001b[0m\u001b[0;34m,\u001b[0m \u001b[0;34m**\u001b[0m\u001b[0mkwargs\u001b[0m\u001b[0;34m)\u001b[0m\u001b[0;34m:\u001b[0m\u001b[0;34m\u001b[0m\u001b[0;34m\u001b[0m\u001b[0m\n",
      "\u001b[0;32m~/opt/anaconda3/lib/python3.7/site-packages/keras/wrappers/scikit_learn.py\u001b[0m in \u001b[0;36mfit\u001b[0;34m(self, x, y, **kwargs)\u001b[0m\n\u001b[1;32m    149\u001b[0m         \u001b[0mfit_args\u001b[0m\u001b[0;34m.\u001b[0m\u001b[0mupdate\u001b[0m\u001b[0;34m(\u001b[0m\u001b[0mkwargs\u001b[0m\u001b[0;34m)\u001b[0m\u001b[0;34m\u001b[0m\u001b[0;34m\u001b[0m\u001b[0m\n\u001b[1;32m    150\u001b[0m \u001b[0;34m\u001b[0m\u001b[0m\n\u001b[0;32m--> 151\u001b[0;31m         \u001b[0mhistory\u001b[0m \u001b[0;34m=\u001b[0m \u001b[0mself\u001b[0m\u001b[0;34m.\u001b[0m\u001b[0mmodel\u001b[0m\u001b[0;34m.\u001b[0m\u001b[0mfit\u001b[0m\u001b[0;34m(\u001b[0m\u001b[0mx\u001b[0m\u001b[0;34m,\u001b[0m \u001b[0my\u001b[0m\u001b[0;34m,\u001b[0m \u001b[0;34m**\u001b[0m\u001b[0mfit_args\u001b[0m\u001b[0;34m)\u001b[0m\u001b[0;34m\u001b[0m\u001b[0;34m\u001b[0m\u001b[0m\n\u001b[0m\u001b[1;32m    152\u001b[0m \u001b[0;34m\u001b[0m\u001b[0m\n\u001b[1;32m    153\u001b[0m         \u001b[0;32mreturn\u001b[0m \u001b[0mhistory\u001b[0m\u001b[0;34m\u001b[0m\u001b[0;34m\u001b[0m\u001b[0m\n",
      "\u001b[0;32m~/opt/anaconda3/lib/python3.7/site-packages/keras/engine/training.py\u001b[0m in \u001b[0;36mfit\u001b[0;34m(self, x, y, batch_size, epochs, verbose, callbacks, validation_split, validation_data, shuffle, class_weight, sample_weight, initial_epoch, steps_per_epoch, validation_steps, validation_freq, max_queue_size, workers, use_multiprocessing, **kwargs)\u001b[0m\n\u001b[1;32m   1152\u001b[0m             \u001b[0msample_weight\u001b[0m\u001b[0;34m=\u001b[0m\u001b[0msample_weight\u001b[0m\u001b[0;34m,\u001b[0m\u001b[0;34m\u001b[0m\u001b[0;34m\u001b[0m\u001b[0m\n\u001b[1;32m   1153\u001b[0m             \u001b[0mclass_weight\u001b[0m\u001b[0;34m=\u001b[0m\u001b[0mclass_weight\u001b[0m\u001b[0;34m,\u001b[0m\u001b[0;34m\u001b[0m\u001b[0;34m\u001b[0m\u001b[0m\n\u001b[0;32m-> 1154\u001b[0;31m             batch_size=batch_size)\n\u001b[0m\u001b[1;32m   1155\u001b[0m \u001b[0;34m\u001b[0m\u001b[0m\n\u001b[1;32m   1156\u001b[0m         \u001b[0;31m# Prepare validation data.\u001b[0m\u001b[0;34m\u001b[0m\u001b[0;34m\u001b[0m\u001b[0;34m\u001b[0m\u001b[0m\n",
      "\u001b[0;32m~/opt/anaconda3/lib/python3.7/site-packages/keras/engine/training.py\u001b[0m in \u001b[0;36m_standardize_user_data\u001b[0;34m(self, x, y, sample_weight, class_weight, check_array_lengths, batch_size)\u001b[0m\n\u001b[1;32m    495\u001b[0m                                      \u001b[0;34m'either a single '\u001b[0m\u001b[0;34m\u001b[0m\u001b[0;34m\u001b[0m\u001b[0m\n\u001b[1;32m    496\u001b[0m                                      \u001b[0;34m'array or a list of arrays. '\u001b[0m\u001b[0;34m\u001b[0m\u001b[0;34m\u001b[0m\u001b[0m\n\u001b[0;32m--> 497\u001b[0;31m                                      'You passed: x=' + str(x))\n\u001b[0m\u001b[1;32m    498\u001b[0m                 \u001b[0mall_inputs\u001b[0m\u001b[0;34m.\u001b[0m\u001b[0mappend\u001b[0m\u001b[0;34m(\u001b[0m\u001b[0mx\u001b[0m\u001b[0;34m)\u001b[0m\u001b[0;34m\u001b[0m\u001b[0;34m\u001b[0m\u001b[0m\n\u001b[1;32m    499\u001b[0m \u001b[0;34m\u001b[0m\u001b[0m\n",
      "\u001b[0;31mValueError\u001b[0m: Please provide as model inputs either a single array or a list of arrays. You passed: x=  (0, 3281)\t1\n  (0, 4052)\t1\n  (1, 358)\t1\n  (1, 3940)\t1\n  (1, 2913)\t1\n  (1, 1038)\t1\n  (1, 4699)\t1\n  (1, 516)\t1\n  (1, 2758)\t1\n  (1, 1194)\t1\n  (2, 4009)\t1\n  (2, 1809)\t1\n  (2, 4852)\t1\n  (2, 2708)\t1\n  (3, 3223)\t1\n  (3, 490)\t1\n  (3, 4280)\t1\n  (3, 4714)\t1\n  (3, 327)\t1\n  (3, 2822)\t1\n  (3, 1501)\t1\n  (4, 3829)\t1\n  (4, 2276)\t1\n  (4, 2293)\t1\n  (4, 755)\t1\n  :\t:\n  (20027, 1540)\t1\n  (20027, 134)\t1\n  (20027, 4898)\t1\n  (20027, 3589)\t1\n  (20028, 947)\t1\n  (20028, 3576)\t1\n  (20028, 4945)\t1\n  (20028, 1417)\t1\n  (20028, 2639)\t1\n  (20028, 406)\t1\n  (20028, 1035)\t1\n  (20028, 3512)\t1\n  (20029, 2536)\t1\n  (20029, 4204)\t1\n  (20029, 2504)\t1\n  (20029, 564)\t1\n  (20029, 2527)\t1\n  (20029, 352)\t1\n  (20029, 1116)\t1\n  (20029, 2439)\t1\n  (20029, 687)\t1\n  (20029, 4549)\t1\n  (20030, 2752)\t1\n  (20030, 1729)\t1\n  (20030, 251)\t1"
     ]
    }
   ],
   "source": [
    "kpipe.fit(X_train, y_train)"
   ]
  },
  {
   "cell_type": "code",
   "execution_count": null,
   "metadata": {},
   "outputs": [],
   "source": []
  }
 ],
 "metadata": {
  "kernelspec": {
   "display_name": "Python 3",
   "language": "python",
   "name": "python3"
  },
  "language_info": {
   "codemirror_mode": {
    "name": "ipython",
    "version": 3
   },
   "file_extension": ".py",
   "mimetype": "text/x-python",
   "name": "python",
   "nbconvert_exporter": "python",
   "pygments_lexer": "ipython3",
   "version": "3.8.2"
  }
 },
 "nbformat": 4,
 "nbformat_minor": 4
}
