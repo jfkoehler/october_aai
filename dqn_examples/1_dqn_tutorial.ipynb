{
 "cells": [
  {
   "cell_type": "markdown",
   "metadata": {
    "colab_type": "text",
    "id": "klGNgWREsvQv"
   },
   "source": [
    "##### Copyright 2018 The TF-Agents Authors."
   ]
  },
  {
   "cell_type": "code",
   "execution_count": 1,
   "metadata": {
    "cellView": "form",
    "colab": {},
    "colab_type": "code",
    "execution": {
     "iopub.execute_input": "2020-12-08T12:10:49.762517Z",
     "iopub.status.busy": "2020-12-08T12:10:49.761824Z",
     "iopub.status.idle": "2020-12-08T12:10:49.764416Z",
     "shell.execute_reply": "2020-12-08T12:10:49.763811Z"
    },
    "id": "nQnmcm0oI1Q-"
   },
   "outputs": [],
   "source": [
    "#@title Licensed under the Apache License, Version 2.0 (the \"License\");\n",
    "# you may not use this file except in compliance with the License.\n",
    "# You may obtain a copy of the License at\n",
    "#\n",
    "# https://www.apache.org/licenses/LICENSE-2.0\n",
    "#\n",
    "# Unless required by applicable law or agreed to in writing, software\n",
    "# distributed under the License is distributed on an \"AS IS\" BASIS,\n",
    "# WITHOUT WARRANTIES OR CONDITIONS OF ANY KIND, either express or implied.\n",
    "# See the License for the specific language governing permissions and\n",
    "# limitations under the License."
   ]
  },
  {
   "cell_type": "markdown",
   "metadata": {
    "colab_type": "text",
    "id": "pmDI-h7cI0tI"
   },
   "source": [
    "# Train a Deep Q Network with TF-Agents\n",
    "\n",
    "<table class=\"tfo-notebook-buttons\" align=\"left\">\n",
    "  <td>\n",
    "    <a target=\"_blank\" href=\"https://www.tensorflow.org/agents/tutorials/1_dqn_tutorial\">\n",
    "    <img src=\"https://www.tensorflow.org/images/tf_logo_32px.png\" />\n",
    "    View on TensorFlow.org</a>\n",
    "  </td>\n",
    "  <td>\n",
    "    <a target=\"_blank\" href=\"https://colab.research.google.com/github/tensorflow/agents/blob/master/docs/tutorials/1_dqn_tutorial.ipynb\">\n",
    "    <img src=\"https://www.tensorflow.org/images/colab_logo_32px.png\" />\n",
    "    Run in Google Colab</a>\n",
    "  </td>\n",
    "  <td>\n",
    "    <a target=\"_blank\" href=\"https://github.com/tensorflow/agents/blob/master/docs/tutorials/1_dqn_tutorial.ipynb\">\n",
    "    <img src=\"https://www.tensorflow.org/images/GitHub-Mark-32px.png\" />\n",
    "    View source on GitHub</a>\n",
    "  </td>\n",
    "  <td>\n",
    "    <a href=\"https://storage.googleapis.com/tensorflow_docs/agents/docs/tutorials/1_dqn_tutorial.ipynb\"><img src=\"https://www.tensorflow.org/images/download_logo_32px.png\" />Download notebook</a>\n",
    "  </td>\n",
    "</table>"
   ]
  },
  {
   "cell_type": "markdown",
   "metadata": {
    "colab_type": "text",
    "id": "lsaQlK8fFQqH"
   },
   "source": [
    "## Introduction\n"
   ]
  },
  {
   "cell_type": "markdown",
   "metadata": {
    "colab_type": "text",
    "id": "cKOCZlhUgXVK"
   },
   "source": [
    "This example shows how to train a [DQN (Deep Q Networks)](https://storage.googleapis.com/deepmind-media/dqn/DQNNaturePaper.pdf)  agent on the Cartpole environment using the TF-Agents library.\n",
    "\n",
    "![Cartpole environment](https://raw.githubusercontent.com/tensorflow/agents/master/docs/tutorials/images/cartpole.png)\n",
    "\n",
    "It will walk you through all the components in a Reinforcement Learning (RL) pipeline for training, evaluation and data collection.\n",
    "\n",
    "\n",
    "To run this code live, click the 'Run in Google Colab' link above.\n"
   ]
  },
  {
   "cell_type": "markdown",
   "metadata": {
    "colab_type": "text",
    "id": "1u9QVVsShC9X"
   },
   "source": [
    "## Setup"
   ]
  },
  {
   "cell_type": "markdown",
   "metadata": {
    "colab_type": "text",
    "id": "kNrNXKI7bINP"
   },
   "source": [
    "If you haven't installed the following dependencies, run:"
   ]
  },
  {
   "cell_type": "code",
   "execution_count": 2,
   "metadata": {
    "colab": {},
    "colab_type": "code",
    "execution": {
     "iopub.execute_input": "2020-12-08T12:10:49.775232Z",
     "iopub.status.busy": "2020-12-08T12:10:49.774548Z",
     "iopub.status.idle": "2020-12-08T12:11:42.055454Z",
     "shell.execute_reply": "2020-12-08T12:11:42.055939Z"
    },
    "id": "KEHR2Ui-lo8O"
   },
   "outputs": [
    {
     "name": "stdout",
     "output_type": "stream",
     "text": [
      "\r",
      "Reading package lists... 0%\r",
      "\r",
      "Reading package lists... 100%\r",
      "\r",
      "Reading package lists... Done\r",
      "\r\n",
      "\r",
      "Building dependency tree... 0%\r",
      "\r",
      "Building dependency tree... 0%\r"
     ]
    },
    {
     "name": "stdout",
     "output_type": "stream",
     "text": [
      "\r",
      "Building dependency tree... 50%\r",
      "\r",
      "Building dependency tree... 50%\r"
     ]
    },
    {
     "name": "stdout",
     "output_type": "stream",
     "text": [
      "\r",
      "Building dependency tree       \r",
      "\r\n",
      "\r",
      "Reading state information... 0%\r",
      "\r",
      "Reading state information... 0%\r",
      "\r",
      "Reading state information... Done\r",
      "\r\n"
     ]
    },
    {
     "name": "stdout",
     "output_type": "stream",
     "text": [
      "The following packages were automatically installed and are no longer required:\r\n",
      "  dconf-gsettings-backend dconf-service dkms freeglut3 freeglut3-dev\r\n",
      "  glib-networking glib-networking-common glib-networking-services\r\n",
      "  gsettings-desktop-schemas libcairo-gobject2 libcolord2 libdconf1\r\n",
      "  libegl1-mesa libepoxy0 libglu1-mesa libglu1-mesa-dev libgtk-3-0\r\n",
      "  libgtk-3-common libice-dev libjansson4 libjson-glib-1.0-0\r\n",
      "  libjson-glib-1.0-common libproxy1v5 librest-0.7-0 libsm-dev\r\n",
      "  libsoup-gnome2.4-1 libsoup2.4-1 libxi-dev libxmu-dev libxmu-headers\r\n",
      "  libxnvctrl0 libxt-dev linux-gcp-headers-5.0.0-1026\r\n",
      "  linux-headers-5.0.0-1026-gcp linux-image-5.0.0-1026-gcp\r\n",
      "  linux-modules-5.0.0-1026-gcp pkg-config policykit-1-gnome python3-xkit\r\n",
      "  screen-resolution-extra xserver-xorg-core-hwe-18.04\r\n",
      "Use 'sudo apt autoremove' to remove them.\r\n",
      "The following additional packages will be installed:\r\n",
      "  i965-va-driver libaacs0 libass9 libavc1394-0 libavcodec57 libavdevice57\r\n",
      "  libavfilter6 libavformat57 libavresample3 libavutil55 libbdplus0 libbluray2\r\n",
      "  libbs2b0 libcaca0 libcdio-cdda2 libcdio-paranoia2 libcdio17 libchromaprint1\r\n",
      "  libcrystalhd3 libdc1394-22 libdrm-amdgpu1 libdrm-common libdrm-dev\r\n",
      "  libdrm-intel1 libdrm-nouveau2 libdrm-radeon1 libdrm2 libfftw3-double3\r\n",
      "  libflite1 libgme0 libgsm1 libiec61883-0 libjack-jackd2-0 libllvm10\r\n",
      "  libmp3lame0 libmpg123-0 libmysofa0 libnorm1 libnuma1 libopenal-data\r\n",
      "  libopenal1 libopenjp2-7 libopenmpt0 libopus0 libpgm-5.2-0 libpostproc54\r\n",
      "  libraw1394-11 librubberband2 libsamplerate0 libsdl2-2.0-0 libshine3\r\n",
      "  libsnappy1v5 libsndio6.1 libsodium23 libsoxr0 libspeex1 libssh-gcrypt-4\r\n",
      "  libswresample2 libswscale4 libtheora0 libtwolame0 libva-drm2 libva-x11-2\r\n",
      "  libva2 libvorbisfile3 libvpx5 libwavpack1 libwebpmux3 libx264-152\r\n",
      "  libx265-146 libxss1 libxvidcore4 libzmq5 libzvbi-common libzvbi0\r\n",
      "  mesa-va-drivers va-driver-all\r\n",
      "Suggested packages:\r\n",
      "  ffmpeg-doc i965-va-driver-shaders libbluray-bdj firmware-crystalhd\r\n",
      "  libfftw3-bin libfftw3-dev jackd2 libportaudio2 opus-tools libraw1394-doc\r\n",
      "  sndiod speex\r\n"
     ]
    },
    {
     "name": "stdout",
     "output_type": "stream",
     "text": [
      "The following NEW packages will be installed:\r\n",
      "  ffmpeg i965-va-driver libaacs0 libass9 libavc1394-0 libavcodec57\r\n",
      "  libavdevice57 libavfilter6 libavformat57 libavresample3 libavutil55\r\n",
      "  libbdplus0 libbluray2 libbs2b0 libcaca0 libcdio-cdda2 libcdio-paranoia2\r\n",
      "  libcdio17 libchromaprint1 libcrystalhd3 libdc1394-22 libfftw3-double3\r\n",
      "  libflite1 libgme0 libgsm1 libiec61883-0 libjack-jackd2-0 libllvm10\r\n",
      "  libmp3lame0 libmpg123-0 libmysofa0 libnorm1 libnuma1 libopenal-data\r\n",
      "  libopenal1 libopenjp2-7 libopenmpt0 libopus0 libpgm-5.2-0 libpostproc54\r\n",
      "  libraw1394-11 librubberband2 libsamplerate0 libsdl2-2.0-0 libshine3\r\n",
      "  libsnappy1v5 libsndio6.1 libsodium23 libsoxr0 libspeex1 libssh-gcrypt-4\r\n",
      "  libswresample2 libswscale4 libtheora0 libtwolame0 libva-drm2 libva-x11-2\r\n",
      "  libva2 libvorbisfile3 libvpx5 libwavpack1 libwebpmux3 libx264-152\r\n",
      "  libx265-146 libxss1 libxvidcore4 libzmq5 libzvbi-common libzvbi0\r\n",
      "  mesa-va-drivers va-driver-all xvfb\r\n",
      "The following packages will be upgraded:\r\n",
      "  libdrm-amdgpu1 libdrm-common libdrm-dev libdrm-intel1 libdrm-nouveau2\r\n",
      "  libdrm-radeon1 libdrm2\r\n",
      "7 upgraded, 72 newly installed, 0 to remove and 93 not upgraded.\r\n",
      "Need to get 50.5 MB of archives.\r\n",
      "After this operation, 199 MB of additional disk space will be used.\r\n",
      "\r",
      "0% [Working]"
     ]
    },
    {
     "name": "stdout",
     "output_type": "stream",
     "text": [
      "\r",
      "            \r",
      "Get:1 http://asia-east1.gce.archive.ubuntu.com/ubuntu bionic/main amd64 libxss1 amd64 1:1.2.2-1 [8582 B]\r\n",
      "\r",
      "0% [1 libxss1 8582 B/8582 B 100%]\r",
      "                                 \r",
      "0% [Working]\r",
      "            \r",
      "Get:2 http://asia-east1.gce.archive.ubuntu.com/ubuntu bionic-updates/main amd64 libdrm-common all 2.4.101-2~18.04.1 [5560 B]\r\n",
      "\r",
      "0% [2 libdrm-common 5560 B/5560 B 100%]\r",
      "                                       \r",
      "1% [Waiting for headers]"
     ]
    },
    {
     "name": "stdout",
     "output_type": "stream",
     "text": [
      "\r",
      "                        \r",
      "Get:3 http://asia-east1.gce.archive.ubuntu.com/ubuntu bionic-updates/main amd64 libdrm-dev amd64 2.4.101-2~18.04.1 [126 kB]\r\n",
      "\r",
      "1% [3 libdrm-dev 12.3 kB/126 kB 10%]\r",
      "                                    \r",
      "1% [Waiting for headers]\r",
      "                        \r",
      "Get:4 http://asia-east1.gce.archive.ubuntu.com/ubuntu bionic-updates/main amd64 libdrm-intel1 amd64 2.4.101-2~18.04.1 [60.0 kB]\r\n",
      "\r",
      "1% [4 libdrm-intel1 26.3 kB/60.0 kB 44%]\r",
      "                                        \r",
      "1% [Waiting for headers]\r",
      "                        \r",
      "Get:5 http://asia-east1.gce.archive.ubuntu.com/ubuntu bionic-updates/main amd64 libdrm-radeon1 amd64 2.4.101-2~18.04.1 [21.7 kB]\r\n",
      "\r",
      "1% [5 libdrm-radeon1 21.7 kB/21.7 kB 100%]\r",
      "                                          \r",
      "2% [Working]\r",
      "            \r",
      "Get:6 http://asia-east1.gce.archive.ubuntu.com/ubuntu bionic-updates/main amd64 libdrm-nouveau2 amd64 2.4.101-2~18.04.1 [16.5 kB]\r\n",
      "\r",
      "2% [6 libdrm-nouveau2 15.1 kB/16.5 kB 92%]\r",
      "                                          \r",
      "2% [Waiting for headers]\r",
      "                        \r",
      "Get:7 http://asia-east1.gce.archive.ubuntu.com/ubuntu bionic-updates/main amd64 libdrm-amdgpu1 amd64 2.4.101-2~18.04.1 [18.2 kB]\r\n",
      "\r",
      "2% [7 libdrm-amdgpu1 18.2 kB/18.2 kB 100%]\r",
      "                                          \r",
      "2% [Waiting for headers]\r",
      "                        \r",
      "Get:8 http://asia-east1.gce.archive.ubuntu.com/ubuntu bionic-updates/main amd64 libdrm2 amd64 2.4.101-2~18.04.1 [32.3 kB]\r\n",
      "\r",
      "2% [8 libdrm2 24.6 kB/32.3 kB 76%]\r",
      "                                  \r",
      "2% [Waiting for headers]\r",
      "                        \r",
      "Get:9 http://asia-east1.gce.archive.ubuntu.com/ubuntu bionic-updates/main amd64 libnuma1 amd64 2.0.11-2.1ubuntu0.1 [22.0 kB]\r\n",
      "\r",
      "3% [9 libnuma1 22.0 kB/22.0 kB 100%]\r",
      "                                    \r",
      "3% [Waiting for headers]"
     ]
    },
    {
     "name": "stdout",
     "output_type": "stream",
     "text": [
      "\r",
      "                        \r",
      "Get:10 http://asia-east1.gce.archive.ubuntu.com/ubuntu bionic/universe amd64 libva2 amd64 2.1.0-3 [47.6 kB]\r\n",
      "\r",
      "3% [10 libva2 12.3 kB/47.6 kB 26%]\r",
      "                                  \r",
      "3% [Waiting for headers]"
     ]
    },
    {
     "name": "stdout",
     "output_type": "stream",
     "text": [
      "\r",
      "                        \r",
      "Get:11 http://asia-east1.gce.archive.ubuntu.com/ubuntu bionic/universe amd64 libva-drm2 amd64 2.1.0-3 [6880 B]\r\n",
      "\r",
      "3% [11 libva-drm2 6880 B/6880 B 100%]\r",
      "                                     \r",
      "3% [Waiting for headers]"
     ]
    },
    {
     "name": "stdout",
     "output_type": "stream",
     "text": [
      "\r",
      "                        \r",
      "Get:12 http://asia-east1.gce.archive.ubuntu.com/ubuntu bionic/universe amd64 libva-x11-2 amd64 2.1.0-3 [11.5 kB]\r\n",
      "\r",
      "3% [12 libva-x11-2 11.5 kB/11.5 kB 100%]\r",
      "                                        \r",
      "4% [Working]"
     ]
    },
    {
     "name": "stdout",
     "output_type": "stream",
     "text": [
      "\r",
      "            \r",
      "Get:13 http://asia-east1.gce.archive.ubuntu.com/ubuntu bionic-updates/universe amd64 libavutil55 amd64 7:3.4.8-0ubuntu0.2 [190 kB]\r\n",
      "\r",
      "4% [13 libavutil55 11.6 kB/190 kB 6%]\r",
      "                                     \r",
      "4% [Waiting for headers]"
     ]
    },
    {
     "name": "stdout",
     "output_type": "stream",
     "text": [
      "\r",
      "                        \r",
      "Get:14 http://asia-east1.gce.archive.ubuntu.com/ubuntu bionic/universe amd64 libcrystalhd3 amd64 1:0.0~git20110715.fdd2f19-12 [45.8 kB]\r\n",
      "\r",
      "4% [14 libcrystalhd3 17.7 kB/45.8 kB 39%]\r",
      "                                         \r",
      "5% [Waiting for headers]"
     ]
    },
    {
     "name": "stdout",
     "output_type": "stream",
     "text": [
      "\r",
      "                        \r",
      "Get:15 http://asia-east1.gce.archive.ubuntu.com/ubuntu bionic/universe amd64 libgsm1 amd64 1.0.13-4build1 [22.4 kB]\r\n",
      "\r",
      "5% [15 libgsm1 16.5 kB/22.4 kB 74%]\r",
      "                                   \r",
      "5% [Waiting for headers]"
     ]
    },
    {
     "name": "stdout",
     "output_type": "stream",
     "text": [
      "\r",
      "                        \r",
      "Get:16 http://asia-east1.gce.archive.ubuntu.com/ubuntu bionic/main amd64 libmp3lame0 amd64 3.100-2 [136 kB]\r\n",
      "\r",
      "5% [16 libmp3lame0 13.7 kB/136 kB 10%]\r",
      "                                      \r",
      "5% [Waiting for headers]"
     ]
    },
    {
     "name": "stdout",
     "output_type": "stream",
     "text": [
      "\r",
      "                        \r",
      "Get:17 http://asia-east1.gce.archive.ubuntu.com/ubuntu bionic-updates/universe amd64 libopenjp2-7 amd64 2.3.0-2build0.18.04.1 [145 kB]\r\n",
      "\r",
      "5% [17 libopenjp2-7 9338 B/145 kB 6%]\r",
      "                                     \r",
      "6% [Waiting for headers]\r",
      "                        \r",
      "Get:18 http://asia-east1.gce.archive.ubuntu.com/ubuntu bionic/main amd64 libopus0 amd64 1.1.2-1ubuntu1 [159 kB]\r\n",
      "\r",
      "6% [18 libopus0 12.3 kB/159 kB 8%]\r",
      "                                  \r",
      "6% [Waiting for headers]"
     ]
    },
    {
     "name": "stdout",
     "output_type": "stream",
     "text": [
      "\r",
      "                        \r",
      "Get:19 http://asia-east1.gce.archive.ubuntu.com/ubuntu bionic/universe amd64 libshine3 amd64 3.1.1-1 [22.9 kB]\r\n",
      "\r",
      "6% [19 libshine3 20.7 kB/22.9 kB 91%]\r",
      "                                     \r",
      "7% [Waiting for headers]"
     ]
    },
    {
     "name": "stdout",
     "output_type": "stream",
     "text": [
      "\r",
      "                        \r",
      "Get:20 http://asia-east1.gce.archive.ubuntu.com/ubuntu bionic/main amd64 libsnappy1v5 amd64 1.1.7-1 [16.0 kB]\r\n",
      "\r",
      "7% [20 libsnappy1v5 8771 B/16.0 kB 55%]\r",
      "                                       \r",
      "7% [Waiting for headers]"
     ]
    },
    {
     "name": "stdout",
     "output_type": "stream",
     "text": [
      "\r",
      "                        \r",
      "Get:21 http://asia-east1.gce.archive.ubuntu.com/ubuntu bionic/main amd64 libspeex1 amd64 1.2~rc1.2-1ubuntu2 [52.1 kB]\r\n",
      "\r",
      "7% [21 libspeex1 12.3 kB/52.1 kB 24%]\r",
      "                                     \r",
      "7% [Waiting for headers]"
     ]
    },
    {
     "name": "stdout",
     "output_type": "stream",
     "text": [
      "\r",
      "                        \r",
      "Get:22 http://asia-east1.gce.archive.ubuntu.com/ubuntu bionic/universe amd64 libsoxr0 amd64 0.1.2-3 [65.9 kB]\r\n",
      "\r",
      "7% [22 libsoxr0 17.9 kB/65.9 kB 27%]\r",
      "                                    \r",
      "8% [Waiting for headers]\r",
      "                        \r",
      "Get:23 http://asia-east1.gce.archive.ubuntu.com/ubuntu bionic-updates/universe amd64 libswresample2 amd64 7:3.4.8-0ubuntu0.2 [55.2 kB]\r\n",
      "\r",
      "8% [23 libswresample2 22.1 kB/55.2 kB 40%]\r",
      "                                          \r",
      "8% [Waiting for headers]"
     ]
    },
    {
     "name": "stdout",
     "output_type": "stream",
     "text": [
      "\r",
      "                        \r",
      "Get:24 http://asia-east1.gce.archive.ubuntu.com/ubuntu bionic/main amd64 libtheora0 amd64 1.1.1+dfsg.1-14 [170 kB]\r\n",
      "\r",
      "8% [24 libtheora0 14.6 kB/170 kB 9%]\r",
      "                                    \r",
      "8% [Waiting for headers]"
     ]
    },
    {
     "name": "stdout",
     "output_type": "stream",
     "text": [
      "\r",
      "                        \r",
      "Get:25 http://asia-east1.gce.archive.ubuntu.com/ubuntu bionic/main amd64 libtwolame0 amd64 0.3.13-3 [46.7 kB]\r\n",
      "\r",
      "8% [25 libtwolame0 27.8 kB/46.7 kB 59%]\r",
      "                                       \r",
      "9% [Waiting for headers]\r",
      "                        \r",
      "Get:26 http://asia-east1.gce.archive.ubuntu.com/ubuntu bionic-updates/main amd64 libvpx5 amd64 1.7.0-3ubuntu0.18.04.1 [796 kB]\r\n",
      "\r",
      "9% [26 libvpx5 28.7 kB/796 kB 4%]\r",
      "                                 \r",
      "10% [Waiting for headers]"
     ]
    },
    {
     "name": "stdout",
     "output_type": "stream",
     "text": [
      "\r",
      "                         \r",
      "Get:27 http://asia-east1.gce.archive.ubuntu.com/ubuntu bionic-updates/main amd64 libwavpack1 amd64 5.1.0-2ubuntu1.4 [76.6 kB]\r\n",
      "\r",
      "10% [27 libwavpack1 24.9 kB/76.6 kB 33%]                       377 kB/s 2min 7s\r",
      "11% [Working]                                                  377 kB/s 2min 7s\r",
      "                                                                               \r",
      "Get:28 http://asia-east1.gce.archive.ubuntu.com/ubuntu bionic/main amd64 libwebpmux3 amd64 0.6.1-2 [19.6 kB]\r\n",
      "\r",
      "11% [28 libwebpmux3 19.6 kB/19.6 kB 100%]                      377 kB/s 2min 7s\r",
      "11% [Waiting for headers]                                      377 kB/s 2min 7s"
     ]
    },
    {
     "name": "stdout",
     "output_type": "stream",
     "text": [
      "\r",
      "                                                                               \r",
      "Get:29 http://asia-east1.gce.archive.ubuntu.com/ubuntu bionic/universe amd64 libx264-152 amd64 2:0.152.2854+gite9a5903-2 [609 kB]\r\n",
      "\r",
      "11% [29 libx264-152 18.2 kB/609 kB 3%]                         377 kB/s 2min 7s\r",
      "12% [Waiting for headers]                                      377 kB/s 2min 6s"
     ]
    },
    {
     "name": "stdout",
     "output_type": "stream",
     "text": [
      "\r",
      "                                                                               \r",
      "Get:30 http://asia-east1.gce.archive.ubuntu.com/ubuntu bionic/universe amd64 libx265-146 amd64 2.6-3 [1026 kB]\r\n",
      "\r",
      "12% [30 libx265-146 26.3 kB/1026 kB 3%]                        377 kB/s 2min 5s"
     ]
    },
    {
     "name": "stdout",
     "output_type": "stream",
     "text": [
      "\r",
      "14% [Waiting for headers]                                      377 kB/s 2min 3s"
     ]
    },
    {
     "name": "stdout",
     "output_type": "stream",
     "text": [
      "\r",
      "                                                                               \r",
      "Get:31 http://asia-east1.gce.archive.ubuntu.com/ubuntu bionic/universe amd64 libxvidcore4 amd64 2:1.3.5-1 [200 kB]\r\n",
      "\r",
      "14% [31 libxvidcore4 21.3 kB/200 kB 11%]                       377 kB/s 2min 3s\r",
      "15% [Waiting for headers]                                      377 kB/s 2min 2s"
     ]
    },
    {
     "name": "stdout",
     "output_type": "stream",
     "text": [
      "\r",
      "                                                                               \r",
      "Get:32 http://asia-east1.gce.archive.ubuntu.com/ubuntu bionic/universe amd64 libzvbi-common all 0.2.35-13 [32.1 kB]\r\n",
      "\r",
      "15% [32 libzvbi-common 17.2 kB/32.1 kB 53%]                    377 kB/s 2min 2s\r",
      "15% [Waiting for headers]                                      377 kB/s 2min 2s"
     ]
    },
    {
     "name": "stdout",
     "output_type": "stream",
     "text": [
      "\r",
      "                                                                               \r",
      "Get:33 http://asia-east1.gce.archive.ubuntu.com/ubuntu bionic/universe amd64 libzvbi0 amd64 0.2.35-13 [235 kB]\r\n",
      "\r",
      "15% [33 libzvbi0 26.4 kB/235 kB 11%]                           377 kB/s 2min 2s\r",
      "15% [Waiting for headers]                                      377 kB/s 2min 2s"
     ]
    },
    {
     "name": "stdout",
     "output_type": "stream",
     "text": [
      "\r",
      "                                                                               \r",
      "Get:34 http://asia-east1.gce.archive.ubuntu.com/ubuntu bionic-updates/universe amd64 libavcodec57 amd64 7:3.4.8-0ubuntu0.2 [4595 kB]\r\n",
      "\r",
      "15% [34 libavcodec57 11.4 kB/4595 kB 0%]                       377 kB/s 2min 2s"
     ]
    },
    {
     "name": "stdout",
     "output_type": "stream",
     "text": [
      "\r",
      "23% [Waiting for headers]                                     377 kB/s 1min 49s"
     ]
    },
    {
     "name": "stdout",
     "output_type": "stream",
     "text": [
      "\r",
      "                                                                               \r",
      "Get:35 http://asia-east1.gce.archive.ubuntu.com/ubuntu bionic/main amd64 libraw1394-11 amd64 2.1.2-1 [30.7 kB]\r\n",
      "\r",
      "23% [35 libraw1394-11 30.7 kB/30.7 kB 100%]                   377 kB/s 1min 49s\r",
      "23% [Waiting for headers]                                     377 kB/s 1min 49s"
     ]
    },
    {
     "name": "stdout",
     "output_type": "stream",
     "text": [
      "\r",
      "                                                                               \r",
      "Get:36 http://asia-east1.gce.archive.ubuntu.com/ubuntu bionic/main amd64 libavc1394-0 amd64 0.5.4-4build1 [16.1 kB]\r\n",
      "\r",
      "23% [36 libavc1394-0 16.1 kB/16.1 kB 100%]                    377 kB/s 1min 49s\r",
      "24% [Working]                                                 377 kB/s 1min 49s"
     ]
    },
    {
     "name": "stdout",
     "output_type": "stream",
     "text": [
      "\r",
      "                                                                               \r",
      "Get:37 http://asia-east1.gce.archive.ubuntu.com/ubuntu bionic/universe amd64 libass9 amd64 1:0.14.0-1 [88.2 kB]\r\n",
      "\r",
      "24% [37 libass9 21.5 kB/88.2 kB 24%]                          377 kB/s 1min 49s\r",
      "24% [Waiting for headers]                                     377 kB/s 1min 49s"
     ]
    },
    {
     "name": "stdout",
     "output_type": "stream",
     "text": [
      "\r",
      "                                                                               \r",
      "Get:38 http://asia-east1.gce.archive.ubuntu.com/ubuntu bionic/universe amd64 libbluray2 amd64 1:1.0.2-3 [141 kB]\r\n",
      "\r",
      "24% [38 libbluray2 60.1 kB/141 kB 43%]                        377 kB/s 1min 49s\r",
      "24% [Waiting for headers]                                     377 kB/s 1min 49s"
     ]
    },
    {
     "name": "stdout",
     "output_type": "stream",
     "text": [
      "\r",
      "                                                                               \r",
      "Get:39 http://asia-east1.gce.archive.ubuntu.com/ubuntu bionic/universe amd64 libchromaprint1 amd64 1.4.3-1 [36.8 kB]\r\n",
      "\r",
      "25% [39 libchromaprint1 36.8 kB/36.8 kB 100%]                 377 kB/s 1min 49s\r",
      "25% [Waiting for headers]                                     377 kB/s 1min 49s"
     ]
    },
    {
     "name": "stdout",
     "output_type": "stream",
     "text": [
      "\r",
      "                                                                               \r",
      "Get:40 http://asia-east1.gce.archive.ubuntu.com/ubuntu bionic/universe amd64 libgme0 amd64 0.6.2-1 [121 kB]\r\n",
      "\r",
      "25% [40 libgme0 16.4 kB/121 kB 14%]                           377 kB/s 1min 49s\r",
      "25% [Waiting for headers]                                     377 kB/s 1min 48s"
     ]
    },
    {
     "name": "stdout",
     "output_type": "stream",
     "text": [
      "\r",
      "                                                                               \r",
      "Get:41 http://asia-east1.gce.archive.ubuntu.com/ubuntu bionic/main amd64 libmpg123-0 amd64 1.25.10-1 [125 kB]\r\n",
      "\r",
      "25% [41 libmpg123-0 26.1 kB/125 kB 21%]                       377 kB/s 1min 48s\r",
      "26% [Waiting for headers]                                     377 kB/s 1min 48s"
     ]
    },
    {
     "name": "stdout",
     "output_type": "stream",
     "text": [
      "\r",
      "                                                                               \r",
      "Get:42 http://asia-east1.gce.archive.ubuntu.com/ubuntu bionic/main amd64 libvorbisfile3 amd64 1.3.5-4.2 [16.0 kB]\r\n",
      "\r",
      "26% [42 libvorbisfile3 16.0 kB/16.0 kB 100%]                  377 kB/s 1min 48s\r",
      "26% [Waiting for headers]                                     377 kB/s 1min 48s"
     ]
    },
    {
     "name": "stdout",
     "output_type": "stream",
     "text": [
      "\r",
      "26% [Waiting for headers]                                     377 kB/s 1min 48s\r",
      "                                                                               \r",
      "Get:43 http://asia-east1.gce.archive.ubuntu.com/ubuntu bionic/universe amd64 libopenmpt0 amd64 0.3.6-1 [561 kB]\r\n",
      "\r",
      "26% [43 libopenmpt0 15.8 kB/561 kB 3%]                        377 kB/s 1min 48s\r",
      "27% [Waiting for headers]                                     377 kB/s 1min 46s\r",
      "                                                                               \r",
      "Get:44 http://asia-east1.gce.archive.ubuntu.com/ubuntu bionic-updates/main amd64 libssh-gcrypt-4 amd64 0.8.0~20170825.94fa1e38-1ubuntu0.7 [172 kB]\r\n",
      "\r",
      "27% [44 libssh-gcrypt-4 44.4 kB/172 kB 26%]                   377 kB/s 1min 46s\r",
      "28% [Waiting for headers]                                     377 kB/s 1min 46s\r",
      "                                                                               \r",
      "Get:45 http://asia-east1.gce.archive.ubuntu.com/ubuntu bionic-updates/universe amd64 libavformat57 amd64 7:3.4.8-0ubuntu0.2 [953 kB]\r\n",
      "\r",
      "28% [45 libavformat57 65.5 kB/953 kB 7%]                      377 kB/s 1min 46s\r",
      "29% [Waiting for headers]                                     377 kB/s 1min 43s\r",
      "                                                                               \r",
      "Get:46 http://asia-east1.gce.archive.ubuntu.com/ubuntu bionic-updates/universe amd64 libavresample3 amd64 7:3.4.8-0ubuntu0.2 [52.6 kB]\r\n",
      "\r",
      "29% [46 libavresample3 33.0 kB/52.6 kB 63%]                   377 kB/s 1min 43s\r",
      "30% [Working]                                                 377 kB/s 1min 43s"
     ]
    },
    {
     "name": "stdout",
     "output_type": "stream",
     "text": [
      "\r",
      "                                                                               \r",
      "Get:47 http://asia-east1.gce.archive.ubuntu.com/ubuntu bionic/universe amd64 libbs2b0 amd64 3.1.0+dfsg-2.2 [10.5 kB]\r\n",
      "\r",
      "30% [47 libbs2b0 10.5 kB/10.5 kB 100%]                            1480 kB/s 26s\r",
      "30% [Waiting for headers]                                         1480 kB/s 26s"
     ]
    },
    {
     "name": "stdout",
     "output_type": "stream",
     "text": [
      "\r",
      "                                                                               \r",
      "Get:48 http://asia-east1.gce.archive.ubuntu.com/ubuntu bionic/universe amd64 libflite1 amd64 2.1-release-1 [12.8 MB]\r\n",
      "\r",
      "30% [48 libflite1 2411 B/12.8 MB 0%]                              1480 kB/s 26s"
     ]
    },
    {
     "name": "stdout",
     "output_type": "stream",
     "text": [
      "\r",
      "51% [Waiting for headers]                                         1480 kB/s 17s\r",
      "                                                                               \r",
      "Get:49 http://asia-east1.gce.archive.ubuntu.com/ubuntu bionic-updates/universe amd64 libmysofa0 amd64 0.6~dfsg0-3+deb10u1build1 [38.5 kB]\r\n",
      "\r",
      "51% [49 libmysofa0 38.5 kB/38.5 kB 100%]                          1480 kB/s 17s\r",
      "51% [Working]                                                     1480 kB/s 17s\r",
      "                                                                               \r",
      "Get:50 http://asia-east1.gce.archive.ubuntu.com/ubuntu bionic-updates/universe amd64 libpostproc54 amd64 7:3.4.8-0ubuntu0.2 [50.3 kB]\r\n",
      "\r",
      "51% [50 libpostproc54 25.5 kB/50.3 kB 51%]                        1480 kB/s 17s\r",
      "51% [Working]                                                     1480 kB/s 17s"
     ]
    },
    {
     "name": "stdout",
     "output_type": "stream",
     "text": [
      "\r",
      "                                                                               \r",
      "Get:51 http://asia-east1.gce.archive.ubuntu.com/ubuntu bionic/main amd64 libfftw3-double3 amd64 3.3.7-1 [735 kB]\r\n",
      "\r",
      "51% [51 libfftw3-double3 26.4 kB/735 kB 4%]                       1480 kB/s 17s"
     ]
    },
    {
     "name": "stdout",
     "output_type": "stream",
     "text": [
      "\r",
      "53% [Waiting for headers]                                         1480 kB/s 17s"
     ]
    },
    {
     "name": "stdout",
     "output_type": "stream",
     "text": [
      "\r",
      "                                                                               \r",
      "Get:52 http://asia-east1.gce.archive.ubuntu.com/ubuntu bionic/main amd64 libsamplerate0 amd64 0.1.9-1 [938 kB]\r\n",
      "\r",
      "53% [52 libsamplerate0 25.9 kB/938 kB 3%]                         1480 kB/s 17s\r",
      "54% [Waiting for headers]                                         1480 kB/s 16s"
     ]
    },
    {
     "name": "stdout",
     "output_type": "stream",
     "text": [
      "\r",
      "                                                                               \r",
      "Get:53 http://asia-east1.gce.archive.ubuntu.com/ubuntu bionic/universe amd64 librubberband2 amd64 1.8.1-7ubuntu2 [86.7 kB]\r\n",
      "\r",
      "54% [53 librubberband2 40.4 kB/86.7 kB 47%]                       1480 kB/s 16s\r",
      "55% [Waiting for headers]                                         1480 kB/s 16s\r",
      "                                                                               \r",
      "Get:54 http://asia-east1.gce.archive.ubuntu.com/ubuntu bionic-updates/universe amd64 libswscale4 amd64 7:3.4.8-0ubuntu0.2 [150 kB]\r\n",
      "\r",
      "55% [54 libswscale4 12.4 kB/150 kB 8%]                            1480 kB/s 16s\r",
      "55% [Waiting for headers]                                         1480 kB/s 16s"
     ]
    },
    {
     "name": "stdout",
     "output_type": "stream",
     "text": [
      "\r",
      "                                                                               \r",
      "Get:55 http://asia-east1.gce.archive.ubuntu.com/ubuntu bionic/universe amd64 libnorm1 amd64 1.5r6+dfsg1-6 [224 kB]\r\n",
      "\r",
      "55% [55 libnorm1 30.0 kB/224 kB 13%]                              1480 kB/s 16s\r",
      "56% [Waiting for headers]                                         1480 kB/s 16s\r",
      "                                                                               \r",
      "Get:56 http://asia-east1.gce.archive.ubuntu.com/ubuntu bionic/universe amd64 libpgm-5.2-0 amd64 5.2.122~dfsg-2 [157 kB]\r\n",
      "\r",
      "56% [56 libpgm-5.2-0 26.5 kB/157 kB 17%]                          1480 kB/s 16s\r",
      "56% [Waiting for headers]                                         1480 kB/s 16s\r",
      "                                                                               \r",
      "Get:57 http://asia-east1.gce.archive.ubuntu.com/ubuntu bionic/main amd64 libsodium23 amd64 1.0.16-2 [143 kB]\r\n",
      "\r",
      "56% [57 libsodium23 12.3 kB/143 kB 9%]                            1480 kB/s 16s\r",
      "57% [Waiting for headers]                                         1480 kB/s 16s\r",
      "                                                                               \r",
      "Get:58 http://asia-east1.gce.archive.ubuntu.com/ubuntu bionic-updates/universe amd64 libzmq5 amd64 4.2.5-1ubuntu0.2 [221 kB]\r\n",
      "\r",
      "57% [58 libzmq5 12.3 kB/221 kB 6%]                                1480 kB/s 16s\r",
      "57% [Waiting for headers]                                         1480 kB/s 15s\r",
      "                                                                               \r",
      "Get:59 http://asia-east1.gce.archive.ubuntu.com/ubuntu bionic-updates/universe amd64 libavfilter6 amd64 7:3.4.8-0ubuntu0.2 [874 kB]\r\n",
      "\r",
      "57% [59 libavfilter6 41.0 kB/874 kB 5%]                           1480 kB/s 15s"
     ]
    },
    {
     "name": "stdout",
     "output_type": "stream",
     "text": [
      "\r",
      "59% [Waiting for headers]                                         1480 kB/s 15s"
     ]
    },
    {
     "name": "stdout",
     "output_type": "stream",
     "text": [
      "\r",
      "                                                                               \r",
      "Get:60 http://asia-east1.gce.archive.ubuntu.com/ubuntu bionic-updates/main amd64 libcaca0 amd64 0.99.beta19-2ubuntu0.18.04.1 [203 kB]\r\n",
      "\r",
      "59% [60 libcaca0 40.4 kB/203 kB 20%]                              1480 kB/s 15s\r",
      "60% [Waiting for headers]                                         1480 kB/s 15s"
     ]
    },
    {
     "name": "stdout",
     "output_type": "stream",
     "text": [
      "\r",
      "                                                                               \r",
      "Get:61 http://asia-east1.gce.archive.ubuntu.com/ubuntu bionic/main amd64 libcdio17 amd64 1.0.0-2ubuntu2 [58.8 kB]\r\n"
     ]
    },
    {
     "name": "stdout",
     "output_type": "stream",
     "text": [
      "\r",
      "60% [61 libcdio17 40.6 kB/58.8 kB 69%]                            1480 kB/s 15s\r",
      "60% [Waiting for headers]                                         1480 kB/s 15s"
     ]
    },
    {
     "name": "stdout",
     "output_type": "stream",
     "text": [
      "\r",
      "                                                                               \r",
      "Get:62 http://asia-east1.gce.archive.ubuntu.com/ubuntu bionic/main amd64 libcdio-cdda2 amd64 10.2+0.94+2-2build1 [17.7 kB]\r\n",
      "\r",
      "60% [62 libcdio-cdda2 17.7 kB/17.7 kB 100%]                       1480 kB/s 15s\r",
      "60% [Waiting for headers]                                         1480 kB/s 15s"
     ]
    },
    {
     "name": "stdout",
     "output_type": "stream",
     "text": [
      "\r",
      "                                                                               \r",
      "Get:63 http://asia-east1.gce.archive.ubuntu.com/ubuntu bionic/main amd64 libcdio-paranoia2 amd64 10.2+0.94+2-2build1 [17.2 kB]\r\n",
      "\r",
      "60% [63 libcdio-paranoia2 17.2 kB/17.2 kB 100%]                   1480 kB/s 15s\r",
      "61% [Waiting for headers]                                         1480 kB/s 15s"
     ]
    },
    {
     "name": "stdout",
     "output_type": "stream",
     "text": [
      "\r",
      "                                                                               \r",
      "Get:64 http://asia-east1.gce.archive.ubuntu.com/ubuntu bionic/universe amd64 libdc1394-22 amd64 2.2.5-1 [77.5 kB]\r\n",
      "\r",
      "61% [64 libdc1394-22 11.3 kB/77.5 kB 15%]                         1480 kB/s 15s\r",
      "61% [Waiting for headers]                                         1480 kB/s 15s"
     ]
    },
    {
     "name": "stdout",
     "output_type": "stream",
     "text": [
      "\r",
      "                                                                               \r",
      "Get:65 http://asia-east1.gce.archive.ubuntu.com/ubuntu bionic/main amd64 libiec61883-0 amd64 1.2.0-2 [23.5 kB]\r\n",
      "\r",
      "61% [65 libiec61883-0 23.5 kB/23.5 kB 100%]                       1480 kB/s 15s\r",
      "61% [Waiting for headers]                                         1480 kB/s 15s"
     ]
    },
    {
     "name": "stdout",
     "output_type": "stream",
     "text": [
      "\r",
      "                                                                               \r",
      "Get:66 http://asia-east1.gce.archive.ubuntu.com/ubuntu bionic/main amd64 libjack-jackd2-0 amd64 1.9.12~dfsg-2 [263 kB]\r\n",
      "\r",
      "61% [66 libjack-jackd2-0 15.1 kB/263 kB 6%]                       1480 kB/s 15s\r",
      "62% [Waiting for headers]                                         1480 kB/s 14s"
     ]
    },
    {
     "name": "stdout",
     "output_type": "stream",
     "text": [
      "\r",
      "                                                                               \r",
      "Get:67 http://asia-east1.gce.archive.ubuntu.com/ubuntu bionic/universe amd64 libopenal-data all 1:1.18.2-2 [102 kB]\r\n",
      "\r",
      "62% [67 libopenal-data 32.0 kB/102 kB 31%]                        1480 kB/s 14s\r",
      "62% [Waiting for headers]                                         1480 kB/s 14s"
     ]
    },
    {
     "name": "stdout",
     "output_type": "stream",
     "text": [
      "\r",
      "                                                                               \r",
      "Get:68 http://asia-east1.gce.archive.ubuntu.com/ubuntu bionic/universe amd64 libsndio6.1 amd64 1.1.0-3 [23.4 kB]\r\n",
      "\r",
      "62% [68 libsndio6.1 23.4 kB/23.4 kB 100%]                         1480 kB/s 14s\r",
      "63% [Waiting for headers]                                         1480 kB/s 14s"
     ]
    },
    {
     "name": "stdout",
     "output_type": "stream",
     "text": [
      "\r",
      "                                                                               \r",
      "Get:69 http://asia-east1.gce.archive.ubuntu.com/ubuntu bionic/universe amd64 libopenal1 amd64 1:1.18.2-2 [266 kB]\r\n",
      "\r",
      "63% [69 libopenal1 37.6 kB/266 kB 14%]                            1480 kB/s 14s\r",
      "63% [Waiting for headers]                                         1480 kB/s 14s"
     ]
    },
    {
     "name": "stdout",
     "output_type": "stream",
     "text": [
      "\r",
      "                                                                               \r",
      "Get:70 http://asia-east1.gce.archive.ubuntu.com/ubuntu bionic-updates/universe amd64 libsdl2-2.0-0 amd64 2.0.8+dfsg1-1ubuntu1.18.04.4 [382 kB]\r\n",
      "\r",
      "63% [70 libsdl2-2.0-0 27.8 kB/382 kB 7%]                          1480 kB/s 14s\r",
      "64% [Waiting for headers]                                         1480 kB/s 14s\r",
      "                                                                               \r",
      "Get:71 http://asia-east1.gce.archive.ubuntu.com/ubuntu bionic-updates/universe amd64 libavdevice57 amd64 7:3.4.8-0ubuntu0.2 [74.9 kB]\r\n",
      "\r",
      "64% [71 libavdevice57 49.2 kB/74.9 kB 66%]                        1480 kB/s 14s\r",
      "64% [Waiting for headers]                                         1480 kB/s 14s\r",
      "                                                                               \r",
      "Get:72 http://asia-east1.gce.archive.ubuntu.com/ubuntu bionic-updates/universe amd64 ffmpeg amd64 7:3.4.8-0ubuntu0.2 [1587 kB]\r\n",
      "\r",
      "65% [72 ffmpeg 41.9 kB/1587 kB 3%]                                1480 kB/s 14s"
     ]
    },
    {
     "name": "stdout",
     "output_type": "stream",
     "text": [
      "\r",
      "67% [Waiting for headers]                                         1480 kB/s 13s"
     ]
    },
    {
     "name": "stdout",
     "output_type": "stream",
     "text": [
      "\r",
      "                                                                               \r",
      "Get:73 http://asia-east1.gce.archive.ubuntu.com/ubuntu bionic/universe amd64 libaacs0 amd64 0.9.0-1 [51.4 kB]\r\n",
      "\r",
      "67% [73 libaacs0 27.0 kB/51.4 kB 53%]                              3171 kB/s 6s\r",
      "68% [Waiting for headers]                                          3171 kB/s 6s"
     ]
    },
    {
     "name": "stdout",
     "output_type": "stream",
     "text": [
      "\r",
      "                                                                               \r",
      "Get:74 http://asia-east1.gce.archive.ubuntu.com/ubuntu bionic/universe amd64 libbdplus0 amd64 0.1.2-2 [46.6 kB]\r\n",
      "\r",
      "68% [74 libbdplus0 40.4 kB/46.6 kB 87%]                            3171 kB/s 6s\r",
      "68% [Waiting for headers]                                          3171 kB/s 6s\r",
      "                                                                               \r",
      "Get:75 http://asia-east1.gce.archive.ubuntu.com/ubuntu bionic-updates/main amd64 libllvm10 amd64 1:10.0.0-4ubuntu1~18.04.2 [15.4 MB]\r\n",
      "\r",
      "68% [75 libllvm10 20.7 kB/15.4 MB 0%]                              3171 kB/s 6s"
     ]
    },
    {
     "name": "stdout",
     "output_type": "stream",
     "text": [
      "\r",
      "93% [Waiting for headers]                                          3171 kB/s 1s"
     ]
    },
    {
     "name": "stdout",
     "output_type": "stream",
     "text": [
      "\r",
      "93% [Waiting for headers]                                          3171 kB/s 1s"
     ]
    },
    {
     "name": "stdout",
     "output_type": "stream",
     "text": [
      "\r",
      "                                                                               \r",
      "Get:76 http://asia-east1.gce.archive.ubuntu.com/ubuntu bionic-updates/universe amd64 mesa-va-drivers amd64 20.0.8-0ubuntu1~18.04.1 [2376 kB]\r\n",
      "\r",
      "93% [76 mesa-va-drivers 12.3 kB/2376 kB 1%]                        3171 kB/s 1s\r",
      "97% [Waiting for headers]                                          3171 kB/s 0s"
     ]
    },
    {
     "name": "stdout",
     "output_type": "stream",
     "text": [
      "\r",
      "                                                                               \r",
      "Get:77 http://asia-east1.gce.archive.ubuntu.com/ubuntu bionic/universe amd64 i965-va-driver amd64 2.1.0-0ubuntu1 [925 kB]\r\n",
      "\r",
      "97% [77 i965-va-driver 40.4 kB/925 kB 4%]                          3171 kB/s 0s\r",
      "98% [Waiting for headers]                                          3171 kB/s 0s"
     ]
    },
    {
     "name": "stdout",
     "output_type": "stream",
     "text": [
      "\r",
      "                                                                               \r",
      "Get:78 http://asia-east1.gce.archive.ubuntu.com/ubuntu bionic/universe amd64 va-driver-all amd64 2.1.0-3 [4376 B]\r\n",
      "\r",
      "98% [78 va-driver-all 4376 B/4376 B 100%]                          3171 kB/s 0s\r",
      "99% [Waiting for headers]                                          3171 kB/s 0s\r",
      "                                                                               \r",
      "Get:79 http://asia-east1.gce.archive.ubuntu.com/ubuntu bionic-updates/universe amd64 xvfb amd64 2:1.19.6-1ubuntu4.8 [784 kB]\r\n",
      "\r",
      "99% [79 xvfb 12.3 kB/784 kB 2%]                                    3171 kB/s 0s"
     ]
    },
    {
     "name": "stdout",
     "output_type": "stream",
     "text": [
      "\r",
      "100% [Working]                                                     3171 kB/s 0s\r",
      "                                                                               \r",
      "Fetched 50.5 MB in 21s (2425 kB/s)\r\n"
     ]
    },
    {
     "name": "stdout",
     "output_type": "stream",
     "text": [
      "\r",
      "Extracting templates from packages: 37%"
     ]
    },
    {
     "name": "stdout",
     "output_type": "stream",
     "text": [
      "\r",
      "Extracting templates from packages: 75%"
     ]
    },
    {
     "name": "stdout",
     "output_type": "stream",
     "text": [
      "\r",
      "Extracting templates from packages: 100%\r\n"
     ]
    },
    {
     "name": "stdout",
     "output_type": "stream",
     "text": [
      "Selecting previously unselected package libxss1:amd64.\r\n",
      "(Reading database ... \r"
     ]
    },
    {
     "name": "stdout",
     "output_type": "stream",
     "text": [
      "(Reading database ... 5%\r",
      "(Reading database ... 10%\r",
      "(Reading database ... 15%\r",
      "(Reading database ... 20%\r",
      "(Reading database ... 25%\r",
      "(Reading database ... 30%\r",
      "(Reading database ... 35%\r",
      "(Reading database ... 40%\r",
      "(Reading database ... 45%\r",
      "(Reading database ... 50%\r",
      "(Reading database ... 55%\r",
      "(Reading database ... 60%\r",
      "(Reading database ... 65%\r",
      "(Reading database ... 70%\r",
      "(Reading database ... 75%\r",
      "(Reading database ... 80%\r",
      "(Reading database ... 85%\r"
     ]
    },
    {
     "name": "stdout",
     "output_type": "stream",
     "text": [
      "(Reading database ... 90%\r",
      "(Reading database ... 95%\r",
      "(Reading database ... 100%\r",
      "(Reading database ... 225610 files and directories currently installed.)\r\n",
      "Preparing to unpack .../00-libxss1_1%3a1.2.2-1_amd64.deb ...\r\n",
      "Unpacking libxss1:amd64 (1:1.2.2-1) ...\r\n"
     ]
    },
    {
     "name": "stdout",
     "output_type": "stream",
     "text": [
      "Preparing to unpack .../01-libdrm-common_2.4.101-2~18.04.1_all.deb ...\r\n"
     ]
    },
    {
     "name": "stdout",
     "output_type": "stream",
     "text": [
      "Unpacking libdrm-common (2.4.101-2~18.04.1) over (2.4.99-1ubuntu1~18.04.2) ...\r\n"
     ]
    },
    {
     "name": "stdout",
     "output_type": "stream",
     "text": [
      "Preparing to unpack .../02-libdrm-dev_2.4.101-2~18.04.1_amd64.deb ...\r\n",
      "Unpacking libdrm-dev:amd64 (2.4.101-2~18.04.1) over (2.4.99-1ubuntu1~18.04.2) ...\r\n"
     ]
    },
    {
     "name": "stdout",
     "output_type": "stream",
     "text": [
      "Preparing to unpack .../03-libdrm-intel1_2.4.101-2~18.04.1_amd64.deb ...\r\n",
      "Unpacking libdrm-intel1:amd64 (2.4.101-2~18.04.1) over (2.4.99-1ubuntu1~18.04.2) ...\r\n"
     ]
    },
    {
     "name": "stdout",
     "output_type": "stream",
     "text": [
      "Preparing to unpack .../04-libdrm-radeon1_2.4.101-2~18.04.1_amd64.deb ...\r\n"
     ]
    },
    {
     "name": "stdout",
     "output_type": "stream",
     "text": [
      "Unpacking libdrm-radeon1:amd64 (2.4.101-2~18.04.1) over (2.4.99-1ubuntu1~18.04.2) ...\r\n"
     ]
    },
    {
     "name": "stdout",
     "output_type": "stream",
     "text": [
      "Preparing to unpack .../05-libdrm-nouveau2_2.4.101-2~18.04.1_amd64.deb ...\r\n",
      "Unpacking libdrm-nouveau2:amd64 (2.4.101-2~18.04.1) over (2.4.99-1ubuntu1~18.04.2) ...\r\n"
     ]
    },
    {
     "name": "stdout",
     "output_type": "stream",
     "text": [
      "Preparing to unpack .../06-libdrm-amdgpu1_2.4.101-2~18.04.1_amd64.deb ...\r\n"
     ]
    },
    {
     "name": "stdout",
     "output_type": "stream",
     "text": [
      "Unpacking libdrm-amdgpu1:amd64 (2.4.101-2~18.04.1) over (2.4.99-1ubuntu1~18.04.2) ...\r\n"
     ]
    },
    {
     "name": "stdout",
     "output_type": "stream",
     "text": [
      "Preparing to unpack .../07-libdrm2_2.4.101-2~18.04.1_amd64.deb ...\r\n",
      "Unpacking libdrm2:amd64 (2.4.101-2~18.04.1) over (2.4.99-1ubuntu1~18.04.2) ...\r\n"
     ]
    },
    {
     "name": "stdout",
     "output_type": "stream",
     "text": [
      "Selecting previously unselected package libnuma1:amd64.\r\n",
      "Preparing to unpack .../08-libnuma1_2.0.11-2.1ubuntu0.1_amd64.deb ...\r\n",
      "Unpacking libnuma1:amd64 (2.0.11-2.1ubuntu0.1) ...\r\n"
     ]
    },
    {
     "name": "stdout",
     "output_type": "stream",
     "text": [
      "Selecting previously unselected package libva2:amd64.\r\n"
     ]
    },
    {
     "name": "stdout",
     "output_type": "stream",
     "text": [
      "Preparing to unpack .../09-libva2_2.1.0-3_amd64.deb ...\r\n",
      "Unpacking libva2:amd64 (2.1.0-3) ...\r\n"
     ]
    },
    {
     "name": "stdout",
     "output_type": "stream",
     "text": [
      "Selecting previously unselected package libva-drm2:amd64.\r\n",
      "Preparing to unpack .../10-libva-drm2_2.1.0-3_amd64.deb ...\r\n",
      "Unpacking libva-drm2:amd64 (2.1.0-3) ...\r\n"
     ]
    },
    {
     "name": "stdout",
     "output_type": "stream",
     "text": [
      "Selecting previously unselected package libva-x11-2:amd64.\r\n",
      "Preparing to unpack .../11-libva-x11-2_2.1.0-3_amd64.deb ...\r\n",
      "Unpacking libva-x11-2:amd64 (2.1.0-3) ...\r\n"
     ]
    },
    {
     "name": "stdout",
     "output_type": "stream",
     "text": [
      "Selecting previously unselected package libavutil55:amd64.\r\n",
      "Preparing to unpack .../12-libavutil55_7%3a3.4.8-0ubuntu0.2_amd64.deb ...\r\n",
      "Unpacking libavutil55:amd64 (7:3.4.8-0ubuntu0.2) ...\r\n"
     ]
    },
    {
     "name": "stdout",
     "output_type": "stream",
     "text": [
      "Selecting previously unselected package libcrystalhd3:amd64.\r\n"
     ]
    },
    {
     "name": "stdout",
     "output_type": "stream",
     "text": [
      "Preparing to unpack .../13-libcrystalhd3_1%3a0.0~git20110715.fdd2f19-12_amd64.deb ...\r\n",
      "Unpacking libcrystalhd3:amd64 (1:0.0~git20110715.fdd2f19-12) ...\r\n"
     ]
    },
    {
     "name": "stdout",
     "output_type": "stream",
     "text": [
      "Selecting previously unselected package libgsm1:amd64.\r\n",
      "Preparing to unpack .../14-libgsm1_1.0.13-4build1_amd64.deb ...\r\n",
      "Unpacking libgsm1:amd64 (1.0.13-4build1) ...\r\n"
     ]
    },
    {
     "name": "stdout",
     "output_type": "stream",
     "text": [
      "Selecting previously unselected package libmp3lame0:amd64.\r\n",
      "Preparing to unpack .../15-libmp3lame0_3.100-2_amd64.deb ...\r\n",
      "Unpacking libmp3lame0:amd64 (3.100-2) ...\r\n"
     ]
    },
    {
     "name": "stdout",
     "output_type": "stream",
     "text": [
      "Selecting previously unselected package libopenjp2-7:amd64.\r\n"
     ]
    },
    {
     "name": "stdout",
     "output_type": "stream",
     "text": [
      "Preparing to unpack .../16-libopenjp2-7_2.3.0-2build0.18.04.1_amd64.deb ...\r\n",
      "Unpacking libopenjp2-7:amd64 (2.3.0-2build0.18.04.1) ...\r\n"
     ]
    },
    {
     "name": "stdout",
     "output_type": "stream",
     "text": [
      "Selecting previously unselected package libopus0:amd64.\r\n",
      "Preparing to unpack .../17-libopus0_1.1.2-1ubuntu1_amd64.deb ...\r\n",
      "Unpacking libopus0:amd64 (1.1.2-1ubuntu1) ...\r\n"
     ]
    },
    {
     "name": "stdout",
     "output_type": "stream",
     "text": [
      "Selecting previously unselected package libshine3:amd64.\r\n",
      "Preparing to unpack .../18-libshine3_3.1.1-1_amd64.deb ...\r\n",
      "Unpacking libshine3:amd64 (3.1.1-1) ...\r\n"
     ]
    },
    {
     "name": "stdout",
     "output_type": "stream",
     "text": [
      "Selecting previously unselected package libsnappy1v5:amd64.\r\n",
      "Preparing to unpack .../19-libsnappy1v5_1.1.7-1_amd64.deb ...\r\n"
     ]
    },
    {
     "name": "stdout",
     "output_type": "stream",
     "text": [
      "Unpacking libsnappy1v5:amd64 (1.1.7-1) ...\r\n",
      "Selecting previously unselected package libspeex1:amd64.\r\n"
     ]
    },
    {
     "name": "stdout",
     "output_type": "stream",
     "text": [
      "Preparing to unpack .../20-libspeex1_1.2~rc1.2-1ubuntu2_amd64.deb ...\r\n",
      "Unpacking libspeex1:amd64 (1.2~rc1.2-1ubuntu2) ...\r\n",
      "Selecting previously unselected package libsoxr0:amd64.\r\n"
     ]
    },
    {
     "name": "stdout",
     "output_type": "stream",
     "text": [
      "Preparing to unpack .../21-libsoxr0_0.1.2-3_amd64.deb ...\r\n",
      "Unpacking libsoxr0:amd64 (0.1.2-3) ...\r\n"
     ]
    },
    {
     "name": "stdout",
     "output_type": "stream",
     "text": [
      "Selecting previously unselected package libswresample2:amd64.\r\n",
      "Preparing to unpack .../22-libswresample2_7%3a3.4.8-0ubuntu0.2_amd64.deb ...\r\n",
      "Unpacking libswresample2:amd64 (7:3.4.8-0ubuntu0.2) ...\r\n"
     ]
    },
    {
     "name": "stdout",
     "output_type": "stream",
     "text": [
      "Selecting previously unselected package libtheora0:amd64.\r\n",
      "Preparing to unpack .../23-libtheora0_1.1.1+dfsg.1-14_amd64.deb ...\r\n",
      "Unpacking libtheora0:amd64 (1.1.1+dfsg.1-14) ...\r\n"
     ]
    },
    {
     "name": "stdout",
     "output_type": "stream",
     "text": [
      "Selecting previously unselected package libtwolame0:amd64.\r\n",
      "Preparing to unpack .../24-libtwolame0_0.3.13-3_amd64.deb ...\r\n",
      "Unpacking libtwolame0:amd64 (0.3.13-3) ...\r\n"
     ]
    },
    {
     "name": "stdout",
     "output_type": "stream",
     "text": [
      "Selecting previously unselected package libvpx5:amd64.\r\n",
      "Preparing to unpack .../25-libvpx5_1.7.0-3ubuntu0.18.04.1_amd64.deb ...\r\n",
      "Unpacking libvpx5:amd64 (1.7.0-3ubuntu0.18.04.1) ...\r\n"
     ]
    },
    {
     "name": "stdout",
     "output_type": "stream",
     "text": [
      "Selecting previously unselected package libwavpack1:amd64.\r\n",
      "Preparing to unpack .../26-libwavpack1_5.1.0-2ubuntu1.4_amd64.deb ...\r\n",
      "Unpacking libwavpack1:amd64 (5.1.0-2ubuntu1.4) ...\r\n"
     ]
    },
    {
     "name": "stdout",
     "output_type": "stream",
     "text": [
      "Selecting previously unselected package libwebpmux3:amd64.\r\n",
      "Preparing to unpack .../27-libwebpmux3_0.6.1-2_amd64.deb ...\r\n",
      "Unpacking libwebpmux3:amd64 (0.6.1-2) ...\r\n"
     ]
    },
    {
     "name": "stdout",
     "output_type": "stream",
     "text": [
      "Selecting previously unselected package libx264-152:amd64.\r\n",
      "Preparing to unpack .../28-libx264-152_2%3a0.152.2854+gite9a5903-2_amd64.deb ...\r\n",
      "Unpacking libx264-152:amd64 (2:0.152.2854+gite9a5903-2) ...\r\n"
     ]
    },
    {
     "name": "stdout",
     "output_type": "stream",
     "text": [
      "Selecting previously unselected package libx265-146:amd64.\r\n",
      "Preparing to unpack .../29-libx265-146_2.6-3_amd64.deb ...\r\n",
      "Unpacking libx265-146:amd64 (2.6-3) ...\r\n"
     ]
    },
    {
     "name": "stdout",
     "output_type": "stream",
     "text": [
      "Selecting previously unselected package libxvidcore4:amd64.\r\n",
      "Preparing to unpack .../30-libxvidcore4_2%3a1.3.5-1_amd64.deb ...\r\n",
      "Unpacking libxvidcore4:amd64 (2:1.3.5-1) ...\r\n"
     ]
    },
    {
     "name": "stdout",
     "output_type": "stream",
     "text": [
      "Selecting previously unselected package libzvbi-common.\r\n"
     ]
    },
    {
     "name": "stdout",
     "output_type": "stream",
     "text": [
      "Preparing to unpack .../31-libzvbi-common_0.2.35-13_all.deb ...\r\n",
      "Unpacking libzvbi-common (0.2.35-13) ...\r\n"
     ]
    },
    {
     "name": "stdout",
     "output_type": "stream",
     "text": [
      "Selecting previously unselected package libzvbi0:amd64.\r\n",
      "Preparing to unpack .../32-libzvbi0_0.2.35-13_amd64.deb ...\r\n",
      "Unpacking libzvbi0:amd64 (0.2.35-13) ...\r\n"
     ]
    },
    {
     "name": "stdout",
     "output_type": "stream",
     "text": [
      "Selecting previously unselected package libavcodec57:amd64.\r\n"
     ]
    },
    {
     "name": "stdout",
     "output_type": "stream",
     "text": [
      "Preparing to unpack .../33-libavcodec57_7%3a3.4.8-0ubuntu0.2_amd64.deb ...\r\n",
      "Unpacking libavcodec57:amd64 (7:3.4.8-0ubuntu0.2) ...\r\n"
     ]
    },
    {
     "name": "stdout",
     "output_type": "stream",
     "text": [
      "Selecting previously unselected package libraw1394-11:amd64.\r\n"
     ]
    },
    {
     "name": "stdout",
     "output_type": "stream",
     "text": [
      "Preparing to unpack .../34-libraw1394-11_2.1.2-1_amd64.deb ...\r\n",
      "Unpacking libraw1394-11:amd64 (2.1.2-1) ...\r\n"
     ]
    },
    {
     "name": "stdout",
     "output_type": "stream",
     "text": [
      "Selecting previously unselected package libavc1394-0:amd64.\r\n",
      "Preparing to unpack .../35-libavc1394-0_0.5.4-4build1_amd64.deb ...\r\n",
      "Unpacking libavc1394-0:amd64 (0.5.4-4build1) ...\r\n"
     ]
    },
    {
     "name": "stdout",
     "output_type": "stream",
     "text": [
      "Selecting previously unselected package libass9:amd64.\r\n",
      "Preparing to unpack .../36-libass9_1%3a0.14.0-1_amd64.deb ...\r\n",
      "Unpacking libass9:amd64 (1:0.14.0-1) ...\r\n"
     ]
    },
    {
     "name": "stdout",
     "output_type": "stream",
     "text": [
      "Selecting previously unselected package libbluray2:amd64.\r\n",
      "Preparing to unpack .../37-libbluray2_1%3a1.0.2-3_amd64.deb ...\r\n",
      "Unpacking libbluray2:amd64 (1:1.0.2-3) ...\r\n"
     ]
    },
    {
     "name": "stdout",
     "output_type": "stream",
     "text": [
      "Selecting previously unselected package libchromaprint1:amd64.\r\n",
      "Preparing to unpack .../38-libchromaprint1_1.4.3-1_amd64.deb ...\r\n",
      "Unpacking libchromaprint1:amd64 (1.4.3-1) ...\r\n"
     ]
    },
    {
     "name": "stdout",
     "output_type": "stream",
     "text": [
      "Selecting previously unselected package libgme0:amd64.\r\n",
      "Preparing to unpack .../39-libgme0_0.6.2-1_amd64.deb ...\r\n",
      "Unpacking libgme0:amd64 (0.6.2-1) ...\r\n"
     ]
    },
    {
     "name": "stdout",
     "output_type": "stream",
     "text": [
      "Selecting previously unselected package libmpg123-0:amd64.\r\n"
     ]
    },
    {
     "name": "stdout",
     "output_type": "stream",
     "text": [
      "Preparing to unpack .../40-libmpg123-0_1.25.10-1_amd64.deb ...\r\n",
      "Unpacking libmpg123-0:amd64 (1.25.10-1) ...\r\n"
     ]
    },
    {
     "name": "stdout",
     "output_type": "stream",
     "text": [
      "Selecting previously unselected package libvorbisfile3:amd64.\r\n",
      "Preparing to unpack .../41-libvorbisfile3_1.3.5-4.2_amd64.deb ...\r\n",
      "Unpacking libvorbisfile3:amd64 (1.3.5-4.2) ...\r\n"
     ]
    },
    {
     "name": "stdout",
     "output_type": "stream",
     "text": [
      "Selecting previously unselected package libopenmpt0:amd64.\r\n",
      "Preparing to unpack .../42-libopenmpt0_0.3.6-1_amd64.deb ...\r\n",
      "Unpacking libopenmpt0:amd64 (0.3.6-1) ...\r\n"
     ]
    },
    {
     "name": "stdout",
     "output_type": "stream",
     "text": [
      "Selecting previously unselected package libssh-gcrypt-4:amd64.\r\n"
     ]
    },
    {
     "name": "stdout",
     "output_type": "stream",
     "text": [
      "Preparing to unpack .../43-libssh-gcrypt-4_0.8.0~20170825.94fa1e38-1ubuntu0.7_amd64.deb ...\r\n",
      "Unpacking libssh-gcrypt-4:amd64 (0.8.0~20170825.94fa1e38-1ubuntu0.7) ...\r\n"
     ]
    },
    {
     "name": "stdout",
     "output_type": "stream",
     "text": [
      "Selecting previously unselected package libavformat57:amd64.\r\n",
      "Preparing to unpack .../44-libavformat57_7%3a3.4.8-0ubuntu0.2_amd64.deb ...\r\n",
      "Unpacking libavformat57:amd64 (7:3.4.8-0ubuntu0.2) ...\r\n"
     ]
    },
    {
     "name": "stdout",
     "output_type": "stream",
     "text": [
      "Selecting previously unselected package libavresample3:amd64.\r\n",
      "Preparing to unpack .../45-libavresample3_7%3a3.4.8-0ubuntu0.2_amd64.deb ...\r\n",
      "Unpacking libavresample3:amd64 (7:3.4.8-0ubuntu0.2) ...\r\n"
     ]
    },
    {
     "name": "stdout",
     "output_type": "stream",
     "text": [
      "Selecting previously unselected package libbs2b0:amd64.\r\n"
     ]
    },
    {
     "name": "stdout",
     "output_type": "stream",
     "text": [
      "Preparing to unpack .../46-libbs2b0_3.1.0+dfsg-2.2_amd64.deb ...\r\n",
      "Unpacking libbs2b0:amd64 (3.1.0+dfsg-2.2) ...\r\n"
     ]
    },
    {
     "name": "stdout",
     "output_type": "stream",
     "text": [
      "Selecting previously unselected package libflite1:amd64.\r\n",
      "Preparing to unpack .../47-libflite1_2.1-release-1_amd64.deb ...\r\n",
      "Unpacking libflite1:amd64 (2.1-release-1) ...\r\n"
     ]
    },
    {
     "name": "stdout",
     "output_type": "stream",
     "text": [
      "Selecting previously unselected package libmysofa0:amd64.\r\n"
     ]
    },
    {
     "name": "stdout",
     "output_type": "stream",
     "text": [
      "Preparing to unpack .../48-libmysofa0_0.6~dfsg0-3+deb10u1build1_amd64.deb ...\r\n",
      "Unpacking libmysofa0:amd64 (0.6~dfsg0-3+deb10u1build1) ...\r\n"
     ]
    },
    {
     "name": "stdout",
     "output_type": "stream",
     "text": [
      "Selecting previously unselected package libpostproc54:amd64.\r\n",
      "Preparing to unpack .../49-libpostproc54_7%3a3.4.8-0ubuntu0.2_amd64.deb ...\r\n",
      "Unpacking libpostproc54:amd64 (7:3.4.8-0ubuntu0.2) ...\r\n"
     ]
    },
    {
     "name": "stdout",
     "output_type": "stream",
     "text": [
      "Selecting previously unselected package libfftw3-double3:amd64.\r\n",
      "Preparing to unpack .../50-libfftw3-double3_3.3.7-1_amd64.deb ...\r\n",
      "Unpacking libfftw3-double3:amd64 (3.3.7-1) ...\r\n"
     ]
    },
    {
     "name": "stdout",
     "output_type": "stream",
     "text": [
      "Selecting previously unselected package libsamplerate0:amd64.\r\n"
     ]
    },
    {
     "name": "stdout",
     "output_type": "stream",
     "text": [
      "Preparing to unpack .../51-libsamplerate0_0.1.9-1_amd64.deb ...\r\n",
      "Unpacking libsamplerate0:amd64 (0.1.9-1) ...\r\n"
     ]
    },
    {
     "name": "stdout",
     "output_type": "stream",
     "text": [
      "Selecting previously unselected package librubberband2:amd64.\r\n",
      "Preparing to unpack .../52-librubberband2_1.8.1-7ubuntu2_amd64.deb ...\r\n",
      "Unpacking librubberband2:amd64 (1.8.1-7ubuntu2) ...\r\n"
     ]
    },
    {
     "name": "stdout",
     "output_type": "stream",
     "text": [
      "Selecting previously unselected package libswscale4:amd64.\r\n",
      "Preparing to unpack .../53-libswscale4_7%3a3.4.8-0ubuntu0.2_amd64.deb ...\r\n"
     ]
    },
    {
     "name": "stdout",
     "output_type": "stream",
     "text": [
      "Unpacking libswscale4:amd64 (7:3.4.8-0ubuntu0.2) ...\r\n"
     ]
    },
    {
     "name": "stdout",
     "output_type": "stream",
     "text": [
      "Selecting previously unselected package libnorm1:amd64.\r\n",
      "Preparing to unpack .../54-libnorm1_1.5r6+dfsg1-6_amd64.deb ...\r\n",
      "Unpacking libnorm1:amd64 (1.5r6+dfsg1-6) ...\r\n"
     ]
    },
    {
     "name": "stdout",
     "output_type": "stream",
     "text": [
      "Selecting previously unselected package libpgm-5.2-0:amd64.\r\n"
     ]
    },
    {
     "name": "stdout",
     "output_type": "stream",
     "text": [
      "Preparing to unpack .../55-libpgm-5.2-0_5.2.122~dfsg-2_amd64.deb ...\r\n",
      "Unpacking libpgm-5.2-0:amd64 (5.2.122~dfsg-2) ...\r\n"
     ]
    },
    {
     "name": "stdout",
     "output_type": "stream",
     "text": [
      "Selecting previously unselected package libsodium23:amd64.\r\n",
      "Preparing to unpack .../56-libsodium23_1.0.16-2_amd64.deb ...\r\n",
      "Unpacking libsodium23:amd64 (1.0.16-2) ...\r\n"
     ]
    },
    {
     "name": "stdout",
     "output_type": "stream",
     "text": [
      "Selecting previously unselected package libzmq5:amd64.\r\n"
     ]
    },
    {
     "name": "stdout",
     "output_type": "stream",
     "text": [
      "Preparing to unpack .../57-libzmq5_4.2.5-1ubuntu0.2_amd64.deb ...\r\n",
      "Unpacking libzmq5:amd64 (4.2.5-1ubuntu0.2) ...\r\n"
     ]
    },
    {
     "name": "stdout",
     "output_type": "stream",
     "text": [
      "Selecting previously unselected package libavfilter6:amd64.\r\n",
      "Preparing to unpack .../58-libavfilter6_7%3a3.4.8-0ubuntu0.2_amd64.deb ...\r\n",
      "Unpacking libavfilter6:amd64 (7:3.4.8-0ubuntu0.2) ...\r\n"
     ]
    },
    {
     "name": "stdout",
     "output_type": "stream",
     "text": [
      "Selecting previously unselected package libcaca0:amd64.\r\n",
      "Preparing to unpack .../59-libcaca0_0.99.beta19-2ubuntu0.18.04.1_amd64.deb ...\r\n",
      "Unpacking libcaca0:amd64 (0.99.beta19-2ubuntu0.18.04.1) ...\r\n"
     ]
    },
    {
     "name": "stdout",
     "output_type": "stream",
     "text": [
      "Selecting previously unselected package libcdio17:amd64.\r\n",
      "Preparing to unpack .../60-libcdio17_1.0.0-2ubuntu2_amd64.deb ...\r\n",
      "Unpacking libcdio17:amd64 (1.0.0-2ubuntu2) ...\r\n"
     ]
    },
    {
     "name": "stdout",
     "output_type": "stream",
     "text": [
      "Selecting previously unselected package libcdio-cdda2:amd64.\r\n",
      "Preparing to unpack .../61-libcdio-cdda2_10.2+0.94+2-2build1_amd64.deb ...\r\n",
      "Unpacking libcdio-cdda2:amd64 (10.2+0.94+2-2build1) ...\r\n"
     ]
    },
    {
     "name": "stdout",
     "output_type": "stream",
     "text": [
      "Selecting previously unselected package libcdio-paranoia2:amd64.\r\n",
      "Preparing to unpack .../62-libcdio-paranoia2_10.2+0.94+2-2build1_amd64.deb ...\r\n"
     ]
    },
    {
     "name": "stdout",
     "output_type": "stream",
     "text": [
      "Unpacking libcdio-paranoia2:amd64 (10.2+0.94+2-2build1) ...\r\n",
      "Selecting previously unselected package libdc1394-22:amd64.\r\n"
     ]
    },
    {
     "name": "stdout",
     "output_type": "stream",
     "text": [
      "Preparing to unpack .../63-libdc1394-22_2.2.5-1_amd64.deb ...\r\n",
      "Unpacking libdc1394-22:amd64 (2.2.5-1) ...\r\n"
     ]
    },
    {
     "name": "stdout",
     "output_type": "stream",
     "text": [
      "Selecting previously unselected package libiec61883-0:amd64.\r\n",
      "Preparing to unpack .../64-libiec61883-0_1.2.0-2_amd64.deb ...\r\n",
      "Unpacking libiec61883-0:amd64 (1.2.0-2) ...\r\n"
     ]
    },
    {
     "name": "stdout",
     "output_type": "stream",
     "text": [
      "Selecting previously unselected package libjack-jackd2-0:amd64.\r\n",
      "Preparing to unpack .../65-libjack-jackd2-0_1.9.12~dfsg-2_amd64.deb ...\r\n",
      "Unpacking libjack-jackd2-0:amd64 (1.9.12~dfsg-2) ...\r\n"
     ]
    },
    {
     "name": "stdout",
     "output_type": "stream",
     "text": [
      "Selecting previously unselected package libopenal-data.\r\n"
     ]
    },
    {
     "name": "stdout",
     "output_type": "stream",
     "text": [
      "Preparing to unpack .../66-libopenal-data_1%3a1.18.2-2_all.deb ...\r\n",
      "Unpacking libopenal-data (1:1.18.2-2) ...\r\n"
     ]
    },
    {
     "name": "stdout",
     "output_type": "stream",
     "text": [
      "Selecting previously unselected package libsndio6.1:amd64.\r\n",
      "Preparing to unpack .../67-libsndio6.1_1.1.0-3_amd64.deb ...\r\n",
      "Unpacking libsndio6.1:amd64 (1.1.0-3) ...\r\n"
     ]
    },
    {
     "name": "stdout",
     "output_type": "stream",
     "text": [
      "Selecting previously unselected package libopenal1:amd64.\r\n",
      "Preparing to unpack .../68-libopenal1_1%3a1.18.2-2_amd64.deb ...\r\n",
      "Unpacking libopenal1:amd64 (1:1.18.2-2) ...\r\n"
     ]
    },
    {
     "name": "stdout",
     "output_type": "stream",
     "text": [
      "Selecting previously unselected package libsdl2-2.0-0:amd64.\r\n",
      "Preparing to unpack .../69-libsdl2-2.0-0_2.0.8+dfsg1-1ubuntu1.18.04.4_amd64.deb ...\r\n",
      "Unpacking libsdl2-2.0-0:amd64 (2.0.8+dfsg1-1ubuntu1.18.04.4) ...\r\n"
     ]
    },
    {
     "name": "stdout",
     "output_type": "stream",
     "text": [
      "Selecting previously unselected package libavdevice57:amd64.\r\n",
      "Preparing to unpack .../70-libavdevice57_7%3a3.4.8-0ubuntu0.2_amd64.deb ...\r\n",
      "Unpacking libavdevice57:amd64 (7:3.4.8-0ubuntu0.2) ...\r\n"
     ]
    },
    {
     "name": "stdout",
     "output_type": "stream",
     "text": [
      "Selecting previously unselected package ffmpeg.\r\n",
      "Preparing to unpack .../71-ffmpeg_7%3a3.4.8-0ubuntu0.2_amd64.deb ...\r\n",
      "Unpacking ffmpeg (7:3.4.8-0ubuntu0.2) ...\r\n"
     ]
    },
    {
     "name": "stdout",
     "output_type": "stream",
     "text": [
      "Selecting previously unselected package libaacs0:amd64.\r\n",
      "Preparing to unpack .../72-libaacs0_0.9.0-1_amd64.deb ...\r\n",
      "Unpacking libaacs0:amd64 (0.9.0-1) ...\r\n"
     ]
    },
    {
     "name": "stdout",
     "output_type": "stream",
     "text": [
      "Selecting previously unselected package libbdplus0:amd64.\r\n",
      "Preparing to unpack .../73-libbdplus0_0.1.2-2_amd64.deb ...\r\n",
      "Unpacking libbdplus0:amd64 (0.1.2-2) ...\r\n"
     ]
    },
    {
     "name": "stdout",
     "output_type": "stream",
     "text": [
      "Selecting previously unselected package libllvm10:amd64.\r\n"
     ]
    },
    {
     "name": "stdout",
     "output_type": "stream",
     "text": [
      "Preparing to unpack .../74-libllvm10_1%3a10.0.0-4ubuntu1~18.04.2_amd64.deb ...\r\n",
      "Unpacking libllvm10:amd64 (1:10.0.0-4ubuntu1~18.04.2) ...\r\n"
     ]
    },
    {
     "name": "stdout",
     "output_type": "stream",
     "text": [
      "Selecting previously unselected package mesa-va-drivers:amd64.\r\n"
     ]
    },
    {
     "name": "stdout",
     "output_type": "stream",
     "text": [
      "Preparing to unpack .../75-mesa-va-drivers_20.0.8-0ubuntu1~18.04.1_amd64.deb ...\r\n",
      "Unpacking mesa-va-drivers:amd64 (20.0.8-0ubuntu1~18.04.1) ...\r\n"
     ]
    },
    {
     "name": "stdout",
     "output_type": "stream",
     "text": [
      "Selecting previously unselected package i965-va-driver:amd64.\r\n"
     ]
    },
    {
     "name": "stdout",
     "output_type": "stream",
     "text": [
      "Preparing to unpack .../76-i965-va-driver_2.1.0-0ubuntu1_amd64.deb ...\r\n",
      "Unpacking i965-va-driver:amd64 (2.1.0-0ubuntu1) ...\r\n"
     ]
    },
    {
     "name": "stdout",
     "output_type": "stream",
     "text": [
      "Selecting previously unselected package va-driver-all:amd64.\r\n",
      "Preparing to unpack .../77-va-driver-all_2.1.0-3_amd64.deb ...\r\n",
      "Unpacking va-driver-all:amd64 (2.1.0-3) ...\r\n"
     ]
    },
    {
     "name": "stdout",
     "output_type": "stream",
     "text": [
      "Selecting previously unselected package xvfb.\r\n",
      "Preparing to unpack .../78-xvfb_2%3a1.19.6-1ubuntu4.8_amd64.deb ...\r\n",
      "Unpacking xvfb (2:1.19.6-1ubuntu4.8) ...\r\n"
     ]
    },
    {
     "name": "stdout",
     "output_type": "stream",
     "text": [
      "Setting up libvorbisfile3:amd64 (1.3.5-4.2) ...\r\n",
      "Setting up libpgm-5.2-0:amd64 (5.2.122~dfsg-2) ...\r\n",
      "Setting up libtwolame0:amd64 (0.3.13-3) ...\r\n"
     ]
    },
    {
     "name": "stdout",
     "output_type": "stream",
     "text": [
      "Setting up libraw1394-11:amd64 (2.1.2-1) ...\r\n",
      "Setting up libx264-152:amd64 (2:0.152.2854+gite9a5903-2) ...\r\n",
      "Setting up libopenjp2-7:amd64 (2.3.0-2build0.18.04.1) ...\r\n",
      "Setting up libllvm10:amd64 (1:10.0.0-4ubuntu1~18.04.2) ...\r\n"
     ]
    },
    {
     "name": "stdout",
     "output_type": "stream",
     "text": [
      "Setting up libwavpack1:amd64 (5.1.0-2ubuntu1.4) ...\r\n",
      "Setting up xvfb (2:1.19.6-1ubuntu4.8) ...\r\n",
      "Setting up libaacs0:amd64 (0.9.0-1) ...\r\n",
      "Setting up libnuma1:amd64 (2.0.11-2.1ubuntu0.1) ...\r\n",
      "Setting up libflite1:amd64 (2.1-release-1) ...\r\n"
     ]
    },
    {
     "name": "stdout",
     "output_type": "stream",
     "text": [
      "Setting up libsoxr0:amd64 (0.1.2-3) ...\r\n",
      "Setting up libssh-gcrypt-4:amd64 (0.8.0~20170825.94fa1e38-1ubuntu0.7) ...\r\n",
      "Setting up libxss1:amd64 (1:1.2.2-1) ...\r\n",
      "Setting up libass9:amd64 (1:0.14.0-1) ...\r\n"
     ]
    },
    {
     "name": "stdout",
     "output_type": "stream",
     "text": [
      "Setting up libbluray2:amd64 (1:1.0.2-3) ...\r\n",
      "Setting up libdc1394-22:amd64 (2.2.5-1) ...\r\n",
      "Setting up libshine3:amd64 (3.1.1-1) ...\r\n",
      "Setting up libva2:amd64 (2.1.0-3) ...\r\n",
      "Setting up libiec61883-0:amd64 (1.2.0-2) ...\r\n"
     ]
    },
    {
     "name": "stdout",
     "output_type": "stream",
     "text": [
      "Setting up libspeex1:amd64 (1.2~rc1.2-1ubuntu2) ...\r\n",
      "Setting up libfftw3-double3:amd64 (3.3.7-1) ...\r\n",
      "Setting up libxvidcore4:amd64 (2:1.3.5-1) ...\r\n",
      "Setting up libopus0:amd64 (1.1.2-1ubuntu1) ...\r\n",
      "Setting up libx265-146:amd64 (2.6-3) ...\r\n"
     ]
    },
    {
     "name": "stdout",
     "output_type": "stream",
     "text": [
      "Setting up libopenal-data (1:1.18.2-2) ...\r\n",
      "Setting up libdrm-common (2.4.101-2~18.04.1) ...\r\n",
      "Setting up libbs2b0:amd64 (3.1.0+dfsg-2.2) ...\r\n",
      "Setting up libnorm1:amd64 (1.5r6+dfsg1-6) ...\r\n",
      "Setting up libsodium23:amd64 (1.0.16-2) ...\r\n"
     ]
    },
    {
     "name": "stdout",
     "output_type": "stream",
     "text": [
      "Setting up libmp3lame0:amd64 (3.100-2) ...\r\n",
      "Setting up libcrystalhd3:amd64 (1:0.0~git20110715.fdd2f19-12) ...\r\n",
      "Setting up libwebpmux3:amd64 (0.6.1-2) ...\r\n",
      "Setting up libsnappy1v5:amd64 (1.1.7-1) ...\r\n",
      "Setting up libavc1394-0:amd64 (0.5.4-4build1) ...\r\n"
     ]
    },
    {
     "name": "stdout",
     "output_type": "stream",
     "text": [
      "Setting up libzvbi-common (0.2.35-13) ...\r\n",
      "Setting up libvpx5:amd64 (1.7.0-3ubuntu0.18.04.1) ...\r\n",
      "Setting up libgme0:amd64 (0.6.2-1) ...\r\n",
      "Setting up libbdplus0:amd64 (0.1.2-2) ...\r\n",
      "Setting up libzvbi0:amd64 (0.2.35-13) ...\r\n"
     ]
    },
    {
     "name": "stdout",
     "output_type": "stream",
     "text": [
      "Setting up libcaca0:amd64 (0.99.beta19-2ubuntu0.18.04.1) ...\r\n",
      "Setting up libsamplerate0:amd64 (0.1.9-1) ...\r\n",
      "Setting up libsndio6.1:amd64 (1.1.0-3) ...\r\n",
      "Setting up libtheora0:amd64 (1.1.1+dfsg.1-14) ...\r\n",
      "Setting up libmpg123-0:amd64 (1.25.10-1) ...\r\n"
     ]
    },
    {
     "name": "stdout",
     "output_type": "stream",
     "text": [
      "Setting up libgsm1:amd64 (1.0.13-4build1) ...\r\n",
      "Setting up libmysofa0:amd64 (0.6~dfsg0-3+deb10u1build1) ...\r\n",
      "Setting up libcdio17:amd64 (1.0.0-2ubuntu2) ...\r\n",
      "Setting up libzmq5:amd64 (4.2.5-1ubuntu0.2) ...\r\n",
      "Setting up libopenmpt0:amd64 (0.3.6-1) ...\r\n"
     ]
    },
    {
     "name": "stdout",
     "output_type": "stream",
     "text": [
      "Setting up libcdio-cdda2:amd64 (10.2+0.94+2-2build1) ...\r\n",
      "Setting up libdrm2:amd64 (2.4.101-2~18.04.1) ...\r\n",
      "Setting up libdrm-intel1:amd64 (2.4.101-2~18.04.1) ...\r\n",
      "Setting up librubberband2:amd64 (1.8.1-7ubuntu2) ...\r\n",
      "Setting up libsdl2-2.0-0:amd64 (2.0.8+dfsg1-1ubuntu1.18.04.4) ...\r\n"
     ]
    },
    {
     "name": "stdout",
     "output_type": "stream",
     "text": [
      "Setting up libcdio-paranoia2:amd64 (10.2+0.94+2-2build1) ...\r\n",
      "Setting up libva-drm2:amd64 (2.1.0-3) ...\r\n",
      "Setting up libjack-jackd2-0:amd64 (1.9.12~dfsg-2) ...\r\n",
      "Setting up libopenal1:amd64 (1:1.18.2-2) ...\r\n",
      "Setting up libdrm-radeon1:amd64 (2.4.101-2~18.04.1) ...\r\n"
     ]
    },
    {
     "name": "stdout",
     "output_type": "stream",
     "text": [
      "Setting up libva-x11-2:amd64 (2.1.0-3) ...\r\n",
      "Setting up libdrm-nouveau2:amd64 (2.4.101-2~18.04.1) ...\r\n",
      "Setting up libavutil55:amd64 (7:3.4.8-0ubuntu0.2) ...\r\n",
      "Setting up libdrm-amdgpu1:amd64 (2.4.101-2~18.04.1) ...\r\n",
      "Setting up libdrm-dev:amd64 (2.4.101-2~18.04.1) ...\r\n"
     ]
    },
    {
     "name": "stdout",
     "output_type": "stream",
     "text": [
      "Setting up libswresample2:amd64 (7:3.4.8-0ubuntu0.2) ...\r\n",
      "Setting up i965-va-driver:amd64 (2.1.0-0ubuntu1) ...\r\n",
      "Setting up libswscale4:amd64 (7:3.4.8-0ubuntu0.2) ...\r\n",
      "Setting up mesa-va-drivers:amd64 (20.0.8-0ubuntu1~18.04.1) ...\r\n",
      "Setting up libpostproc54:amd64 (7:3.4.8-0ubuntu0.2) ...\r\n"
     ]
    },
    {
     "name": "stdout",
     "output_type": "stream",
     "text": [
      "Setting up libavresample3:amd64 (7:3.4.8-0ubuntu0.2) ...\r\n",
      "Setting up libavcodec57:amd64 (7:3.4.8-0ubuntu0.2) ...\r\n",
      "Setting up va-driver-all:amd64 (2.1.0-3) ...\r\n",
      "Setting up libchromaprint1:amd64 (1.4.3-1) ...\r\n",
      "Setting up libavformat57:amd64 (7:3.4.8-0ubuntu0.2) ...\r\n"
     ]
    },
    {
     "name": "stdout",
     "output_type": "stream",
     "text": [
      "Setting up libavfilter6:amd64 (7:3.4.8-0ubuntu0.2) ...\r\n",
      "Setting up libavdevice57:amd64 (7:3.4.8-0ubuntu0.2) ...\r\n",
      "Setting up ffmpeg (7:3.4.8-0ubuntu0.2) ...\r\n",
      "Processing triggers for libc-bin (2.27-3ubuntu1.2) ...\r\n"
     ]
    },
    {
     "name": "stdout",
     "output_type": "stream",
     "text": [
      "Processing triggers for man-db (2.8.3-2ubuntu0.1) ...\r\n"
     ]
    }
   ],
   "source": [
    "!sudo apt-get install -y xvfb ffmpeg\n",
    "!pip install -q gym\n",
    "!pip install -q 'imageio==2.4.0'\n",
    "!pip install -q PILLOW\n",
    "!pip install -q pyglet\n",
    "!pip install -q pyvirtualdisplay\n",
    "!pip install -q tf-agents"
   ]
  },
  {
   "cell_type": "code",
   "execution_count": 3,
   "metadata": {
    "colab": {},
    "colab_type": "code",
    "execution": {
     "iopub.execute_input": "2020-12-08T12:11:42.062879Z",
     "iopub.status.busy": "2020-12-08T12:11:42.062177Z",
     "iopub.status.idle": "2020-12-08T12:11:49.818372Z",
     "shell.execute_reply": "2020-12-08T12:11:49.817777Z"
    },
    "id": "sMitx5qSgJk1"
   },
   "outputs": [
    {
     "name": "stderr",
     "output_type": "stream",
     "text": [
      "WARNING:root:Argument blacklist is deprecated. Please use denylist.\n"
     ]
    },
    {
     "name": "stderr",
     "output_type": "stream",
     "text": [
      "WARNING:root:Argument blacklist is deprecated. Please use denylist.\n"
     ]
    }
   ],
   "source": [
    "from __future__ import absolute_import, division, print_function\n",
    "\n",
    "import base64\n",
    "import imageio\n",
    "import IPython\n",
    "import matplotlib\n",
    "import matplotlib.pyplot as plt\n",
    "import numpy as np\n",
    "import PIL.Image\n",
    "import pyvirtualdisplay\n",
    "\n",
    "import tensorflow as tf\n",
    "\n",
    "from tf_agents.agents.dqn import dqn_agent\n",
    "from tf_agents.drivers import dynamic_step_driver\n",
    "from tf_agents.environments import suite_gym\n",
    "from tf_agents.environments import tf_py_environment\n",
    "from tf_agents.eval import metric_utils\n",
    "from tf_agents.metrics import tf_metrics\n",
    "from tf_agents.networks import q_network\n",
    "from tf_agents.policies import random_tf_policy\n",
    "from tf_agents.replay_buffers import tf_uniform_replay_buffer\n",
    "from tf_agents.trajectories import trajectory\n",
    "from tf_agents.utils import common"
   ]
  },
  {
   "cell_type": "code",
   "execution_count": 4,
   "metadata": {
    "colab": {},
    "colab_type": "code",
    "execution": {
     "iopub.execute_input": "2020-12-08T12:11:49.827352Z",
     "iopub.status.busy": "2020-12-08T12:11:49.822498Z",
     "iopub.status.idle": "2020-12-08T12:11:50.549990Z",
     "shell.execute_reply": "2020-12-08T12:11:50.550454Z"
    },
    "id": "J6HsdS5GbSjd"
   },
   "outputs": [],
   "source": [
    "tf.compat.v1.enable_v2_behavior()\n",
    "\n",
    "# Set up a virtual display for rendering OpenAI gym environments.\n",
    "display = pyvirtualdisplay.Display(visible=0, size=(1400, 900)).start()"
   ]
  },
  {
   "cell_type": "code",
   "execution_count": 5,
   "metadata": {
    "colab": {},
    "colab_type": "code",
    "execution": {
     "iopub.execute_input": "2020-12-08T12:11:50.557049Z",
     "iopub.status.busy": "2020-12-08T12:11:50.556343Z",
     "iopub.status.idle": "2020-12-08T12:11:50.559699Z",
     "shell.execute_reply": "2020-12-08T12:11:50.560134Z"
    },
    "id": "NspmzG4nP3b9"
   },
   "outputs": [
    {
     "data": {
      "text/plain": [
       "'2.3.1'"
      ]
     },
     "execution_count": 1,
     "metadata": {},
     "output_type": "execute_result"
    }
   ],
   "source": [
    "tf.version.VERSION"
   ]
  },
  {
   "cell_type": "markdown",
   "metadata": {
    "colab_type": "text",
    "id": "LmC0NDhdLIKY"
   },
   "source": [
    "## Hyperparameters"
   ]
  },
  {
   "cell_type": "code",
   "execution_count": 6,
   "metadata": {
    "colab": {},
    "colab_type": "code",
    "execution": {
     "iopub.execute_input": "2020-12-08T12:11:50.564883Z",
     "iopub.status.busy": "2020-12-08T12:11:50.564207Z",
     "iopub.status.idle": "2020-12-08T12:11:50.566774Z",
     "shell.execute_reply": "2020-12-08T12:11:50.566181Z"
    },
    "id": "HC1kNrOsLSIZ"
   },
   "outputs": [],
   "source": [
    "num_iterations = 20000 # @param {type:\"integer\"}\n",
    "\n",
    "initial_collect_steps = 100  # @param {type:\"integer\"} \n",
    "collect_steps_per_iteration = 1  # @param {type:\"integer\"}\n",
    "replay_buffer_max_length = 100000  # @param {type:\"integer\"}\n",
    "\n",
    "batch_size = 64  # @param {type:\"integer\"}\n",
    "learning_rate = 1e-3  # @param {type:\"number\"}\n",
    "log_interval = 200  # @param {type:\"integer\"}\n",
    "\n",
    "num_eval_episodes = 10  # @param {type:\"integer\"}\n",
    "eval_interval = 1000  # @param {type:\"integer\"}"
   ]
  },
  {
   "cell_type": "markdown",
   "metadata": {
    "colab_type": "text",
    "id": "VMsJC3DEgI0x"
   },
   "source": [
    "## Environment\n",
    "\n",
    "In Reinforcement Learning (RL), an environment represents the task or problem to be solved. Standard environments can be created in TF-Agents using `tf_agents.environments` suites. TF-Agents has suites for loading environments from sources such as the OpenAI Gym, Atari, and DM Control.\n",
    "\n",
    "Load the CartPole environment from the OpenAI Gym suite. "
   ]
  },
  {
   "cell_type": "code",
   "execution_count": 7,
   "metadata": {
    "colab": {},
    "colab_type": "code",
    "execution": {
     "iopub.execute_input": "2020-12-08T12:11:50.571211Z",
     "iopub.status.busy": "2020-12-08T12:11:50.570468Z",
     "iopub.status.idle": "2020-12-08T12:11:50.579579Z",
     "shell.execute_reply": "2020-12-08T12:11:50.579031Z"
    },
    "id": "pYEz-S9gEv2-"
   },
   "outputs": [],
   "source": [
    "env_name = 'CartPole-v0'\n",
    "env = suite_gym.load(env_name)"
   ]
  },
  {
   "cell_type": "markdown",
   "metadata": {
    "colab_type": "text",
    "id": "IIHYVBkuvPNw"
   },
   "source": [
    "You can render this environment to see how it looks. A free-swinging pole is attached to a cart.  The goal is to move the cart right or left in order to keep the pole pointing up."
   ]
  },
  {
   "cell_type": "code",
   "execution_count": 8,
   "metadata": {
    "colab": {},
    "colab_type": "code",
    "execution": {
     "iopub.execute_input": "2020-12-08T12:11:50.585990Z",
     "iopub.status.busy": "2020-12-08T12:11:50.585323Z",
     "iopub.status.idle": "2020-12-08T12:11:51.129933Z",
     "shell.execute_reply": "2020-12-08T12:11:51.129402Z"
    },
    "id": "RlO7WIQHu_7D"
   },
   "outputs": [
    {
     "data": {
      "image/png": "[encoded data removed]",
      "text/plain": [
       "<PIL.Image.Image image mode=RGB size=600x400 at 0x7FEDA4383198>"
      ]
     },
     "execution_count": 1,
     "metadata": {},
     "output_type": "execute_result"
    }
   ],
   "source": [
    "#@test {\"skip\": true}\n",
    "env.reset()\n",
    "PIL.Image.fromarray(env.render())"
   ]
  },
  {
   "cell_type": "markdown",
   "metadata": {
    "colab_type": "text",
    "id": "B9_lskPOey18"
   },
   "source": [
    "The `environment.step` method takes an `action` in the environment and returns a `TimeStep` tuple containing the next observation of the environment and the reward for the action.\n",
    "\n",
    "The `time_step_spec()` method returns the specification for the `TimeStep` tuple. Its `observation` attribute shows the shape of observations, the data types, and the ranges of allowed values. The `reward` attribute shows the same details for the reward.\n"
   ]
  },
  {
   "cell_type": "code",
   "execution_count": 9,
   "metadata": {
    "colab": {},
    "colab_type": "code",
    "execution": {
     "iopub.execute_input": "2020-12-08T12:11:51.138636Z",
     "iopub.status.busy": "2020-12-08T12:11:51.137968Z",
     "iopub.status.idle": "2020-12-08T12:11:51.140762Z",
     "shell.execute_reply": "2020-12-08T12:11:51.140255Z"
    },
    "id": "exDv57iHfwQV"
   },
   "outputs": [
    {
     "name": "stdout",
     "output_type": "stream",
     "text": [
      "Observation Spec:\n",
      "BoundedArraySpec(shape=(4,), dtype=dtype('float32'), name='observation', minimum=[-4.8000002e+00 -3.4028235e+38 -4.1887903e-01 -3.4028235e+38], maximum=[4.8000002e+00 3.4028235e+38 4.1887903e-01 3.4028235e+38])\n"
     ]
    }
   ],
   "source": [
    "print('Observation Spec:')\n",
    "print(env.time_step_spec().observation)"
   ]
  },
  {
   "cell_type": "code",
   "execution_count": 10,
   "metadata": {
    "colab": {},
    "colab_type": "code",
    "execution": {
     "iopub.execute_input": "2020-12-08T12:11:51.145079Z",
     "iopub.status.busy": "2020-12-08T12:11:51.144437Z",
     "iopub.status.idle": "2020-12-08T12:11:51.146677Z",
     "shell.execute_reply": "2020-12-08T12:11:51.147135Z"
    },
    "id": "UxiSyCbBUQPi"
   },
   "outputs": [
    {
     "name": "stdout",
     "output_type": "stream",
     "text": [
      "Reward Spec:\n",
      "ArraySpec(shape=(), dtype=dtype('float32'), name='reward')\n"
     ]
    }
   ],
   "source": [
    "print('Reward Spec:')\n",
    "print(env.time_step_spec().reward)"
   ]
  },
  {
   "cell_type": "markdown",
   "metadata": {
    "colab_type": "text",
    "id": "b_lHcIcqUaqB"
   },
   "source": [
    "The `action_spec()` method returns the shape, data types, and allowed values of valid actions."
   ]
  },
  {
   "cell_type": "code",
   "execution_count": 11,
   "metadata": {
    "colab": {},
    "colab_type": "code",
    "execution": {
     "iopub.execute_input": "2020-12-08T12:11:51.151094Z",
     "iopub.status.busy": "2020-12-08T12:11:51.150420Z",
     "iopub.status.idle": "2020-12-08T12:11:51.153162Z",
     "shell.execute_reply": "2020-12-08T12:11:51.152658Z"
    },
    "id": "bttJ4uxZUQBr"
   },
   "outputs": [
    {
     "name": "stdout",
     "output_type": "stream",
     "text": [
      "Action Spec:\n",
      "BoundedArraySpec(shape=(), dtype=dtype('int64'), name='action', minimum=0, maximum=1)\n"
     ]
    }
   ],
   "source": [
    "print('Action Spec:')\n",
    "print(env.action_spec())"
   ]
  },
  {
   "cell_type": "markdown",
   "metadata": {
    "colab_type": "text",
    "id": "eJCgJnx3g0yY"
   },
   "source": [
    "In the Cartpole environment:\n",
    "\n",
    "-   `observation` is an array of 4 floats: \n",
    "    -   the position and velocity of the cart\n",
    "    -   the angular position and velocity of the pole \n",
    "-   `reward` is a scalar float value\n",
    "-   `action` is a scalar integer with only two possible values:\n",
    "    -   `0` — \"move left\"\n",
    "    -   `1` — \"move right\"\n"
   ]
  },
  {
   "cell_type": "code",
   "execution_count": 12,
   "metadata": {
    "colab": {},
    "colab_type": "code",
    "execution": {
     "iopub.execute_input": "2020-12-08T12:11:51.159587Z",
     "iopub.status.busy": "2020-12-08T12:11:51.158895Z",
     "iopub.status.idle": "2020-12-08T12:11:51.161873Z",
     "shell.execute_reply": "2020-12-08T12:11:51.161355Z"
    },
    "id": "V2UGR5t_iZX-"
   },
   "outputs": [
    {
     "name": "stdout",
     "output_type": "stream",
     "text": [
      "Time step:\n",
      "TimeStep(step_type=array(0, dtype=int32), reward=array(0., dtype=float32), discount=array(1., dtype=float32), observation=array([ 0.00351387, -0.04429777, -0.03734465, -0.01114438], dtype=float32))\n",
      "Next time step:\n",
      "TimeStep(step_type=array(1, dtype=int32), reward=array(1., dtype=float32), discount=array(1., dtype=float32), observation=array([ 0.00262791,  0.1513393 , -0.03756754, -0.31537217], dtype=float32))\n"
     ]
    }
   ],
   "source": [
    "time_step = env.reset()\n",
    "print('Time step:')\n",
    "print(time_step)\n",
    "\n",
    "action = np.array(1, dtype=np.int32)\n",
    "\n",
    "next_time_step = env.step(action)\n",
    "print('Next time step:')\n",
    "print(next_time_step)"
   ]
  },
  {
   "cell_type": "markdown",
   "metadata": {
    "colab_type": "text",
    "id": "4JSc9GviWUBK"
   },
   "source": [
    "Usually two environments are instantiated: one for training and one for evaluation. "
   ]
  },
  {
   "cell_type": "code",
   "execution_count": 13,
   "metadata": {
    "colab": {},
    "colab_type": "code",
    "execution": {
     "iopub.execute_input": "2020-12-08T12:11:51.168093Z",
     "iopub.status.busy": "2020-12-08T12:11:51.167456Z",
     "iopub.status.idle": "2020-12-08T12:11:51.169327Z",
     "shell.execute_reply": "2020-12-08T12:11:51.169743Z"
    },
    "id": "N7brXNIGWXjC"
   },
   "outputs": [],
   "source": [
    "train_py_env = suite_gym.load(env_name)\n",
    "eval_py_env = suite_gym.load(env_name)"
   ]
  },
  {
   "cell_type": "markdown",
   "metadata": {
    "colab_type": "text",
    "id": "zuUqXAVmecTU"
   },
   "source": [
    "The Cartpole environment, like most environments, is written in pure Python. This is converted to TensorFlow using the `TFPyEnvironment` wrapper.\n",
    "\n",
    "The original environment's API uses Numpy arrays. The `TFPyEnvironment` converts these to `Tensors` to make it compatible with Tensorflow agents and policies.\n"
   ]
  },
  {
   "cell_type": "code",
   "execution_count": 14,
   "metadata": {
    "colab": {},
    "colab_type": "code",
    "execution": {
     "iopub.execute_input": "2020-12-08T12:11:51.174876Z",
     "iopub.status.busy": "2020-12-08T12:11:51.174201Z",
     "iopub.status.idle": "2020-12-08T12:11:51.181805Z",
     "shell.execute_reply": "2020-12-08T12:11:51.181215Z"
    },
    "id": "Xp-Y4mD6eDhF"
   },
   "outputs": [],
   "source": [
    "train_env = tf_py_environment.TFPyEnvironment(train_py_env)\n",
    "eval_env = tf_py_environment.TFPyEnvironment(eval_py_env)"
   ]
  },
  {
   "cell_type": "markdown",
   "metadata": {
    "colab_type": "text",
    "id": "E9lW_OZYFR8A"
   },
   "source": [
    "## Agent\n",
    "\n",
    "The algorithm used to solve an RL problem is represented by an `Agent`. TF-Agents provides standard implementations of a variety of `Agents`, including:\n",
    "\n",
    "-   [DQN](https://storage.googleapis.com/deepmind-media/dqn/DQNNaturePaper.pdf) (used in this tutorial)\n",
    "-   [REINFORCE](https://www-anw.cs.umass.edu/~barto/courses/cs687/williams92simple.pdf)\n",
    "-   [DDPG](https://arxiv.org/pdf/1509.02971.pdf)\n",
    "-   [TD3](https://arxiv.org/pdf/1802.09477.pdf)\n",
    "-   [PPO](https://arxiv.org/abs/1707.06347)\n",
    "-   [SAC](https://arxiv.org/abs/1801.01290).\n",
    "\n",
    "The DQN agent can be used in any environment which has a discrete action space.\n",
    "\n",
    "At the heart of a DQN Agent is a `QNetwork`, a neural network model that can learn to predict `QValues` (expected returns) for all actions, given an observation from the environment.\n",
    "\n",
    "Use `tf_agents.networks.q_network` to create a `QNetwork`, passing in the `observation_spec`, `action_spec`, and a tuple describing the number and size of the model's hidden layers.\n"
   ]
  },
  {
   "cell_type": "code",
   "execution_count": 15,
   "metadata": {
    "colab": {},
    "colab_type": "code",
    "execution": {
     "iopub.execute_input": "2020-12-08T12:11:51.190732Z",
     "iopub.status.busy": "2020-12-08T12:11:51.185810Z",
     "iopub.status.idle": "2020-12-08T12:11:51.210447Z",
     "shell.execute_reply": "2020-12-08T12:11:51.209831Z"
    },
    "id": "TgkdEPg_muzV"
   },
   "outputs": [],
   "source": [
    "fc_layer_params = (100,)\n",
    "\n",
    "q_net = q_network.QNetwork(\n",
    "    train_env.observation_spec(),\n",
    "    train_env.action_spec(),\n",
    "    fc_layer_params=fc_layer_params)"
   ]
  },
  {
   "cell_type": "markdown",
   "metadata": {
    "colab_type": "text",
    "id": "z62u55hSmviJ"
   },
   "source": [
    "Now use `tf_agents.agents.dqn.dqn_agent` to instantiate a `DqnAgent`. In addition to the `time_step_spec`, `action_spec` and the QNetwork, the agent constructor also requires an optimizer (in this case, `AdamOptimizer`), a loss function, and an integer step counter."
   ]
  },
  {
   "cell_type": "code",
   "execution_count": 16,
   "metadata": {
    "colab": {},
    "colab_type": "code",
    "execution": {
     "iopub.execute_input": "2020-12-08T12:11:59.520367Z",
     "iopub.status.busy": "2020-12-08T12:11:58.863815Z",
     "iopub.status.idle": "2020-12-08T12:12:00.111813Z",
     "shell.execute_reply": "2020-12-08T12:12:00.112305Z"
    },
    "id": "jbY4yrjTEyc9"
   },
   "outputs": [],
   "source": [
    "optimizer = tf.compat.v1.train.AdamOptimizer(learning_rate=learning_rate)\n",
    "\n",
    "train_step_counter = tf.Variable(0)\n",
    "\n",
    "agent = dqn_agent.DqnAgent(\n",
    "    train_env.time_step_spec(),\n",
    "    train_env.action_spec(),\n",
    "    q_network=q_net,\n",
    "    optimizer=optimizer,\n",
    "    td_errors_loss_fn=common.element_wise_squared_loss,\n",
    "    train_step_counter=train_step_counter)\n",
    "\n",
    "agent.initialize()"
   ]
  },
  {
   "cell_type": "markdown",
   "metadata": {
    "colab_type": "text",
    "id": "I0KLrEPwkn5x"
   },
   "source": [
    "## Policies\n",
    "\n",
    "A policy defines the way an agent acts in an environment. Typically, the goal of reinforcement learning is to train the underlying model until the policy produces the desired outcome.\n",
    "\n",
    "In this tutorial:\n",
    "\n",
    "-   The desired outcome is keeping the pole balanced upright over the cart.\n",
    "-   The policy returns an action (left or right) for each `time_step` observation.\n",
    "\n",
    "Agents contain two policies: \n",
    "\n",
    "-   `agent.policy` — The main policy that is used for evaluation and deployment.\n",
    "-   `agent.collect_policy` — A second policy that is used for data collection.\n"
   ]
  },
  {
   "cell_type": "code",
   "execution_count": 17,
   "metadata": {
    "colab": {},
    "colab_type": "code",
    "execution": {
     "iopub.execute_input": "2020-12-08T12:12:00.116972Z",
     "iopub.status.busy": "2020-12-08T12:12:00.116297Z",
     "iopub.status.idle": "2020-12-08T12:12:00.118009Z",
     "shell.execute_reply": "2020-12-08T12:12:00.118421Z"
    },
    "id": "BwY7StuMkuV4"
   },
   "outputs": [],
   "source": [
    "eval_policy = agent.policy\n",
    "collect_policy = agent.collect_policy"
   ]
  },
  {
   "cell_type": "markdown",
   "metadata": {
    "colab_type": "text",
    "id": "2Qs1Fl3dV0ae"
   },
   "source": [
    "Policies can be created independently of agents. For example, use `tf_agents.policies.random_tf_policy` to create a policy which will randomly select an action for each `time_step`."
   ]
  },
  {
   "cell_type": "code",
   "execution_count": 18,
   "metadata": {
    "colab": {},
    "colab_type": "code",
    "execution": {
     "iopub.execute_input": "2020-12-08T12:12:00.122877Z",
     "iopub.status.busy": "2020-12-08T12:12:00.122257Z",
     "iopub.status.idle": "2020-12-08T12:12:00.124522Z",
     "shell.execute_reply": "2020-12-08T12:12:00.124061Z"
    },
    "id": "HE37-UCIrE69"
   },
   "outputs": [],
   "source": [
    "random_policy = random_tf_policy.RandomTFPolicy(train_env.time_step_spec(),\n",
    "                                                train_env.action_spec())"
   ]
  },
  {
   "cell_type": "markdown",
   "metadata": {
    "colab_type": "text",
    "id": "dOlnlRRsUbxP"
   },
   "source": [
    "To get an action from a policy, call the `policy.action(time_step)` method. The `time_step` contains the observation from the environment. This method returns a `PolicyStep`, which is a named tuple with three components:\n",
    "\n",
    "-   `action` — the action to be taken (in this case, `0` or `1`)\n",
    "-   `state` — used for stateful (that is, RNN-based) policies\n",
    "-   `info` — auxiliary data, such as log probabilities of actions"
   ]
  },
  {
   "cell_type": "code",
   "execution_count": 19,
   "metadata": {
    "colab": {},
    "colab_type": "code",
    "execution": {
     "iopub.execute_input": "2020-12-08T12:12:00.130790Z",
     "iopub.status.busy": "2020-12-08T12:12:00.130119Z",
     "iopub.status.idle": "2020-12-08T12:12:00.133121Z",
     "shell.execute_reply": "2020-12-08T12:12:00.133527Z"
    },
    "id": "5gCcpXswVAxk"
   },
   "outputs": [],
   "source": [
    "example_environment = tf_py_environment.TFPyEnvironment(\n",
    "    suite_gym.load('CartPole-v0'))"
   ]
  },
  {
   "cell_type": "code",
   "execution_count": 20,
   "metadata": {
    "colab": {},
    "colab_type": "code",
    "execution": {
     "iopub.execute_input": "2020-12-08T12:12:00.137814Z",
     "iopub.status.busy": "2020-12-08T12:12:00.137144Z",
     "iopub.status.idle": "2020-12-08T12:12:00.139640Z",
     "shell.execute_reply": "2020-12-08T12:12:00.140057Z"
    },
    "id": "D4DHZtq3Ndis"
   },
   "outputs": [],
   "source": [
    "time_step = example_environment.reset()"
   ]
  },
  {
   "cell_type": "code",
   "execution_count": 21,
   "metadata": {
    "colab": {},
    "colab_type": "code",
    "execution": {
     "iopub.execute_input": "2020-12-08T12:12:00.143911Z",
     "iopub.status.busy": "2020-12-08T12:12:00.143243Z",
     "iopub.status.idle": "2020-12-08T12:12:00.149609Z",
     "shell.execute_reply": "2020-12-08T12:12:00.150050Z"
    },
    "id": "PRFqAUzpNaAW"
   },
   "outputs": [
    {
     "data": {
      "text/plain": [
       "PolicyStep(action=<tf.Tensor: shape=(1,), dtype=int64, numpy=array([0])>, state=(), info=())"
      ]
     },
     "execution_count": 1,
     "metadata": {},
     "output_type": "execute_result"
    }
   ],
   "source": [
    "random_policy.action(time_step)"
   ]
  },
  {
   "cell_type": "markdown",
   "metadata": {
    "colab_type": "text",
    "id": "94rCXQtbUbXv"
   },
   "source": [
    "## Metrics and Evaluation\n",
    "\n",
    "The most common metric used to evaluate a policy is the average return. The return is the sum of rewards obtained while running a policy in an environment for an episode. Several episodes are run, creating an average return.\n",
    "\n",
    "The following function computes the average return of a policy, given the policy, environment, and a number of episodes.\n"
   ]
  },
  {
   "cell_type": "code",
   "execution_count": 22,
   "metadata": {
    "colab": {},
    "colab_type": "code",
    "execution": {
     "iopub.execute_input": "2020-12-08T12:12:00.155981Z",
     "iopub.status.busy": "2020-12-08T12:12:00.155316Z",
     "iopub.status.idle": "2020-12-08T12:12:00.157349Z",
     "shell.execute_reply": "2020-12-08T12:12:00.156867Z"
    },
    "id": "bitzHo5_UbXy"
   },
   "outputs": [],
   "source": [
    "#@test {\"skip\": true}\n",
    "def compute_avg_return(environment, policy, num_episodes=10):\n",
    "\n",
    "  total_return = 0.0\n",
    "  for _ in range(num_episodes):\n",
    "\n",
    "    time_step = environment.reset()\n",
    "    episode_return = 0.0\n",
    "\n",
    "    while not time_step.is_last():\n",
    "      action_step = policy.action(time_step)\n",
    "      time_step = environment.step(action_step.action)\n",
    "      episode_return += time_step.reward\n",
    "    total_return += episode_return\n",
    "\n",
    "  avg_return = total_return / num_episodes\n",
    "  return avg_return.numpy()[0]\n",
    "\n",
    "\n",
    "# See also the metrics module for standard implementations of different metrics.\n",
    "# https://github.com/tensorflow/agents/tree/master/tf_agents/metrics"
   ]
  },
  {
   "cell_type": "markdown",
   "metadata": {
    "colab_type": "text",
    "id": "_snCVvq5Z8lJ"
   },
   "source": [
    "Running this computation on the `random_policy` shows a baseline performance in the environment."
   ]
  },
  {
   "cell_type": "code",
   "execution_count": 23,
   "metadata": {
    "colab": {},
    "colab_type": "code",
    "execution": {
     "iopub.execute_input": "2020-12-08T12:12:00.161474Z",
     "iopub.status.busy": "2020-12-08T12:12:00.160821Z",
     "iopub.status.idle": "2020-12-08T12:12:00.724278Z",
     "shell.execute_reply": "2020-12-08T12:12:00.724714Z"
    },
    "id": "9bgU6Q6BZ8Bp"
   },
   "outputs": [
    {
     "data": {
      "text/plain": [
       "25.1"
      ]
     },
     "execution_count": 1,
     "metadata": {},
     "output_type": "execute_result"
    }
   ],
   "source": [
    "compute_avg_return(eval_env, random_policy, num_eval_episodes)"
   ]
  },
  {
   "cell_type": "markdown",
   "metadata": {
    "colab_type": "text",
    "id": "NLva6g2jdWgr"
   },
   "source": [
    "## Replay Buffer\n",
    "\n",
    "The replay buffer keeps track of data collected from the environment. This tutorial uses `tf_agents.replay_buffers.tf_uniform_replay_buffer.TFUniformReplayBuffer`, as it is the most common. \n",
    "\n",
    "The constructor requires the specs for the data it will be collecting. This is available from the agent using the `collect_data_spec` method. The batch size and maximum buffer length are also required.\n"
   ]
  },
  {
   "cell_type": "code",
   "execution_count": 24,
   "metadata": {
    "colab": {},
    "colab_type": "code",
    "execution": {
     "iopub.execute_input": "2020-12-08T12:12:00.729811Z",
     "iopub.status.busy": "2020-12-08T12:12:00.729137Z",
     "iopub.status.idle": "2020-12-08T12:12:00.741704Z",
     "shell.execute_reply": "2020-12-08T12:12:00.741184Z"
    },
    "id": "vX2zGUWJGWAl"
   },
   "outputs": [],
   "source": [
    "replay_buffer = tf_uniform_replay_buffer.TFUniformReplayBuffer(\n",
    "    data_spec=agent.collect_data_spec,\n",
    "    batch_size=train_env.batch_size,\n",
    "    max_length=replay_buffer_max_length)"
   ]
  },
  {
   "cell_type": "markdown",
   "metadata": {
    "colab_type": "text",
    "id": "ZGNTDJpZs4NN"
   },
   "source": [
    "For most agents, `collect_data_spec` is a named tuple called `Trajectory`, containing the specs for observations, actions, rewards, and other items."
   ]
  },
  {
   "cell_type": "code",
   "execution_count": 25,
   "metadata": {
    "colab": {},
    "colab_type": "code",
    "execution": {
     "iopub.execute_input": "2020-12-08T12:12:00.746858Z",
     "iopub.status.busy": "2020-12-08T12:12:00.746147Z",
     "iopub.status.idle": "2020-12-08T12:12:00.748676Z",
     "shell.execute_reply": "2020-12-08T12:12:00.749075Z"
    },
    "id": "_IZ-3HcqgE1z"
   },
   "outputs": [
    {
     "data": {
      "text/plain": [
       "Trajectory(step_type=TensorSpec(shape=(), dtype=tf.int32, name='step_type'), observation=BoundedTensorSpec(shape=(4,), dtype=tf.float32, name='observation', minimum=array([-4.8000002e+00, -3.4028235e+38, -4.1887903e-01, -3.4028235e+38],\n",
       "      dtype=float32), maximum=array([4.8000002e+00, 3.4028235e+38, 4.1887903e-01, 3.4028235e+38],\n",
       "      dtype=float32)), action=BoundedTensorSpec(shape=(), dtype=tf.int64, name='action', minimum=array(0), maximum=array(1)), policy_info=(), next_step_type=TensorSpec(shape=(), dtype=tf.int32, name='step_type'), reward=TensorSpec(shape=(), dtype=tf.float32, name='reward'), discount=BoundedTensorSpec(shape=(), dtype=tf.float32, name='discount', minimum=array(0., dtype=float32), maximum=array(1., dtype=float32)))"
      ]
     },
     "execution_count": 1,
     "metadata": {},
     "output_type": "execute_result"
    }
   ],
   "source": [
    "agent.collect_data_spec"
   ]
  },
  {
   "cell_type": "code",
   "execution_count": 26,
   "metadata": {
    "colab": {},
    "colab_type": "code",
    "execution": {
     "iopub.execute_input": "2020-12-08T12:12:00.753443Z",
     "iopub.status.busy": "2020-12-08T12:12:00.752734Z",
     "iopub.status.idle": "2020-12-08T12:12:00.755166Z",
     "shell.execute_reply": "2020-12-08T12:12:00.755584Z"
    },
    "id": "sy6g1tGcfRlw"
   },
   "outputs": [
    {
     "data": {
      "text/plain": [
       "('step_type',\n",
       " 'observation',\n",
       " 'action',\n",
       " 'policy_info',\n",
       " 'next_step_type',\n",
       " 'reward',\n",
       " 'discount')"
      ]
     },
     "execution_count": 1,
     "metadata": {},
     "output_type": "execute_result"
    }
   ],
   "source": [
    "agent.collect_data_spec._fields"
   ]
  },
  {
   "cell_type": "markdown",
   "metadata": {
    "colab_type": "text",
    "id": "rVD5nQ9ZGo8_"
   },
   "source": [
    "## Data Collection\n",
    "\n",
    "Now execute the random policy in the environment for a few steps, recording the data in the replay buffer."
   ]
  },
  {
   "cell_type": "code",
   "execution_count": 27,
   "metadata": {
    "colab": {},
    "colab_type": "code",
    "execution": {
     "iopub.execute_input": "2020-12-08T12:12:00.762137Z",
     "iopub.status.busy": "2020-12-08T12:12:00.761473Z",
     "iopub.status.idle": "2020-12-08T12:12:01.155325Z",
     "shell.execute_reply": "2020-12-08T12:12:01.155769Z"
    },
    "id": "wr1KSAEGG4h9"
   },
   "outputs": [],
   "source": [
    "#@test {\"skip\": true}\n",
    "def collect_step(environment, policy, buffer):\n",
    "  time_step = environment.current_time_step()\n",
    "  action_step = policy.action(time_step)\n",
    "  next_time_step = environment.step(action_step.action)\n",
    "  traj = trajectory.from_transition(time_step, action_step, next_time_step)\n",
    "\n",
    "  # Add trajectory to the replay buffer\n",
    "  buffer.add_batch(traj)\n",
    "\n",
    "def collect_data(env, policy, buffer, steps):\n",
    "  for _ in range(steps):\n",
    "    collect_step(env, policy, buffer)\n",
    "\n",
    "collect_data(train_env, random_policy, replay_buffer, initial_collect_steps)\n",
    "\n",
    "# This loop is so common in RL, that we provide standard implementations. \n",
    "# For more details see the drivers module.\n",
    "# https://www.tensorflow.org/agents/api_docs/python/tf_agents/drivers"
   ]
  },
  {
   "cell_type": "markdown",
   "metadata": {
    "colab_type": "text",
    "id": "84z5pQJdoKxo"
   },
   "source": [
    "The replay buffer is now a collection of Trajectories."
   ]
  },
  {
   "cell_type": "code",
   "execution_count": 28,
   "metadata": {
    "colab": {},
    "colab_type": "code",
    "execution": {
     "iopub.execute_input": "2020-12-08T12:12:01.159954Z",
     "iopub.status.busy": "2020-12-08T12:12:01.159285Z",
     "iopub.status.idle": "2020-12-08T12:12:01.161607Z",
     "shell.execute_reply": "2020-12-08T12:12:01.161081Z"
    },
    "id": "4wZnLu2ViO4E"
   },
   "outputs": [],
   "source": [
    "# For the curious:\n",
    "# Uncomment to peel one of these off and inspect it.\n",
    "# iter(replay_buffer.as_dataset()).next()"
   ]
  },
  {
   "cell_type": "markdown",
   "metadata": {
    "colab_type": "text",
    "id": "TujU-PMUsKjS"
   },
   "source": [
    "The agent needs access to the replay buffer. This is provided by creating an iterable `tf.data.Dataset` pipeline which will feed data to the agent.\n",
    "\n",
    "Each row of the replay buffer only stores a single observation step. But since the DQN Agent needs both the current and next observation to compute the loss, the dataset pipeline will sample two adjacent rows for each item in the batch (`num_steps=2`).\n",
    "\n",
    "This dataset is also optimized by running parallel calls and prefetching data."
   ]
  },
  {
   "cell_type": "code",
   "execution_count": 29,
   "metadata": {
    "colab": {},
    "colab_type": "code",
    "execution": {
     "iopub.execute_input": "2020-12-08T12:12:01.166360Z",
     "iopub.status.busy": "2020-12-08T12:12:01.165691Z",
     "iopub.status.idle": "2020-12-08T12:12:01.926118Z",
     "shell.execute_reply": "2020-12-08T12:12:01.925553Z"
    },
    "id": "ba7bilizt_qW"
   },
   "outputs": [
    {
     "name": "stdout",
     "output_type": "stream",
     "text": [
      "WARNING:tensorflow:From /tmpfs/src/tf_docs_env/lib/python3.6/site-packages/tensorflow/python/autograph/operators/control_flow.py:1004: ReplayBuffer.get_next (from tf_agents.replay_buffers.replay_buffer) is deprecated and will be removed in a future version.\n",
      "Instructions for updating:\n",
      "Use `as_dataset(..., single_deterministic_pass=False) instead.\n"
     ]
    },
    {
     "name": "stderr",
     "output_type": "stream",
     "text": [
      "WARNING:tensorflow:From /tmpfs/src/tf_docs_env/lib/python3.6/site-packages/tensorflow/python/autograph/operators/control_flow.py:1004: ReplayBuffer.get_next (from tf_agents.replay_buffers.replay_buffer) is deprecated and will be removed in a future version.\n",
      "Instructions for updating:\n",
      "Use `as_dataset(..., single_deterministic_pass=False) instead.\n"
     ]
    },
    {
     "data": {
      "text/plain": [
       "<PrefetchDataset shapes: (Trajectory(step_type=(64, 2), observation=(64, 2, 4), action=(64, 2), policy_info=(), next_step_type=(64, 2), reward=(64, 2), discount=(64, 2)), BufferInfo(ids=(64, 2), probabilities=(64,))), types: (Trajectory(step_type=tf.int32, observation=tf.float32, action=tf.int64, policy_info=(), next_step_type=tf.int32, reward=tf.float32, discount=tf.float32), BufferInfo(ids=tf.int64, probabilities=tf.float32))>"
      ]
     },
     "execution_count": 1,
     "metadata": {},
     "output_type": "execute_result"
    }
   ],
   "source": [
    "# Dataset generates trajectories with shape [Bx2x...]\n",
    "dataset = replay_buffer.as_dataset(\n",
    "    num_parallel_calls=3, \n",
    "    sample_batch_size=batch_size, \n",
    "    num_steps=2).prefetch(3)\n",
    "\n",
    "\n",
    "dataset"
   ]
  },
  {
   "cell_type": "code",
   "execution_count": 30,
   "metadata": {
    "colab": {},
    "colab_type": "code",
    "execution": {
     "iopub.execute_input": "2020-12-08T12:12:01.930536Z",
     "iopub.status.busy": "2020-12-08T12:12:01.929837Z",
     "iopub.status.idle": "2020-12-08T12:12:01.981939Z",
     "shell.execute_reply": "2020-12-08T12:12:01.982389Z"
    },
    "id": "K13AST-2ppOq"
   },
   "outputs": [
    {
     "name": "stdout",
     "output_type": "stream",
     "text": [
      "<tensorflow.python.data.ops.iterator_ops.OwnedIterator object at 0x7fed8c057e10>\n"
     ]
    }
   ],
   "source": [
    "iterator = iter(dataset)\n",
    "\n",
    "print(iterator)\n"
   ]
  },
  {
   "cell_type": "code",
   "execution_count": 31,
   "metadata": {
    "colab": {},
    "colab_type": "code",
    "execution": {
     "iopub.execute_input": "2020-12-08T12:12:01.986257Z",
     "iopub.status.busy": "2020-12-08T12:12:01.985581Z",
     "iopub.status.idle": "2020-12-08T12:12:01.987654Z",
     "shell.execute_reply": "2020-12-08T12:12:01.988062Z"
    },
    "id": "Th5w5Sff0b16"
   },
   "outputs": [],
   "source": [
    "# For the curious:\n",
    "# Uncomment to see what the dataset iterator is feeding to the agent.\n",
    "# Compare this representation of replay data \n",
    "# to the collection of individual trajectories shown earlier.\n",
    "\n",
    "# iterator.next()"
   ]
  },
  {
   "cell_type": "markdown",
   "metadata": {
    "colab_type": "text",
    "id": "hBc9lj9VWWtZ"
   },
   "source": [
    "## Training the agent\n",
    "\n",
    "Two things must happen during the training loop:\n",
    "\n",
    "-   collect data from the environment\n",
    "-   use that data to train the agent's neural network(s)\n",
    "\n",
    "This example also periodicially evaluates the policy and prints the current score.\n",
    "\n",
    "The following will take ~5 minutes to run."
   ]
  },
  {
   "cell_type": "code",
   "execution_count": 32,
   "metadata": {
    "colab": {},
    "colab_type": "code",
    "execution": {
     "iopub.execute_input": "2020-12-08T12:12:01.998578Z",
     "iopub.status.busy": "2020-12-08T12:12:01.997840Z",
     "iopub.status.idle": "2020-12-08T12:17:53.037292Z",
     "shell.execute_reply": "2020-12-08T12:17:53.036666Z"
    },
    "id": "0pTbJ3PeyF-u"
   },
   "outputs": [
    {
     "name": "stdout",
     "output_type": "stream",
     "text": [
      "WARNING:tensorflow:From /tmpfs/src/tf_docs_env/lib/python3.6/site-packages/tensorflow/python/util/dispatch.py:201: calling foldr_v2 (from tensorflow.python.ops.functional_ops) with back_prop=False is deprecated and will be removed in a future version.\n",
      "Instructions for updating:\n",
      "back_prop=False is deprecated. Consider using tf.stop_gradient instead.\n",
      "Instead of:\n",
      "results = tf.foldr(fn, elems, back_prop=False)\n",
      "Use:\n",
      "results = tf.nest.map_structure(tf.stop_gradient, tf.foldr(fn, elems))\n"
     ]
    },
    {
     "name": "stderr",
     "output_type": "stream",
     "text": [
      "WARNING:tensorflow:From /tmpfs/src/tf_docs_env/lib/python3.6/site-packages/tensorflow/python/util/dispatch.py:201: calling foldr_v2 (from tensorflow.python.ops.functional_ops) with back_prop=False is deprecated and will be removed in a future version.\n",
      "Instructions for updating:\n",
      "back_prop=False is deprecated. Consider using tf.stop_gradient instead.\n",
      "Instead of:\n",
      "results = tf.foldr(fn, elems, back_prop=False)\n",
      "Use:\n",
      "results = tf.nest.map_structure(tf.stop_gradient, tf.foldr(fn, elems))\n"
     ]
    },
    {
     "name": "stdout",
     "output_type": "stream",
     "text": [
      "step = 200: loss = 12.740209579467773\n"
     ]
    },
    {
     "name": "stdout",
     "output_type": "stream",
     "text": [
      "step = 400: loss = 6.023502349853516\n"
     ]
    },
    {
     "name": "stdout",
     "output_type": "stream",
     "text": [
      "step = 600: loss = 8.857102394104004\n"
     ]
    },
    {
     "name": "stdout",
     "output_type": "stream",
     "text": [
      "step = 800: loss = 7.064720153808594\n"
     ]
    },
    {
     "name": "stdout",
     "output_type": "stream",
     "text": [
      "step = 1000: loss = 7.799585342407227\n"
     ]
    },
    {
     "name": "stdout",
     "output_type": "stream",
     "text": [
      "step = 1000: Average Return = 9.899999618530273\n"
     ]
    },
    {
     "name": "stdout",
     "output_type": "stream",
     "text": [
      "step = 1200: loss = 4.24262809753418\n"
     ]
    },
    {
     "name": "stdout",
     "output_type": "stream",
     "text": [
      "step = 1400: loss = 4.390349388122559\n"
     ]
    },
    {
     "name": "stdout",
     "output_type": "stream",
     "text": [
      "step = 1600: loss = 3.8499515056610107\n"
     ]
    },
    {
     "name": "stdout",
     "output_type": "stream",
     "text": [
      "step = 1800: loss = 2.2767233848571777\n"
     ]
    },
    {
     "name": "stdout",
     "output_type": "stream",
     "text": [
      "step = 2000: loss = 13.083806991577148\n"
     ]
    },
    {
     "name": "stdout",
     "output_type": "stream",
     "text": [
      "step = 2000: Average Return = 21.0\n"
     ]
    },
    {
     "name": "stdout",
     "output_type": "stream",
     "text": [
      "step = 2200: loss = 14.105249404907227\n"
     ]
    },
    {
     "name": "stdout",
     "output_type": "stream",
     "text": [
      "step = 2400: loss = 5.095558166503906\n"
     ]
    },
    {
     "name": "stdout",
     "output_type": "stream",
     "text": [
      "step = 2600: loss = 16.035165786743164\n"
     ]
    },
    {
     "name": "stdout",
     "output_type": "stream",
     "text": [
      "step = 2800: loss = 11.891722679138184\n"
     ]
    },
    {
     "name": "stdout",
     "output_type": "stream",
     "text": [
      "step = 3000: loss = 34.1342887878418\n"
     ]
    },
    {
     "name": "stdout",
     "output_type": "stream",
     "text": [
      "step = 3000: Average Return = 113.0\n"
     ]
    },
    {
     "name": "stdout",
     "output_type": "stream",
     "text": [
      "step = 3200: loss = 104.11125946044922\n"
     ]
    },
    {
     "name": "stdout",
     "output_type": "stream",
     "text": [
      "step = 3400: loss = 36.50628662109375\n"
     ]
    },
    {
     "name": "stdout",
     "output_type": "stream",
     "text": [
      "step = 3600: loss = 34.8977165222168\n"
     ]
    },
    {
     "name": "stdout",
     "output_type": "stream",
     "text": [
      "step = 3800: loss = 130.8267822265625\n"
     ]
    },
    {
     "name": "stdout",
     "output_type": "stream",
     "text": [
      "step = 4000: loss = 16.83959197998047\n"
     ]
    },
    {
     "name": "stdout",
     "output_type": "stream",
     "text": [
      "step = 4000: Average Return = 131.5\n"
     ]
    },
    {
     "name": "stdout",
     "output_type": "stream",
     "text": [
      "step = 4200: loss = 67.53214263916016\n"
     ]
    },
    {
     "name": "stdout",
     "output_type": "stream",
     "text": [
      "step = 4400: loss = 66.73505401611328\n"
     ]
    },
    {
     "name": "stdout",
     "output_type": "stream",
     "text": [
      "step = 4600: loss = 23.419063568115234\n"
     ]
    },
    {
     "name": "stdout",
     "output_type": "stream",
     "text": [
      "step = 4800: loss = 117.26969146728516\n"
     ]
    },
    {
     "name": "stdout",
     "output_type": "stream",
     "text": [
      "step = 5000: loss = 49.177188873291016\n"
     ]
    },
    {
     "name": "stdout",
     "output_type": "stream",
     "text": [
      "step = 5000: Average Return = 187.1999969482422\n"
     ]
    },
    {
     "name": "stdout",
     "output_type": "stream",
     "text": [
      "step = 5200: loss = 8.050540924072266\n"
     ]
    },
    {
     "name": "stdout",
     "output_type": "stream",
     "text": [
      "step = 5400: loss = 46.59545135498047\n"
     ]
    },
    {
     "name": "stdout",
     "output_type": "stream",
     "text": [
      "step = 5600: loss = 117.59381103515625\n"
     ]
    },
    {
     "name": "stdout",
     "output_type": "stream",
     "text": [
      "step = 5800: loss = 79.20152282714844\n"
     ]
    },
    {
     "name": "stdout",
     "output_type": "stream",
     "text": [
      "step = 6000: loss = 19.935176849365234\n"
     ]
    },
    {
     "name": "stdout",
     "output_type": "stream",
     "text": [
      "step = 6000: Average Return = 194.6999969482422\n"
     ]
    },
    {
     "name": "stdout",
     "output_type": "stream",
     "text": [
      "step = 6200: loss = 28.80262565612793\n"
     ]
    },
    {
     "name": "stdout",
     "output_type": "stream",
     "text": [
      "step = 6400: loss = 22.96026611328125\n"
     ]
    },
    {
     "name": "stdout",
     "output_type": "stream",
     "text": [
      "step = 6600: loss = 51.20020294189453\n"
     ]
    },
    {
     "name": "stdout",
     "output_type": "stream",
     "text": [
      "step = 6800: loss = 5.2152485847473145\n"
     ]
    },
    {
     "name": "stdout",
     "output_type": "stream",
     "text": [
      "step = 7000: loss = 5.926982402801514\n"
     ]
    },
    {
     "name": "stdout",
     "output_type": "stream",
     "text": [
      "step = 7000: Average Return = 200.0\n"
     ]
    },
    {
     "name": "stdout",
     "output_type": "stream",
     "text": [
      "step = 7200: loss = 350.4496765136719\n"
     ]
    },
    {
     "name": "stdout",
     "output_type": "stream",
     "text": [
      "step = 7400: loss = 225.63583374023438\n"
     ]
    },
    {
     "name": "stdout",
     "output_type": "stream",
     "text": [
      "step = 7600: loss = 209.00454711914062\n"
     ]
    },
    {
     "name": "stdout",
     "output_type": "stream",
     "text": [
      "step = 7800: loss = 26.996681213378906\n"
     ]
    },
    {
     "name": "stdout",
     "output_type": "stream",
     "text": [
      "step = 8000: loss = 12.33402156829834\n"
     ]
    },
    {
     "name": "stdout",
     "output_type": "stream",
     "text": [
      "step = 8000: Average Return = 200.0\n"
     ]
    },
    {
     "name": "stdout",
     "output_type": "stream",
     "text": [
      "step = 8200: loss = 100.18064880371094\n"
     ]
    },
    {
     "name": "stdout",
     "output_type": "stream",
     "text": [
      "step = 8400: loss = 26.99051284790039\n"
     ]
    },
    {
     "name": "stdout",
     "output_type": "stream",
     "text": [
      "step = 8600: loss = 57.99151611328125\n"
     ]
    },
    {
     "name": "stdout",
     "output_type": "stream",
     "text": [
      "step = 8800: loss = 90.1893310546875\n"
     ]
    },
    {
     "name": "stdout",
     "output_type": "stream",
     "text": [
      "step = 9000: loss = 29.396099090576172\n"
     ]
    },
    {
     "name": "stdout",
     "output_type": "stream",
     "text": [
      "step = 9000: Average Return = 200.0\n"
     ]
    },
    {
     "name": "stdout",
     "output_type": "stream",
     "text": [
      "step = 9200: loss = 133.2323455810547\n"
     ]
    },
    {
     "name": "stdout",
     "output_type": "stream",
     "text": [
      "step = 9400: loss = 29.80006980895996\n"
     ]
    },
    {
     "name": "stdout",
     "output_type": "stream",
     "text": [
      "step = 9600: loss = 192.352294921875\n"
     ]
    },
    {
     "name": "stdout",
     "output_type": "stream",
     "text": [
      "step = 9800: loss = 38.78871154785156\n"
     ]
    },
    {
     "name": "stdout",
     "output_type": "stream",
     "text": [
      "step = 10000: loss = 28.937305450439453\n"
     ]
    },
    {
     "name": "stdout",
     "output_type": "stream",
     "text": [
      "step = 10000: Average Return = 200.0\n"
     ]
    },
    {
     "name": "stdout",
     "output_type": "stream",
     "text": [
      "step = 10200: loss = 27.73229217529297\n"
     ]
    },
    {
     "name": "stdout",
     "output_type": "stream",
     "text": [
      "step = 10400: loss = 39.20124053955078\n"
     ]
    },
    {
     "name": "stdout",
     "output_type": "stream",
     "text": [
      "step = 10600: loss = 17.86766815185547\n"
     ]
    },
    {
     "name": "stdout",
     "output_type": "stream",
     "text": [
      "step = 10800: loss = 39.2965087890625\n"
     ]
    },
    {
     "name": "stdout",
     "output_type": "stream",
     "text": [
      "step = 11000: loss = 52.042076110839844\n"
     ]
    },
    {
     "name": "stdout",
     "output_type": "stream",
     "text": [
      "step = 11000: Average Return = 200.0\n"
     ]
    },
    {
     "name": "stdout",
     "output_type": "stream",
     "text": [
      "step = 11200: loss = 324.9502868652344\n"
     ]
    },
    {
     "name": "stdout",
     "output_type": "stream",
     "text": [
      "step = 11400: loss = 51.915191650390625\n"
     ]
    },
    {
     "name": "stdout",
     "output_type": "stream",
     "text": [
      "step = 11600: loss = 552.9033813476562\n"
     ]
    },
    {
     "name": "stdout",
     "output_type": "stream",
     "text": [
      "step = 11800: loss = 160.67335510253906\n"
     ]
    },
    {
     "name": "stdout",
     "output_type": "stream",
     "text": [
      "step = 12000: loss = 37.09770202636719\n"
     ]
    },
    {
     "name": "stdout",
     "output_type": "stream",
     "text": [
      "step = 12000: Average Return = 200.0\n"
     ]
    },
    {
     "name": "stdout",
     "output_type": "stream",
     "text": [
      "step = 12200: loss = 83.366455078125\n"
     ]
    },
    {
     "name": "stdout",
     "output_type": "stream",
     "text": [
      "step = 12400: loss = 462.18865966796875\n"
     ]
    },
    {
     "name": "stdout",
     "output_type": "stream",
     "text": [
      "step = 12600: loss = 1595.7418212890625\n"
     ]
    },
    {
     "name": "stdout",
     "output_type": "stream",
     "text": [
      "step = 12800: loss = 1385.9700927734375\n"
     ]
    },
    {
     "name": "stdout",
     "output_type": "stream",
     "text": [
      "step = 13000: loss = 55.25617218017578\n"
     ]
    },
    {
     "name": "stdout",
     "output_type": "stream",
     "text": [
      "step = 13000: Average Return = 200.0\n"
     ]
    },
    {
     "name": "stdout",
     "output_type": "stream",
     "text": [
      "step = 13200: loss = 145.45053100585938\n"
     ]
    },
    {
     "name": "stdout",
     "output_type": "stream",
     "text": [
      "step = 13400: loss = 1678.0843505859375\n"
     ]
    },
    {
     "name": "stdout",
     "output_type": "stream",
     "text": [
      "step = 13600: loss = 1248.145263671875\n"
     ]
    },
    {
     "name": "stdout",
     "output_type": "stream",
     "text": [
      "step = 13800: loss = 40.296974182128906\n"
     ]
    },
    {
     "name": "stdout",
     "output_type": "stream",
     "text": [
      "step = 14000: loss = 87.42550659179688\n"
     ]
    },
    {
     "name": "stdout",
     "output_type": "stream",
     "text": [
      "step = 14000: Average Return = 200.0\n"
     ]
    },
    {
     "name": "stdout",
     "output_type": "stream",
     "text": [
      "step = 14200: loss = 46.725059509277344\n"
     ]
    },
    {
     "name": "stdout",
     "output_type": "stream",
     "text": [
      "step = 14400: loss = 61.176658630371094\n"
     ]
    },
    {
     "name": "stdout",
     "output_type": "stream",
     "text": [
      "step = 14600: loss = 75.94939422607422\n"
     ]
    },
    {
     "name": "stdout",
     "output_type": "stream",
     "text": [
      "step = 14800: loss = 59.838829040527344\n"
     ]
    },
    {
     "name": "stdout",
     "output_type": "stream",
     "text": [
      "step = 15000: loss = 2284.972900390625\n"
     ]
    },
    {
     "name": "stdout",
     "output_type": "stream",
     "text": [
      "step = 15000: Average Return = 200.0\n"
     ]
    },
    {
     "name": "stdout",
     "output_type": "stream",
     "text": [
      "step = 15200: loss = 698.7940063476562\n"
     ]
    },
    {
     "name": "stdout",
     "output_type": "stream",
     "text": [
      "step = 15400: loss = 64.21238708496094\n"
     ]
    },
    {
     "name": "stdout",
     "output_type": "stream",
     "text": [
      "step = 15600: loss = 549.716064453125\n"
     ]
    },
    {
     "name": "stdout",
     "output_type": "stream",
     "text": [
      "step = 15800: loss = 127.29286193847656\n"
     ]
    },
    {
     "name": "stdout",
     "output_type": "stream",
     "text": [
      "step = 16000: loss = 3275.762451171875\n"
     ]
    },
    {
     "name": "stdout",
     "output_type": "stream",
     "text": [
      "step = 16000: Average Return = 200.0\n"
     ]
    },
    {
     "name": "stdout",
     "output_type": "stream",
     "text": [
      "step = 16200: loss = 309.8748779296875\n"
     ]
    },
    {
     "name": "stdout",
     "output_type": "stream",
     "text": [
      "step = 16400: loss = 69.89251708984375\n"
     ]
    },
    {
     "name": "stdout",
     "output_type": "stream",
     "text": [
      "step = 16600: loss = 1284.511962890625\n"
     ]
    },
    {
     "name": "stdout",
     "output_type": "stream",
     "text": [
      "step = 16800: loss = 112.87074279785156\n"
     ]
    },
    {
     "name": "stdout",
     "output_type": "stream",
     "text": [
      "step = 17000: loss = 2072.915283203125\n"
     ]
    },
    {
     "name": "stdout",
     "output_type": "stream",
     "text": [
      "step = 17000: Average Return = 200.0\n"
     ]
    },
    {
     "name": "stdout",
     "output_type": "stream",
     "text": [
      "step = 17200: loss = 76.09691619873047\n"
     ]
    },
    {
     "name": "stdout",
     "output_type": "stream",
     "text": [
      "step = 17400: loss = 26.54513931274414\n"
     ]
    },
    {
     "name": "stdout",
     "output_type": "stream",
     "text": [
      "step = 17600: loss = 117.52981567382812\n"
     ]
    },
    {
     "name": "stdout",
     "output_type": "stream",
     "text": [
      "step = 17800: loss = 104.38129425048828\n"
     ]
    },
    {
     "name": "stdout",
     "output_type": "stream",
     "text": [
      "step = 18000: loss = 157.23175048828125\n"
     ]
    },
    {
     "name": "stdout",
     "output_type": "stream",
     "text": [
      "step = 18000: Average Return = 200.0\n"
     ]
    },
    {
     "name": "stdout",
     "output_type": "stream",
     "text": [
      "step = 18200: loss = 50.736427307128906\n"
     ]
    },
    {
     "name": "stdout",
     "output_type": "stream",
     "text": [
      "step = 18400: loss = 81.80267333984375\n"
     ]
    },
    {
     "name": "stdout",
     "output_type": "stream",
     "text": [
      "step = 18600: loss = 51.522796630859375\n"
     ]
    },
    {
     "name": "stdout",
     "output_type": "stream",
     "text": [
      "step = 18800: loss = 1854.5341796875\n"
     ]
    },
    {
     "name": "stdout",
     "output_type": "stream",
     "text": [
      "step = 19000: loss = 84.30927276611328\n"
     ]
    },
    {
     "name": "stdout",
     "output_type": "stream",
     "text": [
      "step = 19000: Average Return = 200.0\n"
     ]
    },
    {
     "name": "stdout",
     "output_type": "stream",
     "text": [
      "step = 19200: loss = 162.57357788085938\n"
     ]
    },
    {
     "name": "stdout",
     "output_type": "stream",
     "text": [
      "step = 19400: loss = 363.4988708496094\n"
     ]
    },
    {
     "name": "stdout",
     "output_type": "stream",
     "text": [
      "step = 19600: loss = 91.84756469726562\n"
     ]
    },
    {
     "name": "stdout",
     "output_type": "stream",
     "text": [
      "step = 19800: loss = 3843.0625\n"
     ]
    },
    {
     "name": "stdout",
     "output_type": "stream",
     "text": [
      "step = 20000: loss = 3868.7080078125\n"
     ]
    },
    {
     "name": "stdout",
     "output_type": "stream",
     "text": [
      "step = 20000: Average Return = 200.0\n"
     ]
    }
   ],
   "source": [
    "#@test {\"skip\": true}\n",
    "try:\n",
    "  %%time\n",
    "except:\n",
    "  pass\n",
    "\n",
    "# (Optional) Optimize by wrapping some of the code in a graph using TF function.\n",
    "agent.train = common.function(agent.train)\n",
    "\n",
    "# Reset the train step\n",
    "agent.train_step_counter.assign(0)\n",
    "\n",
    "# Evaluate the agent's policy once before training.\n",
    "avg_return = compute_avg_return(eval_env, agent.policy, num_eval_episodes)\n",
    "returns = [avg_return]\n",
    "\n",
    "for _ in range(num_iterations):\n",
    "\n",
    "  # Collect a few steps using collect_policy and save to the replay buffer.\n",
    "  collect_data(train_env, agent.collect_policy, replay_buffer, collect_steps_per_iteration)\n",
    "\n",
    "  # Sample a batch of data from the buffer and update the agent's network.\n",
    "  experience, unused_info = next(iterator)\n",
    "  train_loss = agent.train(experience).loss\n",
    "\n",
    "  step = agent.train_step_counter.numpy()\n",
    "\n",
    "  if step % log_interval == 0:\n",
    "    print('step = {0}: loss = {1}'.format(step, train_loss))\n",
    "\n",
    "  if step % eval_interval == 0:\n",
    "    avg_return = compute_avg_return(eval_env, agent.policy, num_eval_episodes)\n",
    "    print('step = {0}: Average Return = {1}'.format(step, avg_return))\n",
    "    returns.append(avg_return)"
   ]
  },
  {
   "cell_type": "markdown",
   "metadata": {
    "colab_type": "text",
    "id": "68jNcA_TiJDq"
   },
   "source": [
    "## Visualization\n"
   ]
  },
  {
   "cell_type": "markdown",
   "metadata": {
    "colab_type": "text",
    "id": "aO-LWCdbbOIC"
   },
   "source": [
    "### Plots\n",
    "\n",
    "Use `matplotlib.pyplot` to chart how the policy improved during training.\n",
    "\n",
    "One iteration of `Cartpole-v0` consists of 200 time steps. The environment gives a reward of `+1` for each step the pole stays up, so the maximum return for one episode is 200. The charts shows the return increasing towards that maximum each time it is evaluated during training. (It may be a little unstable and not increase monotonically each time.)"
   ]
  },
  {
   "cell_type": "code",
   "execution_count": 33,
   "metadata": {
    "colab": {},
    "colab_type": "code",
    "execution": {
     "iopub.execute_input": "2020-12-08T12:17:53.057568Z",
     "iopub.status.busy": "2020-12-08T12:17:53.055616Z",
     "iopub.status.idle": "2020-12-08T12:17:53.170810Z",
     "shell.execute_reply": "2020-12-08T12:17:53.170231Z"
    },
    "id": "NxtL1mbOYCVO"
   },
   "outputs": [
    {
     "data": {
      "text/plain": [
       "(0.39499959945678675, 250.0)"
      ]
     },
     "execution_count": 1,
     "metadata": {},
     "output_type": "execute_result"
    },
    {
     "data": {
      "image/png": "[encoded data removed]",
      "text/plain": [
       "<Figure size 432x288 with 1 Axes>"
      ]
     },
     "metadata": {
      "needs_background": "light"
     },
     "output_type": "display_data"
    }
   ],
   "source": [
    "#@test {\"skip\": true}\n",
    "\n",
    "iterations = range(0, num_iterations + 1, eval_interval)\n",
    "plt.plot(iterations, returns)\n",
    "plt.ylabel('Average Return')\n",
    "plt.xlabel('Iterations')\n",
    "plt.ylim(top=250)"
   ]
  },
  {
   "cell_type": "markdown",
   "metadata": {
    "colab_type": "text",
    "id": "M7-XpPP99Cy7"
   },
   "source": [
    "### Videos"
   ]
  },
  {
   "cell_type": "markdown",
   "metadata": {
    "colab_type": "text",
    "id": "9pGfGxSH32gn"
   },
   "source": [
    "Charts are nice. But more exciting is seeing an agent actually performing a task in an environment. \n",
    "\n",
    "First, create a function to embed videos in the notebook."
   ]
  },
  {
   "cell_type": "code",
   "execution_count": 34,
   "metadata": {
    "colab": {},
    "colab_type": "code",
    "execution": {
     "iopub.execute_input": "2020-12-08T12:17:53.176578Z",
     "iopub.status.busy": "2020-12-08T12:17:53.175928Z",
     "iopub.status.idle": "2020-12-08T12:17:53.177670Z",
     "shell.execute_reply": "2020-12-08T12:17:53.178078Z"
    },
    "id": "ULaGr8pvOKbl"
   },
   "outputs": [],
   "source": [
    "def embed_mp4(filename):\n",
    "  \"\"\"Embeds an mp4 file in the notebook.\"\"\"\n",
    "  video = open(filename,'rb').read()\n",
    "  b64 = base64.b64encode(video)\n",
    "  tag = '''\n",
    "  <video width=\"640\" height=\"480\" controls>\n",
    "    <source src=\"data:video/mp4;base64,{0}\" type=\"video/mp4\">\n",
    "  Your browser does not support the video tag.\n",
    "  </video>'''.format(b64.decode())\n",
    "\n",
    "  return IPython.display.HTML(tag)"
   ]
  },
  {
   "cell_type": "markdown",
   "metadata": {
    "colab_type": "text",
    "id": "9c_PH-pX4Pr5"
   },
   "source": [
    "Now iterate through a few episodes of the Cartpole game with the agent. The underlying Python environment (the one \"inside\" the TensorFlow environment wrapper) provides a `render()` method, which outputs an image of the environment state. These can be collected into a video."
   ]
  },
  {
   "cell_type": "code",
   "execution_count": 35,
   "metadata": {
    "colab": {},
    "colab_type": "code",
    "execution": {
     "iopub.execute_input": "2020-12-08T12:17:53.184555Z",
     "iopub.status.busy": "2020-12-08T12:17:53.183896Z",
     "iopub.status.idle": "2020-12-08T12:18:05.939961Z",
     "shell.execute_reply": "2020-12-08T12:18:05.940393Z"
    },
    "id": "owOVWB158NlF"
   },
   "outputs": [
    {
     "name": "stderr",
     "output_type": "stream",
     "text": [
      "WARNING:root:IMAGEIO FFMPEG_WRITER WARNING: input image is not divisible by macro_block_size=16, resizing from (400, 600) to (400, 608) to ensure video compatibility with most codecs and players. To prevent resizing, make your input image divisible by the macro_block_size or set the macro_block_size to None (risking incompatibility). You may also see a FFMPEG warning concerning speedloss due to data not being aligned.\n"
     ]
    },
    {
     "data": {
      "text/html": [
       "\n",
       "  <video width=\"640\" height=\"480\" controls>\n",
       "    <source src=\"data:video/mp4;base64,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\" type=\"video/mp4\">\n",
       "  Your browser does not support the video tag.\n",
       "  </video>"
      ],
      "text/plain": [
       "<IPython.core.display.HTML object>"
      ]
     },
     "execution_count": 1,
     "metadata": {},
     "output_type": "execute_result"
    }
   ],
   "source": [
    "def create_policy_eval_video(policy, filename, num_episodes=5, fps=30):\n",
    "  filename = filename + \".mp4\"\n",
    "  with imageio.get_writer(filename, fps=fps) as video:\n",
    "    for _ in range(num_episodes):\n",
    "      time_step = eval_env.reset()\n",
    "      video.append_data(eval_py_env.render())\n",
    "      while not time_step.is_last():\n",
    "        action_step = policy.action(time_step)\n",
    "        time_step = eval_env.step(action_step.action)\n",
    "        video.append_data(eval_py_env.render())\n",
    "  return embed_mp4(filename)\n",
    "\n",
    "\n",
    "\n",
    "\n",
    "create_policy_eval_video(agent.policy, \"trained-agent\")"
   ]
  },
  {
   "cell_type": "markdown",
   "metadata": {
    "colab_type": "text",
    "id": "povaAOcZygLw"
   },
   "source": [
    "For fun, compare the trained agent (above) to an agent moving randomly. (It does not do as well.)"
   ]
  },
  {
   "cell_type": "code",
   "execution_count": 36,
   "metadata": {
    "colab": {},
    "colab_type": "code",
    "execution": {
     "iopub.execute_input": "2020-12-08T12:18:05.946019Z",
     "iopub.status.busy": "2020-12-08T12:18:05.945249Z",
     "iopub.status.idle": "2020-12-08T12:18:07.151955Z",
     "shell.execute_reply": "2020-12-08T12:18:07.152359Z"
    },
    "id": "pJZIdC37yNH4"
   },
   "outputs": [
    {
     "name": "stderr",
     "output_type": "stream",
     "text": [
      "WARNING:root:IMAGEIO FFMPEG_WRITER WARNING: input image is not divisible by macro_block_size=16, resizing from (400, 600) to (400, 608) to ensure video compatibility with most codecs and players. To prevent resizing, make your input image divisible by the macro_block_size or set the macro_block_size to None (risking incompatibility). You may also see a FFMPEG warning concerning speedloss due to data not being aligned.\n"
     ]
    },
    {
     "data": {
      "text/html": [
       "\n",
       "  <video width=\"640\" height=\"480\" controls>\n",
       "    <source src=\"data:video/mp4;base64,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\" type=\"video/mp4\">\n",
       "  Your browser does not support the video tag.\n",
       "  </video>"
      ],
      "text/plain": [
       "<IPython.core.display.HTML object>"
      ]
     },
     "execution_count": 1,
     "metadata": {},
     "output_type": "execute_result"
    }
   ],
   "source": [
    "create_policy_eval_video(random_policy, \"random-agent\")"
   ]
  }
 ],
 "metadata": {
  "colab": {
   "collapsed_sections": [],
   "name": "DQN Tutorial.ipynb",
   "private_outputs": true,
   "provenance": [],
   "toc_visible": true
  },
  "kernelspec": {
   "display_name": "Python 3",
   "language": "python",
   "name": "python3"
  },
  "language_info": {
   "codemirror_mode": {
    "name": "ipython",
    "version": 3
   },
   "file_extension": ".py",
   "mimetype": "text/x-python",
   "name": "python",
   "nbconvert_exporter": "python",
   "pygments_lexer": "ipython3",
   "version": "3.6.9"
  },
  "pycharm": {
   "stem_cell": {
    "cell_type": "raw",
    "metadata": {
     "collapsed": false
    },
    "source": []
   }
  }
 },
 "nbformat": 4,
 "nbformat_minor": 0
}
