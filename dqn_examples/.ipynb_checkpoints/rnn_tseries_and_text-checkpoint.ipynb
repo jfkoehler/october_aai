{
 "cells": [
  {
   "cell_type": "markdown",
   "metadata": {},
   "source": [
    "# RNN for Text and Time Series"
   ]
  },
  {
   "cell_type": "code",
   "execution_count": 1,
   "metadata": {},
   "outputs": [
    {
     "name": "stderr",
     "output_type": "stream",
     "text": [
      "Using TensorFlow backend.\n"
     ]
    }
   ],
   "source": [
    "from keras.preprocessing.text import Tokenizer"
   ]
  },
  {
   "cell_type": "code",
   "execution_count": 2,
   "metadata": {},
   "outputs": [],
   "source": [
    "sents = ['This is the first', 'this is the second']"
   ]
  },
  {
   "cell_type": "code",
   "execution_count": 3,
   "metadata": {},
   "outputs": [],
   "source": [
    "tokenizer = Tokenizer(num_words=1000)"
   ]
  },
  {
   "cell_type": "code",
   "execution_count": 4,
   "metadata": {},
   "outputs": [],
   "source": [
    "tokenizer.fit_on_texts(sents)"
   ]
  },
  {
   "cell_type": "code",
   "execution_count": 5,
   "metadata": {},
   "outputs": [],
   "source": [
    "sequences = tokenizer.texts_to_sequences(sents)"
   ]
  },
  {
   "cell_type": "code",
   "execution_count": 6,
   "metadata": {},
   "outputs": [
    {
     "data": {
      "text/plain": [
       "[[1, 2, 3, 4], [1, 2, 3, 5]]"
      ]
     },
     "execution_count": 6,
     "metadata": {},
     "output_type": "execute_result"
    }
   ],
   "source": [
    "sequences"
   ]
  },
  {
   "cell_type": "code",
   "execution_count": 7,
   "metadata": {},
   "outputs": [
    {
     "data": {
      "text/plain": [
       "['This is the first', 'this is the second']"
      ]
     },
     "execution_count": 7,
     "metadata": {},
     "output_type": "execute_result"
    }
   ],
   "source": [
    "sents"
   ]
  },
  {
   "cell_type": "code",
   "execution_count": 8,
   "metadata": {},
   "outputs": [],
   "source": [
    "one_hot = tokenizer.texts_to_matrix(sents)"
   ]
  },
  {
   "cell_type": "code",
   "execution_count": 9,
   "metadata": {},
   "outputs": [
    {
     "data": {
      "text/plain": [
       "array([[0., 1., 1., ..., 0., 0., 0.],\n",
       "       [0., 1., 1., ..., 0., 0., 0.]])"
      ]
     },
     "execution_count": 9,
     "metadata": {},
     "output_type": "execute_result"
    }
   ],
   "source": [
    "one_hot"
   ]
  },
  {
   "cell_type": "code",
   "execution_count": 10,
   "metadata": {},
   "outputs": [],
   "source": [
    "word_index = tokenizer.word_index"
   ]
  },
  {
   "cell_type": "code",
   "execution_count": 11,
   "metadata": {},
   "outputs": [
    {
     "name": "stdout",
     "output_type": "stream",
     "text": [
      "Found 5 tokens.\n"
     ]
    }
   ],
   "source": [
    "print(f'Found {len(word_index)} tokens.')"
   ]
  },
  {
   "cell_type": "markdown",
   "metadata": {},
   "source": [
    "## The embedding layer"
   ]
  },
  {
   "cell_type": "code",
   "execution_count": 12,
   "metadata": {},
   "outputs": [],
   "source": [
    "from keras.layers import Embedding"
   ]
  },
  {
   "cell_type": "code",
   "execution_count": 13,
   "metadata": {},
   "outputs": [],
   "source": [
    "#dimension is (num_tokens, and dimensionality)\n",
    "embedding_layer = Embedding(1000, 64)"
   ]
  },
  {
   "cell_type": "code",
   "execution_count": 14,
   "metadata": {},
   "outputs": [],
   "source": [
    "from sklearn.datasets import fetch_20newsgroups"
   ]
  },
  {
   "cell_type": "code",
   "execution_count": 15,
   "metadata": {},
   "outputs": [],
   "source": [
    "news = fetch_20newsgroups(categories = ['alt.atheism', 'rec.autos'])"
   ]
  },
  {
   "cell_type": "code",
   "execution_count": 16,
   "metadata": {},
   "outputs": [],
   "source": [
    "X = news.data\n",
    "y = news.target"
   ]
  },
  {
   "cell_type": "code",
   "execution_count": 17,
   "metadata": {},
   "outputs": [
    {
     "name": "stdout",
     "output_type": "stream",
     "text": [
      "From: rts@nwu.edu (Ted Schreiber)\n",
      "Subject: Opinions on recent Alfa Spiders\n",
      "Nntp-Posting-Host: mac178.mech.nwu.edu\n",
      "Organization: Mechanical Engineering\n",
      "Lines: 15\n",
      "\n",
      "Anyone have any opinions on fairly recent model Alfa Spiders ( 86-> ) \n",
      "\n",
      "Reliablilty for what their class ( I'm not talking Alfa vs. Toyota corrola\n",
      "which is more relaible ) \n",
      "\n",
      "As far as I can discern, in recent years, there are 3 levels with all\n",
      "basically the same mechanical aspects.\n",
      "\n",
      "Please email any responses \n",
      "\n",
      "\n",
      "Ted Schreiber\n",
      "Mechanical Enginering \n",
      "Northwestern University\n",
      "Tel: 708.491.5386 FAX 708.491.3915 Email: rts@nwu.edu\n",
      "\n"
     ]
    }
   ],
   "source": [
    "print(X[10])"
   ]
  },
  {
   "cell_type": "code",
   "execution_count": 18,
   "metadata": {},
   "outputs": [],
   "source": [
    "news_tokenizer = Tokenizer(num_words = 1000)"
   ]
  },
  {
   "cell_type": "code",
   "execution_count": 19,
   "metadata": {},
   "outputs": [],
   "source": [
    "news_tokenizer.fit_on_texts(X)"
   ]
  },
  {
   "cell_type": "code",
   "execution_count": 20,
   "metadata": {},
   "outputs": [],
   "source": [
    "X_vect = news_tokenizer.texts_to_matrix(X)"
   ]
  },
  {
   "cell_type": "code",
   "execution_count": 21,
   "metadata": {},
   "outputs": [],
   "source": [
    "from keras.models import Sequential\n",
    "from keras.layers import Flatten, Dense, Embedding"
   ]
  },
  {
   "cell_type": "code",
   "execution_count": 22,
   "metadata": {},
   "outputs": [],
   "source": [
    "model = Sequential()\n",
    "model.add(Embedding(1000, 8, input_length=1000))"
   ]
  },
  {
   "cell_type": "code",
   "execution_count": 23,
   "metadata": {},
   "outputs": [],
   "source": [
    "model.add(Flatten())\n",
    "model.add(Dense(1, activation = 'sigmoid'))\n",
    "model.compile(optimizer='rmsprop', loss = 'binary_crossentropy', metrics = ['acc'])"
   ]
  },
  {
   "cell_type": "code",
   "execution_count": 24,
   "metadata": {},
   "outputs": [
    {
     "name": "stdout",
     "output_type": "stream",
     "text": [
      "Model: \"sequential_1\"\n",
      "_________________________________________________________________\n",
      "Layer (type)                 Output Shape              Param #   \n",
      "=================================================================\n",
      "embedding_2 (Embedding)      (None, 1000, 8)           8000      \n",
      "_________________________________________________________________\n",
      "flatten_1 (Flatten)          (None, 8000)              0         \n",
      "_________________________________________________________________\n",
      "dense_1 (Dense)              (None, 1)                 8001      \n",
      "=================================================================\n",
      "Total params: 16,001\n",
      "Trainable params: 16,001\n",
      "Non-trainable params: 0\n",
      "_________________________________________________________________\n"
     ]
    }
   ],
   "source": [
    "model.summary()"
   ]
  },
  {
   "cell_type": "code",
   "execution_count": 25,
   "metadata": {},
   "outputs": [
    {
     "name": "stdout",
     "output_type": "stream",
     "text": [
      "Epoch 1/10\n",
      "  32/1074 [..............................] - ETA: 2s - loss: 0.6940 - acc: 0.5312"
     ]
    },
    {
     "name": "stderr",
     "output_type": "stream",
     "text": [
      "/Users/jacobkoehler/opt/anaconda3/lib/python3.7/site-packages/tensorflow_core/python/framework/indexed_slices.py:433: UserWarning: Converting sparse IndexedSlices to a dense Tensor of unknown shape. This may consume a large amount of memory.\n",
      "  \"Converting sparse IndexedSlices to a dense Tensor of unknown shape. \"\n"
     ]
    },
    {
     "name": "stdout",
     "output_type": "stream",
     "text": [
      "1074/1074 [==============================] - 0s 123us/step - loss: 0.6502 - acc: 0.6378\n",
      "Epoch 2/10\n",
      "1074/1074 [==============================] - 0s 30us/step - loss: 0.4887 - acc: 0.8510\n",
      "Epoch 3/10\n",
      "1074/1074 [==============================] - 0s 33us/step - loss: 0.3263 - acc: 0.9302\n",
      "Epoch 4/10\n",
      "1074/1074 [==============================] - 0s 29us/step - loss: 0.2166 - acc: 0.9637\n",
      "Epoch 5/10\n",
      "1074/1074 [==============================] - 0s 29us/step - loss: 0.1486 - acc: 0.9730\n",
      "Epoch 6/10\n",
      "1074/1074 [==============================] - 0s 30us/step - loss: 0.1119 - acc: 0.9749\n",
      "Epoch 7/10\n",
      "1074/1074 [==============================] - 0s 28us/step - loss: 0.0815 - acc: 0.9851\n",
      "Epoch 8/10\n",
      "1074/1074 [==============================] - 0s 30us/step - loss: 0.0650 - acc: 0.9898\n",
      "Epoch 9/10\n",
      "1074/1074 [==============================] - 0s 30us/step - loss: 0.0502 - acc: 0.9907\n",
      "Epoch 10/10\n",
      "1074/1074 [==============================] - 0s 33us/step - loss: 0.0439 - acc: 0.9888\n"
     ]
    }
   ],
   "source": [
    "history = model.fit(X_vect, y, epochs = 10, batch_size = 32)"
   ]
  },
  {
   "cell_type": "code",
   "execution_count": 26,
   "metadata": {},
   "outputs": [],
   "source": [
    "%matplotlib inline\n",
    "import matplotlib.pyplot as plt\n",
    "import numpy as np"
   ]
  },
  {
   "cell_type": "code",
   "execution_count": 27,
   "metadata": {},
   "outputs": [
    {
     "data": {
      "text/plain": [
       "[<matplotlib.lines.Line2D at 0x7fef08a1c110>]"
      ]
     },
     "execution_count": 27,
     "metadata": {},
     "output_type": "execute_result"
    },
    {
     "data": {
      "image/png": "[encoded data removed]",
      "text/plain": [
       "<Figure size 432x288 with 1 Axes>"
      ]
     },
     "metadata": {
      "needs_background": "light"
     },
     "output_type": "display_data"
    }
   ],
   "source": [
    "plt.plot(history.history['acc'])"
   ]
  },
  {
   "cell_type": "code",
   "execution_count": 28,
   "metadata": {},
   "outputs": [],
   "source": [
    "from sklearn.model_selection import train_test_split"
   ]
  },
  {
   "cell_type": "code",
   "execution_count": 29,
   "metadata": {},
   "outputs": [],
   "source": [
    "X_train, X_test, y_train, y_test = train_test_split(X_vect, y)"
   ]
  },
  {
   "cell_type": "code",
   "execution_count": 30,
   "metadata": {},
   "outputs": [
    {
     "name": "stdout",
     "output_type": "stream",
     "text": [
      "Train on 805 samples, validate on 269 samples\n",
      "Epoch 1/10\n",
      " 32/805 [>.............................] - ETA: 1s - loss: 0.6919 - acc: 0.5000"
     ]
    },
    {
     "name": "stderr",
     "output_type": "stream",
     "text": [
      "/Users/jacobkoehler/opt/anaconda3/lib/python3.7/site-packages/tensorflow_core/python/framework/indexed_slices.py:433: UserWarning: Converting sparse IndexedSlices to a dense Tensor of unknown shape. This may consume a large amount of memory.\n",
      "  \"Converting sparse IndexedSlices to a dense Tensor of unknown shape. \"\n"
     ]
    },
    {
     "name": "stdout",
     "output_type": "stream",
     "text": [
      "805/805 [==============================] - 0s 147us/step - loss: 0.6573 - acc: 0.6012 - val_loss: 0.6121 - val_acc: 0.6840\n",
      "Epoch 2/10\n",
      "805/805 [==============================] - 0s 41us/step - loss: 0.5435 - acc: 0.8447 - val_loss: 0.5065 - val_acc: 0.8439\n",
      "Epoch 3/10\n",
      "805/805 [==============================] - 0s 39us/step - loss: 0.4244 - acc: 0.9130 - val_loss: 0.3594 - val_acc: 0.8625\n",
      "Epoch 4/10\n",
      "805/805 [==============================] - 0s 44us/step - loss: 0.3187 - acc: 0.9354 - val_loss: 0.2694 - val_acc: 0.9145\n",
      "Epoch 5/10\n",
      "805/805 [==============================] - 0s 46us/step - loss: 0.2310 - acc: 0.9578 - val_loss: 0.2301 - val_acc: 0.9108\n",
      "Epoch 6/10\n",
      "805/805 [==============================] - 0s 49us/step - loss: 0.1795 - acc: 0.9652 - val_loss: 0.1793 - val_acc: 0.9814\n",
      "Epoch 7/10\n",
      "805/805 [==============================] - 0s 42us/step - loss: 0.1368 - acc: 0.9739 - val_loss: 0.1601 - val_acc: 0.9740\n",
      "Epoch 8/10\n",
      "805/805 [==============================] - 0s 46us/step - loss: 0.1059 - acc: 0.9839 - val_loss: 0.0917 - val_acc: 0.9777\n",
      "Epoch 9/10\n",
      "805/805 [==============================] - 0s 45us/step - loss: 0.0834 - acc: 0.9888 - val_loss: 0.0859 - val_acc: 0.9777\n",
      "Epoch 10/10\n",
      "805/805 [==============================] - 0s 39us/step - loss: 0.0654 - acc: 0.9925 - val_loss: 0.0768 - val_acc: 0.9888\n"
     ]
    },
    {
     "data": {
      "image/png": "[encoded data removed]",
      "text/plain": [
       "<Figure size 432x288 with 1 Axes>"
      ]
     },
     "metadata": {
      "needs_background": "light"
     },
     "output_type": "display_data"
    }
   ],
   "source": [
    "model = Sequential()\n",
    "model.add(Embedding(1000, 8, input_length=1000))\n",
    "model.add(Flatten())\n",
    "model.add(Dense(1, activation = 'sigmoid'))\n",
    "model.compile(optimizer='rmsprop', loss = 'binary_crossentropy', metrics = ['acc'])\n",
    "history = model.fit(X_train, y_train, epochs = 10, batch_size = 32, validation_data = (X_test, y_test))\n",
    "plt.plot(history.history['acc'], '--o', label = 'Train')\n",
    "plt.plot(history.history['val_acc'], '--o', label = 'Validation')\n",
    "plt.legend();"
   ]
  },
  {
   "cell_type": "markdown",
   "metadata": {},
   "source": [
    "### Trying the RNN"
   ]
  },
  {
   "cell_type": "code",
   "execution_count": 31,
   "metadata": {},
   "outputs": [],
   "source": [
    "from keras.layers import SimpleRNN"
   ]
  },
  {
   "cell_type": "code",
   "execution_count": 32,
   "metadata": {},
   "outputs": [],
   "source": [
    "model = Sequential()\n",
    "model.add(Embedding(10000, 32))\n",
    "model.add(SimpleRNN(32))"
   ]
  },
  {
   "cell_type": "code",
   "execution_count": 33,
   "metadata": {},
   "outputs": [],
   "source": [
    "from keras.preprocessing import sequence"
   ]
  },
  {
   "cell_type": "code",
   "execution_count": 46,
   "metadata": {},
   "outputs": [],
   "source": [
    "max_features = 1000\n",
    "maxlen = 1000\n",
    "batch_size = 32"
   ]
  },
  {
   "cell_type": "code",
   "execution_count": 47,
   "metadata": {},
   "outputs": [],
   "source": [
    "input_train = sequence.pad_sequences(X_train, maxlen = maxlen)\n",
    "input_test = sequence.pad_sequences(X_test, maxlen = maxlen)"
   ]
  },
  {
   "cell_type": "code",
   "execution_count": 48,
   "metadata": {},
   "outputs": [
    {
     "data": {
      "text/plain": [
       "array([[0., 1., 1., ..., 1., 0., 0.],\n",
       "       [0., 1., 1., ..., 0., 0., 0.],\n",
       "       [0., 1., 1., ..., 0., 0., 0.],\n",
       "       ...,\n",
       "       [0., 1., 1., ..., 0., 0., 0.],\n",
       "       [0., 1., 1., ..., 0., 0., 0.],\n",
       "       [0., 1., 1., ..., 0., 0., 0.]])"
      ]
     },
     "execution_count": 48,
     "metadata": {},
     "output_type": "execute_result"
    }
   ],
   "source": [
    "X_train"
   ]
  },
  {
   "cell_type": "code",
   "execution_count": 49,
   "metadata": {},
   "outputs": [
    {
     "data": {
      "text/plain": [
       "array([[0, 1, 1, ..., 1, 0, 0],\n",
       "       [0, 1, 1, ..., 0, 0, 0],\n",
       "       [0, 1, 1, ..., 0, 0, 0],\n",
       "       ...,\n",
       "       [0, 1, 1, ..., 0, 0, 0],\n",
       "       [0, 1, 1, ..., 0, 0, 0],\n",
       "       [0, 1, 1, ..., 0, 0, 0]], dtype=int32)"
      ]
     },
     "execution_count": 49,
     "metadata": {},
     "output_type": "execute_result"
    }
   ],
   "source": [
    "input_train"
   ]
  },
  {
   "cell_type": "code",
   "execution_count": 50,
   "metadata": {},
   "outputs": [
    {
     "data": {
      "text/plain": [
       "(805, 1000)"
      ]
     },
     "execution_count": 50,
     "metadata": {},
     "output_type": "execute_result"
    }
   ],
   "source": [
    "input_train.shape"
   ]
  },
  {
   "cell_type": "code",
   "execution_count": 51,
   "metadata": {},
   "outputs": [
    {
     "data": {
      "text/plain": [
       "(805, 1000)"
      ]
     },
     "execution_count": 51,
     "metadata": {},
     "output_type": "execute_result"
    }
   ],
   "source": [
    "X_train.shape"
   ]
  },
  {
   "cell_type": "code",
   "execution_count": null,
   "metadata": {},
   "outputs": [],
   "source": []
  },
  {
   "cell_type": "code",
   "execution_count": 52,
   "metadata": {},
   "outputs": [],
   "source": [
    "model = Sequential()\n",
    "model.add(Embedding(max_features, 32))\n",
    "model.add(SimpleRNN(32))\n",
    "model.add(Dense(1, activation = 'sigmoid'))"
   ]
  },
  {
   "cell_type": "code",
   "execution_count": 53,
   "metadata": {},
   "outputs": [],
   "source": [
    "model.compile(optimizer='rmsprop', loss = 'binary_crossentropy', metrics = ['acc'])"
   ]
  },
  {
   "cell_type": "code",
   "execution_count": 54,
   "metadata": {},
   "outputs": [
    {
     "name": "stderr",
     "output_type": "stream",
     "text": [
      "/Users/jacobkoehler/opt/anaconda3/lib/python3.7/site-packages/tensorflow_core/python/framework/indexed_slices.py:433: UserWarning: Converting sparse IndexedSlices to a dense Tensor of unknown shape. This may consume a large amount of memory.\n",
      "  \"Converting sparse IndexedSlices to a dense Tensor of unknown shape. \"\n"
     ]
    },
    {
     "name": "stdout",
     "output_type": "stream",
     "text": [
      "Train on 805 samples, validate on 269 samples\n",
      "Epoch 1/10\n",
      "805/805 [==============================] - 4s 5ms/step - loss: 0.6901 - acc: 0.5441 - val_loss: 0.7074 - val_acc: 0.4907\n",
      "Epoch 2/10\n",
      "805/805 [==============================] - 3s 4ms/step - loss: 0.6907 - acc: 0.5342 - val_loss: 0.6793 - val_acc: 0.6022\n",
      "Epoch 3/10\n",
      "805/805 [==============================] - 3s 4ms/step - loss: 0.6792 - acc: 0.5752 - val_loss: 0.6699 - val_acc: 0.5725\n",
      "Epoch 4/10\n",
      "805/805 [==============================] - 3s 4ms/step - loss: 0.6697 - acc: 0.5913 - val_loss: 0.6546 - val_acc: 0.5948\n",
      "Epoch 5/10\n",
      "805/805 [==============================] - 4s 4ms/step - loss: 0.6613 - acc: 0.6174 - val_loss: 0.6646 - val_acc: 0.5502\n",
      "Epoch 6/10\n",
      "805/805 [==============================] - 4s 4ms/step - loss: 0.6657 - acc: 0.5839 - val_loss: 0.6611 - val_acc: 0.5836\n",
      "Epoch 7/10\n",
      "805/805 [==============================] - 4s 4ms/step - loss: 0.6545 - acc: 0.6099 - val_loss: 0.6553 - val_acc: 0.6208\n",
      "Epoch 8/10\n",
      "805/805 [==============================] - 4s 4ms/step - loss: 0.7367 - acc: 0.4957 - val_loss: 0.7576 - val_acc: 0.4052\n",
      "Epoch 9/10\n",
      "805/805 [==============================] - 4s 4ms/step - loss: 0.6987 - acc: 0.5304 - val_loss: 0.7163 - val_acc: 0.4796\n",
      "Epoch 10/10\n",
      "805/805 [==============================] - 4s 4ms/step - loss: 0.6681 - acc: 0.5764 - val_loss: 0.6671 - val_acc: 0.5874\n"
     ]
    },
    {
     "data": {
      "image/png": "[encoded data removed]",
      "text/plain": [
       "<Figure size 432x288 with 1 Axes>"
      ]
     },
     "metadata": {
      "needs_background": "light"
     },
     "output_type": "display_data"
    }
   ],
   "source": [
    "history = model.fit(input_train, y_train, epochs = 10, batch_size = 32, validation_data = (input_test, y_test))\n",
    "plt.plot(history.history['acc'], '--o', label = 'Train')\n",
    "plt.plot(history.history['val_acc'], '--o', label = 'Validation')\n",
    "plt.legend();"
   ]
  },
  {
   "cell_type": "markdown",
   "metadata": {},
   "source": [
    "### Enter LSTM"
   ]
  },
  {
   "cell_type": "code",
   "execution_count": 55,
   "metadata": {},
   "outputs": [],
   "source": [
    "from keras.layers import LSTM"
   ]
  },
  {
   "cell_type": "code",
   "execution_count": 56,
   "metadata": {},
   "outputs": [
    {
     "name": "stderr",
     "output_type": "stream",
     "text": [
      "/Users/jacobkoehler/opt/anaconda3/lib/python3.7/site-packages/tensorflow_core/python/framework/indexed_slices.py:433: UserWarning: Converting sparse IndexedSlices to a dense Tensor of unknown shape. This may consume a large amount of memory.\n",
      "  \"Converting sparse IndexedSlices to a dense Tensor of unknown shape. \"\n"
     ]
    },
    {
     "name": "stdout",
     "output_type": "stream",
     "text": [
      "Train on 805 samples, validate on 269 samples\n",
      "Epoch 1/10\n",
      "805/805 [==============================] - 7s 8ms/step - loss: 0.6908 - acc: 0.5478 - val_loss: 0.6882 - val_acc: 0.5651\n",
      "Epoch 2/10\n",
      "805/805 [==============================] - 7s 8ms/step - loss: 0.6896 - acc: 0.5491 - val_loss: 0.6859 - val_acc: 0.5651\n",
      "Epoch 3/10\n",
      "805/805 [==============================] - 7s 8ms/step - loss: 0.6890 - acc: 0.5491 - val_loss: 0.6878 - val_acc: 0.5651\n",
      "Epoch 4/10\n",
      "805/805 [==============================] - 6s 8ms/step - loss: 0.6894 - acc: 0.5491 - val_loss: 0.6869 - val_acc: 0.5651\n",
      "Epoch 5/10\n",
      "805/805 [==============================] - 6s 8ms/step - loss: 0.6892 - acc: 0.5491 - val_loss: 0.6848 - val_acc: 0.5651\n",
      "Epoch 6/10\n",
      "805/805 [==============================] - 6s 8ms/step - loss: 0.6887 - acc: 0.5491 - val_loss: 0.6850 - val_acc: 0.5651\n",
      "Epoch 7/10\n",
      "805/805 [==============================] - 6s 8ms/step - loss: 0.6883 - acc: 0.5491 - val_loss: 0.6846 - val_acc: 0.5651\n",
      "Epoch 8/10\n",
      "805/805 [==============================] - 6s 8ms/step - loss: 0.6880 - acc: 0.5491 - val_loss: 0.6835 - val_acc: 0.5651\n",
      "Epoch 9/10\n",
      "805/805 [==============================] - 6s 8ms/step - loss: 0.6870 - acc: 0.5491 - val_loss: 0.6826 - val_acc: 0.5651\n",
      "Epoch 10/10\n",
      "805/805 [==============================] - 6s 8ms/step - loss: 0.6862 - acc: 0.5491 - val_loss: 0.6816 - val_acc: 0.5651\n"
     ]
    },
    {
     "data": {
      "image/png": "[encoded data removed]",
      "text/plain": [
       "<Figure size 432x288 with 1 Axes>"
      ]
     },
     "metadata": {
      "needs_background": "light"
     },
     "output_type": "display_data"
    }
   ],
   "source": [
    "model = Sequential()\n",
    "model.add(Embedding(max_features, 32))\n",
    "model.add(LSTM(32))\n",
    "model.add(Dense(1, activation = 'sigmoid'))\n",
    "model.compile(optimizer='rmsprop', loss = 'binary_crossentropy', metrics = ['acc'])\n",
    "history = model.fit(input_train, y_train, epochs = 10, batch_size = 32, validation_data = (input_test, y_test))\n",
    "plt.plot(history.history['acc'], '--o', label = 'Train')\n",
    "plt.plot(history.history['val_acc'], '--o', label = 'Validation')\n",
    "plt.legend();"
   ]
  },
  {
   "cell_type": "code",
   "execution_count": 57,
   "metadata": {},
   "outputs": [
    {
     "name": "stderr",
     "output_type": "stream",
     "text": [
      "/Users/jacobkoehler/opt/anaconda3/lib/python3.7/site-packages/tensorflow_core/python/framework/indexed_slices.py:433: UserWarning: Converting sparse IndexedSlices to a dense Tensor of unknown shape. This may consume a large amount of memory.\n",
      "  \"Converting sparse IndexedSlices to a dense Tensor of unknown shape. \"\n"
     ]
    },
    {
     "name": "stdout",
     "output_type": "stream",
     "text": [
      "Train on 805 samples, validate on 269 samples\n",
      "Epoch 1/10\n",
      "805/805 [==============================] - 28s 35ms/step - loss: 0.6924 - acc: 0.5441 - val_loss: 0.6860 - val_acc: 0.5651\n",
      "Epoch 2/10\n",
      "805/805 [==============================] - 27s 33ms/step - loss: 0.6890 - acc: 0.5491 - val_loss: 0.6885 - val_acc: 0.5651\n",
      "Epoch 3/10\n",
      "805/805 [==============================] - 27s 33ms/step - loss: 0.6905 - acc: 0.5491 - val_loss: 0.6874 - val_acc: 0.5651\n",
      "Epoch 4/10\n",
      "805/805 [==============================] - 26s 33ms/step - loss: 0.6900 - acc: 0.5491 - val_loss: 0.6855 - val_acc: 0.5651\n",
      "Epoch 5/10\n",
      "805/805 [==============================] - 27s 33ms/step - loss: 0.6894 - acc: 0.5491 - val_loss: 0.6867 - val_acc: 0.5651\n",
      "Epoch 6/10\n",
      "805/805 [==============================] - 27s 33ms/step - loss: 0.6898 - acc: 0.5491 - val_loss: 0.6868 - val_acc: 0.5651\n",
      "Epoch 7/10\n",
      "805/805 [==============================] - 27s 33ms/step - loss: 0.6886 - acc: 0.5491 - val_loss: 0.6883 - val_acc: 0.5651\n",
      "Epoch 8/10\n",
      "805/805 [==============================] - 27s 34ms/step - loss: 0.6898 - acc: 0.5491 - val_loss: 0.6864 - val_acc: 0.5651\n",
      "Epoch 9/10\n",
      "805/805 [==============================] - 27s 33ms/step - loss: 0.6893 - acc: 0.5491 - val_loss: 0.6865 - val_acc: 0.5651\n",
      "Epoch 10/10\n",
      "805/805 [==============================] - 26s 33ms/step - loss: 0.6892 - acc: 0.5491 - val_loss: 0.6869 - val_acc: 0.5651\n"
     ]
    },
    {
     "data": {
      "image/png": "[encoded data removed]",
      "text/plain": [
       "<Figure size 432x288 with 1 Axes>"
      ]
     },
     "metadata": {
      "needs_background": "light"
     },
     "output_type": "display_data"
    }
   ],
   "source": [
    "model = Sequential()\n",
    "model.add(Embedding(max_features, 32))\n",
    "model.add(LSTM(32, return_sequences=True))\n",
    "model.add(LSTM(32, return_sequences=True))\n",
    "model.add(LSTM(32, return_sequences=True))\n",
    "model.add(LSTM(32))\n",
    "model.add(Dense(1, activation = 'sigmoid'))\n",
    "model.compile(optimizer='rmsprop', loss = 'binary_crossentropy', metrics = ['acc'])\n",
    "history = model.fit(input_train, y_train, epochs = 10, batch_size = 32, validation_data = (input_test, y_test))\n",
    "plt.plot(history.history['acc'], '--o', label = 'Train')\n",
    "plt.plot(history.history['val_acc'], '--o', label = 'Validation')\n",
    "plt.legend();"
   ]
  },
  {
   "cell_type": "markdown",
   "metadata": {},
   "source": [
    "### RNN with Time Series"
   ]
  },
  {
   "cell_type": "code",
   "execution_count": 58,
   "metadata": {},
   "outputs": [],
   "source": [
    "import pandas_datareader as pdr"
   ]
  },
  {
   "cell_type": "code",
   "execution_count": 60,
   "metadata": {},
   "outputs": [],
   "source": [
    "aapl = pdr.get_data_yahoo('AAPL')"
   ]
  },
  {
   "cell_type": "code",
   "execution_count": 84,
   "metadata": {},
   "outputs": [
    {
     "data": {
      "text/html": [
       "<div>\n",
       "<style scoped>\n",
       "    .dataframe tbody tr th:only-of-type {\n",
       "        vertical-align: middle;\n",
       "    }\n",
       "\n",
       "    .dataframe tbody tr th {\n",
       "        vertical-align: top;\n",
       "    }\n",
       "\n",
       "    .dataframe thead th {\n",
       "        text-align: right;\n",
       "    }\n",
       "</style>\n",
       "<table border=\"1\" class=\"dataframe\">\n",
       "  <thead>\n",
       "    <tr style=\"text-align: right;\">\n",
       "      <th></th>\n",
       "      <th>High</th>\n",
       "      <th>Low</th>\n",
       "      <th>Open</th>\n",
       "      <th>Close</th>\n",
       "      <th>Volume</th>\n",
       "      <th>Adj Close</th>\n",
       "    </tr>\n",
       "    <tr>\n",
       "      <th>Date</th>\n",
       "      <th></th>\n",
       "      <th></th>\n",
       "      <th></th>\n",
       "      <th></th>\n",
       "      <th></th>\n",
       "      <th></th>\n",
       "    </tr>\n",
       "  </thead>\n",
       "  <tbody>\n",
       "    <tr>\n",
       "      <td>2020-07-01</td>\n",
       "      <td>367.359985</td>\n",
       "      <td>363.910004</td>\n",
       "      <td>365.119995</td>\n",
       "      <td>364.109985</td>\n",
       "      <td>27684300.0</td>\n",
       "      <td>364.109985</td>\n",
       "    </tr>\n",
       "    <tr>\n",
       "      <td>2020-07-02</td>\n",
       "      <td>370.470001</td>\n",
       "      <td>363.640015</td>\n",
       "      <td>367.850006</td>\n",
       "      <td>364.109985</td>\n",
       "      <td>28510400.0</td>\n",
       "      <td>364.109985</td>\n",
       "    </tr>\n",
       "    <tr>\n",
       "      <td>2020-07-06</td>\n",
       "      <td>375.779999</td>\n",
       "      <td>369.869995</td>\n",
       "      <td>370.000000</td>\n",
       "      <td>373.850006</td>\n",
       "      <td>29663900.0</td>\n",
       "      <td>373.850006</td>\n",
       "    </tr>\n",
       "    <tr>\n",
       "      <td>2020-07-07</td>\n",
       "      <td>378.619995</td>\n",
       "      <td>372.230011</td>\n",
       "      <td>375.410004</td>\n",
       "      <td>372.690002</td>\n",
       "      <td>28059900.0</td>\n",
       "      <td>372.690002</td>\n",
       "    </tr>\n",
       "    <tr>\n",
       "      <td>2020-07-08</td>\n",
       "      <td>381.470001</td>\n",
       "      <td>376.359985</td>\n",
       "      <td>376.720001</td>\n",
       "      <td>381.369995</td>\n",
       "      <td>28181122.0</td>\n",
       "      <td>381.369995</td>\n",
       "    </tr>\n",
       "  </tbody>\n",
       "</table>\n",
       "</div>"
      ],
      "text/plain": [
       "                  High         Low        Open       Close      Volume  \\\n",
       "Date                                                                     \n",
       "2020-07-01  367.359985  363.910004  365.119995  364.109985  27684300.0   \n",
       "2020-07-02  370.470001  363.640015  367.850006  364.109985  28510400.0   \n",
       "2020-07-06  375.779999  369.869995  370.000000  373.850006  29663900.0   \n",
       "2020-07-07  378.619995  372.230011  375.410004  372.690002  28059900.0   \n",
       "2020-07-08  381.470001  376.359985  376.720001  381.369995  28181122.0   \n",
       "\n",
       "             Adj Close  \n",
       "Date                    \n",
       "2020-07-01  364.109985  \n",
       "2020-07-02  364.109985  \n",
       "2020-07-06  373.850006  \n",
       "2020-07-07  372.690002  \n",
       "2020-07-08  381.369995  "
      ]
     },
     "execution_count": 84,
     "metadata": {},
     "output_type": "execute_result"
    }
   ],
   "source": [
    "aapl.tail()"
   ]
  },
  {
   "cell_type": "code",
   "execution_count": 125,
   "metadata": {},
   "outputs": [],
   "source": [
    "X_train = aapl.iloc[:-21][['Open']].values\n",
    "X_test = aapl.iloc[-21:][['Open']].values"
   ]
  },
  {
   "cell_type": "code",
   "execution_count": 126,
   "metadata": {},
   "outputs": [],
   "source": [
    "training_data = X_train"
   ]
  },
  {
   "cell_type": "code",
   "execution_count": 127,
   "metadata": {},
   "outputs": [
    {
     "data": {
      "text/plain": [
       "array([[121.94000244],\n",
       "       [125.02999878],\n",
       "       [126.04000092],\n",
       "       ...,\n",
       "       [324.39001465],\n",
       "       [323.3500061 ],\n",
       "       [330.25      ]])"
      ]
     },
     "execution_count": 127,
     "metadata": {},
     "output_type": "execute_result"
    }
   ],
   "source": [
    "training_data"
   ]
  },
  {
   "cell_type": "code",
   "execution_count": 128,
   "metadata": {},
   "outputs": [],
   "source": [
    "from sklearn.preprocessing import MinMaxScaler"
   ]
  },
  {
   "cell_type": "code",
   "execution_count": 129,
   "metadata": {},
   "outputs": [],
   "source": [
    "scaler = MinMaxScaler()\n",
    "train_data_scaled = scaler.fit_transform(training_data)"
   ]
  },
  {
   "cell_type": "code",
   "execution_count": 133,
   "metadata": {},
   "outputs": [],
   "source": [
    "X_train = []\n",
    "y_train = []\n",
    "for i in range(60, training_data.shape[0]):\n",
    "    X_train.append(train_data_scaled[i-60:i, 0])\n",
    "    y_train.append(train_data_scaled[i, 0])"
   ]
  },
  {
   "cell_type": "code",
   "execution_count": 134,
   "metadata": {},
   "outputs": [],
   "source": [
    "X_train, y_train = np.array(X_train), np.array(y_train)"
   ]
  },
  {
   "cell_type": "code",
   "execution_count": 135,
   "metadata": {},
   "outputs": [],
   "source": [
    "X_train = np.reshape(X_train,( X_train.shape[0], X_train.shape[1], 1))"
   ]
  },
  {
   "cell_type": "code",
   "execution_count": 136,
   "metadata": {},
   "outputs": [],
   "source": [
    "from keras.models import Sequential\n",
    "from keras.layers import Dense, LSTM, Dropout"
   ]
  },
  {
   "cell_type": "code",
   "execution_count": 159,
   "metadata": {},
   "outputs": [],
   "source": [
    "model = Sequential()\n",
    "model.add(LSTM(units = 50, return_sequences=True, input_shape = (X_train.shape[1], 1)))\n",
    "model.add(LSTM(units = 50, return_sequences=True))\n",
    "model.add(LSTM(units = 50, return_sequences = True))\n",
    "model.add(LSTM(units = 50))\n",
    "model.add(Dense(units = 1))"
   ]
  },
  {
   "cell_type": "code",
   "execution_count": 160,
   "metadata": {},
   "outputs": [],
   "source": [
    "model.compile(optimizer = 'adam', loss = 'mean_squared_error')"
   ]
  },
  {
   "cell_type": "code",
   "execution_count": 161,
   "metadata": {},
   "outputs": [],
   "source": [
    "history = model.fit(X_train, y_train, epochs = 50, verbose = 0, batch_size = 32)#, validation_data = (X_test, y_test))"
   ]
  },
  {
   "cell_type": "code",
   "execution_count": 162,
   "metadata": {},
   "outputs": [],
   "source": [
    "inputs = aapl[['Open']][len(aapl) - len(X_test) - 60:].values"
   ]
  },
  {
   "cell_type": "code",
   "execution_count": 163,
   "metadata": {},
   "outputs": [],
   "source": [
    "inputs = inputs.reshape(-1,1)"
   ]
  },
  {
   "cell_type": "code",
   "execution_count": 164,
   "metadata": {},
   "outputs": [],
   "source": [
    "inputs = scaler.transform(inputs)"
   ]
  },
  {
   "cell_type": "code",
   "execution_count": 165,
   "metadata": {},
   "outputs": [],
   "source": [
    "X_test = []\n",
    "for i in range(60, 81):\n",
    "    X_test.append(inputs[i-60:i, 0])"
   ]
  },
  {
   "cell_type": "code",
   "execution_count": 166,
   "metadata": {},
   "outputs": [],
   "source": [
    "X_test = np.array(X_test)"
   ]
  },
  {
   "cell_type": "code",
   "execution_count": 167,
   "metadata": {},
   "outputs": [],
   "source": [
    "X_test = np.reshape(X_test, (X_test.shape[0], X_test.shape[1], 1))"
   ]
  },
  {
   "cell_type": "code",
   "execution_count": 168,
   "metadata": {},
   "outputs": [],
   "source": [
    "predicted_stock_price = model.predict(X_test)"
   ]
  },
  {
   "cell_type": "code",
   "execution_count": 169,
   "metadata": {},
   "outputs": [],
   "source": [
    "predicted_stock_price = scaler.inverse_transform(predicted_stock_price)"
   ]
  },
  {
   "cell_type": "code",
   "execution_count": 173,
   "metadata": {},
   "outputs": [
    {
     "data": {
      "image/png": "[encoded data removed]",
      "text/plain": [
       "<Figure size 432x288 with 1 Axes>"
      ]
     },
     "metadata": {
      "needs_background": "light"
     },
     "output_type": "display_data"
    }
   ],
   "source": [
    "plt.plot(aapl.iloc[-21:]['Open'].values, '--', label = 'Real Price')\n",
    "plt.plot(predicted_stock_price, label = 'Predicted Price')\n",
    "plt.legend()\n",
    "plt.xlabel('Time in days')\n",
    "plt.ylabel('Price')\n",
    "plt.title('Predicting Stock Prices');"
   ]
  }
 ],
 "metadata": {
  "kernelspec": {
   "display_name": "Python 3",
   "language": "python",
   "name": "python3"
  },
  "language_info": {
   "codemirror_mode": {
    "name": "ipython",
    "version": 3
   },
   "file_extension": ".py",
   "mimetype": "text/x-python",
   "name": "python",
   "nbconvert_exporter": "python",
   "pygments_lexer": "ipython3",
   "version": "3.7.4"
  },
  "widgets": {
   "application/vnd.jupyter.widget-state+json": {
    "state": {},
    "version_major": 2,
    "version_minor": 0
   }
  }
 },
 "nbformat": 4,
 "nbformat_minor": 4
}
