{
 "cells": [
  {
   "cell_type": "markdown",
   "metadata": {},
   "source": [
    "### More Transfer Learning: SpaCy Transformers with Keras"
   ]
  },
  {
   "cell_type": "code",
   "execution_count": 1,
   "metadata": {},
   "outputs": [],
   "source": [
    "import spacy"
   ]
  },
  {
   "cell_type": "code",
   "execution_count": 2,
   "metadata": {},
   "outputs": [],
   "source": [
    "import numpy as np\n",
    "import pandas as pd\n",
    "\n",
    "import matplotlib.pyplot as plt\n",
    "\n",
    "from sklearn.pipeline import make_pipeline\n",
    "from sklearn.linear_model import LinearRegression\n",
    "from sklearn.model_selection import train_test_split\n",
    "\n",
    "import keras\n",
    "from keras.preprocessing.text import Tokenizer\n",
    "from keras.preprocessing.sequence import pad_sequences\n",
    "from keras.models import Sequential\n",
    "from keras.layers import Dense, Dropout\n",
    "from keras.callbacks import EarlyStopping\n",
    "\n",
    "from keras.wrappers.scikit_learn import KerasClassifier, KerasRegressor"
   ]
  },
  {
   "cell_type": "code",
   "execution_count": 25,
   "metadata": {},
   "outputs": [],
   "source": [
    "nlp = spacy.load('en_core_web_lg')"
   ]
  },
  {
   "cell_type": "code",
   "execution_count": 26,
   "metadata": {},
   "outputs": [],
   "source": [
    "sentence = 'My dog sleeps on the bed.'"
   ]
  },
  {
   "cell_type": "code",
   "execution_count": 27,
   "metadata": {},
   "outputs": [],
   "source": [
    "doc = nlp(sentence)"
   ]
  },
  {
   "cell_type": "code",
   "execution_count": 28,
   "metadata": {},
   "outputs": [
    {
     "name": "stdout",
     "output_type": "stream",
     "text": [
      "DET\n",
      "NOUN\n",
      "VERB\n",
      "ADP\n",
      "DET\n",
      "NOUN\n",
      "PUNCT\n"
     ]
    }
   ],
   "source": [
    "for token in doc:\n",
    "    print(token.pos_)"
   ]
  },
  {
   "cell_type": "markdown",
   "metadata": {},
   "source": [
    "### Pretrained Models\n",
    "\n",
    "![](https://1.bp.blogspot.com/-RLAbr6kPNUo/W9is5FwUXmI/AAAAAAAADeU/5y9466Zoyoc96vqLjbruLK8i_t8qEdHnQCLcBGAs/s640/image3.png)"
   ]
  },
  {
   "cell_type": "code",
   "execution_count": 29,
   "metadata": {},
   "outputs": [],
   "source": [
    "import spacy"
   ]
  },
  {
   "cell_type": "code",
   "execution_count": 30,
   "metadata": {},
   "outputs": [],
   "source": [
    "#!python -m spacy download en_trf_bertbaseuncased_lg "
   ]
  },
  {
   "cell_type": "code",
   "execution_count": 31,
   "metadata": {},
   "outputs": [],
   "source": [
    "nlp = spacy.load(\"en_trf_bertbaseuncased_lg\")"
   ]
  },
  {
   "cell_type": "code",
   "execution_count": 32,
   "metadata": {},
   "outputs": [
    {
     "name": "stdout",
     "output_type": "stream",
     "text": [
      "0.7342852\n",
      "0.433657\n"
     ]
    }
   ],
   "source": [
    "apple1 = nlp(\"Apple shares rose on the news.\")\n",
    "apple2 = nlp(\"Apple sold fewer iPhones this quarter.\")\n",
    "apple3 = nlp(\"Apple pie is delicious.\")\n",
    "print(apple1[0].similarity(apple2[0]))  # 0.73428553\n",
    "print(apple1[0].similarity(apple3[0]))  # 0.43365782"
   ]
  },
  {
   "cell_type": "code",
   "execution_count": 33,
   "metadata": {},
   "outputs": [],
   "source": [
    "doc1 = nlp('My dogs sleep on the bed.')\n",
    "doc2 = nlp('My dogs eat dinner in the garage.')\n",
    "doc3 = nlp('My dogs are ride or die.')"
   ]
  },
  {
   "cell_type": "code",
   "execution_count": 34,
   "metadata": {},
   "outputs": [
    {
     "name": "stdout",
     "output_type": "stream",
     "text": [
      "My   True\n",
      "dogs   False\n",
      "are   True\n",
      "ride   False\n",
      "or   True\n",
      "die   False\n",
      ".   False\n"
     ]
    }
   ],
   "source": [
    "for token in doc3:\n",
    "    print(token.text, token.pos_, token.tag_, token.is_stop)"
   ]
  },
  {
   "cell_type": "code",
   "execution_count": 35,
   "metadata": {},
   "outputs": [
    {
     "data": {
      "text/plain": [
       "0.8494800354230787"
      ]
     },
     "execution_count": 35,
     "metadata": {},
     "output_type": "execute_result"
    }
   ],
   "source": [
    "doc1.similarity(doc2)"
   ]
  },
  {
   "cell_type": "code",
   "execution_count": 36,
   "metadata": {},
   "outputs": [
    {
     "data": {
      "text/plain": [
       "0.6500362364856437"
      ]
     },
     "execution_count": 36,
     "metadata": {},
     "output_type": "execute_result"
    }
   ],
   "source": [
    "doc1.similarity(doc3)"
   ]
  },
  {
   "cell_type": "markdown",
   "metadata": {},
   "source": [
    "### Training a Model"
   ]
  },
  {
   "cell_type": "code",
   "execution_count": 37,
   "metadata": {},
   "outputs": [],
   "source": [
    "#load in the data\n",
    "pitch_df = pd.read_csv('pitch_sample.csv', index_col = 0)"
   ]
  },
  {
   "cell_type": "code",
   "execution_count": 38,
   "metadata": {},
   "outputs": [
    {
     "data": {
      "text/html": [
       "<div>\n",
       "<style scoped>\n",
       "    .dataframe tbody tr th:only-of-type {\n",
       "        vertical-align: middle;\n",
       "    }\n",
       "\n",
       "    .dataframe tbody tr th {\n",
       "        vertical-align: top;\n",
       "    }\n",
       "\n",
       "    .dataframe thead th {\n",
       "        text-align: right;\n",
       "    }\n",
       "</style>\n",
       "<table border=\"1\" class=\"dataframe\">\n",
       "  <thead>\n",
       "    <tr style=\"text-align: right;\">\n",
       "      <th></th>\n",
       "      <th>artists</th>\n",
       "      <th>album</th>\n",
       "      <th>text</th>\n",
       "      <th>score</th>\n",
       "      <th>genre</th>\n",
       "      <th>time</th>\n",
       "    </tr>\n",
       "  </thead>\n",
       "  <tbody>\n",
       "    <tr>\n",
       "      <th>6769</th>\n",
       "      <td>Oval</td>\n",
       "      <td>Calidostópia!</td>\n",
       "      <td>The result of a 10-day recording session in Sa...</td>\n",
       "      <td>6.8</td>\n",
       "      <td>Electronic</td>\n",
       "      <td>March 22 2013</td>\n",
       "    </tr>\n",
       "    <tr>\n",
       "      <th>18490</th>\n",
       "      <td>The Folk Implosion</td>\n",
       "      <td>The New Folk Implosion</td>\n",
       "      <td>Guys, could I have a minute to talk with Lou i...</td>\n",
       "      <td>4.6</td>\n",
       "      <td>Experimental</td>\n",
       "      <td>March 11 2003</td>\n",
       "    </tr>\n",
       "    <tr>\n",
       "      <th>8295</th>\n",
       "      <td>The Soft Moon</td>\n",
       "      <td>Total Decay EP</td>\n",
       "      <td>San Francisco's Luis Vasquez returns with anot...</td>\n",
       "      <td>7.8</td>\n",
       "      <td>Rock</td>\n",
       "      <td>October 31 2011</td>\n",
       "    </tr>\n",
       "    <tr>\n",
       "      <th>2885</th>\n",
       "      <td>Steve Aoki</td>\n",
       "      <td>4OKI</td>\n",
       "      <td>Steve Aoki’s latest EP,</td>\n",
       "      <td>2.5</td>\n",
       "      <td>Electronic</td>\n",
       "      <td>August 2 2016</td>\n",
       "    </tr>\n",
       "    <tr>\n",
       "      <th>6081</th>\n",
       "      <td>Pinkish Black</td>\n",
       "      <td>Razed to the Ground</td>\n",
       "      <td>Fort Worth duo Pinkish Black flip the idea of ...</td>\n",
       "      <td>7.2</td>\n",
       "      <td>Rock</td>\n",
       "      <td>October 1 2013</td>\n",
       "    </tr>\n",
       "  </tbody>\n",
       "</table>\n",
       "</div>"
      ],
      "text/plain": [
       "                  artists                   album  \\\n",
       "6769                 Oval           Calidostópia!   \n",
       "18490  The Folk Implosion  The New Folk Implosion   \n",
       "8295        The Soft Moon          Total Decay EP   \n",
       "2885           Steve Aoki                    4OKI   \n",
       "6081        Pinkish Black     Razed to the Ground   \n",
       "\n",
       "                                                    text  score         genre  \\\n",
       "6769   The result of a 10-day recording session in Sa...    6.8    Electronic   \n",
       "18490  Guys, could I have a minute to talk with Lou i...    4.6  Experimental   \n",
       "8295   San Francisco's Luis Vasquez returns with anot...    7.8          Rock   \n",
       "2885                            Steve Aoki’s latest EP,     2.5    Electronic   \n",
       "6081   Fort Worth duo Pinkish Black flip the idea of ...    7.2          Rock   \n",
       "\n",
       "                  time  \n",
       "6769     March 22 2013  \n",
       "18490    March 11 2003  \n",
       "8295   October 31 2011  \n",
       "2885     August 2 2016  \n",
       "6081    October 1 2013  "
      ]
     },
     "execution_count": 38,
     "metadata": {},
     "output_type": "execute_result"
    }
   ],
   "source": [
    "#take a peek\n",
    "pitch_df.head()"
   ]
  },
  {
   "cell_type": "code",
   "execution_count": 50,
   "metadata": {},
   "outputs": [],
   "source": [
    "#parameters for tokenization\n",
    "max_len = 100\n",
    "training_samples = 200\n",
    "validation_samples = 1000\n",
    "max_words = 10_000\n",
    "\n",
    "#instantiate the tokenizer\n",
    "tokenizer = Tokenizer(num_words = max_words)\n",
    "\n",
    "#fit the tokenizer\n",
    "tokenizer.fit_on_texts(pitch_df['text'])\n",
    "\n",
    "#create the sequences\n",
    "sequences = tokenizer.texts_to_sequences(pitch_df['text'])\n",
    "\n",
    "#pad sequences\n",
    "data = pad_sequences(sequences, maxlen = max_len)"
   ]
  },
  {
   "cell_type": "code",
   "execution_count": 51,
   "metadata": {},
   "outputs": [
    {
     "data": {
      "text/plain": [
       "[[1, 620, 3, 4, 419, 324, 388, 977, 6, 3817, 978, 3818, 6, 2309, 162]]"
      ]
     },
     "execution_count": 51,
     "metadata": {},
     "output_type": "execute_result"
    }
   ],
   "source": [
    "sequences[:1]"
   ]
  },
  {
   "cell_type": "code",
   "execution_count": 52,
   "metadata": {},
   "outputs": [],
   "source": [
    "#y is score\n",
    "y = pitch_df['score']"
   ]
  },
  {
   "cell_type": "code",
   "execution_count": 57,
   "metadata": {},
   "outputs": [],
   "source": [
    "#create train/test sets\n",
    "x_train = data[:training_samples]\n",
    "x_test = data[training_samples: training_samples + validation_samples]\n",
    "\n",
    "y_train = y[:training_samples]\n",
    "y_test = y[training_samples: training_samples + validation_samples]\n",
    "\n",
    "#simple network model\n",
    "model = Sequential()\n",
    "model.add(Dense(64, activation = 'relu'))\n",
    "model.add(Dense(1))\n",
    "\n",
    "#compile\n",
    "model.compile(optimizer = 'adam', loss = 'mae', metrics = ['mse'])\n",
    "\n",
    "#fit\n",
    "history = model.fit(x_train, y_train, validation_data=(x_test, y_test),\n",
    "                   epochs = 50, verbose = 0)"
   ]
  },
  {
   "cell_type": "code",
   "execution_count": 58,
   "metadata": {},
   "outputs": [
    {
     "data": {
      "text/plain": [
       "[<matplotlib.lines.Line2D at 0x7ffd105e32e0>]"
      ]
     },
     "execution_count": 58,
     "metadata": {},
     "output_type": "execute_result"
    },
    {
     "data": {
      "image/png": "[encoded data removed]",
      "text/plain": [
       "<Figure size 432x288 with 1 Axes>"
      ]
     },
     "metadata": {
      "needs_background": "light"
     },
     "output_type": "display_data"
    }
   ],
   "source": [
    "#examine the loss\n",
    "plt.plot(history.history['loss'])\n",
    "plt.plot(history.history['val_loss'])"
   ]
  },
  {
   "cell_type": "code",
   "execution_count": 59,
   "metadata": {},
   "outputs": [
    {
     "data": {
      "text/plain": [
       "[<matplotlib.lines.Line2D at 0x7ffd10621700>]"
      ]
     },
     "execution_count": 59,
     "metadata": {},
     "output_type": "execute_result"
    },
    {
     "data": {
      "image/png": "[encoded data removed]",
      "text/plain": [
       "<Figure size 432x288 with 1 Axes>"
      ]
     },
     "metadata": {
      "needs_background": "light"
     },
     "output_type": "display_data"
    }
   ],
   "source": [
    "plt.plot(history.history['mse'])\n",
    "plt.plot(history.history['val_mse'])"
   ]
  },
  {
   "cell_type": "markdown",
   "metadata": {},
   "source": [
    "### Keras and BERT"
   ]
  },
  {
   "cell_type": "code",
   "execution_count": null,
   "metadata": {},
   "outputs": [],
   "source": [
    "#!pip install spacy-transformers"
   ]
  },
  {
   "cell_type": "code",
   "execution_count": 60,
   "metadata": {},
   "outputs": [],
   "source": [
    "from sklearn.base import TransformerMixin, BaseEstimator"
   ]
  },
  {
   "cell_type": "code",
   "execution_count": 69,
   "metadata": {},
   "outputs": [],
   "source": [
    "#a custom transformer class\n",
    "class WordVectorTransformer(TransformerMixin, BaseEstimator):\n",
    "    \n",
    "    def __init__(self, model = \"en_trf_bertbaseuncased_lg\"):\n",
    "        self.model = model\n",
    "        \n",
    "    def fit(self, X, y = None):\n",
    "        return self\n",
    "    \n",
    "    def transform(self, X):\n",
    "        nlp = spacy.load(self.model)\n",
    "        return np.concatenate([nlp(doc).vector.reshape(1,-1) for doc in X])\n",
    "        "
   ]
  },
  {
   "cell_type": "code",
   "execution_count": 70,
   "metadata": {},
   "outputs": [
    {
     "data": {
      "text/plain": [
       "My dogs sleep on the bed."
      ]
     },
     "execution_count": 70,
     "metadata": {},
     "output_type": "execute_result"
    }
   ],
   "source": [
    "doc1"
   ]
  },
  {
   "cell_type": "code",
   "execution_count": 71,
   "metadata": {},
   "outputs": [
    {
     "data": {
      "text/plain": [
       "(768,)"
      ]
     },
     "execution_count": 71,
     "metadata": {},
     "output_type": "execute_result"
    }
   ],
   "source": [
    "doc1.vector.shape"
   ]
  },
  {
   "cell_type": "code",
   "execution_count": 72,
   "metadata": {},
   "outputs": [],
   "source": [
    "#make a pipeline\n",
    "pipe1 = make_pipeline(WordVectorTransformer(), LinearRegression())"
   ]
  },
  {
   "cell_type": "code",
   "execution_count": 73,
   "metadata": {},
   "outputs": [],
   "source": [
    "#train/test split the sklearn way\n",
    "X = pitch_df['text']\n",
    "y = pitch_df['score']\n",
    "X_train, X_test, y_train, y_test = train_test_split(X, y, random_state = 22)"
   ]
  },
  {
   "cell_type": "code",
   "execution_count": 74,
   "metadata": {},
   "outputs": [
    {
     "data": {
      "text/plain": [
       "Pipeline(steps=[('wordvectortransformer', WordVectorTransformer()),\n",
       "                ('linearregression', LinearRegression())])"
      ]
     },
     "execution_count": 74,
     "metadata": {},
     "output_type": "execute_result"
    }
   ],
   "source": [
    "#fit it\n",
    "pipe1.fit(X_train, y_train)"
   ]
  },
  {
   "cell_type": "code",
   "execution_count": 75,
   "metadata": {},
   "outputs": [
    {
     "data": {
      "text/plain": [
       "0.5308780918768408"
      ]
     },
     "execution_count": 75,
     "metadata": {},
     "output_type": "execute_result"
    }
   ],
   "source": [
    "#score it\n",
    "pipe1.score(X_train, y_train)"
   ]
  },
  {
   "cell_type": "code",
   "execution_count": 76,
   "metadata": {},
   "outputs": [
    {
     "data": {
      "text/plain": [
       "0.5358126959959912"
      ]
     },
     "execution_count": 76,
     "metadata": {},
     "output_type": "execute_result"
    }
   ],
   "source": [
    "pipe1.score(X_test, y_test)"
   ]
  },
  {
   "cell_type": "markdown",
   "metadata": {},
   "source": [
    "### Trying other estimators"
   ]
  },
  {
   "cell_type": "code",
   "execution_count": 80,
   "metadata": {},
   "outputs": [],
   "source": [
    "from sklearn.ensemble import RandomForestRegressor"
   ]
  },
  {
   "cell_type": "code",
   "execution_count": 81,
   "metadata": {},
   "outputs": [],
   "source": [
    "#make a pipeline\n",
    "pipe2 = make_pipeline(WordVectorTransformer(), \n",
    "                      RandomForestRegressor(max_depth=5))"
   ]
  },
  {
   "cell_type": "code",
   "execution_count": 82,
   "metadata": {},
   "outputs": [
    {
     "data": {
      "text/plain": [
       "Pipeline(steps=[('wordvectortransformer', WordVectorTransformer()),\n",
       "                ('randomforestregressor', RandomForestRegressor(max_depth=5))])"
      ]
     },
     "execution_count": 82,
     "metadata": {},
     "output_type": "execute_result"
    }
   ],
   "source": [
    "#fit it\n",
    "pipe2.fit(X_train, y_train)"
   ]
  },
  {
   "cell_type": "code",
   "execution_count": 83,
   "metadata": {},
   "outputs": [
    {
     "data": {
      "text/plain": [
       "0.3051814399679872"
      ]
     },
     "execution_count": 83,
     "metadata": {},
     "output_type": "execute_result"
    }
   ],
   "source": [
    "#train score\n",
    "pipe2.score(X_train, y_train)"
   ]
  },
  {
   "cell_type": "code",
   "execution_count": 84,
   "metadata": {},
   "outputs": [
    {
     "data": {
      "text/plain": [
       "0.12452841940580517"
      ]
     },
     "execution_count": 84,
     "metadata": {},
     "output_type": "execute_result"
    }
   ],
   "source": [
    "#test score\n",
    "pipe2.score(X_test, y_test)"
   ]
  },
  {
   "cell_type": "markdown",
   "metadata": {},
   "source": [
    "### Keras and sklearn"
   ]
  },
  {
   "cell_type": "code",
   "execution_count": 100,
   "metadata": {},
   "outputs": [],
   "source": [
    "from keras.callbacks import CSVLogger"
   ]
  },
  {
   "cell_type": "code",
   "execution_count": 101,
   "metadata": {},
   "outputs": [],
   "source": [
    "hist_callback = CSVLogger('test.csv', append = True)"
   ]
  },
  {
   "cell_type": "code",
   "execution_count": 102,
   "metadata": {},
   "outputs": [],
   "source": [
    "#add a callback\n",
    "callback = EarlyStopping(monitor = 'loss', patience = 5)\n",
    "hist_callback = CSVLogger('test.csv', append = True)\n",
    "\n",
    "#define a network\n",
    "def network_model():\n",
    "    model2 = Sequential()\n",
    "    model2.add(Dense(64, activation = 'relu'))\n",
    "    model2.add(Dense(64, activation = 'relu'))\n",
    "    model2.add(Dense(1))\n",
    "    model2.compile(optimizer = 'adam', loss = 'mae', metrics = ['mse'])\n",
    "    return model2\n",
    "\n",
    "#create the keras regressor\n",
    "reg = KerasRegressor(build_fn = network_model, \n",
    "                     nb_epoch = 100, callbacks = [callback, hist_callback])"
   ]
  },
  {
   "cell_type": "code",
   "execution_count": 103,
   "metadata": {},
   "outputs": [],
   "source": [
    "#make a pipeline\n",
    "pipe3 = make_pipeline(WordVectorTransformer(), reg)"
   ]
  },
  {
   "cell_type": "code",
   "execution_count": 104,
   "metadata": {},
   "outputs": [
    {
     "name": "stdout",
     "output_type": "stream",
     "text": [
      "47/47 [==============================] - 0s 645us/step - loss: 3.2744 - mse: 26.4148\n"
     ]
    },
    {
     "data": {
      "text/plain": [
       "Pipeline(steps=[('wordvectortransformer', WordVectorTransformer()),\n",
       "                ('kerasregressor',\n",
       "                 <tensorflow.python.keras.wrappers.scikit_learn.KerasRegressor object at 0x7ffe14b7c550>)])"
      ]
     },
     "execution_count": 104,
     "metadata": {},
     "output_type": "execute_result"
    }
   ],
   "source": [
    "#fit the pipeline\n",
    "pipe3.fit(X_train, y_train)"
   ]
  },
  {
   "cell_type": "code",
   "execution_count": 105,
   "metadata": {},
   "outputs": [
    {
     "name": "stdout",
     "output_type": "stream",
     "text": [
      "47/47 [==============================] - 0s 503us/step - loss: 2.4474 - mse: 12.2137\n"
     ]
    },
    {
     "data": {
      "text/plain": [
       "-2.4473798274993896"
      ]
     },
     "execution_count": 105,
     "metadata": {},
     "output_type": "execute_result"
    }
   ],
   "source": [
    "#score train\n",
    "pipe3.score(X_train, y_train)"
   ]
  },
  {
   "cell_type": "code",
   "execution_count": 106,
   "metadata": {},
   "outputs": [
    {
     "name": "stdout",
     "output_type": "stream",
     "text": [
      "16/16 [==============================] - 0s 687us/step - loss: 2.6870 - mse: 14.1647\n"
     ]
    },
    {
     "data": {
      "text/plain": [
       "-2.6870384216308594"
      ]
     },
     "execution_count": 106,
     "metadata": {},
     "output_type": "execute_result"
    }
   ],
   "source": [
    "#score the test\n",
    "pipe3.score(X_test, y_test)"
   ]
  },
  {
   "cell_type": "code",
   "execution_count": 98,
   "metadata": {},
   "outputs": [
    {
     "name": "stdout",
     "output_type": "stream",
     "text": [
      "47/47 [==============================] - 0s 638us/step - loss: 2.8062 - mse: 15.0275\n"
     ]
    }
   ],
   "source": [
    "history = pipe3.fit(X_train, y_train)"
   ]
  },
  {
   "cell_type": "code",
   "execution_count": 99,
   "metadata": {},
   "outputs": [
    {
     "data": {
      "text/plain": [
       "<tensorflow.python.keras.wrappers.scikit_learn.KerasRegressor at 0x7ffe625dba30>"
      ]
     },
     "execution_count": 99,
     "metadata": {},
     "output_type": "execute_result"
    }
   ],
   "source": [
    "history.named_steps['kerasregressor']"
   ]
  },
  {
   "cell_type": "code",
   "execution_count": 107,
   "metadata": {},
   "outputs": [],
   "source": [
    "wvect = WordVectorTransformer()"
   ]
  },
  {
   "cell_type": "code",
   "execution_count": 110,
   "metadata": {},
   "outputs": [],
   "source": [
    "X=wvect.transform(pitch_df['text'])"
   ]
  },
  {
   "cell_type": "code",
   "execution_count": 112,
   "metadata": {},
   "outputs": [],
   "source": [
    "y = pitch_df['score']"
   ]
  },
  {
   "cell_type": "code",
   "execution_count": 113,
   "metadata": {},
   "outputs": [],
   "source": [
    "lr = LinearRegression()"
   ]
  },
  {
   "cell_type": "code",
   "execution_count": 114,
   "metadata": {},
   "outputs": [
    {
     "data": {
      "text/plain": [
       "LinearRegression()"
      ]
     },
     "execution_count": 114,
     "metadata": {},
     "output_type": "execute_result"
    }
   ],
   "source": [
    "lr.fit(X, y)"
   ]
  },
  {
   "cell_type": "code",
   "execution_count": 115,
   "metadata": {},
   "outputs": [
    {
     "data": {
      "text/plain": [
       "0.5321645256235634"
      ]
     },
     "execution_count": 115,
     "metadata": {},
     "output_type": "execute_result"
    }
   ],
   "source": [
    "lr.score(X, y)"
   ]
  }
 ],
 "metadata": {
  "kernelspec": {
   "display_name": "Python 3",
   "language": "python",
   "name": "python3"
  },
  "language_info": {
   "codemirror_mode": {
    "name": "ipython",
    "version": 3
   },
   "file_extension": ".py",
   "mimetype": "text/x-python",
   "name": "python",
   "nbconvert_exporter": "python",
   "pygments_lexer": "ipython3",
   "version": "3.8.3"
  }
 },
 "nbformat": 4,
 "nbformat_minor": 4
}
