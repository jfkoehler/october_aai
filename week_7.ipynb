{
 "cells": [
  {
   "cell_type": "markdown",
   "metadata": {},
   "source": [
    "### Introduction to ANN's with Keras"
   ]
  },
  {
   "cell_type": "markdown",
   "metadata": {},
   "source": [
    "- Classification with ANN\n",
    "- Regression with ANN\n",
    "- Images with ANN's "
   ]
  },
  {
   "cell_type": "code",
   "execution_count": 1,
   "metadata": {},
   "outputs": [],
   "source": [
    "#!pip install tensorflow\n",
    "#!pip install keras"
   ]
  },
  {
   "cell_type": "code",
   "execution_count": 3,
   "metadata": {},
   "outputs": [],
   "source": [
    "import keras\n",
    "\n",
    "from sklearn.datasets import fetch_california_housing"
   ]
  },
  {
   "cell_type": "code",
   "execution_count": 4,
   "metadata": {},
   "outputs": [],
   "source": [
    "cali = fetch_california_housing()"
   ]
  },
  {
   "cell_type": "code",
   "execution_count": 5,
   "metadata": {},
   "outputs": [],
   "source": [
    "X, y = cali.data, cali.target"
   ]
  },
  {
   "cell_type": "code",
   "execution_count": 8,
   "metadata": {},
   "outputs": [
    {
     "data": {
      "text/html": [
       "<div>\n",
       "<style scoped>\n",
       "    .dataframe tbody tr th:only-of-type {\n",
       "        vertical-align: middle;\n",
       "    }\n",
       "\n",
       "    .dataframe tbody tr th {\n",
       "        vertical-align: top;\n",
       "    }\n",
       "\n",
       "    .dataframe thead th {\n",
       "        text-align: right;\n",
       "    }\n",
       "</style>\n",
       "<table border=\"1\" class=\"dataframe\">\n",
       "  <thead>\n",
       "    <tr style=\"text-align: right;\">\n",
       "      <th></th>\n",
       "      <th>MedInc</th>\n",
       "      <th>HouseAge</th>\n",
       "      <th>AveRooms</th>\n",
       "      <th>AveBedrms</th>\n",
       "      <th>Population</th>\n",
       "      <th>AveOccup</th>\n",
       "      <th>Latitude</th>\n",
       "      <th>Longitude</th>\n",
       "    </tr>\n",
       "  </thead>\n",
       "  <tbody>\n",
       "    <tr>\n",
       "      <th>0</th>\n",
       "      <td>8.3252</td>\n",
       "      <td>41.0</td>\n",
       "      <td>6.984127</td>\n",
       "      <td>1.023810</td>\n",
       "      <td>322.0</td>\n",
       "      <td>2.555556</td>\n",
       "      <td>37.88</td>\n",
       "      <td>-122.23</td>\n",
       "    </tr>\n",
       "    <tr>\n",
       "      <th>1</th>\n",
       "      <td>8.3014</td>\n",
       "      <td>21.0</td>\n",
       "      <td>6.238137</td>\n",
       "      <td>0.971880</td>\n",
       "      <td>2401.0</td>\n",
       "      <td>2.109842</td>\n",
       "      <td>37.86</td>\n",
       "      <td>-122.22</td>\n",
       "    </tr>\n",
       "    <tr>\n",
       "      <th>2</th>\n",
       "      <td>7.2574</td>\n",
       "      <td>52.0</td>\n",
       "      <td>8.288136</td>\n",
       "      <td>1.073446</td>\n",
       "      <td>496.0</td>\n",
       "      <td>2.802260</td>\n",
       "      <td>37.85</td>\n",
       "      <td>-122.24</td>\n",
       "    </tr>\n",
       "    <tr>\n",
       "      <th>3</th>\n",
       "      <td>5.6431</td>\n",
       "      <td>52.0</td>\n",
       "      <td>5.817352</td>\n",
       "      <td>1.073059</td>\n",
       "      <td>558.0</td>\n",
       "      <td>2.547945</td>\n",
       "      <td>37.85</td>\n",
       "      <td>-122.25</td>\n",
       "    </tr>\n",
       "    <tr>\n",
       "      <th>4</th>\n",
       "      <td>3.8462</td>\n",
       "      <td>52.0</td>\n",
       "      <td>6.281853</td>\n",
       "      <td>1.081081</td>\n",
       "      <td>565.0</td>\n",
       "      <td>2.181467</td>\n",
       "      <td>37.85</td>\n",
       "      <td>-122.25</td>\n",
       "    </tr>\n",
       "    <tr>\n",
       "      <th>...</th>\n",
       "      <td>...</td>\n",
       "      <td>...</td>\n",
       "      <td>...</td>\n",
       "      <td>...</td>\n",
       "      <td>...</td>\n",
       "      <td>...</td>\n",
       "      <td>...</td>\n",
       "      <td>...</td>\n",
       "    </tr>\n",
       "    <tr>\n",
       "      <th>20635</th>\n",
       "      <td>1.5603</td>\n",
       "      <td>25.0</td>\n",
       "      <td>5.045455</td>\n",
       "      <td>1.133333</td>\n",
       "      <td>845.0</td>\n",
       "      <td>2.560606</td>\n",
       "      <td>39.48</td>\n",
       "      <td>-121.09</td>\n",
       "    </tr>\n",
       "    <tr>\n",
       "      <th>20636</th>\n",
       "      <td>2.5568</td>\n",
       "      <td>18.0</td>\n",
       "      <td>6.114035</td>\n",
       "      <td>1.315789</td>\n",
       "      <td>356.0</td>\n",
       "      <td>3.122807</td>\n",
       "      <td>39.49</td>\n",
       "      <td>-121.21</td>\n",
       "    </tr>\n",
       "    <tr>\n",
       "      <th>20637</th>\n",
       "      <td>1.7000</td>\n",
       "      <td>17.0</td>\n",
       "      <td>5.205543</td>\n",
       "      <td>1.120092</td>\n",
       "      <td>1007.0</td>\n",
       "      <td>2.325635</td>\n",
       "      <td>39.43</td>\n",
       "      <td>-121.22</td>\n",
       "    </tr>\n",
       "    <tr>\n",
       "      <th>20638</th>\n",
       "      <td>1.8672</td>\n",
       "      <td>18.0</td>\n",
       "      <td>5.329513</td>\n",
       "      <td>1.171920</td>\n",
       "      <td>741.0</td>\n",
       "      <td>2.123209</td>\n",
       "      <td>39.43</td>\n",
       "      <td>-121.32</td>\n",
       "    </tr>\n",
       "    <tr>\n",
       "      <th>20639</th>\n",
       "      <td>2.3886</td>\n",
       "      <td>16.0</td>\n",
       "      <td>5.254717</td>\n",
       "      <td>1.162264</td>\n",
       "      <td>1387.0</td>\n",
       "      <td>2.616981</td>\n",
       "      <td>39.37</td>\n",
       "      <td>-121.24</td>\n",
       "    </tr>\n",
       "  </tbody>\n",
       "</table>\n",
       "<p>20640 rows × 8 columns</p>\n",
       "</div>"
      ],
      "text/plain": [
       "       MedInc  HouseAge  AveRooms  AveBedrms  Population  AveOccup  Latitude  \\\n",
       "0      8.3252      41.0  6.984127   1.023810       322.0  2.555556     37.88   \n",
       "1      8.3014      21.0  6.238137   0.971880      2401.0  2.109842     37.86   \n",
       "2      7.2574      52.0  8.288136   1.073446       496.0  2.802260     37.85   \n",
       "3      5.6431      52.0  5.817352   1.073059       558.0  2.547945     37.85   \n",
       "4      3.8462      52.0  6.281853   1.081081       565.0  2.181467     37.85   \n",
       "...       ...       ...       ...        ...         ...       ...       ...   \n",
       "20635  1.5603      25.0  5.045455   1.133333       845.0  2.560606     39.48   \n",
       "20636  2.5568      18.0  6.114035   1.315789       356.0  3.122807     39.49   \n",
       "20637  1.7000      17.0  5.205543   1.120092      1007.0  2.325635     39.43   \n",
       "20638  1.8672      18.0  5.329513   1.171920       741.0  2.123209     39.43   \n",
       "20639  2.3886      16.0  5.254717   1.162264      1387.0  2.616981     39.37   \n",
       "\n",
       "       Longitude  \n",
       "0        -122.23  \n",
       "1        -122.22  \n",
       "2        -122.24  \n",
       "3        -122.25  \n",
       "4        -122.25  \n",
       "...          ...  \n",
       "20635    -121.09  \n",
       "20636    -121.21  \n",
       "20637    -121.22  \n",
       "20638    -121.32  \n",
       "20639    -121.24  \n",
       "\n",
       "[20640 rows x 8 columns]"
      ]
     },
     "execution_count": 8,
     "metadata": {},
     "output_type": "execute_result"
    }
   ],
   "source": [
    "import pandas as pd\n",
    "pd.DataFrame(X, columns = cali.feature_names)"
   ]
  },
  {
   "cell_type": "code",
   "execution_count": 9,
   "metadata": {},
   "outputs": [],
   "source": [
    "from sklearn.model_selection import train_test_split\n",
    "from sklearn.preprocessing import MaxAbsScaler"
   ]
  },
  {
   "cell_type": "code",
   "execution_count": 10,
   "metadata": {},
   "outputs": [],
   "source": [
    "X_train, X_test, y_train, y_test = train_test_split(X, y)"
   ]
  },
  {
   "cell_type": "code",
   "execution_count": 11,
   "metadata": {},
   "outputs": [],
   "source": [
    "scaler = MaxAbsScaler()\n",
    "X_train = scaler.fit_transform(X_train)\n",
    "X_test = scaler.transform(X_test)"
   ]
  },
  {
   "cell_type": "code",
   "execution_count": 12,
   "metadata": {},
   "outputs": [],
   "source": [
    "from keras.models import Sequential\n",
    "from keras.layers import Dense"
   ]
  },
  {
   "cell_type": "code",
   "execution_count": 51,
   "metadata": {},
   "outputs": [
    {
     "name": "stdout",
     "output_type": "stream",
     "text": [
      "Epoch 1/10\n",
      "484/484 [==============================] - 0s 350us/step - loss: 1.4746 - mse: 3.6269\n",
      "Epoch 2/10\n",
      "484/484 [==============================] - 0s 340us/step - loss: 0.8403 - mse: 1.2594\n",
      "Epoch 3/10\n",
      "484/484 [==============================] - 0s 343us/step - loss: 0.8140 - mse: 1.1813\n",
      "Epoch 4/10\n",
      "484/484 [==============================] - 0s 338us/step - loss: 0.7843 - mse: 1.0977\n",
      "Epoch 5/10\n",
      "484/484 [==============================] - 0s 340us/step - loss: 0.7495 - mse: 1.0095\n",
      "Epoch 6/10\n",
      "484/484 [==============================] - 0s 338us/step - loss: 0.7098 - mse: 0.9102\n",
      "Epoch 7/10\n",
      "484/484 [==============================] - 0s 341us/step - loss: 0.6682 - mse: 0.8255\n",
      "Epoch 8/10\n",
      "484/484 [==============================] - 0s 341us/step - loss: 0.6311 - mse: 0.7570\n",
      "Epoch 9/10\n",
      "484/484 [==============================] - 0s 345us/step - loss: 0.6059 - mse: 0.7135\n",
      "Epoch 10/10\n",
      "484/484 [==============================] - 0s 347us/step - loss: 0.5923 - mse: 0.6908\n"
     ]
    }
   ],
   "source": [
    "network = Sequential()\n",
    "\n",
    "network.add(Dense(4, input_shape = (X_train.shape[1], ), activation = 'relu'))\n",
    "\n",
    "network.add(Dense(1, activation = 'linear'))\n",
    "\n",
    "network.compile(loss = 'mae', metrics = ['mse'])\n",
    "\n",
    "fit_model = network.fit(X_train, y_train, epochs = 10)"
   ]
  },
  {
   "cell_type": "code",
   "execution_count": 52,
   "metadata": {},
   "outputs": [
    {
     "data": {
      "text/plain": [
       "[3.626918077468872,\n",
       " 1.259364366531372,\n",
       " 1.1813380718231201,\n",
       " 1.0976829528808594,\n",
       " 1.0095250606536865,\n",
       " 0.9102182388305664,\n",
       " 0.825468122959137,\n",
       " 0.7570019364356995,\n",
       " 0.7134537696838379,\n",
       " 0.6907760500907898]"
      ]
     },
     "execution_count": 52,
     "metadata": {},
     "output_type": "execute_result"
    }
   ],
   "source": [
    "fit_model.history['mse']"
   ]
  },
  {
   "cell_type": "code",
   "execution_count": null,
   "metadata": {},
   "outputs": [],
   "source": []
  },
  {
   "cell_type": "code",
   "execution_count": null,
   "metadata": {},
   "outputs": [],
   "source": []
  },
  {
   "cell_type": "code",
   "execution_count": 27,
   "metadata": {},
   "outputs": [
    {
     "data": {
      "text/plain": [
       "1.3330045680329325"
      ]
     },
     "execution_count": 27,
     "metadata": {},
     "output_type": "execute_result"
    }
   ],
   "source": [
    "import numpy as np\n",
    "np.mean((y_train.mean() - y_train)**2)"
   ]
  },
  {
   "cell_type": "code",
   "execution_count": 48,
   "metadata": {},
   "outputs": [
    {
     "data": {
      "text/plain": [
       "[2.000802755355835,\n",
       " 1.3647958040237427,\n",
       " 1.0464818477630615,\n",
       " 0.9064704775810242,\n",
       " 0.8857607841491699,\n",
       " 0.8850842714309692,\n",
       " 0.8850488662719727,\n",
       " 0.8850493431091309,\n",
       " 0.8850384950637817,\n",
       " 0.8850326538085938]"
      ]
     },
     "execution_count": 48,
     "metadata": {},
     "output_type": "execute_result"
    }
   ],
   "source": [
    "history.history['loss']"
   ]
  },
  {
   "cell_type": "code",
   "execution_count": 49,
   "metadata": {},
   "outputs": [
    {
     "data": {
      "text/plain": [
       "[5.494384288787842,\n",
       " 3.1462996006011963,\n",
       " 2.1116373538970947,\n",
       " 1.5657374858856201,\n",
       " 1.4240151643753052,\n",
       " 1.4062037467956543,\n",
       " 1.4043371677398682,\n",
       " 1.4063849449157715,\n",
       " 1.4026589393615723,\n",
       " 1.4048198461532593]"
      ]
     },
     "execution_count": 49,
     "metadata": {},
     "output_type": "execute_result"
    }
   ],
   "source": [
    "history.history['mse']"
   ]
  },
  {
   "cell_type": "code",
   "execution_count": 50,
   "metadata": {},
   "outputs": [
    {
     "name": "stdout",
     "output_type": "stream",
     "text": [
      "Model: \"sequential_4\"\n",
      "_________________________________________________________________\n",
      "Layer (type)                 Output Shape              Param #   \n",
      "=================================================================\n",
      "dense_10 (Dense)             (None, 4)                 36        \n",
      "_________________________________________________________________\n",
      "dense_11 (Dense)             (None, 1)                 5         \n",
      "=================================================================\n",
      "Total params: 41\n",
      "Trainable params: 41\n",
      "Non-trainable params: 0\n",
      "_________________________________________________________________\n"
     ]
    }
   ],
   "source": [
    "network.summary()"
   ]
  },
  {
   "cell_type": "code",
   "execution_count": 53,
   "metadata": {},
   "outputs": [],
   "source": [
    "def modeler(X_train, y_train):\n",
    "    network = Sequential()\n",
    "    network.add(Dense(32, input_shape = (X_train.shape[1], ), activation = 'relu'))\n",
    "    network.add(Dense(64, activation = 'relu'))\n",
    "    network.add(Dense(1, activation = 'linear'))\n",
    "    network.compile(loss = 'mae', metrics = ['mse'])\n",
    "    fit_model = network.fit(X_train, y_train, epochs = 10)\n",
    "    return fit_model"
   ]
  },
  {
   "cell_type": "code",
   "execution_count": 55,
   "metadata": {},
   "outputs": [
    {
     "name": "stdout",
     "output_type": "stream",
     "text": [
      "Epoch 1/10\n",
      "484/484 [==============================] - 0s 364us/step - loss: 0.7128 - mse: 0.9661\n",
      "Epoch 2/10\n",
      "484/484 [==============================] - 0s 356us/step - loss: 0.5845 - mse: 0.6677\n",
      "Epoch 3/10\n",
      "484/484 [==============================] - 0s 357us/step - loss: 0.5778 - mse: 0.6573\n",
      "Epoch 4/10\n",
      "484/484 [==============================] - 0s 357us/step - loss: 0.5732 - mse: 0.6475\n",
      "Epoch 5/10\n",
      "484/484 [==============================] - 0s 360us/step - loss: 0.5710 - mse: 0.6430\n",
      "Epoch 6/10\n",
      "484/484 [==============================] - 0s 369us/step - loss: 0.5664 - mse: 0.6373\n",
      "Epoch 7/10\n",
      "484/484 [==============================] - 0s 358us/step - loss: 0.5626 - mse: 0.6314\n",
      "Epoch 8/10\n",
      "484/484 [==============================] - 0s 362us/step - loss: 0.5595 - mse: 0.6296\n",
      "Epoch 9/10\n",
      "484/484 [==============================] - 0s 360us/step - loss: 0.5563 - mse: 0.6263\n",
      "Epoch 10/10\n",
      "484/484 [==============================] - 0s 360us/step - loss: 0.5524 - mse: 0.6207\n"
     ]
    }
   ],
   "source": [
    "results = modeler(X_train, y_train)"
   ]
  },
  {
   "cell_type": "code",
   "execution_count": 60,
   "metadata": {},
   "outputs": [
    {
     "data": {
      "image/png": "[encoded data removed]",
      "text/plain": [
       "<Figure size 432x288 with 1 Axes>"
      ]
     },
     "metadata": {
      "needs_background": "light"
     },
     "output_type": "display_data"
    }
   ],
   "source": [
    "import matplotlib.pyplot as plt\n",
    "plt.plot(results.history['mse'], label = 'more complex')\n",
    "plt.plot(history.history['mse'], label = 'simple')\n",
    "plt.legend()\n",
    "plt.grid();"
   ]
  },
  {
   "cell_type": "code",
   "execution_count": 66,
   "metadata": {},
   "outputs": [],
   "source": [
    "def modeler(X_train, y_train, X_test, y_test):\n",
    "    network = Sequential()\n",
    "    network.add(Dense(32, input_shape = (X_train.shape[1], ), activation = 'relu'))\n",
    "    network.add(Dense(64, activation = 'relu'))\n",
    "    network.add(Dense(1, activation = 'linear'))\n",
    "    network.compile(loss = 'mae', metrics = ['mse'])\n",
    "    fit_model = network.fit(X_train, y_train, validation_data=(X_test, y_test), epochs = 100, verbose = 0)\n",
    "    return fit_model"
   ]
  },
  {
   "cell_type": "code",
   "execution_count": 67,
   "metadata": {},
   "outputs": [],
   "source": [
    "results = modeler(X_train, y_train, X_test, y_test)"
   ]
  },
  {
   "cell_type": "code",
   "execution_count": 68,
   "metadata": {},
   "outputs": [
    {
     "data": {
      "text/plain": [
       "<matplotlib.legend.Legend at 0x7fd9c81bac10>"
      ]
     },
     "execution_count": 68,
     "metadata": {},
     "output_type": "execute_result"
    },
    {
     "data": {
      "image/png": "[encoded data removed]",
      "text/plain": [
       "<Figure size 432x288 with 1 Axes>"
      ]
     },
     "metadata": {
      "needs_background": "light"
     },
     "output_type": "display_data"
    }
   ],
   "source": [
    "plt.plot(results.history['mse'], label = 'train')\n",
    "plt.plot(results.history['val_mse'], label = 'validation')\n",
    "plt.legend()"
   ]
  },
  {
   "cell_type": "code",
   "execution_count": 69,
   "metadata": {},
   "outputs": [],
   "source": [
    "from keras.wrappers.scikit_learn import KerasRegressor, KerasClassifier"
   ]
  },
  {
   "cell_type": "code",
   "execution_count": 70,
   "metadata": {},
   "outputs": [],
   "source": [
    "from sklearn.pipeline import make_pipeline\n",
    "from sklearn.preprocessing import PolynomialFeatures"
   ]
  },
  {
   "cell_type": "code",
   "execution_count": 84,
   "metadata": {},
   "outputs": [],
   "source": [
    "def modeler():\n",
    "    network = Sequential()\n",
    "    network.add(Dense(32, activation = 'relu'))\n",
    "    network.add(Dense(64, activation = 'relu'))\n",
    "    network.add(Dense(1, activation = 'linear'))\n",
    "    network.compile(loss = 'mae', metrics = ['mse'])\n",
    "    #fit_model = network.fit(X_train, y_train, validation_data=(X_test, y_test), epochs = 100, verbose = 0)\n",
    "    return network"
   ]
  },
  {
   "cell_type": "code",
   "execution_count": 90,
   "metadata": {},
   "outputs": [],
   "source": [
    "poly = PolynomialFeatures()\n",
    "scaler = MaxAbsScaler()\n",
    "reg = KerasRegressor(build_fn=modeler, epochs = 20)"
   ]
  },
  {
   "cell_type": "code",
   "execution_count": 91,
   "metadata": {},
   "outputs": [],
   "source": [
    "ann_pipe = make_pipeline(poly, scaler, reg)"
   ]
  },
  {
   "cell_type": "code",
   "execution_count": 92,
   "metadata": {},
   "outputs": [],
   "source": [
    "X, y = cali.data, cali.target"
   ]
  },
  {
   "cell_type": "code",
   "execution_count": 93,
   "metadata": {},
   "outputs": [],
   "source": [
    "X_train, X_test, y_train, y_test = train_test_split(X, y)"
   ]
  },
  {
   "cell_type": "code",
   "execution_count": 94,
   "metadata": {},
   "outputs": [
    {
     "name": "stdout",
     "output_type": "stream",
     "text": [
      "Epoch 1/20\n",
      "484/484 [==============================] - 0s 370us/step - loss: 0.6508 - mse: 0.8382\n",
      "Epoch 2/20\n",
      "484/484 [==============================] - 0s 363us/step - loss: 0.5654 - mse: 0.6306\n",
      "Epoch 3/20\n",
      "484/484 [==============================] - 0s 364us/step - loss: 0.5492 - mse: 0.6060\n",
      "Epoch 4/20\n",
      "484/484 [==============================] - 0s 365us/step - loss: 0.5375 - mse: 0.5893\n",
      "Epoch 5/20\n",
      "484/484 [==============================] - 0s 364us/step - loss: 0.5303 - mse: 0.5780\n",
      "Epoch 6/20\n",
      "484/484 [==============================] - 0s 366us/step - loss: 0.5243 - mse: 0.5687\n",
      "Epoch 7/20\n",
      "484/484 [==============================] - 0s 370us/step - loss: 0.5175 - mse: 0.5595\n",
      "Epoch 8/20\n",
      "484/484 [==============================] - 0s 370us/step - loss: 0.5143 - mse: 0.5534\n",
      "Epoch 9/20\n",
      "484/484 [==============================] - 0s 366us/step - loss: 0.5090 - mse: 0.5447\n",
      "Epoch 10/20\n",
      "484/484 [==============================] - 0s 368us/step - loss: 0.5039 - mse: 0.5339\n",
      "Epoch 11/20\n",
      "484/484 [==============================] - 0s 368us/step - loss: 0.5015 - mse: 0.5265\n",
      "Epoch 12/20\n",
      "484/484 [==============================] - 0s 364us/step - loss: 0.4964 - mse: 0.5123\n",
      "Epoch 13/20\n",
      "484/484 [==============================] - 0s 362us/step - loss: 0.4935 - mse: 0.5061\n",
      "Epoch 14/20\n",
      "484/484 [==============================] - 0s 369us/step - loss: 0.4900 - mse: 0.4990\n",
      "Epoch 15/20\n",
      "484/484 [==============================] - 0s 372us/step - loss: 0.4871 - mse: 0.4912\n",
      "Epoch 16/20\n",
      "484/484 [==============================] - 0s 381us/step - loss: 0.4845 - mse: 0.4838\n",
      "Epoch 17/20\n",
      "484/484 [==============================] - 0s 374us/step - loss: 0.4831 - mse: 0.4811\n",
      "Epoch 18/20\n",
      "484/484 [==============================] - 0s 382us/step - loss: 0.4807 - mse: 0.4753\n",
      "Epoch 19/20\n",
      "484/484 [==============================] - 0s 379us/step - loss: 0.4790 - mse: 0.4734\n",
      "Epoch 20/20\n",
      "484/484 [==============================] - 0s 377us/step - loss: 0.4783 - mse: 0.4738\n"
     ]
    },
    {
     "data": {
      "text/plain": [
       "Pipeline(steps=[('polynomialfeatures', PolynomialFeatures()),\n",
       "                ('maxabsscaler', MaxAbsScaler()),\n",
       "                ('kerasregressor',\n",
       "                 <tensorflow.python.keras.wrappers.scikit_learn.KerasRegressor object at 0x7fd9d84ddfd0>)])"
      ]
     },
     "execution_count": 94,
     "metadata": {},
     "output_type": "execute_result"
    }
   ],
   "source": [
    "ann_pipe.fit(X_train, y_train)"
   ]
  },
  {
   "cell_type": "code",
   "execution_count": 95,
   "metadata": {},
   "outputs": [],
   "source": [
    "preds = ann_pipe.predict(X_test)"
   ]
  },
  {
   "cell_type": "code",
   "execution_count": 96,
   "metadata": {},
   "outputs": [
    {
     "name": "stdout",
     "output_type": "stream",
     "text": [
      "162/162 [==============================] - 0s 305us/step - loss: 0.4823 - mse: 0.5112\n"
     ]
    },
    {
     "data": {
      "text/plain": [
       "-0.4822537302970886"
      ]
     },
     "execution_count": 96,
     "metadata": {},
     "output_type": "execute_result"
    }
   ],
   "source": [
    "ann_pipe.score(X_test, y_test)"
   ]
  },
  {
   "cell_type": "code",
   "execution_count": 97,
   "metadata": {},
   "outputs": [],
   "source": [
    "from sklearn.metrics import mean_squared_error"
   ]
  },
  {
   "cell_type": "code",
   "execution_count": 99,
   "metadata": {},
   "outputs": [
    {
     "data": {
      "text/plain": [
       "0.5111959890982332"
      ]
     },
     "execution_count": 99,
     "metadata": {},
     "output_type": "execute_result"
    }
   ],
   "source": [
    "mean_squared_error(y_test, preds)"
   ]
  },
  {
   "cell_type": "markdown",
   "metadata": {},
   "source": [
    "### Classification with Keras"
   ]
  },
  {
   "cell_type": "code",
   "execution_count": 100,
   "metadata": {},
   "outputs": [],
   "source": [
    "from sklearn.datasets import load_breast_cancer"
   ]
  },
  {
   "cell_type": "code",
   "execution_count": 101,
   "metadata": {},
   "outputs": [],
   "source": [
    "cancer = load_breast_cancer()"
   ]
  },
  {
   "cell_type": "code",
   "execution_count": 102,
   "metadata": {},
   "outputs": [],
   "source": [
    "X, y = cancer.data, cancer.target"
   ]
  },
  {
   "cell_type": "code",
   "execution_count": 103,
   "metadata": {},
   "outputs": [],
   "source": [
    "X_train, X_test, y_train, y_test = train_test_split(X, y)"
   ]
  },
  {
   "cell_type": "code",
   "execution_count": 117,
   "metadata": {},
   "outputs": [],
   "source": [
    "network2 = Sequential()\n",
    "network2.add(Dense(64, activation = 'relu'))\n",
    "network2.add(Dense(128, activation = 'relu'))\n",
    "network2.add(Dense(1, activation = 'sigmoid'))\n",
    "\n",
    "network2.compile(optimizer = 'adam', loss = 'binary_crossentropy', metrics = ['acc'])\n",
    "\n",
    "history = network2.fit(X_train, y_train, validation_data=(X_test, y_test), epochs = 100, verbose = 0)"
   ]
  },
  {
   "cell_type": "code",
   "execution_count": 118,
   "metadata": {},
   "outputs": [
    {
     "data": {
      "text/plain": [
       "[<matplotlib.lines.Line2D at 0x7fda297678b0>]"
      ]
     },
     "execution_count": 118,
     "metadata": {},
     "output_type": "execute_result"
    },
    {
     "data": {
      "image/png": "[encoded data removed]",
      "text/plain": [
       "<Figure size 432x288 with 1 Axes>"
      ]
     },
     "metadata": {
      "needs_background": "light"
     },
     "output_type": "display_data"
    }
   ],
   "source": [
    "plt.plot(history.history['acc'])\n",
    "plt.plot(history.history['val_acc'])"
   ]
  },
  {
   "cell_type": "code",
   "execution_count": 119,
   "metadata": {},
   "outputs": [],
   "source": [
    "from keras.callbacks import EarlyStopping"
   ]
  },
  {
   "cell_type": "code",
   "execution_count": 124,
   "metadata": {},
   "outputs": [],
   "source": [
    "callback = EarlyStopping(patience=10)"
   ]
  },
  {
   "cell_type": "code",
   "execution_count": 125,
   "metadata": {},
   "outputs": [
    {
     "data": {
      "text/plain": [
       "[<matplotlib.lines.Line2D at 0x7fd9fcbb5ee0>]"
      ]
     },
     "execution_count": 125,
     "metadata": {},
     "output_type": "execute_result"
    },
    {
     "data": {
      "image/png": "[encoded data removed]",
      "text/plain": [
       "<Figure size 432x288 with 1 Axes>"
      ]
     },
     "metadata": {
      "needs_background": "light"
     },
     "output_type": "display_data"
    }
   ],
   "source": [
    "network2 = Sequential()\n",
    "network2.add(Dense(64, activation = 'relu'))\n",
    "network2.add(Dense(128, activation = 'relu'))\n",
    "network2.add(Dense(1, activation = 'sigmoid'))\n",
    "\n",
    "network2.compile(optimizer = 'adam', loss = 'binary_crossentropy', metrics = ['acc'])\n",
    "\n",
    "history = network2.fit(X_train, y_train, \n",
    "                       validation_data=(X_test, y_test), \n",
    "                       epochs = 100, verbose = 0, \n",
    "                       callbacks = callback)\n",
    "\n",
    "plt.plot(history.history['acc'])\n",
    "plt.plot(history.history['val_acc'])"
   ]
  },
  {
   "cell_type": "code",
   "execution_count": 133,
   "metadata": {},
   "outputs": [],
   "source": [
    "def modeler_classification():\n",
    "    network2 = Sequential()\n",
    "    \n",
    "    network2.add(Dense(64, activation = 'relu'))\n",
    "    network2.add(Dense(128, activation = 'relu'))\n",
    "    network2.add(Dense(20, activation = 'relu'))\n",
    "    network2.add(Dense(60, activation = 'relu'))\n",
    "    \n",
    "    \n",
    "    network2.add(Dense(1, activation = 'sigmoid'))\n",
    "    \n",
    "    network2.compile(optimizer = 'adam', loss = 'binary_crossentropy', metrics = ['acc'])\n",
    "    return network2"
   ]
  },
  {
   "cell_type": "code",
   "execution_count": 134,
   "metadata": {},
   "outputs": [],
   "source": [
    "scaler = MaxAbsScaler()\n",
    "clf = KerasClassifier(modeler_classification, epochs = 20)"
   ]
  },
  {
   "cell_type": "code",
   "execution_count": 135,
   "metadata": {},
   "outputs": [],
   "source": [
    "class_pipe = make_pipeline(scaler, clf)"
   ]
  },
  {
   "cell_type": "code",
   "execution_count": 136,
   "metadata": {},
   "outputs": [
    {
     "name": "stdout",
     "output_type": "stream",
     "text": [
      "Epoch 1/20\n",
      "14/14 [==============================] - 0s 591us/step - loss: 0.6618 - acc: 0.7746\n",
      "Epoch 2/20\n",
      "14/14 [==============================] - 0s 572us/step - loss: 0.5851 - acc: 0.8404\n",
      "Epoch 3/20\n",
      "14/14 [==============================] - 0s 585us/step - loss: 0.4451 - acc: 0.8944\n",
      "Epoch 4/20\n",
      "14/14 [==============================] - 0s 586us/step - loss: 0.3028 - acc: 0.9085\n",
      "Epoch 5/20\n",
      "14/14 [==============================] - 0s 566us/step - loss: 0.2208 - acc: 0.9155\n",
      "Epoch 6/20\n",
      "14/14 [==============================] - 0s 554us/step - loss: 0.1829 - acc: 0.9249\n",
      "Epoch 7/20\n",
      "14/14 [==============================] - 0s 602us/step - loss: 0.1678 - acc: 0.9249\n",
      "Epoch 8/20\n",
      "14/14 [==============================] - 0s 574us/step - loss: 0.1606 - acc: 0.9225\n",
      "Epoch 9/20\n",
      "14/14 [==============================] - 0s 607us/step - loss: 0.1498 - acc: 0.9319\n",
      "Epoch 10/20\n",
      "14/14 [==============================] - 0s 571us/step - loss: 0.1258 - acc: 0.9437\n",
      "Epoch 11/20\n",
      "14/14 [==============================] - 0s 536us/step - loss: 0.1248 - acc: 0.9484\n",
      "Epoch 12/20\n",
      "14/14 [==============================] - 0s 552us/step - loss: 0.1158 - acc: 0.9484\n",
      "Epoch 13/20\n",
      "14/14 [==============================] - 0s 556us/step - loss: 0.1064 - acc: 0.9531\n",
      "Epoch 14/20\n",
      "14/14 [==============================] - 0s 602us/step - loss: 0.1032 - acc: 0.9577\n",
      "Epoch 15/20\n",
      "14/14 [==============================] - 0s 571us/step - loss: 0.0992 - acc: 0.9648\n",
      "Epoch 16/20\n",
      "14/14 [==============================] - 0s 557us/step - loss: 0.1001 - acc: 0.9554\n",
      "Epoch 17/20\n",
      "14/14 [==============================] - 0s 603us/step - loss: 0.0957 - acc: 0.9507\n",
      "Epoch 18/20\n",
      "14/14 [==============================] - 0s 562us/step - loss: 0.0915 - acc: 0.9671\n",
      "Epoch 19/20\n",
      "14/14 [==============================] - 0s 550us/step - loss: 0.0993 - acc: 0.9601\n",
      "Epoch 20/20\n",
      "14/14 [==============================] - 0s 526us/step - loss: 0.0870 - acc: 0.9648\n"
     ]
    },
    {
     "data": {
      "text/plain": [
       "Pipeline(steps=[('maxabsscaler', MaxAbsScaler()),\n",
       "                ('kerasclassifier',\n",
       "                 <tensorflow.python.keras.wrappers.scikit_learn.KerasClassifier object at 0x7fda1a5b5400>)])"
      ]
     },
     "execution_count": 136,
     "metadata": {},
     "output_type": "execute_result"
    }
   ],
   "source": [
    "class_pipe.fit(X_train, y_train)"
   ]
  },
  {
   "cell_type": "code",
   "execution_count": null,
   "metadata": {},
   "outputs": [],
   "source": []
  }
 ],
 "metadata": {
  "kernelspec": {
   "display_name": "Python 3",
   "language": "python",
   "name": "python3"
  },
  "language_info": {
   "codemirror_mode": {
    "name": "ipython",
    "version": 3
   },
   "file_extension": ".py",
   "mimetype": "text/x-python",
   "name": "python",
   "nbconvert_exporter": "python",
   "pygments_lexer": "ipython3",
   "version": "3.8.3"
  }
 },
 "nbformat": 4,
 "nbformat_minor": 4
}
