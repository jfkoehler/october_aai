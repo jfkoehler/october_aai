{
 "cells": [
  {
   "cell_type": "markdown",
   "metadata": {},
   "source": [
    "# Adversarial Games: Minimax and A*"
   ]
  },
  {
   "cell_type": "markdown",
   "metadata": {},
   "source": [
    "### Minimax Algorithm\n",
    "\n",
    "![](https://upload.wikimedia.org/wikipedia/commons/thumb/6/6f/Minimax.svg/800px-Minimax.svg.png)"
   ]
  },
  {
   "cell_type": "code",
   "execution_count": 2,
   "metadata": {},
   "outputs": [],
   "source": [
    "from copy import deepcopy"
   ]
  },
  {
   "cell_type": "code",
   "execution_count": 3,
   "metadata": {},
   "outputs": [],
   "source": [
    "#SQUARE SETTINGS\n",
    "X_SQUARE = 'X'\n",
    "O_SQUARE = 'O'\n",
    "BLANK = '_'"
   ]
  },
  {
   "cell_type": "code",
   "execution_count": 9,
   "metadata": {},
   "outputs": [],
   "source": [
    "#EVALUATIONS\n",
    "X_WINS = 'X WINS!'\n",
    "O_WINS = 'O WINS!'\n",
    "DRAW = 'DRAW!'"
   ]
  },
  {
   "cell_type": "code",
   "execution_count": 10,
   "metadata": {},
   "outputs": [],
   "source": [
    "board_1 = [['X', '_', '_'],\n",
    "          ['_', '_', '_'],\n",
    "          ['_', '_', '_']]"
   ]
  },
  {
   "cell_type": "code",
   "execution_count": 11,
   "metadata": {},
   "outputs": [
    {
     "data": {
      "text/plain": [
       "['X', '_', '_']"
      ]
     },
     "execution_count": 11,
     "metadata": {},
     "output_type": "execute_result"
    }
   ],
   "source": [
    "board_1[0]"
   ]
  },
  {
   "cell_type": "code",
   "execution_count": 12,
   "metadata": {},
   "outputs": [
    {
     "name": "stdout",
     "output_type": "stream",
     "text": [
      "1\n",
      "0\n",
      "0\n"
     ]
    }
   ],
   "source": [
    "for row in board_1:\n",
    "    print(row.count(X_SQUARE))"
   ]
  },
  {
   "cell_type": "code",
   "execution_count": 13,
   "metadata": {},
   "outputs": [],
   "source": [
    "#IS IT X'S TURN\n",
    "def is_X_turn(pos):\n",
    "    x_count = 0\n",
    "    for row in pos:\n",
    "        x_count += row.count(X_SQUARE)\n",
    "        x_count -= row.count(O_SQUARE)\n",
    "    return x_count == 0"
   ]
  },
  {
   "cell_type": "code",
   "execution_count": 14,
   "metadata": {},
   "outputs": [],
   "source": [
    "#IS BOARD FULL\n",
    "def is_full(pos):\n",
    "    for row in pos:\n",
    "        if BLANK in row:\n",
    "            return False\n",
    "    return True"
   ]
  },
  {
   "cell_type": "code",
   "execution_count": 15,
   "metadata": {},
   "outputs": [],
   "source": [
    "#GIVEN A POSITION RETURN EVERY POSITION RESULTING\n",
    "def get_branches(pos, X_turn):\n",
    "    symbol = X_SQUARE if X_turn else O_SQUARE\n",
    "    branches = []\n",
    "    for row in range(3):\n",
    "        for square in range(3):\n",
    "            if pos[row][square] == BLANK:\n",
    "                branches.append(deepcopy(pos))\n",
    "                branches[-1][row][square] = symbol\n",
    "    return branches"
   ]
  },
  {
   "cell_type": "code",
   "execution_count": 16,
   "metadata": {},
   "outputs": [],
   "source": [
    "board_1 = [['X', 'O', '_'],\n",
    "          ['_', '_', '_'],\n",
    "          ['_', 'X', '_']]\n",
    "\n",
    "X_turn = is_X_turn(board_1)"
   ]
  },
  {
   "cell_type": "code",
   "execution_count": 17,
   "metadata": {},
   "outputs": [
    {
     "data": {
      "text/plain": [
       "False"
      ]
     },
     "execution_count": 17,
     "metadata": {},
     "output_type": "execute_result"
    }
   ],
   "source": [
    "X_turn"
   ]
  },
  {
   "cell_type": "code",
   "execution_count": 18,
   "metadata": {},
   "outputs": [
    {
     "data": {
      "text/plain": [
       "[[['X', 'O', 'O'], ['_', '_', '_'], ['_', 'X', '_']],\n",
       " [['X', 'O', '_'], ['O', '_', '_'], ['_', 'X', '_']],\n",
       " [['X', 'O', '_'], ['_', 'O', '_'], ['_', 'X', '_']],\n",
       " [['X', 'O', '_'], ['_', '_', 'O'], ['_', 'X', '_']],\n",
       " [['X', 'O', '_'], ['_', '_', '_'], ['O', 'X', '_']],\n",
       " [['X', 'O', '_'], ['_', '_', '_'], ['_', 'X', 'O']]]"
      ]
     },
     "execution_count": 18,
     "metadata": {},
     "output_type": "execute_result"
    }
   ],
   "source": [
    "get_branches(board_1, X_turn)"
   ]
  },
  {
   "cell_type": "code",
   "execution_count": 19,
   "metadata": {},
   "outputs": [],
   "source": [
    "#CHECKING FOR WINNERS\n",
    "def get_static_eval(pos):\n",
    "    potential_wins = []\n",
    "    \n",
    "    #three in a row\n",
    "    for row in pos:\n",
    "        potential_wins.append(set(row))\n",
    "        \n",
    "    #three in column\n",
    "    for i in range(3):\n",
    "        potential_wins.append(set([pos[k][i] for  k in  range(3)]))\n",
    "    \n",
    "    #diagonal\n",
    "    potential_wins.append(set([pos[i][i] for i in range(3)]))\n",
    "    potential_wins.append(set([pos[i][2 - i] for i in range(3)]))\n",
    "    \n",
    "    #checking if any are same\n",
    "    for trio in potential_wins:\n",
    "        if trio == set([X_SQUARE]):\n",
    "            return X_WINS\n",
    "        elif trio == set([O_SQUARE]):\n",
    "            return O_WINS\n",
    "    return DRAW"
   ]
  },
  {
   "cell_type": "code",
   "execution_count": 20,
   "metadata": {},
   "outputs": [],
   "source": [
    "#returns dynamic evaluation at any valid position\n",
    "def solve(pos):\n",
    "    #RETURN STATIC_EVAL IF DECISIVE\n",
    "    static_eval = get_static_eval(pos)\n",
    "    if static_eval != DRAW:\n",
    "        return static_eval\n",
    "    \n",
    "    #IS BOARD FULL\n",
    "    if is_full(pos):\n",
    "        return DRAW\n",
    "    \n",
    "    #CHECK AND EVAL EACH PATH\n",
    "    X_turn = is_X_turn(pos)\n",
    "    branches = get_branches(pos, X_turn)\n",
    "    branch_evals = [solve(branch) for branch in branches]\n",
    "    \n",
    "    #RETURNING THE RESULT ASSUMING BEST PLAY\n",
    "    if X_turn:\n",
    "        #X options from best to worst\n",
    "        if X_WINS in branch_evals:\n",
    "            return X_WINS\n",
    "        elif DRAW in branch_evals:\n",
    "            return DRAW\n",
    "        else:\n",
    "            return O_WINS\n",
    "    \n",
    "    else:\n",
    "        #O from best to worst\n",
    "        if O_WINS  in branch_evals:\n",
    "            return O_WINS\n",
    "        elif DRAW in branch_evals:\n",
    "            return DRAW\n",
    "        else:\n",
    "            return X_WINS"
   ]
  },
  {
   "cell_type": "code",
   "execution_count": 21,
   "metadata": {},
   "outputs": [],
   "source": [
    "x_corner = [['_', '_', '_'],\n",
    "           ['_', '_', '_'],\n",
    "            ['_', 'X', '_']]"
   ]
  },
  {
   "cell_type": "code",
   "execution_count": 22,
   "metadata": {},
   "outputs": [
    {
     "data": {
      "text/plain": [
       "'DRAW!'"
      ]
     },
     "execution_count": 22,
     "metadata": {},
     "output_type": "execute_result"
    }
   ],
   "source": [
    "solve(x_corner)"
   ]
  },
  {
   "cell_type": "code",
   "execution_count": 23,
   "metadata": {},
   "outputs": [],
   "source": [
    "x_middle = [['_', '_', '_'],\n",
    "           ['_', 'X', '_'],\n",
    "            ['_', '_', '_']]"
   ]
  },
  {
   "cell_type": "code",
   "execution_count": 24,
   "metadata": {},
   "outputs": [
    {
     "data": {
      "text/plain": [
       "'DRAW!'"
      ]
     },
     "execution_count": 24,
     "metadata": {},
     "output_type": "execute_result"
    }
   ],
   "source": [
    "solve(x_middle)"
   ]
  },
  {
   "cell_type": "code",
   "execution_count": 25,
   "metadata": {},
   "outputs": [],
   "source": [
    "x_winner = [['X', 'O', 'O'],\n",
    "           ['_', 'X', 'X'],\n",
    "           ['_', '_', 'O']]"
   ]
  },
  {
   "cell_type": "code",
   "execution_count": 26,
   "metadata": {},
   "outputs": [
    {
     "data": {
      "text/plain": [
       "'X WINS!'"
      ]
     },
     "execution_count": 26,
     "metadata": {},
     "output_type": "execute_result"
    }
   ],
   "source": [
    "solve(x_winner)"
   ]
  },
  {
   "cell_type": "code",
   "execution_count": 27,
   "metadata": {},
   "outputs": [],
   "source": [
    "x_middle = [['X', '_', 'X'],\n",
    "           ['_', 'O', 'O'],\n",
    "            ['_', '_', '_']]"
   ]
  },
  {
   "cell_type": "code",
   "execution_count": 28,
   "metadata": {},
   "outputs": [
    {
     "data": {
      "text/plain": [
       "'X WINS!'"
      ]
     },
     "execution_count": 28,
     "metadata": {},
     "output_type": "execute_result"
    }
   ],
   "source": [
    "solve(x_middle)"
   ]
  },
  {
   "cell_type": "markdown",
   "metadata": {},
   "source": [
    "### Alpha-Beta Pruning\n",
    "\n",
    "**Alpha** : Maximum lower bound.\n",
    "\n",
    "**Beta** Minimum upper bound."
   ]
  },
  {
   "cell_type": "markdown",
   "metadata": {},
   "source": [
    "To Start: \n",
    "- $\\alpha = -\\infty$\n",
    "- $\\beta = \\infty$\n",
    "\n",
    "\n",
    "![](https://media.geeksforgeeks.org/wp-content/uploads/MIN_MAX1.jpg)"
   ]
  },
  {
   "cell_type": "code",
   "execution_count": 29,
   "metadata": {},
   "outputs": [],
   "source": [
    "# Initial values of Aplha and Beta  \n",
    "MAX, MIN = 1000, -1000 \n",
    "  \n",
    "# Returns optimal value for current player  \n",
    "#(Initially called for root and maximizer)  \n",
    "def minimax(depth, nodeIndex, maximizingPlayer,  \n",
    "            values, alpha, beta):  \n",
    "   \n",
    "    # Terminating condition. i.e  \n",
    "    # leaf node is reached  \n",
    "    if depth == 3:  \n",
    "        return values[nodeIndex]  \n",
    "  \n",
    "    if maximizingPlayer:  \n",
    "        best = MIN \n",
    "        # Recur for left and right children  \n",
    "        for i in range(0, 2):   \n",
    "            val = minimax(depth + 1, nodeIndex * 2 + i,  \n",
    "                          False, values, alpha, beta)  \n",
    "            best = max(best, val)  \n",
    "            alpha = max(alpha, best)  \n",
    "            # Alpha Beta Pruning  \n",
    "            if beta <= alpha:  \n",
    "                break   \n",
    "        return best  \n",
    "       \n",
    "    else: \n",
    "        best = MAX \n",
    "        # Recur for left and  \n",
    "        # right children  \n",
    "        for i in range(0, 2):  \n",
    "            val = minimax(depth + 1, nodeIndex * 2 + i,  \n",
    "                            True, values, alpha, beta)  \n",
    "            best = min(best, val)  \n",
    "            beta = min(beta, best)  \n",
    "            # Alpha Beta Pruning  \n",
    "            if beta <= alpha:  \n",
    "                break  \n",
    "        return best "
   ]
  },
  {
   "cell_type": "code",
   "execution_count": 30,
   "metadata": {},
   "outputs": [
    {
     "name": "stdout",
     "output_type": "stream",
     "text": [
      "The optimal value is : 5\n"
     ]
    }
   ],
   "source": [
    "values = [3, 5, 6, 9, 1, 2, 0, -1]   \n",
    "print(\"The optimal value is :\", minimax(0, 0, True, values, MIN, MAX))  "
   ]
  },
  {
   "cell_type": "markdown",
   "metadata": {},
   "source": [
    "### Implementation with EasyAI"
   ]
  },
  {
   "cell_type": "code",
   "execution_count": 33,
   "metadata": {},
   "outputs": [
    {
     "name": "stdout",
     "output_type": "stream",
     "text": [
      "Collecting easyai\n",
      "  Using cached easyAI-1.0.0.4.tar.gz (27 kB)\n",
      "Building wheels for collected packages: easyai\n",
      "  Building wheel for easyai (setup.py) ... \u001b[?25ldone\n",
      "\u001b[?25h  Created wheel for easyai: filename=easyAI-1.0.0.4-py2.py3-none-any.whl size=41951 sha256=2ba4190e495e3c5c78dc5345e33ea4dc9f0de26fabd24d7c325fb9d9a3828ded\n",
      "  Stored in directory: /Users/jacobkoehler/Library/Caches/pip/wheels/1b/db/a3/fc51457cb052d9add6c8c178a5918c704f4234680db5e4a259\n",
      "Successfully built easyai\n",
      "Installing collected packages: easyai\n",
      "Successfully installed easyai-1.0.0.4\n"
     ]
    }
   ],
   "source": [
    "!pip install easyai"
   ]
  },
  {
   "cell_type": "code",
   "execution_count": 34,
   "metadata": {},
   "outputs": [],
   "source": [
    "from easyAI import TwoPlayersGame, Human_Player, AI_Player, Negamax\n",
    "\n",
    "class GameOfBones( TwoPlayersGame ):\n",
    "    \"\"\" In turn, the players remove one, two or three bones from a\n",
    "    pile of bones. The player who removes the last bone loses. \"\"\"\n",
    "\n",
    "    def __init__(self, players):\n",
    "        self.players = players\n",
    "        self.pile = 20 # start with 20 bones in the pile\n",
    "        self.nplayer = 1 # player 1 starts\n",
    "\n",
    "    def possible_moves(self): return ['1','2','3']\n",
    "    def make_move(self,move): self.pile -= int(move) # remove bones.\n",
    "    def win(self): return self.pile<=0 # opponent took the last bone ?\n",
    "    def is_over(self): return self.win() # Game stops when someone wins.\n",
    "    def show(self): print (\"%d bones left in the pile\"%self.pile)\n",
    "    def scoring(self): return 100 if self.win() else 0 # For the AI"
   ]
  },
  {
   "cell_type": "code",
   "execution_count": 35,
   "metadata": {},
   "outputs": [
    {
     "name": "stdout",
     "output_type": "stream",
     "text": [
      "20 bones left in the pile\n"
     ]
    },
    {
     "name": "stdin",
     "output_type": "stream",
     "text": [
      "\n",
      "Player 1 what do you play ?  4\n",
      "\n",
      "Player 1 what do you play ?  1\n"
     ]
    },
    {
     "name": "stdout",
     "output_type": "stream",
     "text": [
      "\n",
      "Move #1: player 1 plays 1 :\n",
      "19 bones left in the pile\n",
      "\n",
      "Move #2: player 2 plays 1 :\n",
      "18 bones left in the pile\n"
     ]
    },
    {
     "name": "stdin",
     "output_type": "stream",
     "text": [
      "\n",
      "Player 1 what do you play ?  2\n"
     ]
    },
    {
     "name": "stdout",
     "output_type": "stream",
     "text": [
      "\n",
      "Move #3: player 1 plays 2 :\n",
      "16 bones left in the pile\n",
      "\n",
      "Move #4: player 2 plays 1 :\n",
      "15 bones left in the pile\n"
     ]
    },
    {
     "name": "stdin",
     "output_type": "stream",
     "text": [
      "\n",
      "Player 1 what do you play ?  1\n"
     ]
    },
    {
     "name": "stdout",
     "output_type": "stream",
     "text": [
      "\n",
      "Move #5: player 1 plays 1 :\n",
      "14 bones left in the pile\n",
      "\n",
      "Move #6: player 2 plays 1 :\n",
      "13 bones left in the pile\n"
     ]
    },
    {
     "name": "stdin",
     "output_type": "stream",
     "text": [
      "\n",
      "Player 1 what do you play ?  2\n"
     ]
    },
    {
     "name": "stdout",
     "output_type": "stream",
     "text": [
      "\n",
      "Move #7: player 1 plays 2 :\n",
      "11 bones left in the pile\n",
      "\n",
      "Move #8: player 2 plays 1 :\n",
      "10 bones left in the pile\n"
     ]
    },
    {
     "name": "stdin",
     "output_type": "stream",
     "text": [
      "\n",
      "Player 1 what do you play ?  1\n"
     ]
    },
    {
     "name": "stdout",
     "output_type": "stream",
     "text": [
      "\n",
      "Move #9: player 1 plays 1 :\n",
      "9 bones left in the pile\n",
      "\n",
      "Move #10: player 2 plays 1 :\n",
      "8 bones left in the pile\n"
     ]
    },
    {
     "name": "stdin",
     "output_type": "stream",
     "text": [
      "\n",
      "Player 1 what do you play ?  1\n"
     ]
    },
    {
     "name": "stdout",
     "output_type": "stream",
     "text": [
      "\n",
      "Move #11: player 1 plays 1 :\n",
      "7 bones left in the pile\n",
      "\n",
      "Move #12: player 2 plays 2 :\n",
      "5 bones left in the pile\n"
     ]
    },
    {
     "name": "stdin",
     "output_type": "stream",
     "text": [
      "\n",
      "Player 1 what do you play ?  1\n"
     ]
    },
    {
     "name": "stdout",
     "output_type": "stream",
     "text": [
      "\n",
      "Move #13: player 1 plays 1 :\n",
      "4 bones left in the pile\n",
      "\n",
      "Move #14: player 2 plays 3 :\n",
      "1 bones left in the pile\n"
     ]
    },
    {
     "name": "stdin",
     "output_type": "stream",
     "text": [
      "\n",
      "Player 1 what do you play ?  1\n"
     ]
    },
    {
     "name": "stdout",
     "output_type": "stream",
     "text": [
      "\n",
      "Move #15: player 1 plays 1 :\n",
      "0 bones left in the pile\n"
     ]
    }
   ],
   "source": [
    "# Start a match (and store the history of moves when it ends)\n",
    "ai = Negamax(5) # The AI will think 13 moves in advance\n",
    "game = GameOfBones( [ Human_Player(), AI_Player(ai) ] )\n",
    "history = game.play()"
   ]
  },
  {
   "cell_type": "code",
   "execution_count": null,
   "metadata": {},
   "outputs": [],
   "source": []
  },
  {
   "cell_type": "code",
   "execution_count": null,
   "metadata": {},
   "outputs": [],
   "source": []
  },
  {
   "cell_type": "code",
   "execution_count": null,
   "metadata": {},
   "outputs": [],
   "source": []
  },
  {
   "cell_type": "code",
   "execution_count": null,
   "metadata": {},
   "outputs": [],
   "source": []
  },
  {
   "cell_type": "code",
   "execution_count": null,
   "metadata": {},
   "outputs": [],
   "source": []
  },
  {
   "cell_type": "code",
   "execution_count": null,
   "metadata": {},
   "outputs": [],
   "source": []
  },
  {
   "cell_type": "code",
   "execution_count": null,
   "metadata": {},
   "outputs": [],
   "source": []
  },
  {
   "cell_type": "code",
   "execution_count": null,
   "metadata": {},
   "outputs": [],
   "source": []
  },
  {
   "cell_type": "code",
   "execution_count": null,
   "metadata": {},
   "outputs": [],
   "source": []
  },
  {
   "cell_type": "code",
   "execution_count": null,
   "metadata": {},
   "outputs": [],
   "source": []
  },
  {
   "cell_type": "code",
   "execution_count": null,
   "metadata": {},
   "outputs": [],
   "source": []
  }
 ],
 "metadata": {
  "kernelspec": {
   "display_name": "Python 3",
   "language": "python",
   "name": "python3"
  },
  "language_info": {
   "codemirror_mode": {
    "name": "ipython",
    "version": 3
   },
   "file_extension": ".py",
   "mimetype": "text/x-python",
   "name": "python",
   "nbconvert_exporter": "python",
   "pygments_lexer": "ipython3",
   "version": "3.8.2"
  }
 },
 "nbformat": 4,
 "nbformat_minor": 4
}
