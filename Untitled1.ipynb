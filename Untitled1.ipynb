{
 "cells": [
  {
   "cell_type": "markdown",
   "metadata": {},
   "source": [
    "### Final Week: AAI"
   ]
  },
  {
   "cell_type": "markdown",
   "metadata": {},
   "source": [
    "**For Capstone**\n",
    "\n",
    "------\n",
    "- Review our classification and regression algorithms\n",
    " - Linear Regression and regularized regression\n",
    " - Bayesian Regression --> This needs more review (PyMC3)\n",
    " - Classification: KNN, Logistic, Tree, Ensembles\n",
    " - Boosting and Bagging\n",
    " - ANN for both regression and classification\n",
    " \n",
    "-----\n",
    "- Interpret the Outcome of our Modeling\n",
    " - Classic Stats and signficance tests\n",
    " - non-parametric models and evaluating them --> partial depence plots, feature permutation, shapley values\n",
    "\n",
    "-----\n",
    "- Evaluating the impact of your model on profit or sales\n",
    " - If you use your model, how do you demonstrate value added? ---> lift charts, gains, profit curves"
   ]
  },
  {
   "cell_type": "code",
   "execution_count": null,
   "metadata": {},
   "outputs": [],
   "source": []
  }
 ],
 "metadata": {
  "kernelspec": {
   "display_name": "Python 3",
   "language": "python",
   "name": "python3"
  },
  "language_info": {
   "codemirror_mode": {
    "name": "ipython",
    "version": 3
   },
   "file_extension": ".py",
   "mimetype": "text/x-python",
   "name": "python",
   "nbconvert_exporter": "python",
   "pygments_lexer": "ipython3",
   "version": "3.8.2"
  }
 },
 "nbformat": 4,
 "nbformat_minor": 4
}
