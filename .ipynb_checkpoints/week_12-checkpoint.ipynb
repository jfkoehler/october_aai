{
 "cells": [
  {
   "cell_type": "markdown",
   "metadata": {},
   "source": [
    "### Week 12"
   ]
  },
  {
   "cell_type": "code",
   "execution_count": 41,
   "metadata": {},
   "outputs": [],
   "source": [
    "import keras\n",
    "from keras.layers import Dense, Flatten, Conv2D, MaxPool2D, Dropout\n",
    "from keras.models import Sequential\n",
    "from keras.utils import to_categorical"
   ]
  },
  {
   "cell_type": "code",
   "execution_count": 13,
   "metadata": {},
   "outputs": [],
   "source": [
    "from keras.datasets import mnist"
   ]
  },
  {
   "cell_type": "code",
   "execution_count": 53,
   "metadata": {},
   "outputs": [],
   "source": [
    "(train_images, train_labels), (test_images, test_labels) = mnist.load_data()"
   ]
  },
  {
   "cell_type": "code",
   "execution_count": 20,
   "metadata": {},
   "outputs": [],
   "source": [
    "import matplotlib.pyplot as plt"
   ]
  },
  {
   "cell_type": "code",
   "execution_count": 21,
   "metadata": {},
   "outputs": [
    {
     "data": {
      "text/plain": [
       "<matplotlib.image.AxesImage at 0x7f8a43e8edd0>"
      ]
     },
     "execution_count": 21,
     "metadata": {},
     "output_type": "execute_result"
    },
    {
     "data": {
      "image/png": "[encoded data removed]",
      "text/plain": [
       "<Figure size 432x288 with 1 Axes>"
      ]
     },
     "metadata": {
      "needs_background": "light"
     },
     "output_type": "display_data"
    }
   ],
   "source": [
    "plt.imshow(train_images[0])"
   ]
  },
  {
   "cell_type": "code",
   "execution_count": 25,
   "metadata": {},
   "outputs": [],
   "source": [
    "y_train = to_categorical(train_labels)\n",
    "y_test = to_categorical(test_labels)"
   ]
  },
  {
   "cell_type": "code",
   "execution_count": 17,
   "metadata": {},
   "outputs": [
    {
     "data": {
      "text/plain": [
       "(28, 28)"
      ]
     },
     "execution_count": 17,
     "metadata": {},
     "output_type": "execute_result"
    }
   ],
   "source": [
    "train_images[0].shape"
   ]
  },
  {
   "cell_type": "code",
   "execution_count": 26,
   "metadata": {},
   "outputs": [],
   "source": [
    "model = Sequential()\n",
    "# model.add(Conv2D(32, (3, 3), activation = 'relu', input_shape = (28, 28, 1)))\n",
    "\n",
    "\n",
    "model.add(Flatten())\n",
    "model.add(Dense(32, activation = 'relu'))\n",
    "model.add(Dense(10, activation = 'softmax'))"
   ]
  },
  {
   "cell_type": "code",
   "execution_count": 35,
   "metadata": {},
   "outputs": [
    {
     "name": "stdout",
     "output_type": "stream",
     "text": [
      "Model: \"sequential_3\"\n",
      "_________________________________________________________________\n",
      "Layer (type)                 Output Shape              Param #   \n",
      "=================================================================\n",
      "flatten_3 (Flatten)          (None, 784)               0         \n",
      "_________________________________________________________________\n",
      "dense_5 (Dense)              (None, 32)                25120     \n",
      "_________________________________________________________________\n",
      "dense_6 (Dense)              (None, 10)                330       \n",
      "=================================================================\n",
      "Total params: 25,450\n",
      "Trainable params: 25,450\n",
      "Non-trainable params: 0\n",
      "_________________________________________________________________\n"
     ]
    }
   ],
   "source": [
    "model.summary()"
   ]
  },
  {
   "cell_type": "code",
   "execution_count": 39,
   "metadata": {},
   "outputs": [
    {
     "data": {
      "text/plain": [
       "[<tf.Tensor 'flatten_3/Reshape:0' shape=(None, None) dtype=float32>,\n",
       " <tf.Tensor 'dense_5/Relu:0' shape=(None, 32) dtype=float32>,\n",
       " <tf.Tensor 'dense_6/Softmax:0' shape=(None, 10) dtype=float32>]"
      ]
     },
     "execution_count": 39,
     "metadata": {},
     "output_type": "execute_result"
    }
   ],
   "source": [
    "[layer.output for layer in model.layers]"
   ]
  },
  {
   "cell_type": "code",
   "execution_count": 27,
   "metadata": {},
   "outputs": [],
   "source": [
    "model.compile(optimizer = 'adam', loss = 'categorical_crossentropy', metrics = ['acc'])"
   ]
  },
  {
   "cell_type": "code",
   "execution_count": 28,
   "metadata": {},
   "outputs": [
    {
     "name": "stdout",
     "output_type": "stream",
     "text": [
      "Train on 60000 samples, validate on 10000 samples\n",
      "Epoch 1/10\n",
      "60000/60000 [==============================] - 1s 20us/step - loss: 2.2332 - acc: 0.5193 - val_loss: 1.0603 - val_acc: 0.6572\n",
      "Epoch 2/10\n",
      "60000/60000 [==============================] - 1s 19us/step - loss: 0.8145 - acc: 0.7679 - val_loss: 0.7034 - val_acc: 0.8201\n",
      "Epoch 3/10\n",
      "60000/60000 [==============================] - 1s 18us/step - loss: 0.5670 - acc: 0.8453 - val_loss: 0.5012 - val_acc: 0.8719\n",
      "Epoch 4/10\n",
      "60000/60000 [==============================] - 1s 18us/step - loss: 0.4300 - acc: 0.8860 - val_loss: 0.4084 - val_acc: 0.8951\n",
      "Epoch 5/10\n",
      "60000/60000 [==============================] - 1s 19us/step - loss: 0.3783 - acc: 0.8981 - val_loss: 0.3807 - val_acc: 0.9028\n",
      "Epoch 6/10\n",
      "60000/60000 [==============================] - 1s 18us/step - loss: 0.3503 - acc: 0.9066 - val_loss: 0.3587 - val_acc: 0.9076\n",
      "Epoch 7/10\n",
      "60000/60000 [==============================] - 1s 19us/step - loss: 0.3369 - acc: 0.9086 - val_loss: 0.3479 - val_acc: 0.9098\n",
      "Epoch 8/10\n",
      "60000/60000 [==============================] - 1s 18us/step - loss: 0.3253 - acc: 0.9150 - val_loss: 0.3248 - val_acc: 0.9159\n",
      "Epoch 9/10\n",
      "60000/60000 [==============================] - 1s 19us/step - loss: 0.3155 - acc: 0.9184 - val_loss: 0.3243 - val_acc: 0.9163\n",
      "Epoch 10/10\n",
      "60000/60000 [==============================] - 1s 19us/step - loss: 0.3074 - acc: 0.9205 - val_loss: 0.3233 - val_acc: 0.9217\n"
     ]
    }
   ],
   "source": [
    "history = model.fit(train_images, y_train, validation_data=(test_images, y_test), epochs = 10)"
   ]
  },
  {
   "cell_type": "code",
   "execution_count": 30,
   "metadata": {},
   "outputs": [],
   "source": [
    "weights = model.weights"
   ]
  },
  {
   "cell_type": "code",
   "execution_count": null,
   "metadata": {},
   "outputs": [],
   "source": [
    "model.save('model.h5')"
   ]
  },
  {
   "cell_type": "code",
   "execution_count": 40,
   "metadata": {},
   "outputs": [
    {
     "data": {
      "text/plain": [
       "<tf.Tensor: shape=(32,), dtype=float32, numpy=\n",
       "array([-0.00934422, -0.03007983, -0.07164   ,  0.05189347,  0.07680792,\n",
       "        0.03040782, -0.05778448,  0.04765093,  0.0696804 , -0.02183063,\n",
       "        0.06817616,  0.07191097,  0.08485391,  0.06397634, -0.02850483,\n",
       "        0.08315647, -0.08018298, -0.00705332, -0.04691371,  0.00234446,\n",
       "        0.04384714, -0.05903523, -0.02694485,  0.04915679, -0.07817399,\n",
       "        0.04617778, -0.03815414, -0.07393316,  0.06135181, -0.01009364,\n",
       "        0.07468236, -0.06962614], dtype=float32)>"
      ]
     },
     "execution_count": 40,
     "metadata": {},
     "output_type": "execute_result"
    }
   ],
   "source": [
    "weights[0][0]"
   ]
  },
  {
   "cell_type": "code",
   "execution_count": 43,
   "metadata": {},
   "outputs": [],
   "source": [
    "cnnmodel = Sequential()\n",
    "cnnmodel.add(Conv2D(32, (3, 3), activation = 'relu', input_shape = (28, 28, 1)))\n",
    "cnnmodel.add(MaxPool2D((2, 2)))\n",
    "cnnmodel.add(Conv2D(64, (3, 3), activation = 'relu'))\n",
    "cnnmodel.add(MaxPool2D((2, 2)))\n",
    "cnnmodel.add(Flatten())\n",
    "cnnmodel.add(Dropout(0.5))\n",
    "cnnmodel.add(Dense(128, activation = 'relu'))\n",
    "cnnmodel.add(Dense(10, activation = 'softmax'))\n",
    "cnnmodel.compile(optimizer = 'rmsprop', loss = 'categorical_crossentropy', metrics = ['acc'])"
   ]
  },
  {
   "cell_type": "code",
   "execution_count": 56,
   "metadata": {},
   "outputs": [],
   "source": [
    "train_images = train_images.reshape(60000, 28, 28, 1)\n",
    "test_images = test_images.reshape(10000, 28, 28, 1)"
   ]
  },
  {
   "cell_type": "code",
   "execution_count": 46,
   "metadata": {},
   "outputs": [
    {
     "name": "stdout",
     "output_type": "stream",
     "text": [
      "Train on 60000 samples, validate on 10000 samples\n",
      "Epoch 1/10\n",
      "60000/60000 [==============================] - 16s 267us/step - loss: 0.4123 - acc: 0.9226 - val_loss: 0.0769 - val_acc: 0.9778\n",
      "Epoch 2/10\n",
      "60000/60000 [==============================] - 17s 289us/step - loss: 0.1374 - acc: 0.9635 - val_loss: 0.0665 - val_acc: 0.9834\n",
      "Epoch 3/10\n",
      "60000/60000 [==============================] - 19s 315us/step - loss: 0.1288 - acc: 0.9683 - val_loss: 0.0573 - val_acc: 0.9835\n",
      "Epoch 4/10\n",
      "60000/60000 [==============================] - 21s 345us/step - loss: 0.1354 - acc: 0.9676 - val_loss: 0.0563 - val_acc: 0.9859\n",
      "Epoch 5/10\n",
      "60000/60000 [==============================] - 22s 374us/step - loss: 0.1319 - acc: 0.9692 - val_loss: 0.0733 - val_acc: 0.9821\n",
      "Epoch 6/10\n",
      "60000/60000 [==============================] - 23s 376us/step - loss: 0.1347 - acc: 0.9681 - val_loss: 0.0857 - val_acc: 0.9780\n",
      "Epoch 7/10\n",
      "60000/60000 [==============================] - 22s 360us/step - loss: 0.1417 - acc: 0.9672 - val_loss: 0.0747 - val_acc: 0.9807\n",
      "Epoch 8/10\n",
      "60000/60000 [==============================] - 23s 377us/step - loss: 0.1523 - acc: 0.9661 - val_loss: 0.0611 - val_acc: 0.9845\n",
      "Epoch 9/10\n",
      "60000/60000 [==============================] - 25s 410us/step - loss: 0.1452 - acc: 0.9664 - val_loss: 0.0718 - val_acc: 0.9796\n",
      "Epoch 10/10\n",
      "60000/60000 [==============================] - 25s 409us/step - loss: 0.1466 - acc: 0.9657 - val_loss: 0.0726 - val_acc: 0.9822\n"
     ]
    }
   ],
   "source": [
    "history = cnnmodel.fit(train_images, y_train, validation_data=(test_images, y_test), epochs = 10)"
   ]
  },
  {
   "cell_type": "code",
   "execution_count": 47,
   "metadata": {},
   "outputs": [],
   "source": [
    "cnnmodel.save('digitmodel.h5')"
   ]
  },
  {
   "cell_type": "code",
   "execution_count": 48,
   "metadata": {},
   "outputs": [],
   "source": [
    "from keras import models"
   ]
  },
  {
   "cell_type": "code",
   "execution_count": 49,
   "metadata": {},
   "outputs": [],
   "source": [
    "layer_outputs = [layer.output for layer in cnnmodel.layers]"
   ]
  },
  {
   "cell_type": "code",
   "execution_count": 50,
   "metadata": {},
   "outputs": [],
   "source": [
    "activation_model = models.Model(inputs=cnnmodel.input, outputs = layer_outputs)"
   ]
  },
  {
   "cell_type": "code",
   "execution_count": 57,
   "metadata": {},
   "outputs": [],
   "source": [
    "testim = train_images[0]"
   ]
  },
  {
   "cell_type": "code",
   "execution_count": 61,
   "metadata": {},
   "outputs": [],
   "source": [
    "testim = testim.reshape(1, 28, 28, 1)"
   ]
  },
  {
   "cell_type": "code",
   "execution_count": 62,
   "metadata": {},
   "outputs": [],
   "source": [
    "activations=activation_model.predict(testim)"
   ]
  },
  {
   "cell_type": "code",
   "execution_count": 64,
   "metadata": {},
   "outputs": [],
   "source": [
    "first_layer_activation = activations[0]"
   ]
  },
  {
   "cell_type": "code",
   "execution_count": 65,
   "metadata": {},
   "outputs": [
    {
     "data": {
      "text/plain": [
       "(1, 26, 26, 32)"
      ]
     },
     "execution_count": 65,
     "metadata": {},
     "output_type": "execute_result"
    }
   ],
   "source": [
    "first_layer_activation.shape"
   ]
  },
  {
   "cell_type": "code",
   "execution_count": 70,
   "metadata": {},
   "outputs": [
    {
     "data": {
      "text/plain": [
       "<matplotlib.image.AxesImage at 0x7f8a44456710>"
      ]
     },
     "execution_count": 70,
     "metadata": {},
     "output_type": "execute_result"
    },
    {
     "data": {
      "image/png": "[encoded data removed]",
      "text/plain": [
       "<Figure size 432x288 with 1 Axes>"
      ]
     },
     "metadata": {
      "needs_background": "light"
     },
     "output_type": "display_data"
    }
   ],
   "source": [
    "plt.imshow(first_layer_activation[0, :, :, 12])"
   ]
  },
  {
   "cell_type": "code",
   "execution_count": null,
   "metadata": {},
   "outputs": [],
   "source": []
  }
 ],
 "metadata": {
  "kernelspec": {
   "display_name": "Python 3",
   "language": "python",
   "name": "python3"
  },
  "language_info": {
   "codemirror_mode": {
    "name": "ipython",
    "version": 3
   },
   "file_extension": ".py",
   "mimetype": "text/x-python",
   "name": "python",
   "nbconvert_exporter": "python",
   "pygments_lexer": "ipython3",
   "version": "3.7.4"
  }
 },
 "nbformat": 4,
 "nbformat_minor": 4
}
