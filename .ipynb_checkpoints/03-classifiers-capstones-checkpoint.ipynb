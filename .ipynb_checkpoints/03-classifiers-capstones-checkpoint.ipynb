{
 "cells": [
  {
   "cell_type": "markdown",
   "metadata": {},
   "source": [
    "### Classification Problem"
   ]
  },
  {
   "cell_type": "markdown",
   "metadata": {},
   "source": [
    "- Deciles from sales\n",
    "- Confusion Matrix\n",
    "- Presentation"
   ]
  },
  {
   "cell_type": "markdown",
   "metadata": {},
   "source": [
    "### Presentation Outlines\n",
    "\n",
    "- Intro and background (1 - 2 slides)\n",
    "- EDA - descriptive stats/findings (3 - 5 slides)\n",
    "- Models \n",
    "    - regression (1 - 2 slides)\n",
    "    - classification (1 - 2 slides)\n",
    "- Findings and Recommendations (3 - 5 slides)\n",
    "- Future Work (1 - 2)\n",
    "- Appendix"
   ]
  },
  {
   "cell_type": "markdown",
   "metadata": {},
   "source": [
    "### Presentation Recommendations\n",
    "\n",
    "- Keep text to a minimum; make readable\n",
    "- Use visuals; "
   ]
  },
  {
   "cell_type": "markdown",
   "metadata": {},
   "source": [
    "-- recipe: \n",
    "\n",
    "1. Title Statement ( complete sentence or statement that explains what the big idea for the given slide is.)\n",
    "2. Visual that helps explain the statement.\n",
    "3. Any additional supporting text to help the viewer/reader."
   ]
  },
  {
   "cell_type": "markdown",
   "metadata": {},
   "source": [
    "-- recommendations for presentation\n",
    "\n",
    "1. No heatmaps\n",
    "2. Make plot labels human readable -- 'Sales of $10,000 or more' not `sale_10K_20_yea`. "
   ]
  },
  {
   "cell_type": "code",
   "execution_count": 27,
   "metadata": {},
   "outputs": [],
   "source": [
    "import pandas as pd"
   ]
  },
  {
   "cell_type": "code",
   "execution_count": 28,
   "metadata": {},
   "outputs": [],
   "source": [
    "data = pd.read_csv('data/cleaned_eda_data.csv', index_col = 0)"
   ]
  },
  {
   "cell_type": "code",
   "execution_count": 29,
   "metadata": {},
   "outputs": [
    {
     "data": {
      "text/html": [
       "<div>\n",
       "<style scoped>\n",
       "    .dataframe tbody tr th:only-of-type {\n",
       "        vertical-align: middle;\n",
       "    }\n",
       "\n",
       "    .dataframe tbody tr th {\n",
       "        vertical-align: top;\n",
       "    }\n",
       "\n",
       "    .dataframe thead th {\n",
       "        text-align: right;\n",
       "    }\n",
       "</style>\n",
       "<table border=\"1\" class=\"dataframe\">\n",
       "  <thead>\n",
       "    <tr style=\"text-align: right;\">\n",
       "      <th></th>\n",
       "      <th>no_of_sales_12M_1</th>\n",
       "      <th>no_of_Redemption_12M_1</th>\n",
       "      <th>no_of_sales_12M_10K</th>\n",
       "      <th>no_of_Redemption_12M_10K</th>\n",
       "      <th>no_of_funds_sold_12M_1</th>\n",
       "      <th>no_of_funds_redeemed_12M_1</th>\n",
       "      <th>no_of_fund_sales_12M_10K</th>\n",
       "      <th>no_of_funds_Redemption_12M_10K</th>\n",
       "      <th>no_of_assetclass_sold_12M_1</th>\n",
       "      <th>no_of_assetclass_redeemed_12M_1</th>\n",
       "      <th>...</th>\n",
       "      <th>redemption_12M</th>\n",
       "      <th>new_Fund_added_12M</th>\n",
       "      <th>sales_2019</th>\n",
       "      <th>new_fund_2019</th>\n",
       "      <th>CustomerID</th>\n",
       "      <th>Firm ID</th>\n",
       "      <th>Office ID</th>\n",
       "      <th>Channel</th>\n",
       "      <th>Sub channel</th>\n",
       "      <th>Firm name</th>\n",
       "    </tr>\n",
       "  </thead>\n",
       "  <tbody>\n",
       "    <tr>\n",
       "      <th>0</th>\n",
       "      <td>21.0</td>\n",
       "      <td>38.0</td>\n",
       "      <td>0.0</td>\n",
       "      <td>1.0</td>\n",
       "      <td>5.0</td>\n",
       "      <td>5.0</td>\n",
       "      <td>0.0</td>\n",
       "      <td>1.0</td>\n",
       "      <td>2.0</td>\n",
       "      <td>2.0</td>\n",
       "      <td>...</td>\n",
       "      <td>-102496.165</td>\n",
       "      <td>0.0</td>\n",
       "      <td>18633.105</td>\n",
       "      <td>0.0</td>\n",
       "      <td>240</td>\n",
       "      <td>1688552</td>\n",
       "      <td>85101152293608716061</td>\n",
       "      <td>National Broker-Dealer</td>\n",
       "      <td>NACS</td>\n",
       "      <td>UBS Financial Services, Inc.</td>\n",
       "    </tr>\n",
       "    <tr>\n",
       "      <th>1</th>\n",
       "      <td>0.0</td>\n",
       "      <td>0.0</td>\n",
       "      <td>0.0</td>\n",
       "      <td>0.0</td>\n",
       "      <td>0.0</td>\n",
       "      <td>0.0</td>\n",
       "      <td>0.0</td>\n",
       "      <td>0.0</td>\n",
       "      <td>0.0</td>\n",
       "      <td>0.0</td>\n",
       "      <td>...</td>\n",
       "      <td>0.000</td>\n",
       "      <td>0.0</td>\n",
       "      <td>0.000</td>\n",
       "      <td>0.0</td>\n",
       "      <td>4970</td>\n",
       "      <td>85202161074527509544</td>\n",
       "      <td>17754050965</td>\n",
       "      <td>Dual</td>\n",
       "      <td>IBD</td>\n",
       "      <td>Charles Schwab Investor Services</td>\n",
       "    </tr>\n",
       "    <tr>\n",
       "      <th>2</th>\n",
       "      <td>0.0</td>\n",
       "      <td>0.0</td>\n",
       "      <td>0.0</td>\n",
       "      <td>0.0</td>\n",
       "      <td>0.0</td>\n",
       "      <td>0.0</td>\n",
       "      <td>0.0</td>\n",
       "      <td>0.0</td>\n",
       "      <td>0.0</td>\n",
       "      <td>0.0</td>\n",
       "      <td>...</td>\n",
       "      <td>0.000</td>\n",
       "      <td>0.0</td>\n",
       "      <td>0.000</td>\n",
       "      <td>0.0</td>\n",
       "      <td>5612</td>\n",
       "      <td>1655890</td>\n",
       "      <td>85102103583371489832</td>\n",
       "      <td>Independent Dealer</td>\n",
       "      <td>RIA</td>\n",
       "      <td>The O.N. Equity Sales Company</td>\n",
       "    </tr>\n",
       "    <tr>\n",
       "      <th>3</th>\n",
       "      <td>20.0</td>\n",
       "      <td>0.0</td>\n",
       "      <td>2.0</td>\n",
       "      <td>0.0</td>\n",
       "      <td>1.0</td>\n",
       "      <td>0.0</td>\n",
       "      <td>1.0</td>\n",
       "      <td>0.0</td>\n",
       "      <td>1.0</td>\n",
       "      <td>0.0</td>\n",
       "      <td>...</td>\n",
       "      <td>0.000</td>\n",
       "      <td>1.0</td>\n",
       "      <td>93212.000</td>\n",
       "      <td>1.0</td>\n",
       "      <td>543</td>\n",
       "      <td>0033509</td>\n",
       "      <td>85102113063786149939</td>\n",
       "      <td>Independent Dealer</td>\n",
       "      <td>IBD</td>\n",
       "      <td>Northwestern Mutual Investment Services, LLC</td>\n",
       "    </tr>\n",
       "    <tr>\n",
       "      <th>4</th>\n",
       "      <td>0.0</td>\n",
       "      <td>0.0</td>\n",
       "      <td>0.0</td>\n",
       "      <td>0.0</td>\n",
       "      <td>0.0</td>\n",
       "      <td>0.0</td>\n",
       "      <td>0.0</td>\n",
       "      <td>0.0</td>\n",
       "      <td>0.0</td>\n",
       "      <td>0.0</td>\n",
       "      <td>...</td>\n",
       "      <td>0.000</td>\n",
       "      <td>0.0</td>\n",
       "      <td>0.000</td>\n",
       "      <td>0.0</td>\n",
       "      <td>7398</td>\n",
       "      <td>1092180</td>\n",
       "      <td>85201140503766736151</td>\n",
       "      <td>Independent Dealer</td>\n",
       "      <td>RIA</td>\n",
       "      <td>Berthel, Fisher &amp; Co. Financial Services, Inc.</td>\n",
       "    </tr>\n",
       "  </tbody>\n",
       "</table>\n",
       "<p>5 rows × 28 columns</p>\n",
       "</div>"
      ],
      "text/plain": [
       "   no_of_sales_12M_1  no_of_Redemption_12M_1  no_of_sales_12M_10K  \\\n",
       "0               21.0                    38.0                  0.0   \n",
       "1                0.0                     0.0                  0.0   \n",
       "2                0.0                     0.0                  0.0   \n",
       "3               20.0                     0.0                  2.0   \n",
       "4                0.0                     0.0                  0.0   \n",
       "\n",
       "   no_of_Redemption_12M_10K  no_of_funds_sold_12M_1  \\\n",
       "0                       1.0                     5.0   \n",
       "1                       0.0                     0.0   \n",
       "2                       0.0                     0.0   \n",
       "3                       0.0                     1.0   \n",
       "4                       0.0                     0.0   \n",
       "\n",
       "   no_of_funds_redeemed_12M_1  no_of_fund_sales_12M_10K  \\\n",
       "0                         5.0                       0.0   \n",
       "1                         0.0                       0.0   \n",
       "2                         0.0                       0.0   \n",
       "3                         0.0                       1.0   \n",
       "4                         0.0                       0.0   \n",
       "\n",
       "   no_of_funds_Redemption_12M_10K  no_of_assetclass_sold_12M_1  \\\n",
       "0                             1.0                          2.0   \n",
       "1                             0.0                          0.0   \n",
       "2                             0.0                          0.0   \n",
       "3                             0.0                          1.0   \n",
       "4                             0.0                          0.0   \n",
       "\n",
       "   no_of_assetclass_redeemed_12M_1  ...  redemption_12M  new_Fund_added_12M  \\\n",
       "0                              2.0  ...     -102496.165                 0.0   \n",
       "1                              0.0  ...           0.000                 0.0   \n",
       "2                              0.0  ...           0.000                 0.0   \n",
       "3                              0.0  ...           0.000                 1.0   \n",
       "4                              0.0  ...           0.000                 0.0   \n",
       "\n",
       "   sales_2019  new_fund_2019  CustomerID               Firm ID  \\\n",
       "0   18633.105            0.0         240               1688552   \n",
       "1       0.000            0.0        4970  85202161074527509544   \n",
       "2       0.000            0.0        5612               1655890   \n",
       "3   93212.000            1.0         543               0033509   \n",
       "4       0.000            0.0        7398               1092180   \n",
       "\n",
       "              Office ID                 Channel  Sub channel  \\\n",
       "0  85101152293608716061  National Broker-Dealer         NACS   \n",
       "1           17754050965                    Dual          IBD   \n",
       "2  85102103583371489832      Independent Dealer          RIA   \n",
       "3  85102113063786149939      Independent Dealer          IBD   \n",
       "4  85201140503766736151      Independent Dealer          RIA   \n",
       "\n",
       "                                        Firm name  \n",
       "0                    UBS Financial Services, Inc.  \n",
       "1                Charles Schwab Investor Services  \n",
       "2                   The O.N. Equity Sales Company  \n",
       "3    Northwestern Mutual Investment Services, LLC  \n",
       "4  Berthel, Fisher & Co. Financial Services, Inc.  \n",
       "\n",
       "[5 rows x 28 columns]"
      ]
     },
     "execution_count": 29,
     "metadata": {},
     "output_type": "execute_result"
    }
   ],
   "source": [
    "data.head()"
   ]
  },
  {
   "cell_type": "code",
   "execution_count": 30,
   "metadata": {},
   "outputs": [
    {
     "name": "stdout",
     "output_type": "stream",
     "text": [
      "<class 'pandas.core.frame.DataFrame'>\n",
      "Int64Index: 10005 entries, 0 to 10004\n",
      "Data columns (total 28 columns):\n",
      " #   Column                               Non-Null Count  Dtype  \n",
      "---  ------                               --------------  -----  \n",
      " 0   no_of_sales_12M_1                    10005 non-null  float64\n",
      " 1   no_of_Redemption_12M_1               10005 non-null  float64\n",
      " 2   no_of_sales_12M_10K                  10005 non-null  float64\n",
      " 3   no_of_Redemption_12M_10K             10005 non-null  float64\n",
      " 4   no_of_funds_sold_12M_1               10005 non-null  float64\n",
      " 5   no_of_funds_redeemed_12M_1           10005 non-null  float64\n",
      " 6   no_of_fund_sales_12M_10K             10005 non-null  float64\n",
      " 7   no_of_funds_Redemption_12M_10K       10005 non-null  float64\n",
      " 8   no_of_assetclass_sold_12M_1          10005 non-null  float64\n",
      " 9   no_of_assetclass_redeemed_12M_1      10005 non-null  float64\n",
      " 10  no_of_assetclass_sales_12M_10K       10005 non-null  float64\n",
      " 11  no_of_assetclass_Redemption_12M_10K  10005 non-null  float64\n",
      " 12  No_of_fund_curr                      10005 non-null  float64\n",
      " 13  No_of_asset_curr                     10005 non-null  float64\n",
      " 14  AUM                                  10005 non-null  float64\n",
      " 15  sales_curr                           10005 non-null  float64\n",
      " 16  sales_12M                            10005 non-null  float64\n",
      " 17  redemption_curr                      10005 non-null  float64\n",
      " 18  redemption_12M                       10005 non-null  float64\n",
      " 19  new_Fund_added_12M                   10005 non-null  float64\n",
      " 20  sales_2019                           10005 non-null  float64\n",
      " 21  new_fund_2019                        10005 non-null  float64\n",
      " 22  CustomerID                           10005 non-null  int64  \n",
      " 23  Firm ID                              10005 non-null  object \n",
      " 24  Office ID                            10005 non-null  object \n",
      " 25  Channel                              10005 non-null  object \n",
      " 26  Sub channel                          10005 non-null  object \n",
      " 27  Firm name                            10005 non-null  object \n",
      "dtypes: float64(22), int64(1), object(5)\n",
      "memory usage: 2.2+ MB\n"
     ]
    }
   ],
   "source": [
    "data.info()"
   ]
  },
  {
   "cell_type": "code",
   "execution_count": 31,
   "metadata": {},
   "outputs": [],
   "source": [
    "y = data['new_fund_2019']"
   ]
  },
  {
   "cell_type": "code",
   "execution_count": 32,
   "metadata": {},
   "outputs": [
    {
     "data": {
      "text/plain": [
       "0.0     7484\n",
       "1.0     1687\n",
       "2.0      461\n",
       "3.0      184\n",
       "4.0       75\n",
       "5.0       32\n",
       "6.0       18\n",
       "10.0      12\n",
       "11.0      11\n",
       "8.0       11\n",
       "7.0       11\n",
       "9.0        9\n",
       "12.0       5\n",
       "15.0       2\n",
       "13.0       2\n",
       "20.0       1\n",
       "Name: new_fund_2019, dtype: int64"
      ]
     },
     "execution_count": 32,
     "metadata": {},
     "output_type": "execute_result"
    }
   ],
   "source": [
    "y.value_counts()"
   ]
  },
  {
   "cell_type": "code",
   "execution_count": 33,
   "metadata": {},
   "outputs": [],
   "source": [
    "import numpy as np"
   ]
  },
  {
   "cell_type": "code",
   "execution_count": 34,
   "metadata": {},
   "outputs": [],
   "source": [
    "y = np.where(y >= 1, 1, 0)"
   ]
  },
  {
   "cell_type": "code",
   "execution_count": 35,
   "metadata": {},
   "outputs": [],
   "source": [
    "X = data.drop(['new_fund_2019', 'sales_2019'], axis = 1)"
   ]
  },
  {
   "cell_type": "code",
   "execution_count": 36,
   "metadata": {},
   "outputs": [
    {
     "name": "stdout",
     "output_type": "stream",
     "text": [
      "<class 'pandas.core.frame.DataFrame'>\n",
      "Int64Index: 10005 entries, 0 to 10004\n",
      "Data columns (total 26 columns):\n",
      " #   Column                               Non-Null Count  Dtype  \n",
      "---  ------                               --------------  -----  \n",
      " 0   no_of_sales_12M_1                    10005 non-null  float64\n",
      " 1   no_of_Redemption_12M_1               10005 non-null  float64\n",
      " 2   no_of_sales_12M_10K                  10005 non-null  float64\n",
      " 3   no_of_Redemption_12M_10K             10005 non-null  float64\n",
      " 4   no_of_funds_sold_12M_1               10005 non-null  float64\n",
      " 5   no_of_funds_redeemed_12M_1           10005 non-null  float64\n",
      " 6   no_of_fund_sales_12M_10K             10005 non-null  float64\n",
      " 7   no_of_funds_Redemption_12M_10K       10005 non-null  float64\n",
      " 8   no_of_assetclass_sold_12M_1          10005 non-null  float64\n",
      " 9   no_of_assetclass_redeemed_12M_1      10005 non-null  float64\n",
      " 10  no_of_assetclass_sales_12M_10K       10005 non-null  float64\n",
      " 11  no_of_assetclass_Redemption_12M_10K  10005 non-null  float64\n",
      " 12  No_of_fund_curr                      10005 non-null  float64\n",
      " 13  No_of_asset_curr                     10005 non-null  float64\n",
      " 14  AUM                                  10005 non-null  float64\n",
      " 15  sales_curr                           10005 non-null  float64\n",
      " 16  sales_12M                            10005 non-null  float64\n",
      " 17  redemption_curr                      10005 non-null  float64\n",
      " 18  redemption_12M                       10005 non-null  float64\n",
      " 19  new_Fund_added_12M                   10005 non-null  float64\n",
      " 20  CustomerID                           10005 non-null  int64  \n",
      " 21  Firm ID                              10005 non-null  object \n",
      " 22  Office ID                            10005 non-null  object \n",
      " 23  Channel                              10005 non-null  object \n",
      " 24  Sub channel                          10005 non-null  object \n",
      " 25  Firm name                            10005 non-null  object \n",
      "dtypes: float64(20), int64(1), object(5)\n",
      "memory usage: 2.1+ MB\n"
     ]
    }
   ],
   "source": [
    "X.info()"
   ]
  },
  {
   "cell_type": "code",
   "execution_count": 37,
   "metadata": {},
   "outputs": [
    {
     "data": {
      "text/plain": [
       "Independent Dealer        6942\n",
       "National Broker-Dealer    2031\n",
       "Dual                       476\n",
       "Fee-Based Adviser          240\n",
       "Bank/Trust                 181\n",
       "Private Client Group        49\n",
       "Asset Manager               48\n",
       "Discount                    19\n",
       "Networker                   11\n",
       "International Outlet         7\n",
       "Low/Non Producer             1\n",
       "Name: Channel, dtype: int64"
      ]
     },
     "execution_count": 37,
     "metadata": {},
     "output_type": "execute_result"
    }
   ],
   "source": [
    "X['Channel'].value_counts()"
   ]
  },
  {
   "cell_type": "code",
   "execution_count": 38,
   "metadata": {},
   "outputs": [
    {
     "data": {
      "text/plain": [
       "IBD           6679\n",
       "NACS          3075\n",
       "RIA            219\n",
       "USBT            16\n",
       "Affiliated       7\n",
       "Other            3\n",
       "DCIO             3\n",
       "Global           3\n",
       "Name: Sub channel, dtype: int64"
      ]
     },
     "execution_count": 38,
     "metadata": {},
     "output_type": "execute_result"
    }
   ],
   "source": [
    "X['Sub channel'].value_counts()"
   ]
  },
  {
   "cell_type": "code",
   "execution_count": 39,
   "metadata": {},
   "outputs": [],
   "source": [
    "def channel_maker(x):\n",
    "    if x in ['IBD', 'NACS']:\n",
    "        return x\n",
    "    else:\n",
    "        return 'other'"
   ]
  },
  {
   "cell_type": "code",
   "execution_count": 40,
   "metadata": {},
   "outputs": [],
   "source": [
    "X['Sub channel'] = X['Sub channel'].apply(channel_maker)"
   ]
  },
  {
   "cell_type": "code",
   "execution_count": 41,
   "metadata": {},
   "outputs": [],
   "source": [
    "X = pd.get_dummies(X, columns = ['Sub channel'], drop_first = True).drop(['CustomerID', 'Firm ID', 'Office ID', 'Channel', 'Firm name'], axis = 1)"
   ]
  },
  {
   "cell_type": "code",
   "execution_count": 42,
   "metadata": {},
   "outputs": [
    {
     "data": {
      "text/html": [
       "<div>\n",
       "<style scoped>\n",
       "    .dataframe tbody tr th:only-of-type {\n",
       "        vertical-align: middle;\n",
       "    }\n",
       "\n",
       "    .dataframe tbody tr th {\n",
       "        vertical-align: top;\n",
       "    }\n",
       "\n",
       "    .dataframe thead th {\n",
       "        text-align: right;\n",
       "    }\n",
       "</style>\n",
       "<table border=\"1\" class=\"dataframe\">\n",
       "  <thead>\n",
       "    <tr style=\"text-align: right;\">\n",
       "      <th></th>\n",
       "      <th>no_of_sales_12M_1</th>\n",
       "      <th>no_of_Redemption_12M_1</th>\n",
       "      <th>no_of_sales_12M_10K</th>\n",
       "      <th>no_of_Redemption_12M_10K</th>\n",
       "      <th>no_of_funds_sold_12M_1</th>\n",
       "      <th>no_of_funds_redeemed_12M_1</th>\n",
       "      <th>no_of_fund_sales_12M_10K</th>\n",
       "      <th>no_of_funds_Redemption_12M_10K</th>\n",
       "      <th>no_of_assetclass_sold_12M_1</th>\n",
       "      <th>no_of_assetclass_redeemed_12M_1</th>\n",
       "      <th>...</th>\n",
       "      <th>No_of_fund_curr</th>\n",
       "      <th>No_of_asset_curr</th>\n",
       "      <th>AUM</th>\n",
       "      <th>sales_curr</th>\n",
       "      <th>sales_12M</th>\n",
       "      <th>redemption_curr</th>\n",
       "      <th>redemption_12M</th>\n",
       "      <th>new_Fund_added_12M</th>\n",
       "      <th>Sub channel_NACS</th>\n",
       "      <th>Sub channel_other</th>\n",
       "    </tr>\n",
       "  </thead>\n",
       "  <tbody>\n",
       "    <tr>\n",
       "      <th>0</th>\n",
       "      <td>21.0</td>\n",
       "      <td>38.0</td>\n",
       "      <td>0.0</td>\n",
       "      <td>1.0</td>\n",
       "      <td>5.0</td>\n",
       "      <td>5.0</td>\n",
       "      <td>0.0</td>\n",
       "      <td>1.0</td>\n",
       "      <td>2.0</td>\n",
       "      <td>2.0</td>\n",
       "      <td>...</td>\n",
       "      <td>8.0</td>\n",
       "      <td>1.0</td>\n",
       "      <td>237480.110</td>\n",
       "      <td>250.00</td>\n",
       "      <td>19682.000</td>\n",
       "      <td>-1496.745</td>\n",
       "      <td>-102496.165</td>\n",
       "      <td>0.0</td>\n",
       "      <td>1</td>\n",
       "      <td>0</td>\n",
       "    </tr>\n",
       "    <tr>\n",
       "      <th>1</th>\n",
       "      <td>0.0</td>\n",
       "      <td>0.0</td>\n",
       "      <td>0.0</td>\n",
       "      <td>0.0</td>\n",
       "      <td>0.0</td>\n",
       "      <td>0.0</td>\n",
       "      <td>0.0</td>\n",
       "      <td>0.0</td>\n",
       "      <td>0.0</td>\n",
       "      <td>0.0</td>\n",
       "      <td>...</td>\n",
       "      <td>1.0</td>\n",
       "      <td>1.0</td>\n",
       "      <td>19629.000</td>\n",
       "      <td>0.00</td>\n",
       "      <td>0.000</td>\n",
       "      <td>0.000</td>\n",
       "      <td>0.000</td>\n",
       "      <td>0.0</td>\n",
       "      <td>0</td>\n",
       "      <td>0</td>\n",
       "    </tr>\n",
       "    <tr>\n",
       "      <th>2</th>\n",
       "      <td>0.0</td>\n",
       "      <td>0.0</td>\n",
       "      <td>0.0</td>\n",
       "      <td>0.0</td>\n",
       "      <td>0.0</td>\n",
       "      <td>0.0</td>\n",
       "      <td>0.0</td>\n",
       "      <td>0.0</td>\n",
       "      <td>0.0</td>\n",
       "      <td>0.0</td>\n",
       "      <td>...</td>\n",
       "      <td>0.0</td>\n",
       "      <td>0.0</td>\n",
       "      <td>1758.700</td>\n",
       "      <td>0.00</td>\n",
       "      <td>0.000</td>\n",
       "      <td>0.000</td>\n",
       "      <td>0.000</td>\n",
       "      <td>0.0</td>\n",
       "      <td>0</td>\n",
       "      <td>1</td>\n",
       "    </tr>\n",
       "    <tr>\n",
       "      <th>3</th>\n",
       "      <td>20.0</td>\n",
       "      <td>0.0</td>\n",
       "      <td>2.0</td>\n",
       "      <td>0.0</td>\n",
       "      <td>1.0</td>\n",
       "      <td>0.0</td>\n",
       "      <td>1.0</td>\n",
       "      <td>0.0</td>\n",
       "      <td>1.0</td>\n",
       "      <td>0.0</td>\n",
       "      <td>...</td>\n",
       "      <td>1.0</td>\n",
       "      <td>1.0</td>\n",
       "      <td>57943.000</td>\n",
       "      <td>5459.00</td>\n",
       "      <td>52484.000</td>\n",
       "      <td>0.000</td>\n",
       "      <td>0.000</td>\n",
       "      <td>1.0</td>\n",
       "      <td>0</td>\n",
       "      <td>0</td>\n",
       "    </tr>\n",
       "    <tr>\n",
       "      <th>4</th>\n",
       "      <td>0.0</td>\n",
       "      <td>0.0</td>\n",
       "      <td>0.0</td>\n",
       "      <td>0.0</td>\n",
       "      <td>0.0</td>\n",
       "      <td>0.0</td>\n",
       "      <td>0.0</td>\n",
       "      <td>0.0</td>\n",
       "      <td>0.0</td>\n",
       "      <td>0.0</td>\n",
       "      <td>...</td>\n",
       "      <td>0.0</td>\n",
       "      <td>0.0</td>\n",
       "      <td>0.000</td>\n",
       "      <td>0.00</td>\n",
       "      <td>0.000</td>\n",
       "      <td>0.000</td>\n",
       "      <td>0.000</td>\n",
       "      <td>0.0</td>\n",
       "      <td>0</td>\n",
       "      <td>1</td>\n",
       "    </tr>\n",
       "    <tr>\n",
       "      <th>...</th>\n",
       "      <td>...</td>\n",
       "      <td>...</td>\n",
       "      <td>...</td>\n",
       "      <td>...</td>\n",
       "      <td>...</td>\n",
       "      <td>...</td>\n",
       "      <td>...</td>\n",
       "      <td>...</td>\n",
       "      <td>...</td>\n",
       "      <td>...</td>\n",
       "      <td>...</td>\n",
       "      <td>...</td>\n",
       "      <td>...</td>\n",
       "      <td>...</td>\n",
       "      <td>...</td>\n",
       "      <td>...</td>\n",
       "      <td>...</td>\n",
       "      <td>...</td>\n",
       "      <td>...</td>\n",
       "      <td>...</td>\n",
       "      <td>...</td>\n",
       "    </tr>\n",
       "    <tr>\n",
       "      <th>10000</th>\n",
       "      <td>12.0</td>\n",
       "      <td>35.0</td>\n",
       "      <td>7.0</td>\n",
       "      <td>28.0</td>\n",
       "      <td>3.0</td>\n",
       "      <td>4.0</td>\n",
       "      <td>3.0</td>\n",
       "      <td>4.0</td>\n",
       "      <td>2.0</td>\n",
       "      <td>3.0</td>\n",
       "      <td>...</td>\n",
       "      <td>8.0</td>\n",
       "      <td>3.0</td>\n",
       "      <td>430089.060</td>\n",
       "      <td>154026.28</td>\n",
       "      <td>208075.030</td>\n",
       "      <td>-155432.540</td>\n",
       "      <td>-1701681.190</td>\n",
       "      <td>0.0</td>\n",
       "      <td>0</td>\n",
       "      <td>0</td>\n",
       "    </tr>\n",
       "    <tr>\n",
       "      <th>10001</th>\n",
       "      <td>85.0</td>\n",
       "      <td>64.0</td>\n",
       "      <td>1.0</td>\n",
       "      <td>0.0</td>\n",
       "      <td>7.0</td>\n",
       "      <td>4.0</td>\n",
       "      <td>1.0</td>\n",
       "      <td>0.0</td>\n",
       "      <td>3.0</td>\n",
       "      <td>3.0</td>\n",
       "      <td>...</td>\n",
       "      <td>4.0</td>\n",
       "      <td>3.0</td>\n",
       "      <td>170204.585</td>\n",
       "      <td>12611.29</td>\n",
       "      <td>165413.245</td>\n",
       "      <td>-8412.380</td>\n",
       "      <td>-40047.005</td>\n",
       "      <td>6.0</td>\n",
       "      <td>0</td>\n",
       "      <td>0</td>\n",
       "    </tr>\n",
       "    <tr>\n",
       "      <th>10002</th>\n",
       "      <td>18.0</td>\n",
       "      <td>39.0</td>\n",
       "      <td>5.0</td>\n",
       "      <td>3.0</td>\n",
       "      <td>4.0</td>\n",
       "      <td>4.0</td>\n",
       "      <td>2.0</td>\n",
       "      <td>3.0</td>\n",
       "      <td>2.0</td>\n",
       "      <td>2.0</td>\n",
       "      <td>...</td>\n",
       "      <td>3.0</td>\n",
       "      <td>1.0</td>\n",
       "      <td>0.000</td>\n",
       "      <td>0.00</td>\n",
       "      <td>226534.495</td>\n",
       "      <td>-288519.215</td>\n",
       "      <td>-165750.500</td>\n",
       "      <td>3.0</td>\n",
       "      <td>1</td>\n",
       "      <td>0</td>\n",
       "    </tr>\n",
       "    <tr>\n",
       "      <th>10003</th>\n",
       "      <td>34.0</td>\n",
       "      <td>51.0</td>\n",
       "      <td>5.0</td>\n",
       "      <td>8.0</td>\n",
       "      <td>16.0</td>\n",
       "      <td>20.0</td>\n",
       "      <td>3.0</td>\n",
       "      <td>8.0</td>\n",
       "      <td>5.0</td>\n",
       "      <td>5.0</td>\n",
       "      <td>...</td>\n",
       "      <td>8.0</td>\n",
       "      <td>1.0</td>\n",
       "      <td>0.000</td>\n",
       "      <td>6634.50</td>\n",
       "      <td>201014.070</td>\n",
       "      <td>-8216.830</td>\n",
       "      <td>-329878.170</td>\n",
       "      <td>8.0</td>\n",
       "      <td>0</td>\n",
       "      <td>0</td>\n",
       "    </tr>\n",
       "    <tr>\n",
       "      <th>10004</th>\n",
       "      <td>0.0</td>\n",
       "      <td>0.0</td>\n",
       "      <td>0.0</td>\n",
       "      <td>0.0</td>\n",
       "      <td>0.0</td>\n",
       "      <td>0.0</td>\n",
       "      <td>0.0</td>\n",
       "      <td>0.0</td>\n",
       "      <td>0.0</td>\n",
       "      <td>0.0</td>\n",
       "      <td>...</td>\n",
       "      <td>0.0</td>\n",
       "      <td>0.0</td>\n",
       "      <td>0.000</td>\n",
       "      <td>0.00</td>\n",
       "      <td>0.000</td>\n",
       "      <td>0.000</td>\n",
       "      <td>0.000</td>\n",
       "      <td>0.0</td>\n",
       "      <td>1</td>\n",
       "      <td>0</td>\n",
       "    </tr>\n",
       "  </tbody>\n",
       "</table>\n",
       "<p>10005 rows × 22 columns</p>\n",
       "</div>"
      ],
      "text/plain": [
       "       no_of_sales_12M_1  no_of_Redemption_12M_1  no_of_sales_12M_10K  \\\n",
       "0                   21.0                    38.0                  0.0   \n",
       "1                    0.0                     0.0                  0.0   \n",
       "2                    0.0                     0.0                  0.0   \n",
       "3                   20.0                     0.0                  2.0   \n",
       "4                    0.0                     0.0                  0.0   \n",
       "...                  ...                     ...                  ...   \n",
       "10000               12.0                    35.0                  7.0   \n",
       "10001               85.0                    64.0                  1.0   \n",
       "10002               18.0                    39.0                  5.0   \n",
       "10003               34.0                    51.0                  5.0   \n",
       "10004                0.0                     0.0                  0.0   \n",
       "\n",
       "       no_of_Redemption_12M_10K  no_of_funds_sold_12M_1  \\\n",
       "0                           1.0                     5.0   \n",
       "1                           0.0                     0.0   \n",
       "2                           0.0                     0.0   \n",
       "3                           0.0                     1.0   \n",
       "4                           0.0                     0.0   \n",
       "...                         ...                     ...   \n",
       "10000                      28.0                     3.0   \n",
       "10001                       0.0                     7.0   \n",
       "10002                       3.0                     4.0   \n",
       "10003                       8.0                    16.0   \n",
       "10004                       0.0                     0.0   \n",
       "\n",
       "       no_of_funds_redeemed_12M_1  no_of_fund_sales_12M_10K  \\\n",
       "0                             5.0                       0.0   \n",
       "1                             0.0                       0.0   \n",
       "2                             0.0                       0.0   \n",
       "3                             0.0                       1.0   \n",
       "4                             0.0                       0.0   \n",
       "...                           ...                       ...   \n",
       "10000                         4.0                       3.0   \n",
       "10001                         4.0                       1.0   \n",
       "10002                         4.0                       2.0   \n",
       "10003                        20.0                       3.0   \n",
       "10004                         0.0                       0.0   \n",
       "\n",
       "       no_of_funds_Redemption_12M_10K  no_of_assetclass_sold_12M_1  \\\n",
       "0                                 1.0                          2.0   \n",
       "1                                 0.0                          0.0   \n",
       "2                                 0.0                          0.0   \n",
       "3                                 0.0                          1.0   \n",
       "4                                 0.0                          0.0   \n",
       "...                               ...                          ...   \n",
       "10000                             4.0                          2.0   \n",
       "10001                             0.0                          3.0   \n",
       "10002                             3.0                          2.0   \n",
       "10003                             8.0                          5.0   \n",
       "10004                             0.0                          0.0   \n",
       "\n",
       "       no_of_assetclass_redeemed_12M_1  ...  No_of_fund_curr  \\\n",
       "0                                  2.0  ...              8.0   \n",
       "1                                  0.0  ...              1.0   \n",
       "2                                  0.0  ...              0.0   \n",
       "3                                  0.0  ...              1.0   \n",
       "4                                  0.0  ...              0.0   \n",
       "...                                ...  ...              ...   \n",
       "10000                              3.0  ...              8.0   \n",
       "10001                              3.0  ...              4.0   \n",
       "10002                              2.0  ...              3.0   \n",
       "10003                              5.0  ...              8.0   \n",
       "10004                              0.0  ...              0.0   \n",
       "\n",
       "       No_of_asset_curr         AUM  sales_curr   sales_12M  redemption_curr  \\\n",
       "0                   1.0  237480.110      250.00   19682.000        -1496.745   \n",
       "1                   1.0   19629.000        0.00       0.000            0.000   \n",
       "2                   0.0    1758.700        0.00       0.000            0.000   \n",
       "3                   1.0   57943.000     5459.00   52484.000            0.000   \n",
       "4                   0.0       0.000        0.00       0.000            0.000   \n",
       "...                 ...         ...         ...         ...              ...   \n",
       "10000               3.0  430089.060   154026.28  208075.030      -155432.540   \n",
       "10001               3.0  170204.585    12611.29  165413.245        -8412.380   \n",
       "10002               1.0       0.000        0.00  226534.495      -288519.215   \n",
       "10003               1.0       0.000     6634.50  201014.070        -8216.830   \n",
       "10004               0.0       0.000        0.00       0.000            0.000   \n",
       "\n",
       "       redemption_12M  new_Fund_added_12M  Sub channel_NACS  Sub channel_other  \n",
       "0         -102496.165                 0.0                 1                  0  \n",
       "1               0.000                 0.0                 0                  0  \n",
       "2               0.000                 0.0                 0                  1  \n",
       "3               0.000                 1.0                 0                  0  \n",
       "4               0.000                 0.0                 0                  1  \n",
       "...               ...                 ...               ...                ...  \n",
       "10000    -1701681.190                 0.0                 0                  0  \n",
       "10001      -40047.005                 6.0                 0                  0  \n",
       "10002     -165750.500                 3.0                 1                  0  \n",
       "10003     -329878.170                 8.0                 0                  0  \n",
       "10004           0.000                 0.0                 1                  0  \n",
       "\n",
       "[10005 rows x 22 columns]"
      ]
     },
     "execution_count": 42,
     "metadata": {},
     "output_type": "execute_result"
    }
   ],
   "source": [
    "X"
   ]
  },
  {
   "cell_type": "markdown",
   "metadata": {},
   "source": [
    "### Modeling"
   ]
  },
  {
   "cell_type": "code",
   "execution_count": 44,
   "metadata": {},
   "outputs": [],
   "source": [
    "from sklearn.model_selection import train_test_split, GridSearchCV\n",
    "from sklearn.linear_model import LogisticRegression\n",
    "from sklearn.preprocessing import StandardScaler\n",
    "from sklearn.experimental import enable_hist_gradient_boosting\n",
    "from sklearn.ensemble import RandomForestClassifier, HistGradientBoostingClassifier"
   ]
  },
  {
   "cell_type": "code",
   "execution_count": 45,
   "metadata": {},
   "outputs": [],
   "source": [
    "X_train, X_test, y_train, y_test = train_test_split(X, y, stratify = y)"
   ]
  },
  {
   "cell_type": "code",
   "execution_count": 46,
   "metadata": {},
   "outputs": [],
   "source": [
    "sscaler = StandardScaler()"
   ]
  },
  {
   "cell_type": "code",
   "execution_count": 47,
   "metadata": {},
   "outputs": [],
   "source": [
    "X_tr_sc = sscaler.fit_transform(X_train)\n",
    "X_ts_sc = sscaler.transform(X_test)"
   ]
  },
  {
   "cell_type": "code",
   "execution_count": 64,
   "metadata": {},
   "outputs": [],
   "source": [
    "lgr = LogisticRegression(C = 0.1)\n",
    "forest = RandomForestClassifier()\n",
    "hist = HistGradientBoostingClassifier()"
   ]
  },
  {
   "cell_type": "code",
   "execution_count": 65,
   "metadata": {},
   "outputs": [
    {
     "data": {
      "text/plain": [
       "LogisticRegression(C=0.1)"
      ]
     },
     "execution_count": 65,
     "metadata": {},
     "output_type": "execute_result"
    }
   ],
   "source": [
    "lgr.fit(X_tr_sc, y_train)"
   ]
  },
  {
   "cell_type": "code",
   "execution_count": 66,
   "metadata": {},
   "outputs": [
    {
     "data": {
      "text/plain": [
       "0.7567639610822338"
      ]
     },
     "execution_count": 66,
     "metadata": {},
     "output_type": "execute_result"
    }
   ],
   "source": [
    "lgr.score(X_tr_sc, y_train)"
   ]
  },
  {
   "cell_type": "code",
   "execution_count": 67,
   "metadata": {},
   "outputs": [
    {
     "data": {
      "text/plain": [
       "0.7498001598721024"
      ]
     },
     "execution_count": 67,
     "metadata": {},
     "output_type": "execute_result"
    }
   ],
   "source": [
    "lgr.score(X_ts_sc, y_test)"
   ]
  },
  {
   "cell_type": "code",
   "execution_count": 53,
   "metadata": {},
   "outputs": [
    {
     "data": {
      "text/plain": [
       "0    0.748201\n",
       "1    0.251799\n",
       "dtype: float64"
      ]
     },
     "execution_count": 53,
     "metadata": {},
     "output_type": "execute_result"
    }
   ],
   "source": [
    "pd.value_counts(y_test, normalize = True)"
   ]
  },
  {
   "cell_type": "code",
   "execution_count": 54,
   "metadata": {},
   "outputs": [
    {
     "data": {
      "text/plain": [
       "RandomForestClassifier()"
      ]
     },
     "execution_count": 54,
     "metadata": {},
     "output_type": "execute_result"
    }
   ],
   "source": [
    "forest.fit(X_train, y_train)"
   ]
  },
  {
   "cell_type": "code",
   "execution_count": 55,
   "metadata": {},
   "outputs": [
    {
     "data": {
      "text/plain": [
       "0.9500199920031988"
      ]
     },
     "execution_count": 55,
     "metadata": {},
     "output_type": "execute_result"
    }
   ],
   "source": [
    "forest.score(X_train, y_train)"
   ]
  },
  {
   "cell_type": "code",
   "execution_count": 56,
   "metadata": {},
   "outputs": [
    {
     "data": {
      "text/plain": [
       "0.7334132693844924"
      ]
     },
     "execution_count": 56,
     "metadata": {},
     "output_type": "execute_result"
    }
   ],
   "source": [
    "forest.score(X_test, y_test)"
   ]
  },
  {
   "cell_type": "code",
   "execution_count": 57,
   "metadata": {},
   "outputs": [
    {
     "data": {
      "text/plain": [
       "HistGradientBoostingClassifier()"
      ]
     },
     "execution_count": 57,
     "metadata": {},
     "output_type": "execute_result"
    }
   ],
   "source": [
    "hist.fit(X_train, y_train)"
   ]
  },
  {
   "cell_type": "code",
   "execution_count": 58,
   "metadata": {},
   "outputs": [
    {
     "data": {
      "text/plain": [
       "0.8517926162868186"
      ]
     },
     "execution_count": 58,
     "metadata": {},
     "output_type": "execute_result"
    }
   ],
   "source": [
    "hist.score(X_train, y_train)"
   ]
  },
  {
   "cell_type": "code",
   "execution_count": 59,
   "metadata": {},
   "outputs": [
    {
     "data": {
      "text/plain": [
       "0.7442046362909672"
      ]
     },
     "execution_count": 59,
     "metadata": {},
     "output_type": "execute_result"
    }
   ],
   "source": [
    "hist.score(X_test, y_test)"
   ]
  },
  {
   "cell_type": "code",
   "execution_count": 68,
   "metadata": {},
   "outputs": [],
   "source": [
    "forest_params = {'max_depth': [1, 2, 3, 4, 5],\n",
    "                'min_samples_split': [2, 3, 4, 5, 6],\n",
    "                'ccp_alpha': [0.001, 0.01, 0.1, 1.0]}"
   ]
  },
  {
   "cell_type": "code",
   "execution_count": 69,
   "metadata": {},
   "outputs": [],
   "source": [
    "forest_grid = GridSearchCV(forest, param_grid=forest_params)"
   ]
  },
  {
   "cell_type": "code",
   "execution_count": 70,
   "metadata": {},
   "outputs": [
    {
     "data": {
      "text/plain": [
       "GridSearchCV(estimator=RandomForestClassifier(),\n",
       "             param_grid={'ccp_alpha': [0.001, 0.01, 0.1, 1.0],\n",
       "                         'max_depth': [1, 2, 3, 4, 5],\n",
       "                         'min_samples_split': [2, 3, 4, 5, 6]})"
      ]
     },
     "execution_count": 70,
     "metadata": {},
     "output_type": "execute_result"
    }
   ],
   "source": [
    "forest_grid.fit(X_train, y_train)"
   ]
  },
  {
   "cell_type": "code",
   "execution_count": 71,
   "metadata": {},
   "outputs": [
    {
     "data": {
      "text/plain": [
       "0.7583633213381314"
      ]
     },
     "execution_count": 71,
     "metadata": {},
     "output_type": "execute_result"
    }
   ],
   "source": [
    "forest_grid.score(X_train, y_train)"
   ]
  },
  {
   "cell_type": "code",
   "execution_count": 72,
   "metadata": {},
   "outputs": [
    {
     "data": {
      "text/plain": [
       "0.7521982414068745"
      ]
     },
     "execution_count": 72,
     "metadata": {},
     "output_type": "execute_result"
    }
   ],
   "source": [
    "forest_grid.score(X_test, y_test)"
   ]
  },
  {
   "cell_type": "code",
   "execution_count": 74,
   "metadata": {},
   "outputs": [
    {
     "data": {
      "text/plain": [
       "array([[0.61187312, 0.38812688],\n",
       "       [0.55949385, 0.44050615],\n",
       "       [0.73959314, 0.26040686],\n",
       "       ...,\n",
       "       [0.65847344, 0.34152656],\n",
       "       [0.55317476, 0.44682524],\n",
       "       [0.80394953, 0.19605047]])"
      ]
     },
     "execution_count": 74,
     "metadata": {},
     "output_type": "execute_result"
    }
   ],
   "source": [
    "forest_grid.predict_proba(X_test)"
   ]
  },
  {
   "cell_type": "code",
   "execution_count": 73,
   "metadata": {},
   "outputs": [
    {
     "data": {
      "text/plain": [
       "{'ccp_alpha': 0.001, 'max_depth': 5, 'min_samples_split': 3}"
      ]
     },
     "execution_count": 73,
     "metadata": {},
     "output_type": "execute_result"
    }
   ],
   "source": [
    "forest_grid.best_params_"
   ]
  },
  {
   "cell_type": "code",
   "execution_count": null,
   "metadata": {},
   "outputs": [],
   "source": [
    "HistGradientBoostingClassifier()"
   ]
  },
  {
   "cell_type": "code",
   "execution_count": 75,
   "metadata": {},
   "outputs": [],
   "source": [
    "hist_params = {'max_depth': [1, 2, 3, 4, 5],\n",
    "              'learning_rate': [0.1, 0.01, 1.0],\n",
    "              'l2_regularization': [0.1, 1.0, 10, 100, 1000]}"
   ]
  },
  {
   "cell_type": "code",
   "execution_count": 76,
   "metadata": {},
   "outputs": [],
   "source": [
    "hist_grid = GridSearchCV(hist, param_grid=hist_params, n_jobs = -1)"
   ]
  },
  {
   "cell_type": "code",
   "execution_count": 77,
   "metadata": {},
   "outputs": [
    {
     "data": {
      "text/plain": [
       "GridSearchCV(estimator=HistGradientBoostingClassifier(), n_jobs=-1,\n",
       "             param_grid={'l2_regularization': [0.1, 1.0, 10, 100, 1000],\n",
       "                         'learning_rate': [0.1, 0.01, 1.0],\n",
       "                         'max_depth': [1, 2, 3, 4, 5]})"
      ]
     },
     "execution_count": 77,
     "metadata": {},
     "output_type": "execute_result"
    }
   ],
   "source": [
    "hist_grid.fit(X_train, y_train)"
   ]
  },
  {
   "cell_type": "code",
   "execution_count": 78,
   "metadata": {},
   "outputs": [
    {
     "data": {
      "text/plain": [
       "0.8192722910835666"
      ]
     },
     "execution_count": 78,
     "metadata": {},
     "output_type": "execute_result"
    }
   ],
   "source": [
    "hist_grid.score(X_train, y_train)"
   ]
  },
  {
   "cell_type": "code",
   "execution_count": 79,
   "metadata": {},
   "outputs": [
    {
     "data": {
      "text/plain": [
       "0.7442046362909672"
      ]
     },
     "execution_count": 79,
     "metadata": {},
     "output_type": "execute_result"
    }
   ],
   "source": [
    "hist_grid.score(X_test, y_test)"
   ]
  },
  {
   "cell_type": "code",
   "execution_count": 80,
   "metadata": {},
   "outputs": [],
   "source": [
    "from sklearn.metrics import plot_confusion_matrix, confusion_matrix"
   ]
  },
  {
   "cell_type": "code",
   "execution_count": 81,
   "metadata": {},
   "outputs": [
    {
     "data": {
      "text/plain": [
       "<sklearn.metrics._plot.confusion_matrix.ConfusionMatrixDisplay at 0x7fa888bf4760>"
      ]
     },
     "execution_count": 81,
     "metadata": {},
     "output_type": "execute_result"
    },
    {
     "data": {
      "image/png": "[encoded data removed]",
      "text/plain": [
       "<Figure size 432x288 with 2 Axes>"
      ]
     },
     "metadata": {
      "needs_background": "light"
     },
     "output_type": "display_data"
    }
   ],
   "source": [
    "plot_confusion_matrix(hist_grid, X_test, y_test)"
   ]
  },
  {
   "cell_type": "code",
   "execution_count": 82,
   "metadata": {},
   "outputs": [
    {
     "data": {
      "text/plain": [
       "<sklearn.metrics._plot.confusion_matrix.ConfusionMatrixDisplay at 0x7fa8d9b67f70>"
      ]
     },
     "execution_count": 82,
     "metadata": {},
     "output_type": "execute_result"
    },
    {
     "data": {
      "image/png": "[encoded data removed]",
      "text/plain": [
       "<Figure size 432x288 with 2 Axes>"
      ]
     },
     "metadata": {
      "needs_background": "light"
     },
     "output_type": "display_data"
    }
   ],
   "source": [
    "plot_confusion_matrix(forest_grid, X_test, y_test)"
   ]
  },
  {
   "cell_type": "code",
   "execution_count": 83,
   "metadata": {},
   "outputs": [
    {
     "data": {
      "text/plain": [
       "<sklearn.metrics._plot.confusion_matrix.ConfusionMatrixDisplay at 0x7fa8d9b75b80>"
      ]
     },
     "execution_count": 83,
     "metadata": {},
     "output_type": "execute_result"
    },
    {
     "data": {
      "image/png": "[encoded data removed]",
      "text/plain": [
       "<Figure size 432x288 with 2 Axes>"
      ]
     },
     "metadata": {
      "needs_background": "light"
     },
     "output_type": "display_data"
    }
   ],
   "source": [
    "plot_confusion_matrix(lgr, X_test, y_test)"
   ]
  },
  {
   "cell_type": "code",
   "execution_count": 84,
   "metadata": {},
   "outputs": [],
   "source": [
    "import xgboost as xgb"
   ]
  },
  {
   "cell_type": "code",
   "execution_count": 85,
   "metadata": {},
   "outputs": [],
   "source": [
    "param = {'max_depth': 2, 'eta': 1, 'objective': 'binary:logistic'}\n",
    "param['nthread'] = 4\n",
    "param['eval_metric'] = 'auc'"
   ]
  },
  {
   "cell_type": "code",
   "execution_count": 88,
   "metadata": {},
   "outputs": [],
   "source": [
    "dtrain = xgb.DMatrix(X_train, y_train)"
   ]
  },
  {
   "cell_type": "code",
   "execution_count": 89,
   "metadata": {},
   "outputs": [],
   "source": [
    "booster = xgb.train(param,dtrain, num_boost_round = 10)"
   ]
  },
  {
   "cell_type": "code",
   "execution_count": 90,
   "metadata": {},
   "outputs": [],
   "source": [
    "dtest = xgb.DMatrix(X_test)"
   ]
  },
  {
   "cell_type": "code",
   "execution_count": 91,
   "metadata": {},
   "outputs": [],
   "source": [
    "ypred = booster.predict(dtest)"
   ]
  },
  {
   "cell_type": "code",
   "execution_count": 95,
   "metadata": {},
   "outputs": [],
   "source": [
    "preds = np.where(ypred > 0.5, 1, 0)"
   ]
  },
  {
   "cell_type": "code",
   "execution_count": 96,
   "metadata": {},
   "outputs": [],
   "source": [
    "cmat = confusion_matrix(y_test, preds)"
   ]
  },
  {
   "cell_type": "code",
   "execution_count": 97,
   "metadata": {},
   "outputs": [
    {
     "data": {
      "text/plain": [
       "array([[1800,   72],\n",
       "       [ 542,   88]])"
      ]
     },
     "execution_count": 97,
     "metadata": {},
     "output_type": "execute_result"
    }
   ],
   "source": [
    "cmat"
   ]
  },
  {
   "cell_type": "code",
   "execution_count": 98,
   "metadata": {},
   "outputs": [],
   "source": [
    "import seaborn as sns"
   ]
  },
  {
   "cell_type": "code",
   "execution_count": 102,
   "metadata": {},
   "outputs": [
    {
     "data": {
      "text/plain": [
       "<AxesSubplot:>"
      ]
     },
     "execution_count": 102,
     "metadata": {},
     "output_type": "execute_result"
    },
    {
     "data": {
      "image/png": "[encoded data removed]",
      "text/plain": [
       "<Figure size 432x288 with 2 Axes>"
      ]
     },
     "metadata": {
      "needs_background": "light"
     },
     "output_type": "display_data"
    }
   ],
   "source": [
    "sns.heatmap(cmat, annot = True, fmt = '.0f', cmap = 'BuPu')"
   ]
  },
  {
   "cell_type": "code",
   "execution_count": 103,
   "metadata": {},
   "outputs": [],
   "source": [
    "from sklearn.metrics import classification_report, accuracy_score, recall_score, f1_score"
   ]
  },
  {
   "cell_type": "code",
   "execution_count": 104,
   "metadata": {},
   "outputs": [
    {
     "name": "stdout",
     "output_type": "stream",
     "text": [
      "              precision    recall  f1-score   support\n",
      "\n",
      "           0       0.77      0.96      0.85      1872\n",
      "           1       0.55      0.14      0.22       630\n",
      "\n",
      "    accuracy                           0.75      2502\n",
      "   macro avg       0.66      0.55      0.54      2502\n",
      "weighted avg       0.71      0.75      0.70      2502\n",
      "\n"
     ]
    }
   ],
   "source": [
    "print(classification_report(y_test, preds))"
   ]
  },
  {
   "cell_type": "code",
   "execution_count": 105,
   "metadata": {},
   "outputs": [
    {
     "name": "stdout",
     "output_type": "stream",
     "text": [
      "<class 'pandas.core.frame.DataFrame'>\n",
      "Int64Index: 10005 entries, 0 to 10004\n",
      "Data columns (total 22 columns):\n",
      " #   Column                               Non-Null Count  Dtype  \n",
      "---  ------                               --------------  -----  \n",
      " 0   no_of_sales_12M_1                    10005 non-null  float64\n",
      " 1   no_of_Redemption_12M_1               10005 non-null  float64\n",
      " 2   no_of_sales_12M_10K                  10005 non-null  float64\n",
      " 3   no_of_Redemption_12M_10K             10005 non-null  float64\n",
      " 4   no_of_funds_sold_12M_1               10005 non-null  float64\n",
      " 5   no_of_funds_redeemed_12M_1           10005 non-null  float64\n",
      " 6   no_of_fund_sales_12M_10K             10005 non-null  float64\n",
      " 7   no_of_funds_Redemption_12M_10K       10005 non-null  float64\n",
      " 8   no_of_assetclass_sold_12M_1          10005 non-null  float64\n",
      " 9   no_of_assetclass_redeemed_12M_1      10005 non-null  float64\n",
      " 10  no_of_assetclass_sales_12M_10K       10005 non-null  float64\n",
      " 11  no_of_assetclass_Redemption_12M_10K  10005 non-null  float64\n",
      " 12  No_of_fund_curr                      10005 non-null  float64\n",
      " 13  No_of_asset_curr                     10005 non-null  float64\n",
      " 14  AUM                                  10005 non-null  float64\n",
      " 15  sales_curr                           10005 non-null  float64\n",
      " 16  sales_12M                            10005 non-null  float64\n",
      " 17  redemption_curr                      10005 non-null  float64\n",
      " 18  redemption_12M                       10005 non-null  float64\n",
      " 19  new_Fund_added_12M                   10005 non-null  float64\n",
      " 20  Sub channel_NACS                     10005 non-null  uint8  \n",
      " 21  Sub channel_other                    10005 non-null  uint8  \n",
      "dtypes: float64(20), uint8(2)\n",
      "memory usage: 1.6 MB\n"
     ]
    }
   ],
   "source": [
    "X.info()"
   ]
  },
  {
   "cell_type": "code",
   "execution_count": 108,
   "metadata": {},
   "outputs": [],
   "source": [
    "x = X[['sales_12M', 'AUM', 'redemption_12M', 'new_Fund_added_12M']]"
   ]
  },
  {
   "cell_type": "code",
   "execution_count": 109,
   "metadata": {},
   "outputs": [],
   "source": [
    "X_train, X_test, y_train, y_test = train_test_split(x, y, stratify = y)"
   ]
  },
  {
   "cell_type": "code",
   "execution_count": 110,
   "metadata": {},
   "outputs": [
    {
     "data": {
      "text/plain": [
       "LogisticRegression(C=0.1)"
      ]
     },
     "execution_count": 110,
     "metadata": {},
     "output_type": "execute_result"
    }
   ],
   "source": [
    "lgr.fit(X_train, y_train)"
   ]
  },
  {
   "cell_type": "code",
   "execution_count": 111,
   "metadata": {},
   "outputs": [
    {
     "data": {
      "text/plain": [
       "0.7026378896882494"
      ]
     },
     "execution_count": 111,
     "metadata": {},
     "output_type": "execute_result"
    }
   ],
   "source": [
    "lgr.score(X_test, y_test)"
   ]
  },
  {
   "cell_type": "code",
   "execution_count": 112,
   "metadata": {},
   "outputs": [
    {
     "data": {
      "text/plain": [
       "0    0.748201\n",
       "1    0.251799\n",
       "dtype: float64"
      ]
     },
     "execution_count": 112,
     "metadata": {},
     "output_type": "execute_result"
    }
   ],
   "source": [
    "pd.value_counts(y_test, normalize = True)"
   ]
  },
  {
   "cell_type": "code",
   "execution_count": 113,
   "metadata": {},
   "outputs": [
    {
     "data": {
      "text/plain": [
       "GridSearchCV(estimator=RandomForestClassifier(),\n",
       "             param_grid={'ccp_alpha': [0.001, 0.01, 0.1, 1.0],\n",
       "                         'max_depth': [1, 2, 3, 4, 5],\n",
       "                         'min_samples_split': [2, 3, 4, 5, 6]})"
      ]
     },
     "execution_count": 113,
     "metadata": {},
     "output_type": "execute_result"
    }
   ],
   "source": [
    "forest_grid.fit(X_train, y_train)"
   ]
  },
  {
   "cell_type": "code",
   "execution_count": 114,
   "metadata": {},
   "outputs": [
    {
     "data": {
      "text/plain": [
       "0.7542316406770625"
      ]
     },
     "execution_count": 114,
     "metadata": {},
     "output_type": "execute_result"
    }
   ],
   "source": [
    "forest_grid.score(X_train, y_train)"
   ]
  },
  {
   "cell_type": "code",
   "execution_count": 115,
   "metadata": {},
   "outputs": [
    {
     "data": {
      "text/plain": [
       "0.750599520383693"
      ]
     },
     "execution_count": 115,
     "metadata": {},
     "output_type": "execute_result"
    }
   ],
   "source": [
    "forest_grid.score(X_test, y_test)"
   ]
  },
  {
   "cell_type": "code",
   "execution_count": 116,
   "metadata": {},
   "outputs": [
    {
     "data": {
      "text/plain": [
       "<sklearn.metrics._plot.confusion_matrix.ConfusionMatrixDisplay at 0x7fa898c5c310>"
      ]
     },
     "execution_count": 116,
     "metadata": {},
     "output_type": "execute_result"
    },
    {
     "data": {
      "image/png": "[encoded data removed]",
      "text/plain": [
       "<Figure size 432x288 with 2 Axes>"
      ]
     },
     "metadata": {
      "needs_background": "light"
     },
     "output_type": "display_data"
    }
   ],
   "source": [
    "plot_confusion_matrix(lgr, X_test, y_test)"
   ]
  },
  {
   "cell_type": "code",
   "execution_count": 127,
   "metadata": {},
   "outputs": [],
   "source": [
    "predss = np.where(lgr.predict_proba(X_test)[:, 1] > 0.5, 1, 0)"
   ]
  },
  {
   "cell_type": "code",
   "execution_count": 128,
   "metadata": {},
   "outputs": [
    {
     "data": {
      "text/plain": [
       "array([[1656,  216],\n",
       "       [ 528,  102]])"
      ]
     },
     "execution_count": 128,
     "metadata": {},
     "output_type": "execute_result"
    }
   ],
   "source": [
    "confusion_matrix(y_test, predss)"
   ]
  },
  {
   "cell_type": "code",
   "execution_count": 130,
   "metadata": {},
   "outputs": [],
   "source": [
    "import matplotlib.pyplot as plt"
   ]
  },
  {
   "cell_type": "code",
   "execution_count": 131,
   "metadata": {},
   "outputs": [
    {
     "data": {
      "text/plain": [
       "(array([1.000e+00, 0.000e+00, 1.000e+00, 1.000e+00, 0.000e+00, 3.000e+00,\n",
       "        5.000e+00, 8.100e+01, 2.408e+03, 2.000e+00]),\n",
       " array([0.11676022, 0.16300665, 0.20925308, 0.2554995 , 0.30174593,\n",
       "        0.34799236, 0.39423878, 0.44048521, 0.48673163, 0.53297806,\n",
       "        0.57922449]),\n",
       " <BarContainer object of 10 artists>)"
      ]
     },
     "execution_count": 131,
     "metadata": {},
     "output_type": "execute_result"
    },
    {
     "data": {
      "image/png": "[encoded data removed]",
      "text/plain": [
       "<Figure size 432x288 with 1 Axes>"
      ]
     },
     "metadata": {
      "needs_background": "light"
     },
     "output_type": "display_data"
    }
   ],
   "source": [
    "plt.hist(lgr.predict_proba(X_test)[:, 1])"
   ]
  },
  {
   "cell_type": "code",
   "execution_count": 132,
   "metadata": {},
   "outputs": [
    {
     "data": {
      "text/plain": [
       "(5016, 22)"
      ]
     },
     "execution_count": 132,
     "metadata": {},
     "output_type": "execute_result"
    }
   ],
   "source": [
    "X[X['AUM'] > 0].shape"
   ]
  },
  {
   "cell_type": "code",
   "execution_count": 133,
   "metadata": {},
   "outputs": [],
   "source": [
    "x_just_for_fun = X[X['AUM'] > 0]"
   ]
  },
  {
   "cell_type": "code",
   "execution_count": 137,
   "metadata": {},
   "outputs": [],
   "source": [
    "with_aum = data[data['AUM'] > 0]"
   ]
  },
  {
   "cell_type": "code",
   "execution_count": 143,
   "metadata": {},
   "outputs": [],
   "source": [
    "X = with_aum[['sales_12M', 'AUM', 'redemption_12M', 'new_Fund_added_12M']]\n",
    "y = np.where(with_aum['new_fund_2019'] >= 1, 1, 0)"
   ]
  },
  {
   "cell_type": "code",
   "execution_count": 153,
   "metadata": {},
   "outputs": [],
   "source": [
    "X_train, X_test, y_train, y_test = train_test_split(X, y, stratify = y)"
   ]
  },
  {
   "cell_type": "code",
   "execution_count": 154,
   "metadata": {},
   "outputs": [],
   "source": [
    "lgr = LogisticRegression()"
   ]
  },
  {
   "cell_type": "code",
   "execution_count": 155,
   "metadata": {},
   "outputs": [
    {
     "data": {
      "text/plain": [
       "LogisticRegression()"
      ]
     },
     "execution_count": 155,
     "metadata": {},
     "output_type": "execute_result"
    }
   ],
   "source": [
    "lgr.fit(X_train, y_train)"
   ]
  },
  {
   "cell_type": "code",
   "execution_count": 156,
   "metadata": {},
   "outputs": [
    {
     "data": {
      "text/plain": [
       "0.665337586390218"
      ]
     },
     "execution_count": 156,
     "metadata": {},
     "output_type": "execute_result"
    }
   ],
   "source": [
    "lgr.score(X_train, y_train)"
   ]
  },
  {
   "cell_type": "code",
   "execution_count": 157,
   "metadata": {},
   "outputs": [
    {
     "data": {
      "text/plain": [
       "0.6874003189792663"
      ]
     },
     "execution_count": 157,
     "metadata": {},
     "output_type": "execute_result"
    }
   ],
   "source": [
    "lgr.score(X_test, y_test)"
   ]
  },
  {
   "cell_type": "code",
   "execution_count": 162,
   "metadata": {},
   "outputs": [
    {
     "data": {
      "text/plain": [
       "<sklearn.metrics._plot.confusion_matrix.ConfusionMatrixDisplay at 0x7fa888baed00>"
      ]
     },
     "execution_count": 162,
     "metadata": {},
     "output_type": "execute_result"
    },
    {
     "data": {
      "image/png": "[encoded data removed]",
      "text/plain": [
       "<Figure size 432x288 with 2 Axes>"
      ]
     },
     "metadata": {
      "needs_background": "light"
     },
     "output_type": "display_data"
    }
   ],
   "source": [
    "plot_confusion_matrix(lgr, X_test, y_test)"
   ]
  },
  {
   "cell_type": "code",
   "execution_count": 163,
   "metadata": {},
   "outputs": [
    {
     "data": {
      "text/plain": [
       "(array([1.000e+00, 0.000e+00, 0.000e+00, 0.000e+00, 3.000e+00, 5.000e+00,\n",
       "        1.800e+01, 1.207e+03, 1.900e+01, 1.000e+00]),\n",
       " array([0.23388846, 0.2680605 , 0.30223253, 0.33640457, 0.37057661,\n",
       "        0.40474864, 0.43892068, 0.47309272, 0.50726475, 0.54143679,\n",
       "        0.57560883]),\n",
       " <BarContainer object of 10 artists>)"
      ]
     },
     "execution_count": 163,
     "metadata": {},
     "output_type": "execute_result"
    },
    {
     "data": {
      "image/png": "[encoded data removed]",
      "text/plain": [
       "<Figure size 432x288 with 1 Axes>"
      ]
     },
     "metadata": {
      "needs_background": "light"
     },
     "output_type": "display_data"
    }
   ],
   "source": [
    "plt.hist(lgr.predict_proba(X_test)[:, 1])"
   ]
  },
  {
   "cell_type": "code",
   "execution_count": 158,
   "metadata": {},
   "outputs": [
    {
     "data": {
      "text/plain": [
       "0    0.732855\n",
       "1    0.267145\n",
       "dtype: float64"
      ]
     },
     "execution_count": 158,
     "metadata": {},
     "output_type": "execute_result"
    }
   ],
   "source": [
    "pd.value_counts(y_test, normalize=True)"
   ]
  },
  {
   "cell_type": "code",
   "execution_count": 159,
   "metadata": {},
   "outputs": [
    {
     "data": {
      "text/plain": [
       "GridSearchCV(estimator=HistGradientBoostingClassifier(), n_jobs=-1,\n",
       "             param_grid={'l2_regularization': [0.1, 1.0, 10, 100, 1000],\n",
       "                         'learning_rate': [0.1, 0.01, 1.0],\n",
       "                         'max_depth': [1, 2, 3, 4, 5]})"
      ]
     },
     "execution_count": 159,
     "metadata": {},
     "output_type": "execute_result"
    }
   ],
   "source": [
    "hist_grid.fit(X_train, y_train)"
   ]
  },
  {
   "cell_type": "code",
   "execution_count": 160,
   "metadata": {},
   "outputs": [
    {
     "data": {
      "text/plain": [
       "0.745879851143009"
      ]
     },
     "execution_count": 160,
     "metadata": {},
     "output_type": "execute_result"
    }
   ],
   "source": [
    "hist_grid.score(X_train, y_train)"
   ]
  },
  {
   "cell_type": "code",
   "execution_count": 161,
   "metadata": {},
   "outputs": [
    {
     "data": {
      "text/plain": [
       "0.7216905901116427"
      ]
     },
     "execution_count": 161,
     "metadata": {},
     "output_type": "execute_result"
    }
   ],
   "source": [
    "hist_grid.score(X_test, y_test)"
   ]
  }
 ],
 "metadata": {
  "kernelspec": {
   "display_name": "Python 3",
   "language": "python",
   "name": "python3"
  },
  "language_info": {
   "codemirror_mode": {
    "name": "ipython",
    "version": 3
   },
   "file_extension": ".py",
   "mimetype": "text/x-python",
   "name": "python",
   "nbconvert_exporter": "python",
   "pygments_lexer": "ipython3",
   "version": "3.8.2"
  }
 },
 "nbformat": 4,
 "nbformat_minor": 4
}
